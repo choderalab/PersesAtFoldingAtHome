{
 "cells": [
  {
   "cell_type": "code",
   "execution_count": 1,
   "metadata": {},
   "outputs": [],
   "source": [
    "import mdtraj as md\n",
    "import numpy as np\n",
    "import os\n",
    "from pyemma import coordinates\n",
    "# from tqdm import tqdm"
   ]
  },
  {
   "cell_type": "code",
   "execution_count": 2,
   "metadata": {},
   "outputs": [],
   "source": [
    "phase = 'solvent' # do both solvent and complex (complex is more important)\n",
    "proj = 13421 # will want to do both complex and solvent\n",
    "RUNID = 0 # will want to loop over all run IDS"
   ]
  },
  {
   "cell_type": "code",
   "execution_count": 3,
   "metadata": {},
   "outputs": [
    {
     "data": {
      "text/plain": [
       "0"
      ]
     },
     "execution_count": 3,
     "metadata": {},
     "output_type": "execute_result"
    }
   ],
   "source": [
    "# first copy back pdb file, which contains the input topology needed\n",
    "os.system(f'scp server@aws3.foldingathome.org:/home/server/server2/projects/{proj}/RUNS/RUN{RUNID}/*pdb .')"
   ]
  },
  {
   "cell_type": "code",
   "execution_count": 4,
   "metadata": {},
   "outputs": [],
   "source": [
    "# load in the topology of the system\n",
    "topology = md.load(f'hybrid_{phase}.pdb').topology"
   ]
  },
  {
   "cell_type": "code",
   "execution_count": 81,
   "metadata": {},
   "outputs": [
    {
     "name": "stdout",
     "output_type": "stream",
     "text": [
      "1\n",
      "2\n",
      "3\n",
      "4\n",
      "5\n",
      "6\n",
      "7\n",
      "8\n",
      "9\n",
      "10\n",
      "11\n",
      "12\n",
      "13\n",
      "14\n",
      "15\n",
      "error for clone 15 gen 0\n",
      "16\n",
      "17\n",
      "18\n",
      "error for clone 18 gen 0\n",
      "19\n",
      "20\n",
      "21\n",
      "22\n",
      "23\n",
      "24\n",
      "25\n",
      "26\n",
      "27\n",
      "28\n",
      "error for clone 28 gen 0\n",
      "29\n",
      "error for clone 29 gen 0\n",
      "30\n",
      "error for clone 30 gen 0\n",
      "31\n",
      "32\n",
      "33\n",
      "error for clone 33 gen 0\n",
      "34\n",
      "35\n",
      "error for clone 35 gen 0\n",
      "36\n",
      "37\n",
      "error for clone 37 gen 0\n",
      "38\n",
      "error for clone 38 gen 0\n",
      "39\n",
      "error for clone 39 gen 0\n",
      "40\n",
      "error for clone 40 gen 0\n",
      "41\n",
      "42\n",
      "43\n",
      "error for clone 43 gen 0\n",
      "44\n",
      "error for clone 44 gen 0\n",
      "45\n",
      "error for clone 45 gen 0\n",
      "46\n",
      "error for clone 46 gen 0\n",
      "47\n",
      "error for clone 47 gen 0\n",
      "48\n",
      "error for clone 48 gen 0\n",
      "49\n",
      "error for clone 49 gen 0\n",
      "50\n",
      "error for clone 50 gen 0\n",
      "51\n",
      "error for clone 51 gen 0\n",
      "52\n",
      "error for clone 52 gen 0\n",
      "53\n",
      "error for clone 53 gen 0\n",
      "54\n",
      "error for clone 54 gen 0\n",
      "55\n",
      "error for clone 55 gen 0\n",
      "56\n",
      "error for clone 56 gen 0\n",
      "57\n",
      "error for clone 57 gen 0\n",
      "58\n",
      "error for clone 58 gen 0\n",
      "59\n",
      "error for clone 59 gen 0\n",
      "60\n",
      "error for clone 60 gen 0\n",
      "61\n",
      "error for clone 61 gen 0\n",
      "62\n",
      "error for clone 62 gen 0\n",
      "63\n",
      "error for clone 63 gen 0\n",
      "64\n",
      "error for clone 64 gen 0\n",
      "65\n",
      "error for clone 65 gen 0\n",
      "66\n",
      "error for clone 66 gen 0\n",
      "67\n",
      "error for clone 67 gen 0\n",
      "68\n",
      "error for clone 68 gen 0\n",
      "69\n",
      "error for clone 69 gen 0\n",
      "70\n",
      "error for clone 70 gen 0\n",
      "71\n",
      "error for clone 71 gen 0\n",
      "72\n",
      "error for clone 72 gen 0\n",
      "73\n",
      "error for clone 73 gen 0\n",
      "74\n",
      "error for clone 74 gen 0\n",
      "75\n",
      "error for clone 75 gen 0\n",
      "76\n",
      "error for clone 76 gen 0\n",
      "77\n",
      "error for clone 77 gen 0\n",
      "78\n",
      "error for clone 78 gen 0\n",
      "79\n",
      "error for clone 79 gen 0\n",
      "80\n",
      "error for clone 80 gen 0\n",
      "81\n",
      "error for clone 81 gen 0\n",
      "82\n",
      "error for clone 82 gen 0\n",
      "83\n",
      "error for clone 83 gen 0\n",
      "84\n",
      "error for clone 84 gen 0\n",
      "85\n",
      "error for clone 85 gen 0\n",
      "86\n",
      "error for clone 86 gen 0\n",
      "87\n",
      "error for clone 87 gen 0\n",
      "88\n",
      "error for clone 88 gen 0\n",
      "89\n",
      "error for clone 89 gen 0\n",
      "90\n",
      "error for clone 90 gen 0\n",
      "91\n",
      "error for clone 91 gen 0\n",
      "92\n",
      "error for clone 92 gen 0\n",
      "93\n",
      "error for clone 93 gen 0\n",
      "94\n",
      "error for clone 94 gen 0\n",
      "95\n",
      "error for clone 95 gen 0\n",
      "96\n",
      "error for clone 96 gen 0\n",
      "97\n",
      "error for clone 97 gen 0\n",
      "98\n",
      "error for clone 98 gen 0\n",
      "99\n",
      "error for clone 99 gen 0\n"
     ]
    }
   ],
   "source": [
    "# now we want the final frame of the trajectory (for the forwards direction) we will want the starting frame also \n",
    "# (double check with John which frames correspond to which stages in the cycle)\n",
    "\n",
    "# frame 0 is start ligand after EQUIL\n",
    "# 0 -> 1 NEQ\n",
    "# frame 1 is end ligand after NEQ\n",
    "# frame 2 is end ligand after EQ\n",
    "# 1 -> 0 NEQ\n",
    "# frame 3 is start ligand after NEQ\n",
    "\n",
    "#for i in {0..99}; do echo $i ; scp server@aws3.foldingathome.org:/home/server/server2/data/SVR314342810/PROJ13420/RUN0/CLONE0/results0/*xtc pos_$i.xtc ; done \n",
    "os.system(f'scp server@aws3.foldingathome.org:/home/server/server2/data/SVR314342810/PROJ{proj}/RUN{RUNID}/CLONE0/results0/*xtc pos_0.xtc')\n",
    "traj = md.load_xtc(f'pos_0.xtc',topology,frame=2)\n",
    "\n",
    "# for each clone, get the snapshot and append it to the trajectory\n",
    "# will also want to do this over different GENS in future\n",
    "n_clones = 100 # will be 100 \n",
    "n_gens = 1 # will be 6 when everything is done\n",
    "for gen in range(0,n_gens): \n",
    "    for clone in range(1,n_clones):\n",
    "        print(clone)\n",
    "        try:\n",
    "            os.system(f'scp server@aws3.foldingathome.org:/home/server/server2/data/SVR314342810/PROJ{proj}/RUN{RUNID}/CLONE{clone}/results{gen}/*xtc pos_{clone}.xtc')\n",
    "            new_frame = md.load_xtc(f'pos_{clone}.xtc',topology,frame=3)\n",
    "            traj = traj.join(new_frame)\n",
    "        except ValueError:\n",
    "            print(f'error for clone {clone} gen {gen}')\n",
    "    "
   ]
  },
  {
   "cell_type": "code",
   "execution_count": 82,
   "metadata": {},
   "outputs": [
    {
     "name": "stdout",
     "output_type": "stream",
     "text": [
      "32\n"
     ]
    }
   ],
   "source": [
    "print(traj.n_frames) # this should match the number of (clones x gens)"
   ]
  },
  {
   "cell_type": "code",
   "execution_count": 83,
   "metadata": {},
   "outputs": [],
   "source": [
    "# find the atom indices for the ligand (resname 'MOL')\n",
    "mol_ids = []\n",
    "for res in topology.residues:\n",
    "    if res.name == 'MOL':\n",
    "        for atom in res.atoms:\n",
    "            mol_ids.append(atom.index)"
   ]
  },
  {
   "cell_type": "code",
   "execution_count": 84,
   "metadata": {},
   "outputs": [],
   "source": [
    "# align the frames\n",
    "traj.superpose(traj,atom_indices=mol_ids)\n",
    "#only keep the ligand \n",
    "traj.atom_slice(mol_ids, inplace=True)\n",
    "traj.save_pdb('testing.pdb')"
   ]
  },
  {
   "cell_type": "code",
   "execution_count": 85,
   "metadata": {},
   "outputs": [],
   "source": [
    "###\n",
    "# now do the clustering\n",
    "# find 'centroid' of each clusters\n",
    "# additionally --- could 'weigh' configurations by work values, but I think we would want frame 1 for this? not sure"
   ]
  },
  {
   "cell_type": "code",
   "execution_count": 166,
   "metadata": {},
   "outputs": [
    {
     "name": "stdout",
     "output_type": "stream",
     "text": [
      "{2: None, 3: None, 0: None, 1: None, 4: None}\n",
      "{2: (9, 0.7974571), 3: (4, 0.7834148), 0: (2, 0.43813148), 1: (29, 0.7402873), 4: (17, 0.6342507)}\n"
     ]
    }
   ],
   "source": [
    "###\n",
    "# now do the clustering\n",
    "# find 'centroid' of each clusters\n",
    "# additionally --- could 'weigh' configurations by work values, but I think we would want frame 1 for this? not sure\n",
    "\n",
    "n_k_means = 5 # not sure what is a good number for this\n",
    "\n",
    "clust_alg = coordinates.cluster_kmeans(k=n_k_means)\n",
    "\n",
    "# flatten the trajectory into a 2D array T x (3n) array, rather than T x n x 3 \n",
    "i,j,k = np.shape(traj.xyz)\n",
    "xyz_flat = np.reshape(traj.xyz, (i,j*k)) # we probably want to drop hydrogens from this clustering\n",
    "\n",
    "# do the clustering\n",
    "clust_alg.assign(xyz_flat)\n",
    "\n",
    "representative_frame = {i:None for i in frame_to_clust.values()}\n",
    "\n",
    "for f,c in enumerate(clust_alg.get_output()[0].flatten()):\n",
    "    coords = test[f]\n",
    "    clust_center = clust_alg.clustercenters[c]\n",
    "    dist = np.linalg.norm(coords-clust_center)\n",
    "    if representative_frame[c] is None or dist < representative_frame[c][1]:\n",
    "        representative_frame[c] = (f, dist) # chose as representative frame if there isn't one yet, or if it's the closest\n",
    "print(representative_frame)\n",
    "\n",
    "# pull out the representative frames\n",
    "clusters = traj[[i[0] for i in representative_frame.values()]]\n",
    "\n",
    "### saving as an sdf file would be better.\n",
    "clusters.save_pdb(f'RUN{RUNID}-{phase}.pdb')"
   ]
  }
 ],
 "metadata": {
  "kernelspec": {
   "display_name": "Python 3",
   "language": "python",
   "name": "python3"
  },
  "language_info": {
   "codemirror_mode": {
    "name": "ipython",
    "version": 3
   },
   "file_extension": ".py",
   "mimetype": "text/x-python",
   "name": "python",
   "nbconvert_exporter": "python",
   "pygments_lexer": "ipython3",
   "version": "3.6.8"
  }
 },
 "nbformat": 4,
 "nbformat_minor": 2
}
