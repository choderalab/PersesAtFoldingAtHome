{
 "cells": [
  {
   "cell_type": "code",
   "execution_count": 1,
   "metadata": {},
   "outputs": [],
   "source": [
    "import mdtraj as md\n",
    "import numpy as np\n",
    "# import scipy.cluster.hierarchy\n",
    "import os\n",
    "# from tqdm import tqdm"
   ]
  },
  {
   "cell_type": "code",
   "execution_count": 2,
   "metadata": {},
   "outputs": [],
   "source": [
    "phase = 'solvent' # do both solvent and complex (complex is more important)\n",
    "proj = 13421 # will want to do both complex and solvent\n",
    "RUNID = 0 # will want to loop over all run IDS"
   ]
  },
  {
   "cell_type": "code",
   "execution_count": 3,
   "metadata": {},
   "outputs": [
    {
     "data": {
      "text/plain": [
       "0"
      ]
     },
     "execution_count": 3,
     "metadata": {},
     "output_type": "execute_result"
    }
   ],
   "source": [
    "# first copy back pdb file, which contains the input topology needed\n",
    "os.system(f'scp server@aws3.foldingathome.org:/home/server/server2/projects/{proj}/RUNS/RUN{RUNID}/*pdb .')"
   ]
  },
  {
   "cell_type": "code",
   "execution_count": 4,
   "metadata": {},
   "outputs": [],
   "source": [
    "# load in the topology of the system\n",
    "topology = md.load(f'hybrid_{phase}.pdb').topology"
   ]
  },
  {
   "cell_type": "code",
   "execution_count": 7,
   "metadata": {},
   "outputs": [
    {
     "name": "stdout",
     "output_type": "stream",
     "text": [
      "1\n",
      "2\n",
      "3\n"
     ]
    }
   ],
   "source": [
    "# now we want the final frame of the trajectory (for the forwards direction) we will want the starting frame also \n",
    "# (double check with John which frames correspond to which stages in the cycle)\n",
    "\n",
    "# frame 0 is start ligand after EQUIL\n",
    "# 0 -> 1 NEQ\n",
    "# frame 1 is end ligand after NEQ\n",
    "# frame 2 is end ligand after EQ\n",
    "# 1 -> 0 NEQ\n",
    "# frame 3 is start ligand after NEQ\n",
    "\n",
    "#for i in {0..99}; do echo $i ; scp server@aws3.foldingathome.org:/home/server/server2/data/SVR314342810/PROJ13420/RUN0/CLONE0/results0/*xtc pos_$i.xtc ; done \n",
    "os.system(f'scp server@aws3.foldingathome.org:/home/server/server2/data/SVR314342810/PROJ{proj}/RUN{RUNID}/CLONE0/results0/*xtc pos_0.xtc')\n",
    "traj = md.load_xtc(f'pos_0.xtc',topology,frame=2)\n",
    "\n",
    "# for each clone, get the snapshot and append it to the trajectory\n",
    "# will also want to do this over different GENS in future\n",
    "n_clones = 4 # will be 100 \n",
    "n_gens = 1 # will be 6 when everything is done\n",
    "for gen in range(0,n_gens): \n",
    "    for clone in range(1,n_clones):\n",
    "        print(clone)\n",
    "        os.system(f'scp server@aws3.foldingathome.org:/home/server/server2/data/SVR314342810/PROJ{proj}/RUN{RUNID}/CLONE{clone}/results{gen}/*xtc pos_{clone}.xtc')\n",
    "        new_frame = md.load_xtc(f'pos_{clone}.xtc',topology,frame=3)\n",
    "        traj = traj.join(new_frame)\n",
    "    "
   ]
  },
  {
   "cell_type": "code",
   "execution_count": 8,
   "metadata": {},
   "outputs": [
    {
     "name": "stdout",
     "output_type": "stream",
     "text": [
      "4\n"
     ]
    }
   ],
   "source": [
    "print(traj.n_frames) # this should match the number of (clones x gens)"
   ]
  },
  {
   "cell_type": "code",
   "execution_count": 9,
   "metadata": {},
   "outputs": [],
   "source": [
    "# find the atom indices for the ligand (resname 'MOL')\n",
    "mol_ids = []\n",
    "for res in topology.residues:\n",
    "    if res.name == 'MOL':\n",
    "        for atom in res.atoms:\n",
    "            mol_ids.append(atom.index)"
   ]
  },
  {
   "cell_type": "code",
   "execution_count": 10,
   "metadata": {},
   "outputs": [],
   "source": [
    "# align the frames\n",
    "traj.superpose(traj,atom_indices=mol_ids)\n",
    "#only keep the ligand \n",
    "traj.atom_slice(mol_ids, inplace=True)\n",
    "traj.save_pdb('testing.pdb')"
   ]
  },
  {
   "cell_type": "code",
   "execution_count": null,
   "metadata": {},
   "outputs": [],
   "source": [
    "###\n",
    "# now do the clustering\n",
    "# find 'centroid' of each clusters\n",
    "# additionally --- could 'weigh' configurations by work values, but I think we would want frame 1 for this? not sure"
   ]
  },
  {
   "cell_type": "code",
   "execution_count": null,
   "metadata": {},
   "outputs": [],
   "source": []
  },
  {
   "cell_type": "code",
   "execution_count": null,
   "metadata": {},
   "outputs": [],
   "source": []
  }
 ],
 "metadata": {
  "kernelspec": {
   "display_name": "Python 3",
   "language": "python",
   "name": "python3"
  },
  "language_info": {
   "codemirror_mode": {
    "name": "ipython",
    "version": 3
   },
   "file_extension": ".py",
   "mimetype": "text/x-python",
   "name": "python",
   "nbconvert_exporter": "python",
   "pygments_lexer": "ipython3",
   "version": "3.6.8"
  }
 },
 "nbformat": 4,
 "nbformat_minor": 2
}
