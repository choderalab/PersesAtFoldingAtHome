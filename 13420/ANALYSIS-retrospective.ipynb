{
 "cells": [
  {
   "cell_type": "markdown",
   "metadata": {},
   "source": [
    "# Retrospective analysis"
   ]
  },
  {
   "cell_type": "code",
   "execution_count": 7,
   "metadata": {},
   "outputs": [],
   "source": [
    "import os\n",
    "import numpy as np\n",
    "import seaborn as sns\n",
    "from pymbar import BAR\n",
    "import matplotlib.pyplot as plt\n",
    "import seaborn\n",
    "import numpy as np\n",
    "from glob import glob\n",
    "import pickle\n",
    "from simtk.openmm import unit\n",
    "import bz2\n",
    "from beryllium import plotting, stats\n",
    "import pandas as pd\n",
    "import json\n",
    "import tqdm\n",
    "from openmmtools.constants import kB\n",
    "import networkx as nx\n",
    "import random\n",
    "temperature = 300.0 * unit.kelvin\n",
    "kT = kB * temperature"
   ]
  },
  {
   "cell_type": "code",
   "execution_count": 8,
   "metadata": {},
   "outputs": [],
   "source": [
    "with bz2.BZ2File('../data/work-13420.pkl.bz2', 'r') as infile:\n",
    "    work = pickle.load(infile)"
   ]
  },
  {
   "cell_type": "code",
   "execution_count": 9,
   "metadata": {},
   "outputs": [],
   "source": [
    "work.replace([np.inf, -np.inf], np.nan)\n",
    "work = work.dropna()\n",
    "\n",
    "def _strip_outliers(w,n_devs=100):\n",
    "    w = [x for x in w if np.abs(x) < 10**4]\n",
    "    mean = np.mean(w)\n",
    "    std = np.std(w)\n",
    "    good_w = [x for x in w if np.abs(x-mean) < n_devs*std]\n",
    "    return np.asarray(good_w)"
   ]
  },
  {
   "cell_type": "code",
   "execution_count": 193,
   "metadata": {},
   "outputs": [],
   "source": [
    "retro_jsons = [x for x in os.listdir('/Users/brucemah/bin/covid-moonshot-new/synthetic-enumeration/') if 'retro' in x and 'json' in x]"
   ]
  },
  {
   "cell_type": "code",
   "execution_count": 198,
   "metadata": {},
   "outputs": [
    {
     "name": "stdout",
     "output_type": "stream",
     "text": [
      "284\n",
      "572\n",
      "732\n"
     ]
    }
   ],
   "source": [
    "details = {}\n",
    "\n",
    "for x in retro_jsons:\n",
    "    with open(f'/Users/brucemah/bin/covid-moonshot-new/synthetic-enumeration/{x}', 'r') as f:\n",
    "        new = json.load(f)\n",
    "        details = {**details, **new}\n",
    "        print(len(details))"
   ]
  },
  {
   "cell_type": "code",
   "execution_count": 199,
   "metadata": {},
   "outputs": [
    {
     "name": "stderr",
     "output_type": "stream",
     "text": [
      "  0%|          | 0/732 [00:00<?, ?it/s]/Users/brucemah/miniconda3/lib/python3.6/site-packages/pymbar/bar.py:373: RuntimeWarning:\n",
      "\n",
      "invalid value encountered in sqrt\n",
      "\n",
      "/Users/brucemah/miniconda3/lib/python3.6/site-packages/numpy/core/fromnumeric.py:3335: RuntimeWarning:\n",
      "\n",
      "Mean of empty slice.\n",
      "\n",
      "/Users/brucemah/miniconda3/lib/python3.6/site-packages/numpy/core/_methods.py:161: RuntimeWarning:\n",
      "\n",
      "invalid value encountered in double_scalars\n",
      "\n",
      "/Users/brucemah/miniconda3/lib/python3.6/site-packages/numpy/core/_methods.py:217: RuntimeWarning:\n",
      "\n",
      "Degrees of freedom <= 0 for slice\n",
      "\n",
      "/Users/brucemah/miniconda3/lib/python3.6/site-packages/numpy/core/_methods.py:186: RuntimeWarning:\n",
      "\n",
      "invalid value encountered in true_divide\n",
      "\n",
      "/Users/brucemah/miniconda3/lib/python3.6/site-packages/numpy/core/_methods.py:209: RuntimeWarning:\n",
      "\n",
      "invalid value encountered in double_scalars\n",
      "\n",
      "  0%|          | 1/732 [00:01<12:40,  1.04s/it]"
     ]
    },
    {
     "name": "stdout",
     "output_type": "stream",
     "text": [
      "Cant calculate RUN7801 solvent\n"
     ]
    },
    {
     "name": "stderr",
     "output_type": "stream",
     "text": [
      "\r",
      "  0%|          | 2/732 [00:01<11:40,  1.04it/s]"
     ]
    },
    {
     "name": "stdout",
     "output_type": "stream",
     "text": [
      "Cant calculate RUN7802 solvent\n"
     ]
    },
    {
     "name": "stderr",
     "output_type": "stream",
     "text": [
      "\r",
      "  0%|          | 3/732 [00:02<11:12,  1.08it/s]"
     ]
    },
    {
     "name": "stdout",
     "output_type": "stream",
     "text": [
      "Cant calculate RUN7803 solvent\n"
     ]
    },
    {
     "name": "stderr",
     "output_type": "stream",
     "text": [
      "\r",
      "  1%|          | 4/732 [00:03<10:45,  1.13it/s]"
     ]
    },
    {
     "name": "stdout",
     "output_type": "stream",
     "text": [
      "Cant calculate RUN7804 solvent\n"
     ]
    },
    {
     "name": "stderr",
     "output_type": "stream",
     "text": [
      "\r",
      "  1%|          | 5/732 [00:04<10:15,  1.18it/s]"
     ]
    },
    {
     "name": "stdout",
     "output_type": "stream",
     "text": [
      "Cant calculate RUN7805 solvent\n"
     ]
    },
    {
     "name": "stderr",
     "output_type": "stream",
     "text": [
      "\r",
      "  1%|          | 6/732 [00:05<10:03,  1.20it/s]"
     ]
    },
    {
     "name": "stdout",
     "output_type": "stream",
     "text": [
      "Cant calculate RUN7806 solvent\n"
     ]
    },
    {
     "name": "stderr",
     "output_type": "stream",
     "text": [
      "\r",
      "  1%|          | 7/732 [00:05<09:37,  1.26it/s]"
     ]
    },
    {
     "name": "stdout",
     "output_type": "stream",
     "text": [
      "Cant calculate RUN7807 solvent\n"
     ]
    },
    {
     "name": "stderr",
     "output_type": "stream",
     "text": [
      "\r",
      "  1%|          | 8/732 [00:06<09:19,  1.29it/s]"
     ]
    },
    {
     "name": "stdout",
     "output_type": "stream",
     "text": [
      "Cant calculate RUN7808 solvent\n"
     ]
    },
    {
     "name": "stderr",
     "output_type": "stream",
     "text": [
      "\r",
      "  1%|          | 9/732 [00:07<09:08,  1.32it/s]"
     ]
    },
    {
     "name": "stdout",
     "output_type": "stream",
     "text": [
      "Cant calculate RUN7809 solvent\n"
     ]
    },
    {
     "name": "stderr",
     "output_type": "stream",
     "text": [
      "\r",
      "  1%|▏         | 10/732 [00:07<09:00,  1.34it/s]"
     ]
    },
    {
     "name": "stdout",
     "output_type": "stream",
     "text": [
      "Cant calculate RUN7810 solvent\n"
     ]
    },
    {
     "name": "stderr",
     "output_type": "stream",
     "text": [
      "\r",
      "  2%|▏         | 11/732 [00:08<08:59,  1.34it/s]"
     ]
    },
    {
     "name": "stdout",
     "output_type": "stream",
     "text": [
      "Cant calculate RUN7811 solvent\n"
     ]
    },
    {
     "name": "stderr",
     "output_type": "stream",
     "text": [
      "\r",
      "  2%|▏         | 12/732 [00:09<09:13,  1.30it/s]"
     ]
    },
    {
     "name": "stdout",
     "output_type": "stream",
     "text": [
      "Cant calculate RUN7812 solvent\n"
     ]
    },
    {
     "name": "stderr",
     "output_type": "stream",
     "text": [
      "\r",
      "  2%|▏         | 13/732 [00:10<09:25,  1.27it/s]"
     ]
    },
    {
     "name": "stdout",
     "output_type": "stream",
     "text": [
      "Cant calculate RUN7813 solvent\n"
     ]
    },
    {
     "name": "stderr",
     "output_type": "stream",
     "text": [
      "\r",
      "  2%|▏         | 14/732 [00:11<09:24,  1.27it/s]"
     ]
    },
    {
     "name": "stdout",
     "output_type": "stream",
     "text": [
      "Cant calculate RUN7814 solvent\n"
     ]
    },
    {
     "name": "stderr",
     "output_type": "stream",
     "text": [
      "\r",
      "  2%|▏         | 15/732 [00:11<09:20,  1.28it/s]"
     ]
    },
    {
     "name": "stdout",
     "output_type": "stream",
     "text": [
      "Cant calculate RUN7815 solvent\n"
     ]
    },
    {
     "name": "stderr",
     "output_type": "stream",
     "text": [
      "\r",
      "  2%|▏         | 16/732 [00:12<09:42,  1.23it/s]"
     ]
    },
    {
     "name": "stdout",
     "output_type": "stream",
     "text": [
      "Cant calculate RUN7816 solvent\n"
     ]
    },
    {
     "name": "stderr",
     "output_type": "stream",
     "text": [
      "\r",
      "  2%|▏         | 17/732 [00:13<09:41,  1.23it/s]"
     ]
    },
    {
     "name": "stdout",
     "output_type": "stream",
     "text": [
      "Cant calculate RUN7817 solvent\n"
     ]
    },
    {
     "name": "stderr",
     "output_type": "stream",
     "text": [
      "\r",
      "  2%|▏         | 18/732 [00:14<09:42,  1.22it/s]"
     ]
    },
    {
     "name": "stdout",
     "output_type": "stream",
     "text": [
      "Cant calculate RUN7818 solvent\n"
     ]
    },
    {
     "name": "stderr",
     "output_type": "stream",
     "text": [
      "\r",
      "  3%|▎         | 19/732 [00:15<09:49,  1.21it/s]"
     ]
    },
    {
     "name": "stdout",
     "output_type": "stream",
     "text": [
      "Cant calculate RUN7819 solvent\n"
     ]
    },
    {
     "name": "stderr",
     "output_type": "stream",
     "text": [
      "\r",
      "  3%|▎         | 20/732 [00:16<09:49,  1.21it/s]"
     ]
    },
    {
     "name": "stdout",
     "output_type": "stream",
     "text": [
      "Cant calculate RUN7820 solvent\n"
     ]
    },
    {
     "name": "stderr",
     "output_type": "stream",
     "text": [
      "\r",
      "  3%|▎         | 21/732 [00:17<10:22,  1.14it/s]"
     ]
    },
    {
     "name": "stdout",
     "output_type": "stream",
     "text": [
      "Cant calculate RUN7821 solvent\n"
     ]
    },
    {
     "name": "stderr",
     "output_type": "stream",
     "text": [
      "\r",
      "  3%|▎         | 22/732 [00:17<10:26,  1.13it/s]"
     ]
    },
    {
     "name": "stdout",
     "output_type": "stream",
     "text": [
      "Cant calculate RUN7822 solvent\n"
     ]
    },
    {
     "name": "stderr",
     "output_type": "stream",
     "text": [
      "\r",
      "  3%|▎         | 23/732 [00:18<10:18,  1.15it/s]"
     ]
    },
    {
     "name": "stdout",
     "output_type": "stream",
     "text": [
      "Cant calculate RUN7823 solvent\n"
     ]
    },
    {
     "name": "stderr",
     "output_type": "stream",
     "text": [
      "\r",
      "  3%|▎         | 24/732 [00:19<10:07,  1.17it/s]"
     ]
    },
    {
     "name": "stdout",
     "output_type": "stream",
     "text": [
      "Cant calculate RUN7824 solvent\n"
     ]
    },
    {
     "name": "stderr",
     "output_type": "stream",
     "text": [
      "\r",
      "  3%|▎         | 25/732 [00:20<09:54,  1.19it/s]"
     ]
    },
    {
     "name": "stdout",
     "output_type": "stream",
     "text": [
      "Cant calculate RUN7825 solvent\n"
     ]
    },
    {
     "name": "stderr",
     "output_type": "stream",
     "text": [
      "\r",
      "  4%|▎         | 26/732 [00:21<09:48,  1.20it/s]"
     ]
    },
    {
     "name": "stdout",
     "output_type": "stream",
     "text": [
      "Cant calculate RUN7826 solvent\n"
     ]
    },
    {
     "name": "stderr",
     "output_type": "stream",
     "text": [
      "\r",
      "  4%|▎         | 27/732 [00:21<09:25,  1.25it/s]"
     ]
    },
    {
     "name": "stdout",
     "output_type": "stream",
     "text": [
      "Cant calculate RUN7827 solvent\n"
     ]
    },
    {
     "name": "stderr",
     "output_type": "stream",
     "text": [
      "\r",
      "  4%|▍         | 28/732 [00:22<09:25,  1.24it/s]"
     ]
    },
    {
     "name": "stdout",
     "output_type": "stream",
     "text": [
      "Cant calculate RUN7828 solvent\n"
     ]
    },
    {
     "name": "stderr",
     "output_type": "stream",
     "text": [
      "\r",
      "  4%|▍         | 29/732 [00:23<09:25,  1.24it/s]"
     ]
    },
    {
     "name": "stdout",
     "output_type": "stream",
     "text": [
      "Cant calculate RUN7829 solvent\n"
     ]
    },
    {
     "name": "stderr",
     "output_type": "stream",
     "text": [
      "\r",
      "  4%|▍         | 30/732 [00:24<09:14,  1.27it/s]"
     ]
    },
    {
     "name": "stdout",
     "output_type": "stream",
     "text": [
      "Cant calculate RUN7830 solvent\n"
     ]
    },
    {
     "name": "stderr",
     "output_type": "stream",
     "text": [
      "\r",
      "  4%|▍         | 31/732 [00:25<09:03,  1.29it/s]"
     ]
    },
    {
     "name": "stdout",
     "output_type": "stream",
     "text": [
      "Cant calculate RUN7831 solvent\n",
      "Cant calculate RUN7832 complex\n"
     ]
    },
    {
     "name": "stderr",
     "output_type": "stream",
     "text": [
      "\r",
      "  4%|▍         | 32/732 [00:25<08:57,  1.30it/s]"
     ]
    },
    {
     "name": "stdout",
     "output_type": "stream",
     "text": [
      "Cant calculate RUN7832 solvent\n",
      "Cant calculate RUN7833 complex\n"
     ]
    },
    {
     "name": "stderr",
     "output_type": "stream",
     "text": [
      "\r",
      "  5%|▍         | 33/732 [00:26<08:37,  1.35it/s]"
     ]
    },
    {
     "name": "stdout",
     "output_type": "stream",
     "text": [
      "Cant calculate RUN7833 solvent\n",
      "Cant calculate RUN7834 complex\n"
     ]
    },
    {
     "name": "stderr",
     "output_type": "stream",
     "text": [
      "\r",
      "  5%|▍         | 34/732 [00:27<08:35,  1.35it/s]"
     ]
    },
    {
     "name": "stdout",
     "output_type": "stream",
     "text": [
      "Cant calculate RUN7834 solvent\n",
      "Cant calculate RUN7835 complex\n"
     ]
    },
    {
     "name": "stderr",
     "output_type": "stream",
     "text": [
      "\r",
      "  5%|▍         | 35/732 [00:27<08:18,  1.40it/s]"
     ]
    },
    {
     "name": "stdout",
     "output_type": "stream",
     "text": [
      "Cant calculate RUN7835 solvent\n"
     ]
    },
    {
     "name": "stderr",
     "output_type": "stream",
     "text": [
      "\r",
      "  5%|▍         | 36/732 [00:28<08:23,  1.38it/s]"
     ]
    },
    {
     "name": "stdout",
     "output_type": "stream",
     "text": [
      "Cant calculate RUN7836 solvent\n"
     ]
    },
    {
     "name": "stderr",
     "output_type": "stream",
     "text": [
      "\r",
      "  5%|▌         | 37/732 [00:29<08:30,  1.36it/s]"
     ]
    },
    {
     "name": "stdout",
     "output_type": "stream",
     "text": [
      "Cant calculate RUN7837 solvent\n"
     ]
    },
    {
     "name": "stderr",
     "output_type": "stream",
     "text": [
      "\r",
      "  5%|▌         | 38/732 [00:30<08:44,  1.32it/s]"
     ]
    },
    {
     "name": "stdout",
     "output_type": "stream",
     "text": [
      "Cant calculate RUN7838 solvent\n"
     ]
    },
    {
     "name": "stderr",
     "output_type": "stream",
     "text": [
      "\r",
      "  5%|▌         | 39/732 [00:30<08:54,  1.30it/s]"
     ]
    },
    {
     "name": "stdout",
     "output_type": "stream",
     "text": [
      "Cant calculate RUN7839 solvent\n",
      "Cant calculate RUN7840 complex\n"
     ]
    },
    {
     "name": "stderr",
     "output_type": "stream",
     "text": [
      "\r",
      "  5%|▌         | 40/732 [00:31<08:58,  1.29it/s]"
     ]
    },
    {
     "name": "stdout",
     "output_type": "stream",
     "text": [
      "Cant calculate RUN7840 solvent\n"
     ]
    },
    {
     "name": "stderr",
     "output_type": "stream",
     "text": [
      "\r",
      "  6%|▌         | 41/732 [00:32<09:10,  1.26it/s]"
     ]
    },
    {
     "name": "stdout",
     "output_type": "stream",
     "text": [
      "Cant calculate RUN7841 solvent\n"
     ]
    },
    {
     "name": "stderr",
     "output_type": "stream",
     "text": [
      "\r",
      "  6%|▌         | 42/732 [00:33<09:15,  1.24it/s]"
     ]
    },
    {
     "name": "stdout",
     "output_type": "stream",
     "text": [
      "Cant calculate RUN7842 solvent\n"
     ]
    },
    {
     "name": "stderr",
     "output_type": "stream",
     "text": [
      "\r",
      "  6%|▌         | 43/732 [00:34<09:26,  1.22it/s]"
     ]
    },
    {
     "name": "stdout",
     "output_type": "stream",
     "text": [
      "Cant calculate RUN7843 solvent\n"
     ]
    },
    {
     "name": "stderr",
     "output_type": "stream",
     "text": [
      "\r",
      "  6%|▌         | 44/732 [00:35<09:11,  1.25it/s]"
     ]
    },
    {
     "name": "stdout",
     "output_type": "stream",
     "text": [
      "Cant calculate RUN7844 solvent\n"
     ]
    },
    {
     "name": "stderr",
     "output_type": "stream",
     "text": [
      "\r",
      "  6%|▌         | 45/732 [00:35<09:19,  1.23it/s]"
     ]
    },
    {
     "name": "stdout",
     "output_type": "stream",
     "text": [
      "Cant calculate RUN7845 solvent\n"
     ]
    },
    {
     "name": "stderr",
     "output_type": "stream",
     "text": [
      "\r",
      "  6%|▋         | 46/732 [00:36<09:07,  1.25it/s]"
     ]
    },
    {
     "name": "stdout",
     "output_type": "stream",
     "text": [
      "Cant calculate RUN7846 solvent\n"
     ]
    },
    {
     "name": "stderr",
     "output_type": "stream",
     "text": [
      "\r",
      "  6%|▋         | 47/732 [00:37<08:59,  1.27it/s]"
     ]
    },
    {
     "name": "stdout",
     "output_type": "stream",
     "text": [
      "Cant calculate RUN7847 solvent\n"
     ]
    },
    {
     "name": "stderr",
     "output_type": "stream",
     "text": [
      "\r",
      "  7%|▋         | 48/732 [00:38<08:50,  1.29it/s]"
     ]
    },
    {
     "name": "stdout",
     "output_type": "stream",
     "text": [
      "Cant calculate RUN7848 solvent\n"
     ]
    },
    {
     "name": "stderr",
     "output_type": "stream",
     "text": [
      "\r",
      "  7%|▋         | 49/732 [00:38<08:44,  1.30it/s]"
     ]
    },
    {
     "name": "stdout",
     "output_type": "stream",
     "text": [
      "Cant calculate RUN7849 solvent\n"
     ]
    },
    {
     "name": "stderr",
     "output_type": "stream",
     "text": [
      "\r",
      "  7%|▋         | 50/732 [00:39<08:56,  1.27it/s]"
     ]
    },
    {
     "name": "stdout",
     "output_type": "stream",
     "text": [
      "Cant calculate RUN7850 solvent\n"
     ]
    },
    {
     "name": "stderr",
     "output_type": "stream",
     "text": [
      "\r",
      "  7%|▋         | 51/732 [00:40<09:06,  1.25it/s]"
     ]
    },
    {
     "name": "stdout",
     "output_type": "stream",
     "text": [
      "Cant calculate RUN7851 solvent\n"
     ]
    },
    {
     "name": "stderr",
     "output_type": "stream",
     "text": [
      "\r",
      "  7%|▋         | 52/732 [00:41<08:55,  1.27it/s]"
     ]
    },
    {
     "name": "stdout",
     "output_type": "stream",
     "text": [
      "Cant calculate RUN7852 solvent\n"
     ]
    },
    {
     "name": "stderr",
     "output_type": "stream",
     "text": [
      "\r",
      "  7%|▋         | 53/732 [00:42<08:53,  1.27it/s]"
     ]
    },
    {
     "name": "stdout",
     "output_type": "stream",
     "text": [
      "Cant calculate RUN7853 solvent\n"
     ]
    },
    {
     "name": "stderr",
     "output_type": "stream",
     "text": [
      "\r",
      "  7%|▋         | 54/732 [00:42<08:56,  1.26it/s]"
     ]
    },
    {
     "name": "stdout",
     "output_type": "stream",
     "text": [
      "Cant calculate RUN7854 solvent\n"
     ]
    },
    {
     "name": "stderr",
     "output_type": "stream",
     "text": [
      "\r",
      "  8%|▊         | 55/732 [00:43<08:53,  1.27it/s]"
     ]
    },
    {
     "name": "stdout",
     "output_type": "stream",
     "text": [
      "Cant calculate RUN7855 solvent\n"
     ]
    },
    {
     "name": "stderr",
     "output_type": "stream",
     "text": [
      "\r",
      "  8%|▊         | 56/732 [00:44<08:56,  1.26it/s]"
     ]
    },
    {
     "name": "stdout",
     "output_type": "stream",
     "text": [
      "Cant calculate RUN7856 solvent\n"
     ]
    },
    {
     "name": "stderr",
     "output_type": "stream",
     "text": [
      "\r",
      "  8%|▊         | 57/732 [00:45<09:28,  1.19it/s]"
     ]
    },
    {
     "name": "stdout",
     "output_type": "stream",
     "text": [
      "Cant calculate RUN7857 solvent\n"
     ]
    },
    {
     "name": "stderr",
     "output_type": "stream",
     "text": [
      "\r",
      "  8%|▊         | 58/732 [00:46<09:17,  1.21it/s]"
     ]
    },
    {
     "name": "stdout",
     "output_type": "stream",
     "text": [
      "Cant calculate RUN7858 solvent\n"
     ]
    },
    {
     "name": "stderr",
     "output_type": "stream",
     "text": [
      "\r",
      "  8%|▊         | 59/732 [00:47<09:03,  1.24it/s]"
     ]
    },
    {
     "name": "stdout",
     "output_type": "stream",
     "text": [
      "Cant calculate RUN7859 solvent\n"
     ]
    },
    {
     "name": "stderr",
     "output_type": "stream",
     "text": [
      "\r",
      "  8%|▊         | 60/732 [00:47<08:51,  1.26it/s]"
     ]
    },
    {
     "name": "stdout",
     "output_type": "stream",
     "text": [
      "Cant calculate RUN7860 solvent\n"
     ]
    },
    {
     "name": "stderr",
     "output_type": "stream",
     "text": [
      "\r",
      "  8%|▊         | 61/732 [00:48<09:06,  1.23it/s]"
     ]
    },
    {
     "name": "stdout",
     "output_type": "stream",
     "text": [
      "Cant calculate RUN7861 solvent\n"
     ]
    },
    {
     "name": "stderr",
     "output_type": "stream",
     "text": [
      "\r",
      "  8%|▊         | 62/732 [00:49<08:55,  1.25it/s]"
     ]
    },
    {
     "name": "stdout",
     "output_type": "stream",
     "text": [
      "Cant calculate RUN7862 solvent\n"
     ]
    },
    {
     "name": "stderr",
     "output_type": "stream",
     "text": [
      "\r",
      "  9%|▊         | 63/732 [00:50<08:46,  1.27it/s]"
     ]
    },
    {
     "name": "stdout",
     "output_type": "stream",
     "text": [
      "Cant calculate RUN7863 solvent\n"
     ]
    },
    {
     "name": "stderr",
     "output_type": "stream",
     "text": [
      "\r",
      "  9%|▊         | 64/732 [00:50<08:39,  1.29it/s]"
     ]
    },
    {
     "name": "stdout",
     "output_type": "stream",
     "text": [
      "Cant calculate RUN7864 solvent\n"
     ]
    },
    {
     "name": "stderr",
     "output_type": "stream",
     "text": [
      "\r",
      "  9%|▉         | 65/732 [00:51<08:33,  1.30it/s]"
     ]
    },
    {
     "name": "stdout",
     "output_type": "stream",
     "text": [
      "Cant calculate RUN7865 solvent\n"
     ]
    },
    {
     "name": "stderr",
     "output_type": "stream",
     "text": [
      "\r",
      "  9%|▉         | 66/732 [00:52<08:31,  1.30it/s]"
     ]
    },
    {
     "name": "stdout",
     "output_type": "stream",
     "text": [
      "Cant calculate RUN7866 solvent\n"
     ]
    },
    {
     "name": "stderr",
     "output_type": "stream",
     "text": [
      "\r",
      "  9%|▉         | 67/732 [00:53<08:37,  1.28it/s]"
     ]
    },
    {
     "name": "stdout",
     "output_type": "stream",
     "text": [
      "Cant calculate RUN7867 solvent\n"
     ]
    },
    {
     "name": "stderr",
     "output_type": "stream",
     "text": [
      "\r",
      "  9%|▉         | 68/732 [00:54<08:32,  1.29it/s]"
     ]
    },
    {
     "name": "stdout",
     "output_type": "stream",
     "text": [
      "Cant calculate RUN7868 solvent\n"
     ]
    },
    {
     "name": "stderr",
     "output_type": "stream",
     "text": [
      "\r",
      "  9%|▉         | 69/732 [00:54<08:42,  1.27it/s]"
     ]
    },
    {
     "name": "stdout",
     "output_type": "stream",
     "text": [
      "Cant calculate RUN7869 solvent\n"
     ]
    },
    {
     "name": "stderr",
     "output_type": "stream",
     "text": [
      "\r",
      " 10%|▉         | 70/732 [00:55<08:41,  1.27it/s]"
     ]
    },
    {
     "name": "stdout",
     "output_type": "stream",
     "text": [
      "Cant calculate RUN7870 solvent\n"
     ]
    },
    {
     "name": "stderr",
     "output_type": "stream",
     "text": [
      "\r",
      " 10%|▉         | 71/732 [00:56<08:33,  1.29it/s]"
     ]
    },
    {
     "name": "stdout",
     "output_type": "stream",
     "text": [
      "Cant calculate RUN7871 solvent\n"
     ]
    },
    {
     "name": "stderr",
     "output_type": "stream",
     "text": [
      "\r",
      " 10%|▉         | 72/732 [00:57<08:29,  1.29it/s]"
     ]
    },
    {
     "name": "stdout",
     "output_type": "stream",
     "text": [
      "Cant calculate RUN7872 solvent\n"
     ]
    },
    {
     "name": "stderr",
     "output_type": "stream",
     "text": [
      "\r",
      " 10%|▉         | 73/732 [00:57<08:22,  1.31it/s]"
     ]
    },
    {
     "name": "stdout",
     "output_type": "stream",
     "text": [
      "Cant calculate RUN7873 solvent\n"
     ]
    },
    {
     "name": "stderr",
     "output_type": "stream",
     "text": [
      "\r",
      " 10%|█         | 74/732 [00:58<08:20,  1.31it/s]"
     ]
    },
    {
     "name": "stdout",
     "output_type": "stream",
     "text": [
      "Cant calculate RUN7874 solvent\n"
     ]
    },
    {
     "name": "stderr",
     "output_type": "stream",
     "text": [
      "\r",
      " 10%|█         | 75/732 [00:59<08:24,  1.30it/s]"
     ]
    },
    {
     "name": "stdout",
     "output_type": "stream",
     "text": [
      "Cant calculate RUN7875 solvent\n"
     ]
    },
    {
     "name": "stderr",
     "output_type": "stream",
     "text": [
      "\r",
      " 10%|█         | 76/732 [01:00<08:21,  1.31it/s]"
     ]
    },
    {
     "name": "stdout",
     "output_type": "stream",
     "text": [
      "Cant calculate RUN7876 solvent\n"
     ]
    },
    {
     "name": "stderr",
     "output_type": "stream",
     "text": [
      "\r",
      " 11%|█         | 77/732 [01:00<08:19,  1.31it/s]"
     ]
    },
    {
     "name": "stdout",
     "output_type": "stream",
     "text": [
      "Cant calculate RUN7877 solvent\n"
     ]
    },
    {
     "name": "stderr",
     "output_type": "stream",
     "text": [
      "\r",
      " 11%|█         | 78/732 [01:01<08:19,  1.31it/s]"
     ]
    },
    {
     "name": "stdout",
     "output_type": "stream",
     "text": [
      "Cant calculate RUN7878 solvent\n"
     ]
    },
    {
     "name": "stderr",
     "output_type": "stream",
     "text": [
      "\r",
      " 11%|█         | 79/732 [01:02<08:27,  1.29it/s]"
     ]
    },
    {
     "name": "stdout",
     "output_type": "stream",
     "text": [
      "Cant calculate RUN7879 solvent\n"
     ]
    },
    {
     "name": "stderr",
     "output_type": "stream",
     "text": [
      "\r",
      " 11%|█         | 80/732 [01:03<08:37,  1.26it/s]"
     ]
    },
    {
     "name": "stdout",
     "output_type": "stream",
     "text": [
      "Cant calculate RUN7880 solvent\n",
      "Cant calculate RUN7881 complex\n"
     ]
    },
    {
     "name": "stderr",
     "output_type": "stream",
     "text": [
      "\r",
      " 11%|█         | 81/732 [01:04<08:31,  1.27it/s]"
     ]
    },
    {
     "name": "stdout",
     "output_type": "stream",
     "text": [
      "Cant calculate RUN7881 solvent\n"
     ]
    },
    {
     "name": "stderr",
     "output_type": "stream",
     "text": [
      "\r",
      " 11%|█         | 82/732 [01:04<08:28,  1.28it/s]"
     ]
    },
    {
     "name": "stdout",
     "output_type": "stream",
     "text": [
      "Cant calculate RUN7882 solvent\n"
     ]
    },
    {
     "name": "stderr",
     "output_type": "stream",
     "text": [
      "\r",
      " 11%|█▏        | 83/732 [01:05<08:20,  1.30it/s]"
     ]
    },
    {
     "name": "stdout",
     "output_type": "stream",
     "text": [
      "Cant calculate RUN7883 solvent\n",
      "Cant calculate RUN7884 complex\n"
     ]
    },
    {
     "name": "stderr",
     "output_type": "stream",
     "text": [
      "\r",
      " 11%|█▏        | 84/732 [01:06<08:15,  1.31it/s]"
     ]
    },
    {
     "name": "stdout",
     "output_type": "stream",
     "text": [
      "Cant calculate RUN7884 solvent\n"
     ]
    },
    {
     "name": "stderr",
     "output_type": "stream",
     "text": [
      "\r",
      " 12%|█▏        | 85/732 [01:07<08:10,  1.32it/s]"
     ]
    },
    {
     "name": "stdout",
     "output_type": "stream",
     "text": [
      "Cant calculate RUN7885 solvent\n"
     ]
    },
    {
     "name": "stderr",
     "output_type": "stream",
     "text": [
      "\r",
      " 12%|█▏        | 86/732 [01:07<08:05,  1.33it/s]"
     ]
    },
    {
     "name": "stdout",
     "output_type": "stream",
     "text": [
      "Cant calculate RUN7886 solvent\n"
     ]
    },
    {
     "name": "stderr",
     "output_type": "stream",
     "text": [
      "\r",
      " 12%|█▏        | 87/732 [01:08<08:03,  1.34it/s]"
     ]
    },
    {
     "name": "stdout",
     "output_type": "stream",
     "text": [
      "Cant calculate RUN7887 solvent\n"
     ]
    },
    {
     "name": "stderr",
     "output_type": "stream",
     "text": [
      "\r",
      " 12%|█▏        | 88/732 [01:09<07:58,  1.35it/s]"
     ]
    },
    {
     "name": "stdout",
     "output_type": "stream",
     "text": [
      "Cant calculate RUN7888 solvent\n"
     ]
    },
    {
     "name": "stderr",
     "output_type": "stream",
     "text": [
      "\r",
      " 12%|█▏        | 89/732 [01:10<07:56,  1.35it/s]"
     ]
    },
    {
     "name": "stdout",
     "output_type": "stream",
     "text": [
      "Cant calculate RUN7889 solvent\n"
     ]
    },
    {
     "name": "stderr",
     "output_type": "stream",
     "text": [
      "\r",
      " 12%|█▏        | 90/732 [01:10<08:10,  1.31it/s]"
     ]
    },
    {
     "name": "stdout",
     "output_type": "stream",
     "text": [
      "Cant calculate RUN7890 solvent\n"
     ]
    },
    {
     "name": "stderr",
     "output_type": "stream",
     "text": [
      "\r",
      " 12%|█▏        | 91/732 [01:11<08:05,  1.32it/s]"
     ]
    },
    {
     "name": "stdout",
     "output_type": "stream",
     "text": [
      "Cant calculate RUN7891 solvent\n"
     ]
    },
    {
     "name": "stderr",
     "output_type": "stream",
     "text": [
      "\r",
      " 13%|█▎        | 92/732 [01:12<08:04,  1.32it/s]"
     ]
    },
    {
     "name": "stdout",
     "output_type": "stream",
     "text": [
      "Cant calculate RUN7892 solvent\n"
     ]
    },
    {
     "name": "stderr",
     "output_type": "stream",
     "text": [
      "\r",
      " 13%|█▎        | 93/732 [01:13<08:06,  1.31it/s]"
     ]
    },
    {
     "name": "stdout",
     "output_type": "stream",
     "text": [
      "Cant calculate RUN7893 solvent\n"
     ]
    },
    {
     "name": "stderr",
     "output_type": "stream",
     "text": [
      "\r",
      " 13%|█▎        | 94/732 [01:13<08:05,  1.31it/s]"
     ]
    },
    {
     "name": "stdout",
     "output_type": "stream",
     "text": [
      "Cant calculate RUN7894 solvent\n",
      "Cant calculate RUN7895 complex\n"
     ]
    },
    {
     "name": "stderr",
     "output_type": "stream",
     "text": [
      "\r",
      " 13%|█▎        | 95/732 [01:14<08:04,  1.31it/s]"
     ]
    },
    {
     "name": "stdout",
     "output_type": "stream",
     "text": [
      "Cant calculate RUN7895 solvent\n"
     ]
    },
    {
     "name": "stderr",
     "output_type": "stream",
     "text": [
      "\r",
      " 13%|█▎        | 96/732 [01:15<08:14,  1.29it/s]"
     ]
    },
    {
     "name": "stdout",
     "output_type": "stream",
     "text": [
      "Cant calculate RUN7896 solvent\n"
     ]
    },
    {
     "name": "stderr",
     "output_type": "stream",
     "text": [
      "\r",
      " 13%|█▎        | 97/732 [01:16<08:11,  1.29it/s]"
     ]
    },
    {
     "name": "stdout",
     "output_type": "stream",
     "text": [
      "Cant calculate RUN7897 solvent\n"
     ]
    },
    {
     "name": "stderr",
     "output_type": "stream",
     "text": [
      "\r",
      " 13%|█▎        | 98/732 [01:17<08:06,  1.30it/s]"
     ]
    },
    {
     "name": "stdout",
     "output_type": "stream",
     "text": [
      "Cant calculate RUN7898 solvent\n",
      "Cant calculate RUN7899 complex\n"
     ]
    },
    {
     "name": "stderr",
     "output_type": "stream",
     "text": [
      "\r",
      " 14%|█▎        | 99/732 [01:17<08:03,  1.31it/s]"
     ]
    },
    {
     "name": "stdout",
     "output_type": "stream",
     "text": [
      "Cant calculate RUN7899 solvent\n",
      "Cant calculate RUN7900 complex\n"
     ]
    },
    {
     "name": "stderr",
     "output_type": "stream",
     "text": [
      "\r",
      " 14%|█▎        | 100/732 [01:18<07:59,  1.32it/s]"
     ]
    },
    {
     "name": "stdout",
     "output_type": "stream",
     "text": [
      "Cant calculate RUN7900 solvent\n"
     ]
    },
    {
     "name": "stderr",
     "output_type": "stream",
     "text": [
      "\r",
      " 14%|█▍        | 101/732 [01:19<08:00,  1.31it/s]"
     ]
    },
    {
     "name": "stdout",
     "output_type": "stream",
     "text": [
      "Cant calculate RUN7901 solvent\n"
     ]
    },
    {
     "name": "stderr",
     "output_type": "stream",
     "text": [
      "\r",
      " 14%|█▍        | 102/732 [01:20<08:31,  1.23it/s]"
     ]
    },
    {
     "name": "stdout",
     "output_type": "stream",
     "text": [
      "Cant calculate RUN7902 solvent\n"
     ]
    },
    {
     "name": "stderr",
     "output_type": "stream",
     "text": [
      "\r",
      " 14%|█▍        | 103/732 [01:21<08:34,  1.22it/s]"
     ]
    },
    {
     "name": "stdout",
     "output_type": "stream",
     "text": [
      "Cant calculate RUN7903 solvent\n"
     ]
    },
    {
     "name": "stderr",
     "output_type": "stream",
     "text": [
      "\r",
      " 14%|█▍        | 104/732 [01:21<08:19,  1.26it/s]"
     ]
    },
    {
     "name": "stdout",
     "output_type": "stream",
     "text": [
      "Cant calculate RUN7904 solvent\n"
     ]
    },
    {
     "name": "stderr",
     "output_type": "stream",
     "text": [
      "\r",
      " 14%|█▍        | 105/732 [01:22<08:12,  1.27it/s]"
     ]
    },
    {
     "name": "stdout",
     "output_type": "stream",
     "text": [
      "Cant calculate RUN7905 solvent\n"
     ]
    },
    {
     "name": "stderr",
     "output_type": "stream",
     "text": [
      "\r",
      " 14%|█▍        | 106/732 [01:23<08:09,  1.28it/s]"
     ]
    },
    {
     "name": "stdout",
     "output_type": "stream",
     "text": [
      "Cant calculate RUN7906 solvent\n"
     ]
    },
    {
     "name": "stderr",
     "output_type": "stream",
     "text": [
      "\r",
      " 15%|█▍        | 107/732 [01:24<08:02,  1.29it/s]"
     ]
    },
    {
     "name": "stdout",
     "output_type": "stream",
     "text": [
      "Cant calculate RUN7907 solvent\n"
     ]
    },
    {
     "name": "stderr",
     "output_type": "stream",
     "text": [
      "\r",
      " 15%|█▍        | 108/732 [01:24<07:56,  1.31it/s]"
     ]
    },
    {
     "name": "stdout",
     "output_type": "stream",
     "text": [
      "Cant calculate RUN7908 solvent\n"
     ]
    },
    {
     "name": "stderr",
     "output_type": "stream",
     "text": [
      "\r",
      " 15%|█▍        | 109/732 [01:25<08:02,  1.29it/s]"
     ]
    },
    {
     "name": "stdout",
     "output_type": "stream",
     "text": [
      "Cant calculate RUN7909 solvent\n"
     ]
    },
    {
     "name": "stderr",
     "output_type": "stream",
     "text": [
      "\r",
      " 15%|█▌        | 110/732 [01:26<07:56,  1.31it/s]"
     ]
    },
    {
     "name": "stdout",
     "output_type": "stream",
     "text": [
      "Cant calculate RUN7910 solvent\n",
      "Cant calculate RUN7911 complex\n"
     ]
    },
    {
     "name": "stderr",
     "output_type": "stream",
     "text": [
      "\r",
      " 15%|█▌        | 111/732 [01:27<07:38,  1.35it/s]"
     ]
    },
    {
     "name": "stdout",
     "output_type": "stream",
     "text": [
      "Cant calculate RUN7911 solvent\n"
     ]
    },
    {
     "name": "stderr",
     "output_type": "stream",
     "text": [
      "\r",
      " 15%|█▌        | 112/732 [01:27<07:41,  1.34it/s]"
     ]
    },
    {
     "name": "stdout",
     "output_type": "stream",
     "text": [
      "Cant calculate RUN7912 solvent\n",
      "Cant calculate RUN7913 complex\n"
     ]
    },
    {
     "name": "stderr",
     "output_type": "stream",
     "text": [
      "\r",
      " 15%|█▌        | 113/732 [01:28<07:28,  1.38it/s]"
     ]
    },
    {
     "name": "stdout",
     "output_type": "stream",
     "text": [
      "Cant calculate RUN7913 solvent\n"
     ]
    },
    {
     "name": "stderr",
     "output_type": "stream",
     "text": [
      "\r",
      " 16%|█▌        | 114/732 [01:29<07:29,  1.37it/s]"
     ]
    },
    {
     "name": "stdout",
     "output_type": "stream",
     "text": [
      "Cant calculate RUN7914 solvent\n",
      "Cant calculate RUN7915 complex\n"
     ]
    },
    {
     "name": "stderr",
     "output_type": "stream",
     "text": [
      "\r",
      " 16%|█▌        | 115/732 [01:29<07:18,  1.41it/s]"
     ]
    },
    {
     "name": "stdout",
     "output_type": "stream",
     "text": [
      "Cant calculate RUN7915 solvent\n"
     ]
    },
    {
     "name": "stderr",
     "output_type": "stream",
     "text": [
      "\r",
      " 16%|█▌        | 116/732 [01:30<07:34,  1.36it/s]"
     ]
    },
    {
     "name": "stdout",
     "output_type": "stream",
     "text": [
      "Cant calculate RUN7916 solvent\n"
     ]
    },
    {
     "name": "stderr",
     "output_type": "stream",
     "text": [
      "\r",
      " 16%|█▌        | 117/732 [01:31<07:32,  1.36it/s]"
     ]
    },
    {
     "name": "stdout",
     "output_type": "stream",
     "text": [
      "Cant calculate RUN7917 solvent\n"
     ]
    },
    {
     "name": "stderr",
     "output_type": "stream",
     "text": [
      "\r",
      " 16%|█▌        | 118/732 [01:32<07:37,  1.34it/s]"
     ]
    },
    {
     "name": "stdout",
     "output_type": "stream",
     "text": [
      "Cant calculate RUN7918 solvent\n"
     ]
    },
    {
     "name": "stderr",
     "output_type": "stream",
     "text": [
      "\r",
      " 16%|█▋        | 119/732 [01:32<07:37,  1.34it/s]"
     ]
    },
    {
     "name": "stdout",
     "output_type": "stream",
     "text": [
      "Cant calculate RUN7919 solvent\n"
     ]
    },
    {
     "name": "stderr",
     "output_type": "stream",
     "text": [
      "\r",
      " 16%|█▋        | 120/732 [01:33<07:35,  1.34it/s]"
     ]
    },
    {
     "name": "stdout",
     "output_type": "stream",
     "text": [
      "Cant calculate RUN7920 solvent\n"
     ]
    },
    {
     "name": "stderr",
     "output_type": "stream",
     "text": [
      "\r",
      " 17%|█▋        | 121/732 [01:34<07:44,  1.32it/s]"
     ]
    },
    {
     "name": "stdout",
     "output_type": "stream",
     "text": [
      "Cant calculate RUN7921 solvent\n"
     ]
    },
    {
     "name": "stderr",
     "output_type": "stream",
     "text": [
      "\r",
      " 17%|█▋        | 122/732 [01:35<07:38,  1.33it/s]"
     ]
    },
    {
     "name": "stdout",
     "output_type": "stream",
     "text": [
      "Cant calculate RUN7922 solvent\n"
     ]
    },
    {
     "name": "stderr",
     "output_type": "stream",
     "text": [
      "\r",
      " 17%|█▋        | 123/732 [01:35<07:35,  1.34it/s]"
     ]
    },
    {
     "name": "stdout",
     "output_type": "stream",
     "text": [
      "Cant calculate RUN7923 solvent\n"
     ]
    },
    {
     "name": "stderr",
     "output_type": "stream",
     "text": [
      "\r",
      " 17%|█▋        | 124/732 [01:36<07:36,  1.33it/s]"
     ]
    },
    {
     "name": "stdout",
     "output_type": "stream",
     "text": [
      "Cant calculate RUN7924 solvent\n"
     ]
    },
    {
     "name": "stderr",
     "output_type": "stream",
     "text": [
      "\r",
      " 17%|█▋        | 125/732 [01:37<07:55,  1.28it/s]"
     ]
    },
    {
     "name": "stdout",
     "output_type": "stream",
     "text": [
      "Cant calculate RUN7925 solvent\n"
     ]
    },
    {
     "name": "stderr",
     "output_type": "stream",
     "text": [
      "\r",
      " 17%|█▋        | 126/732 [01:38<07:55,  1.27it/s]"
     ]
    },
    {
     "name": "stdout",
     "output_type": "stream",
     "text": [
      "Cant calculate RUN7926 solvent\n"
     ]
    },
    {
     "name": "stderr",
     "output_type": "stream",
     "text": [
      "\r",
      " 17%|█▋        | 127/732 [01:39<08:06,  1.24it/s]"
     ]
    },
    {
     "name": "stdout",
     "output_type": "stream",
     "text": [
      "Cant calculate RUN7927 solvent\n"
     ]
    },
    {
     "name": "stderr",
     "output_type": "stream",
     "text": [
      "\r",
      " 17%|█▋        | 128/732 [01:39<08:07,  1.24it/s]"
     ]
    },
    {
     "name": "stdout",
     "output_type": "stream",
     "text": [
      "Cant calculate RUN7928 solvent\n"
     ]
    },
    {
     "name": "stderr",
     "output_type": "stream",
     "text": [
      "\r",
      " 18%|█▊        | 129/732 [01:40<08:00,  1.26it/s]"
     ]
    },
    {
     "name": "stdout",
     "output_type": "stream",
     "text": [
      "Cant calculate RUN7929 solvent\n"
     ]
    },
    {
     "name": "stderr",
     "output_type": "stream",
     "text": [
      "\r",
      " 18%|█▊        | 130/732 [01:41<08:08,  1.23it/s]"
     ]
    },
    {
     "name": "stdout",
     "output_type": "stream",
     "text": [
      "Cant calculate RUN7930 solvent\n"
     ]
    },
    {
     "name": "stderr",
     "output_type": "stream",
     "text": [
      "\r",
      " 18%|█▊        | 131/732 [01:42<08:17,  1.21it/s]"
     ]
    },
    {
     "name": "stdout",
     "output_type": "stream",
     "text": [
      "Cant calculate RUN7931 solvent\n"
     ]
    },
    {
     "name": "stderr",
     "output_type": "stream",
     "text": [
      "\r",
      " 18%|█▊        | 132/732 [01:43<08:23,  1.19it/s]"
     ]
    },
    {
     "name": "stdout",
     "output_type": "stream",
     "text": [
      "Cant calculate RUN7932 solvent\n"
     ]
    },
    {
     "name": "stderr",
     "output_type": "stream",
     "text": [
      "\r",
      " 18%|█▊        | 133/732 [01:44<08:22,  1.19it/s]"
     ]
    },
    {
     "name": "stdout",
     "output_type": "stream",
     "text": [
      "Cant calculate RUN7933 solvent\n"
     ]
    },
    {
     "name": "stderr",
     "output_type": "stream",
     "text": [
      "\r",
      " 18%|█▊        | 134/732 [01:44<08:04,  1.24it/s]"
     ]
    },
    {
     "name": "stdout",
     "output_type": "stream",
     "text": [
      "Cant calculate RUN7934 solvent\n"
     ]
    },
    {
     "name": "stderr",
     "output_type": "stream",
     "text": [
      "\r",
      " 18%|█▊        | 135/732 [01:45<08:05,  1.23it/s]"
     ]
    },
    {
     "name": "stdout",
     "output_type": "stream",
     "text": [
      "Cant calculate RUN7935 solvent\n"
     ]
    },
    {
     "name": "stderr",
     "output_type": "stream",
     "text": [
      "\r",
      " 19%|█▊        | 136/732 [01:46<07:51,  1.26it/s]"
     ]
    },
    {
     "name": "stdout",
     "output_type": "stream",
     "text": [
      "Cant calculate RUN7936 solvent\n",
      "Cant calculate RUN7937 complex\n"
     ]
    },
    {
     "name": "stderr",
     "output_type": "stream",
     "text": [
      "\r",
      " 19%|█▊        | 137/732 [01:47<07:43,  1.28it/s]"
     ]
    },
    {
     "name": "stdout",
     "output_type": "stream",
     "text": [
      "Cant calculate RUN7937 solvent\n",
      "Cant calculate RUN7938 complex\n"
     ]
    },
    {
     "name": "stderr",
     "output_type": "stream",
     "text": [
      "\r",
      " 19%|█▉        | 138/732 [01:47<07:35,  1.30it/s]"
     ]
    },
    {
     "name": "stdout",
     "output_type": "stream",
     "text": [
      "Cant calculate RUN7938 solvent\n"
     ]
    },
    {
     "name": "stderr",
     "output_type": "stream",
     "text": [
      "\r",
      " 19%|█▉        | 139/732 [01:48<07:33,  1.31it/s]"
     ]
    },
    {
     "name": "stdout",
     "output_type": "stream",
     "text": [
      "Cant calculate RUN7939 solvent\n"
     ]
    },
    {
     "name": "stderr",
     "output_type": "stream",
     "text": [
      "\r",
      " 19%|█▉        | 140/732 [01:49<07:27,  1.32it/s]"
     ]
    },
    {
     "name": "stdout",
     "output_type": "stream",
     "text": [
      "Cant calculate RUN7940 solvent\n",
      "Cant calculate RUN7941 complex\n"
     ]
    },
    {
     "name": "stderr",
     "output_type": "stream",
     "text": [
      "\r",
      " 19%|█▉        | 141/732 [01:50<07:28,  1.32it/s]"
     ]
    },
    {
     "name": "stdout",
     "output_type": "stream",
     "text": [
      "Cant calculate RUN7941 solvent\n",
      "Cant calculate RUN7942 complex\n"
     ]
    },
    {
     "name": "stderr",
     "output_type": "stream",
     "text": [
      "\r",
      " 19%|█▉        | 142/732 [01:51<07:30,  1.31it/s]"
     ]
    },
    {
     "name": "stdout",
     "output_type": "stream",
     "text": [
      "Cant calculate RUN7942 solvent\n"
     ]
    },
    {
     "name": "stderr",
     "output_type": "stream",
     "text": [
      "\r",
      " 20%|█▉        | 143/732 [01:51<07:38,  1.28it/s]"
     ]
    },
    {
     "name": "stdout",
     "output_type": "stream",
     "text": [
      "Cant calculate RUN7943 solvent\n"
     ]
    },
    {
     "name": "stderr",
     "output_type": "stream",
     "text": [
      "\r",
      " 20%|█▉        | 144/732 [01:52<07:38,  1.28it/s]"
     ]
    },
    {
     "name": "stdout",
     "output_type": "stream",
     "text": [
      "Cant calculate RUN7944 solvent\n"
     ]
    },
    {
     "name": "stderr",
     "output_type": "stream",
     "text": [
      "\r",
      " 20%|█▉        | 145/732 [01:53<07:50,  1.25it/s]"
     ]
    },
    {
     "name": "stdout",
     "output_type": "stream",
     "text": [
      "Cant calculate RUN7945 solvent\n"
     ]
    },
    {
     "name": "stderr",
     "output_type": "stream",
     "text": [
      "\r",
      " 20%|█▉        | 146/732 [01:54<07:51,  1.24it/s]"
     ]
    },
    {
     "name": "stdout",
     "output_type": "stream",
     "text": [
      "Cant calculate RUN7946 solvent\n"
     ]
    },
    {
     "name": "stderr",
     "output_type": "stream",
     "text": [
      "\r",
      " 20%|██        | 147/732 [01:55<08:03,  1.21it/s]"
     ]
    },
    {
     "name": "stdout",
     "output_type": "stream",
     "text": [
      "Cant calculate RUN7947 solvent\n"
     ]
    },
    {
     "name": "stderr",
     "output_type": "stream",
     "text": [
      "\r",
      " 20%|██        | 148/732 [01:55<07:54,  1.23it/s]"
     ]
    },
    {
     "name": "stdout",
     "output_type": "stream",
     "text": [
      "Cant calculate RUN7948 solvent\n"
     ]
    },
    {
     "name": "stderr",
     "output_type": "stream",
     "text": [
      "\r",
      " 20%|██        | 149/732 [01:56<07:47,  1.25it/s]"
     ]
    },
    {
     "name": "stdout",
     "output_type": "stream",
     "text": [
      "Cant calculate RUN7949 solvent\n"
     ]
    },
    {
     "name": "stderr",
     "output_type": "stream",
     "text": [
      "\r",
      " 20%|██        | 150/732 [01:57<07:46,  1.25it/s]"
     ]
    },
    {
     "name": "stdout",
     "output_type": "stream",
     "text": [
      "Cant calculate RUN7950 solvent\n"
     ]
    },
    {
     "name": "stderr",
     "output_type": "stream",
     "text": [
      "\r",
      " 21%|██        | 151/732 [01:58<07:49,  1.24it/s]"
     ]
    },
    {
     "name": "stdout",
     "output_type": "stream",
     "text": [
      "Cant calculate RUN7951 solvent\n"
     ]
    },
    {
     "name": "stderr",
     "output_type": "stream",
     "text": [
      "\r",
      " 21%|██        | 152/732 [01:59<07:51,  1.23it/s]"
     ]
    },
    {
     "name": "stdout",
     "output_type": "stream",
     "text": [
      "Cant calculate RUN7952 solvent\n"
     ]
    },
    {
     "name": "stderr",
     "output_type": "stream",
     "text": [
      "\r",
      " 21%|██        | 153/732 [01:59<07:52,  1.23it/s]"
     ]
    },
    {
     "name": "stdout",
     "output_type": "stream",
     "text": [
      "Cant calculate RUN7953 solvent\n"
     ]
    },
    {
     "name": "stderr",
     "output_type": "stream",
     "text": [
      "\r",
      " 21%|██        | 154/732 [02:00<08:12,  1.17it/s]"
     ]
    },
    {
     "name": "stdout",
     "output_type": "stream",
     "text": [
      "Cant calculate RUN7954 solvent\n"
     ]
    },
    {
     "name": "stderr",
     "output_type": "stream",
     "text": [
      "\r",
      " 21%|██        | 155/732 [02:01<07:59,  1.20it/s]"
     ]
    },
    {
     "name": "stdout",
     "output_type": "stream",
     "text": [
      "Cant calculate RUN7955 solvent\n"
     ]
    },
    {
     "name": "stderr",
     "output_type": "stream",
     "text": [
      "\r",
      " 21%|██▏       | 156/732 [02:02<07:49,  1.23it/s]"
     ]
    },
    {
     "name": "stdout",
     "output_type": "stream",
     "text": [
      "Cant calculate RUN7956 solvent\n"
     ]
    },
    {
     "name": "stderr",
     "output_type": "stream",
     "text": [
      "\r",
      " 21%|██▏       | 157/732 [02:03<07:44,  1.24it/s]"
     ]
    },
    {
     "name": "stdout",
     "output_type": "stream",
     "text": [
      "Cant calculate RUN7957 solvent\n"
     ]
    },
    {
     "name": "stderr",
     "output_type": "stream",
     "text": [
      "\r",
      " 22%|██▏       | 158/732 [02:04<07:52,  1.21it/s]"
     ]
    },
    {
     "name": "stdout",
     "output_type": "stream",
     "text": [
      "Cant calculate RUN7958 solvent\n"
     ]
    },
    {
     "name": "stderr",
     "output_type": "stream",
     "text": [
      "\r",
      " 22%|██▏       | 159/732 [02:04<07:46,  1.23it/s]"
     ]
    },
    {
     "name": "stdout",
     "output_type": "stream",
     "text": [
      "Cant calculate RUN7959 solvent\n"
     ]
    },
    {
     "name": "stderr",
     "output_type": "stream",
     "text": [
      "\r",
      " 22%|██▏       | 160/732 [02:05<07:46,  1.23it/s]"
     ]
    },
    {
     "name": "stdout",
     "output_type": "stream",
     "text": [
      "Cant calculate RUN7960 solvent\n"
     ]
    },
    {
     "name": "stderr",
     "output_type": "stream",
     "text": [
      "\r",
      " 22%|██▏       | 161/732 [02:06<07:44,  1.23it/s]"
     ]
    },
    {
     "name": "stdout",
     "output_type": "stream",
     "text": [
      "Cant calculate RUN7961 solvent\n"
     ]
    },
    {
     "name": "stderr",
     "output_type": "stream",
     "text": [
      "\r",
      " 22%|██▏       | 162/732 [02:07<07:38,  1.24it/s]"
     ]
    },
    {
     "name": "stdout",
     "output_type": "stream",
     "text": [
      "Cant calculate RUN7962 solvent\n"
     ]
    },
    {
     "name": "stderr",
     "output_type": "stream",
     "text": [
      "\r",
      " 22%|██▏       | 163/732 [02:08<07:28,  1.27it/s]"
     ]
    },
    {
     "name": "stdout",
     "output_type": "stream",
     "text": [
      "Cant calculate RUN7963 solvent\n"
     ]
    },
    {
     "name": "stderr",
     "output_type": "stream",
     "text": [
      "\r",
      " 22%|██▏       | 164/732 [02:08<07:28,  1.27it/s]"
     ]
    },
    {
     "name": "stdout",
     "output_type": "stream",
     "text": [
      "Cant calculate RUN7964 solvent\n"
     ]
    },
    {
     "name": "stderr",
     "output_type": "stream",
     "text": [
      "\r",
      " 23%|██▎       | 165/732 [02:09<07:22,  1.28it/s]"
     ]
    },
    {
     "name": "stdout",
     "output_type": "stream",
     "text": [
      "Cant calculate RUN7965 solvent\n"
     ]
    },
    {
     "name": "stderr",
     "output_type": "stream",
     "text": [
      "\r",
      " 23%|██▎       | 166/732 [02:10<07:15,  1.30it/s]"
     ]
    },
    {
     "name": "stdout",
     "output_type": "stream",
     "text": [
      "Cant calculate RUN7966 solvent\n"
     ]
    },
    {
     "name": "stderr",
     "output_type": "stream",
     "text": [
      "\r",
      " 23%|██▎       | 167/732 [02:11<07:10,  1.31it/s]"
     ]
    },
    {
     "name": "stdout",
     "output_type": "stream",
     "text": [
      "Cant calculate RUN7967 solvent\n"
     ]
    },
    {
     "name": "stderr",
     "output_type": "stream",
     "text": [
      "\r",
      " 23%|██▎       | 168/732 [02:11<07:06,  1.32it/s]"
     ]
    },
    {
     "name": "stdout",
     "output_type": "stream",
     "text": [
      "Cant calculate RUN7968 solvent\n"
     ]
    },
    {
     "name": "stderr",
     "output_type": "stream",
     "text": [
      "\r",
      " 23%|██▎       | 169/732 [02:12<07:04,  1.33it/s]"
     ]
    },
    {
     "name": "stdout",
     "output_type": "stream",
     "text": [
      "Cant calculate RUN7969 solvent\n"
     ]
    },
    {
     "name": "stderr",
     "output_type": "stream",
     "text": [
      "\r",
      " 23%|██▎       | 170/732 [02:13<07:13,  1.30it/s]"
     ]
    },
    {
     "name": "stdout",
     "output_type": "stream",
     "text": [
      "Cant calculate RUN7970 solvent\n"
     ]
    },
    {
     "name": "stderr",
     "output_type": "stream",
     "text": [
      "\r",
      " 23%|██▎       | 171/732 [02:14<07:07,  1.31it/s]"
     ]
    },
    {
     "name": "stdout",
     "output_type": "stream",
     "text": [
      "Cant calculate RUN7971 solvent\n",
      "Cant calculate RUN7972 complex\n"
     ]
    },
    {
     "name": "stderr",
     "output_type": "stream",
     "text": [
      "\r",
      " 23%|██▎       | 172/732 [02:14<07:08,  1.31it/s]"
     ]
    },
    {
     "name": "stdout",
     "output_type": "stream",
     "text": [
      "Cant calculate RUN7972 solvent\n"
     ]
    },
    {
     "name": "stderr",
     "output_type": "stream",
     "text": [
      "\r",
      " 24%|██▎       | 173/732 [02:15<07:09,  1.30it/s]"
     ]
    },
    {
     "name": "stdout",
     "output_type": "stream",
     "text": [
      "Cant calculate RUN7973 solvent\n"
     ]
    },
    {
     "name": "stderr",
     "output_type": "stream",
     "text": [
      "\r",
      " 24%|██▍       | 174/732 [02:16<07:03,  1.32it/s]"
     ]
    },
    {
     "name": "stdout",
     "output_type": "stream",
     "text": [
      "Cant calculate RUN7974 solvent\n",
      "Cant calculate RUN7975 complex\n"
     ]
    },
    {
     "name": "stderr",
     "output_type": "stream",
     "text": [
      "\r",
      " 24%|██▍       | 175/732 [02:17<06:47,  1.37it/s]"
     ]
    },
    {
     "name": "stdout",
     "output_type": "stream",
     "text": [
      "Cant calculate RUN7975 solvent\n",
      "Cant calculate RUN7976 complex\n"
     ]
    },
    {
     "name": "stderr",
     "output_type": "stream",
     "text": [
      "\r",
      " 24%|██▍       | 176/732 [02:17<06:50,  1.35it/s]"
     ]
    },
    {
     "name": "stdout",
     "output_type": "stream",
     "text": [
      "Cant calculate RUN7976 solvent\n",
      "Cant calculate RUN7977 complex\n"
     ]
    },
    {
     "name": "stderr",
     "output_type": "stream",
     "text": [
      "\r",
      " 24%|██▍       | 177/732 [02:18<06:42,  1.38it/s]"
     ]
    },
    {
     "name": "stdout",
     "output_type": "stream",
     "text": [
      "Cant calculate RUN7977 solvent\n",
      "Cant calculate RUN7978 complex\n"
     ]
    },
    {
     "name": "stderr",
     "output_type": "stream",
     "text": [
      "\r",
      " 24%|██▍       | 178/732 [02:19<06:51,  1.34it/s]"
     ]
    },
    {
     "name": "stdout",
     "output_type": "stream",
     "text": [
      "Cant calculate RUN7978 solvent\n"
     ]
    },
    {
     "name": "stderr",
     "output_type": "stream",
     "text": [
      "\r",
      " 24%|██▍       | 179/732 [02:20<07:13,  1.27it/s]"
     ]
    },
    {
     "name": "stdout",
     "output_type": "stream",
     "text": [
      "Cant calculate RUN7979 solvent\n"
     ]
    },
    {
     "name": "stderr",
     "output_type": "stream",
     "text": [
      "\r",
      " 25%|██▍       | 180/732 [02:21<07:14,  1.27it/s]"
     ]
    },
    {
     "name": "stdout",
     "output_type": "stream",
     "text": [
      "Cant calculate RUN7980 solvent\n"
     ]
    },
    {
     "name": "stderr",
     "output_type": "stream",
     "text": [
      "\r",
      " 25%|██▍       | 181/732 [02:21<07:06,  1.29it/s]"
     ]
    },
    {
     "name": "stdout",
     "output_type": "stream",
     "text": [
      "Cant calculate RUN7981 solvent\n"
     ]
    },
    {
     "name": "stderr",
     "output_type": "stream",
     "text": [
      "\r",
      " 25%|██▍       | 182/732 [02:22<07:14,  1.27it/s]"
     ]
    },
    {
     "name": "stdout",
     "output_type": "stream",
     "text": [
      "Cant calculate RUN7982 solvent\n"
     ]
    },
    {
     "name": "stderr",
     "output_type": "stream",
     "text": [
      "\r",
      " 25%|██▌       | 183/732 [02:23<07:11,  1.27it/s]"
     ]
    },
    {
     "name": "stdout",
     "output_type": "stream",
     "text": [
      "Cant calculate RUN7983 solvent\n"
     ]
    },
    {
     "name": "stderr",
     "output_type": "stream",
     "text": [
      "\r",
      " 25%|██▌       | 184/732 [02:24<07:03,  1.29it/s]"
     ]
    },
    {
     "name": "stdout",
     "output_type": "stream",
     "text": [
      "Cant calculate RUN7984 solvent\n"
     ]
    },
    {
     "name": "stderr",
     "output_type": "stream",
     "text": [
      "\r",
      " 25%|██▌       | 185/732 [02:24<07:00,  1.30it/s]"
     ]
    },
    {
     "name": "stdout",
     "output_type": "stream",
     "text": [
      "Cant calculate RUN7985 solvent\n"
     ]
    },
    {
     "name": "stderr",
     "output_type": "stream",
     "text": [
      "\r",
      " 25%|██▌       | 186/732 [02:25<07:06,  1.28it/s]"
     ]
    },
    {
     "name": "stdout",
     "output_type": "stream",
     "text": [
      "Cant calculate RUN7986 solvent\n"
     ]
    },
    {
     "name": "stderr",
     "output_type": "stream",
     "text": [
      "\r",
      " 26%|██▌       | 187/732 [02:26<07:01,  1.29it/s]"
     ]
    },
    {
     "name": "stdout",
     "output_type": "stream",
     "text": [
      "Cant calculate RUN7987 solvent\n"
     ]
    },
    {
     "name": "stderr",
     "output_type": "stream",
     "text": [
      "\r",
      " 26%|██▌       | 188/732 [02:27<07:08,  1.27it/s]"
     ]
    },
    {
     "name": "stdout",
     "output_type": "stream",
     "text": [
      "Cant calculate RUN7988 solvent\n"
     ]
    },
    {
     "name": "stderr",
     "output_type": "stream",
     "text": [
      "\r",
      " 26%|██▌       | 189/732 [02:28<07:02,  1.29it/s]"
     ]
    },
    {
     "name": "stdout",
     "output_type": "stream",
     "text": [
      "Cant calculate RUN7989 solvent\n"
     ]
    },
    {
     "name": "stderr",
     "output_type": "stream",
     "text": [
      "\r",
      " 26%|██▌       | 190/732 [02:28<07:06,  1.27it/s]"
     ]
    },
    {
     "name": "stdout",
     "output_type": "stream",
     "text": [
      "Cant calculate RUN7990 solvent\n"
     ]
    },
    {
     "name": "stderr",
     "output_type": "stream",
     "text": [
      "\r",
      " 26%|██▌       | 191/732 [02:29<06:58,  1.29it/s]"
     ]
    },
    {
     "name": "stdout",
     "output_type": "stream",
     "text": [
      "Cant calculate RUN7991 solvent\n"
     ]
    },
    {
     "name": "stderr",
     "output_type": "stream",
     "text": [
      "\r",
      " 26%|██▌       | 192/732 [02:30<06:54,  1.30it/s]"
     ]
    },
    {
     "name": "stdout",
     "output_type": "stream",
     "text": [
      "Cant calculate RUN7992 solvent\n"
     ]
    },
    {
     "name": "stderr",
     "output_type": "stream",
     "text": [
      "\r",
      " 26%|██▋       | 193/732 [02:31<06:48,  1.32it/s]"
     ]
    },
    {
     "name": "stdout",
     "output_type": "stream",
     "text": [
      "Cant calculate RUN7993 solvent\n"
     ]
    },
    {
     "name": "stderr",
     "output_type": "stream",
     "text": [
      "\r",
      " 27%|██▋       | 194/732 [02:31<06:45,  1.33it/s]"
     ]
    },
    {
     "name": "stdout",
     "output_type": "stream",
     "text": [
      "Cant calculate RUN7994 solvent\n"
     ]
    },
    {
     "name": "stderr",
     "output_type": "stream",
     "text": [
      "\r",
      " 27%|██▋       | 195/732 [02:32<06:48,  1.32it/s]"
     ]
    },
    {
     "name": "stdout",
     "output_type": "stream",
     "text": [
      "Cant calculate RUN7995 solvent\n"
     ]
    },
    {
     "name": "stderr",
     "output_type": "stream",
     "text": [
      "\r",
      " 27%|██▋       | 196/732 [02:33<06:49,  1.31it/s]"
     ]
    },
    {
     "name": "stdout",
     "output_type": "stream",
     "text": [
      "Cant calculate RUN7996 solvent\n"
     ]
    },
    {
     "name": "stderr",
     "output_type": "stream",
     "text": [
      "\r",
      " 27%|██▋       | 197/732 [02:34<06:48,  1.31it/s]"
     ]
    },
    {
     "name": "stdout",
     "output_type": "stream",
     "text": [
      "Cant calculate RUN7997 solvent\n"
     ]
    },
    {
     "name": "stderr",
     "output_type": "stream",
     "text": [
      "\r",
      " 27%|██▋       | 198/732 [02:34<06:52,  1.30it/s]"
     ]
    },
    {
     "name": "stdout",
     "output_type": "stream",
     "text": [
      "Cant calculate RUN7998 solvent\n"
     ]
    },
    {
     "name": "stderr",
     "output_type": "stream",
     "text": [
      "\r",
      " 27%|██▋       | 199/732 [02:35<07:00,  1.27it/s]"
     ]
    },
    {
     "name": "stdout",
     "output_type": "stream",
     "text": [
      "Cant calculate RUN7999 solvent\n"
     ]
    },
    {
     "name": "stderr",
     "output_type": "stream",
     "text": [
      "\r",
      " 27%|██▋       | 200/732 [02:36<07:25,  1.19it/s]"
     ]
    },
    {
     "name": "stdout",
     "output_type": "stream",
     "text": [
      "Cant calculate RUN8000 solvent\n"
     ]
    },
    {
     "name": "stderr",
     "output_type": "stream",
     "text": [
      "\r",
      " 27%|██▋       | 201/732 [02:37<07:49,  1.13it/s]"
     ]
    },
    {
     "name": "stdout",
     "output_type": "stream",
     "text": [
      "Cant calculate RUN8001 solvent\n"
     ]
    },
    {
     "name": "stderr",
     "output_type": "stream",
     "text": [
      "\r",
      " 28%|██▊       | 202/732 [02:38<07:49,  1.13it/s]"
     ]
    },
    {
     "name": "stdout",
     "output_type": "stream",
     "text": [
      "Cant calculate RUN8002 solvent\n",
      "Cant calculate RUN8003 complex\n"
     ]
    },
    {
     "name": "stderr",
     "output_type": "stream",
     "text": [
      "\r",
      " 28%|██▊       | 203/732 [02:39<07:55,  1.11it/s]"
     ]
    },
    {
     "name": "stdout",
     "output_type": "stream",
     "text": [
      "Cant calculate RUN8003 solvent\n"
     ]
    },
    {
     "name": "stderr",
     "output_type": "stream",
     "text": [
      "\r",
      " 28%|██▊       | 204/732 [02:40<07:46,  1.13it/s]"
     ]
    },
    {
     "name": "stdout",
     "output_type": "stream",
     "text": [
      "Cant calculate RUN8004 solvent\n"
     ]
    },
    {
     "name": "stderr",
     "output_type": "stream",
     "text": [
      "\r",
      " 28%|██▊       | 205/732 [02:41<07:37,  1.15it/s]"
     ]
    },
    {
     "name": "stdout",
     "output_type": "stream",
     "text": [
      "Cant calculate RUN8005 solvent\n"
     ]
    },
    {
     "name": "stderr",
     "output_type": "stream",
     "text": [
      "\r",
      " 28%|██▊       | 206/732 [02:42<07:31,  1.17it/s]"
     ]
    },
    {
     "name": "stdout",
     "output_type": "stream",
     "text": [
      "Cant calculate RUN8006 solvent\n"
     ]
    },
    {
     "name": "stderr",
     "output_type": "stream",
     "text": [
      "\r",
      " 28%|██▊       | 207/732 [02:42<07:21,  1.19it/s]"
     ]
    },
    {
     "name": "stdout",
     "output_type": "stream",
     "text": [
      "Cant calculate RUN8007 solvent\n"
     ]
    },
    {
     "name": "stderr",
     "output_type": "stream",
     "text": [
      "\r",
      " 28%|██▊       | 208/732 [02:43<07:08,  1.22it/s]"
     ]
    },
    {
     "name": "stdout",
     "output_type": "stream",
     "text": [
      "Cant calculate RUN8008 solvent\n"
     ]
    },
    {
     "name": "stderr",
     "output_type": "stream",
     "text": [
      "\r",
      " 29%|██▊       | 209/732 [02:44<07:13,  1.21it/s]"
     ]
    },
    {
     "name": "stdout",
     "output_type": "stream",
     "text": [
      "Cant calculate RUN8009 solvent\n",
      "Cant calculate RUN8010 complex\n"
     ]
    },
    {
     "name": "stderr",
     "output_type": "stream",
     "text": [
      "\r",
      " 29%|██▊       | 210/732 [02:45<07:18,  1.19it/s]"
     ]
    },
    {
     "name": "stdout",
     "output_type": "stream",
     "text": [
      "Cant calculate RUN8010 solvent\n"
     ]
    },
    {
     "name": "stderr",
     "output_type": "stream",
     "text": [
      "\r",
      " 29%|██▉       | 211/732 [02:46<07:07,  1.22it/s]"
     ]
    },
    {
     "name": "stdout",
     "output_type": "stream",
     "text": [
      "Cant calculate RUN8011 solvent\n"
     ]
    },
    {
     "name": "stderr",
     "output_type": "stream",
     "text": [
      "\r",
      " 29%|██▉       | 212/732 [02:46<07:16,  1.19it/s]"
     ]
    },
    {
     "name": "stdout",
     "output_type": "stream",
     "text": [
      "Cant calculate RUN8012 solvent\n"
     ]
    },
    {
     "name": "stderr",
     "output_type": "stream",
     "text": [
      "\r",
      " 29%|██▉       | 213/732 [02:47<07:20,  1.18it/s]"
     ]
    },
    {
     "name": "stdout",
     "output_type": "stream",
     "text": [
      "Cant calculate RUN8013 solvent\n",
      "Cant calculate RUN8014 complex\n"
     ]
    },
    {
     "name": "stderr",
     "output_type": "stream",
     "text": [
      "\r",
      " 29%|██▉       | 214/732 [02:48<07:04,  1.22it/s]"
     ]
    },
    {
     "name": "stdout",
     "output_type": "stream",
     "text": [
      "Cant calculate RUN8014 solvent\n"
     ]
    },
    {
     "name": "stderr",
     "output_type": "stream",
     "text": [
      "\r",
      " 29%|██▉       | 215/732 [02:49<07:05,  1.22it/s]"
     ]
    },
    {
     "name": "stdout",
     "output_type": "stream",
     "text": [
      "Cant calculate RUN8015 solvent\n"
     ]
    },
    {
     "name": "stderr",
     "output_type": "stream",
     "text": [
      "\r",
      " 30%|██▉       | 216/732 [02:50<07:04,  1.22it/s]"
     ]
    },
    {
     "name": "stdout",
     "output_type": "stream",
     "text": [
      "Cant calculate RUN8016 solvent\n"
     ]
    },
    {
     "name": "stderr",
     "output_type": "stream",
     "text": [
      "\r",
      " 30%|██▉       | 217/732 [02:50<06:55,  1.24it/s]"
     ]
    },
    {
     "name": "stdout",
     "output_type": "stream",
     "text": [
      "Cant calculate RUN8017 solvent\n"
     ]
    },
    {
     "name": "stderr",
     "output_type": "stream",
     "text": [
      "\r",
      " 30%|██▉       | 218/732 [02:51<07:05,  1.21it/s]"
     ]
    },
    {
     "name": "stdout",
     "output_type": "stream",
     "text": [
      "Cant calculate RUN8018 solvent\n"
     ]
    },
    {
     "name": "stderr",
     "output_type": "stream",
     "text": [
      "\r",
      " 30%|██▉       | 219/732 [02:52<06:58,  1.23it/s]"
     ]
    },
    {
     "name": "stdout",
     "output_type": "stream",
     "text": [
      "Cant calculate RUN8019 solvent\n"
     ]
    },
    {
     "name": "stderr",
     "output_type": "stream",
     "text": [
      "\r",
      " 30%|███       | 220/732 [02:53<06:55,  1.23it/s]"
     ]
    },
    {
     "name": "stdout",
     "output_type": "stream",
     "text": [
      "Cant calculate RUN8020 solvent\n"
     ]
    },
    {
     "name": "stderr",
     "output_type": "stream",
     "text": [
      "\r",
      " 30%|███       | 221/732 [02:54<07:24,  1.15it/s]"
     ]
    },
    {
     "name": "stdout",
     "output_type": "stream",
     "text": [
      "Cant calculate RUN8021 solvent\n"
     ]
    },
    {
     "name": "stderr",
     "output_type": "stream",
     "text": [
      "\r",
      " 30%|███       | 222/732 [02:55<07:41,  1.11it/s]"
     ]
    },
    {
     "name": "stdout",
     "output_type": "stream",
     "text": [
      "Cant calculate RUN8022 solvent\n"
     ]
    },
    {
     "name": "stderr",
     "output_type": "stream",
     "text": [
      "\r",
      " 30%|███       | 223/732 [02:56<07:48,  1.09it/s]"
     ]
    },
    {
     "name": "stdout",
     "output_type": "stream",
     "text": [
      "Cant calculate RUN8023 solvent\n"
     ]
    },
    {
     "name": "stderr",
     "output_type": "stream",
     "text": [
      "\r",
      " 31%|███       | 224/732 [02:57<07:28,  1.13it/s]"
     ]
    },
    {
     "name": "stdout",
     "output_type": "stream",
     "text": [
      "Cant calculate RUN8024 solvent\n",
      "Cant calculate RUN8025 complex\n"
     ]
    },
    {
     "name": "stderr",
     "output_type": "stream",
     "text": [
      "\r",
      " 31%|███       | 225/732 [02:57<07:10,  1.18it/s]"
     ]
    },
    {
     "name": "stdout",
     "output_type": "stream",
     "text": [
      "Cant calculate RUN8025 solvent\n"
     ]
    },
    {
     "name": "stderr",
     "output_type": "stream",
     "text": [
      "\r",
      " 31%|███       | 226/732 [02:58<07:01,  1.20it/s]"
     ]
    },
    {
     "name": "stdout",
     "output_type": "stream",
     "text": [
      "Cant calculate RUN8026 solvent\n",
      "Cant calculate RUN8027 complex\n"
     ]
    },
    {
     "name": "stderr",
     "output_type": "stream",
     "text": [
      "\r",
      " 31%|███       | 227/732 [02:59<06:46,  1.24it/s]"
     ]
    },
    {
     "name": "stdout",
     "output_type": "stream",
     "text": [
      "Cant calculate RUN8027 solvent\n"
     ]
    },
    {
     "name": "stderr",
     "output_type": "stream",
     "text": [
      "\r",
      " 31%|███       | 228/732 [03:00<06:34,  1.28it/s]"
     ]
    },
    {
     "name": "stdout",
     "output_type": "stream",
     "text": [
      "Cant calculate RUN8028 solvent\n"
     ]
    },
    {
     "name": "stderr",
     "output_type": "stream",
     "text": [
      "\r",
      " 31%|███▏      | 229/732 [03:00<06:25,  1.31it/s]"
     ]
    },
    {
     "name": "stdout",
     "output_type": "stream",
     "text": [
      "Cant calculate RUN8029 solvent\n"
     ]
    },
    {
     "name": "stderr",
     "output_type": "stream",
     "text": [
      "\r",
      " 31%|███▏      | 230/732 [03:01<06:16,  1.33it/s]"
     ]
    },
    {
     "name": "stdout",
     "output_type": "stream",
     "text": [
      "Cant calculate RUN8030 solvent\n"
     ]
    },
    {
     "name": "stderr",
     "output_type": "stream",
     "text": [
      "\r",
      " 32%|███▏      | 231/732 [03:02<06:15,  1.33it/s]"
     ]
    },
    {
     "name": "stdout",
     "output_type": "stream",
     "text": [
      "Cant calculate RUN8031 solvent\n"
     ]
    },
    {
     "name": "stderr",
     "output_type": "stream",
     "text": [
      "\r",
      " 32%|███▏      | 232/732 [03:03<06:15,  1.33it/s]"
     ]
    },
    {
     "name": "stdout",
     "output_type": "stream",
     "text": [
      "Cant calculate RUN8032 solvent\n"
     ]
    },
    {
     "name": "stderr",
     "output_type": "stream",
     "text": [
      "\r",
      " 32%|███▏      | 233/732 [03:03<06:14,  1.33it/s]"
     ]
    },
    {
     "name": "stdout",
     "output_type": "stream",
     "text": [
      "Cant calculate RUN8033 solvent\n"
     ]
    },
    {
     "name": "stderr",
     "output_type": "stream",
     "text": [
      "\r",
      " 32%|███▏      | 234/732 [03:04<06:13,  1.33it/s]"
     ]
    },
    {
     "name": "stdout",
     "output_type": "stream",
     "text": [
      "Cant calculate RUN8034 solvent\n",
      "Cant calculate RUN8035 complex\n"
     ]
    },
    {
     "name": "stderr",
     "output_type": "stream",
     "text": [
      "\r",
      " 32%|███▏      | 235/732 [03:05<06:13,  1.33it/s]"
     ]
    },
    {
     "name": "stdout",
     "output_type": "stream",
     "text": [
      "Cant calculate RUN8035 solvent\n"
     ]
    },
    {
     "name": "stderr",
     "output_type": "stream",
     "text": [
      "\r",
      " 32%|███▏      | 236/732 [03:06<06:10,  1.34it/s]"
     ]
    },
    {
     "name": "stdout",
     "output_type": "stream",
     "text": [
      "Cant calculate RUN8036 solvent\n"
     ]
    },
    {
     "name": "stderr",
     "output_type": "stream",
     "text": [
      "\r",
      " 32%|███▏      | 237/732 [03:06<06:08,  1.34it/s]"
     ]
    },
    {
     "name": "stdout",
     "output_type": "stream",
     "text": [
      "Cant calculate RUN8037 solvent\n"
     ]
    },
    {
     "name": "stderr",
     "output_type": "stream",
     "text": [
      "\r",
      " 33%|███▎      | 238/732 [03:07<06:16,  1.31it/s]"
     ]
    },
    {
     "name": "stdout",
     "output_type": "stream",
     "text": [
      "Cant calculate RUN8038 solvent\n"
     ]
    },
    {
     "name": "stderr",
     "output_type": "stream",
     "text": [
      "\r",
      " 33%|███▎      | 239/732 [03:08<06:23,  1.28it/s]"
     ]
    },
    {
     "name": "stdout",
     "output_type": "stream",
     "text": [
      "Cant calculate RUN8039 solvent\n"
     ]
    },
    {
     "name": "stderr",
     "output_type": "stream",
     "text": [
      "\r",
      " 33%|███▎      | 240/732 [03:09<06:18,  1.30it/s]"
     ]
    },
    {
     "name": "stdout",
     "output_type": "stream",
     "text": [
      "Cant calculate RUN8040 solvent\n",
      "Cant calculate RUN8041 complex\n"
     ]
    },
    {
     "name": "stderr",
     "output_type": "stream",
     "text": [
      "\r",
      " 33%|███▎      | 241/732 [03:10<06:13,  1.32it/s]"
     ]
    },
    {
     "name": "stdout",
     "output_type": "stream",
     "text": [
      "Cant calculate RUN8041 solvent\n",
      "Cant calculate RUN8042 complex\n"
     ]
    },
    {
     "name": "stderr",
     "output_type": "stream",
     "text": [
      "\r",
      " 33%|███▎      | 242/732 [03:10<06:09,  1.33it/s]"
     ]
    },
    {
     "name": "stdout",
     "output_type": "stream",
     "text": [
      "Cant calculate RUN8042 solvent\n"
     ]
    },
    {
     "name": "stderr",
     "output_type": "stream",
     "text": [
      "\r",
      " 33%|███▎      | 243/732 [03:11<06:16,  1.30it/s]"
     ]
    },
    {
     "name": "stdout",
     "output_type": "stream",
     "text": [
      "Cant calculate RUN8043 solvent\n"
     ]
    },
    {
     "name": "stderr",
     "output_type": "stream",
     "text": [
      "\r",
      " 33%|███▎      | 244/732 [03:12<06:19,  1.28it/s]"
     ]
    },
    {
     "name": "stdout",
     "output_type": "stream",
     "text": [
      "Cant calculate RUN8044 solvent\n"
     ]
    },
    {
     "name": "stderr",
     "output_type": "stream",
     "text": [
      "\r",
      " 33%|███▎      | 245/732 [03:13<06:22,  1.27it/s]"
     ]
    },
    {
     "name": "stdout",
     "output_type": "stream",
     "text": [
      "Cant calculate RUN8045 solvent\n"
     ]
    },
    {
     "name": "stderr",
     "output_type": "stream",
     "text": [
      "\r",
      " 34%|███▎      | 246/732 [03:13<06:16,  1.29it/s]"
     ]
    },
    {
     "name": "stdout",
     "output_type": "stream",
     "text": [
      "Cant calculate RUN8046 solvent\n"
     ]
    },
    {
     "name": "stderr",
     "output_type": "stream",
     "text": [
      "\r",
      " 34%|███▎      | 247/732 [03:14<06:19,  1.28it/s]"
     ]
    },
    {
     "name": "stdout",
     "output_type": "stream",
     "text": [
      "Cant calculate RUN8047 solvent\n"
     ]
    },
    {
     "name": "stderr",
     "output_type": "stream",
     "text": [
      "\r",
      " 34%|███▍      | 248/732 [03:15<06:13,  1.29it/s]"
     ]
    },
    {
     "name": "stdout",
     "output_type": "stream",
     "text": [
      "Cant calculate RUN8048 solvent\n"
     ]
    },
    {
     "name": "stderr",
     "output_type": "stream",
     "text": [
      "\r",
      " 34%|███▍      | 249/732 [03:16<06:08,  1.31it/s]"
     ]
    },
    {
     "name": "stdout",
     "output_type": "stream",
     "text": [
      "Cant calculate RUN8049 solvent\n"
     ]
    },
    {
     "name": "stderr",
     "output_type": "stream",
     "text": [
      "\r",
      " 34%|███▍      | 250/732 [03:16<06:05,  1.32it/s]"
     ]
    },
    {
     "name": "stdout",
     "output_type": "stream",
     "text": [
      "Cant calculate RUN8050 solvent\n"
     ]
    },
    {
     "name": "stderr",
     "output_type": "stream",
     "text": [
      "\r",
      " 34%|███▍      | 251/732 [03:17<06:02,  1.33it/s]"
     ]
    },
    {
     "name": "stdout",
     "output_type": "stream",
     "text": [
      "Cant calculate RUN8051 solvent\n"
     ]
    },
    {
     "name": "stderr",
     "output_type": "stream",
     "text": [
      "\r",
      " 34%|███▍      | 252/732 [03:18<06:09,  1.30it/s]"
     ]
    },
    {
     "name": "stdout",
     "output_type": "stream",
     "text": [
      "Cant calculate RUN8052 solvent\n",
      "Cant calculate RUN8053 complex\n"
     ]
    },
    {
     "name": "stderr",
     "output_type": "stream",
     "text": [
      "\r",
      " 35%|███▍      | 253/732 [03:19<05:56,  1.35it/s]"
     ]
    },
    {
     "name": "stdout",
     "output_type": "stream",
     "text": [
      "Cant calculate RUN8053 solvent\n"
     ]
    },
    {
     "name": "stderr",
     "output_type": "stream",
     "text": [
      "\r",
      " 35%|███▍      | 254/732 [03:19<05:54,  1.35it/s]"
     ]
    },
    {
     "name": "stdout",
     "output_type": "stream",
     "text": [
      "Cant calculate RUN8054 solvent\n",
      "Cant calculate RUN8055 complex\n"
     ]
    },
    {
     "name": "stderr",
     "output_type": "stream",
     "text": [
      "\r",
      " 35%|███▍      | 255/732 [03:20<05:46,  1.38it/s]"
     ]
    },
    {
     "name": "stdout",
     "output_type": "stream",
     "text": [
      "Cant calculate RUN8055 solvent\n"
     ]
    },
    {
     "name": "stderr",
     "output_type": "stream",
     "text": [
      "\r",
      " 35%|███▍      | 256/732 [03:21<05:46,  1.37it/s]"
     ]
    },
    {
     "name": "stdout",
     "output_type": "stream",
     "text": [
      "Cant calculate RUN8056 solvent\n",
      "Cant calculate RUN8057 complex\n"
     ]
    },
    {
     "name": "stderr",
     "output_type": "stream",
     "text": [
      "\r",
      " 35%|███▌      | 257/732 [03:22<05:40,  1.40it/s]"
     ]
    },
    {
     "name": "stdout",
     "output_type": "stream",
     "text": [
      "Cant calculate RUN8057 solvent\n"
     ]
    },
    {
     "name": "stderr",
     "output_type": "stream",
     "text": [
      "\r",
      " 35%|███▌      | 258/732 [03:22<05:47,  1.37it/s]"
     ]
    },
    {
     "name": "stdout",
     "output_type": "stream",
     "text": [
      "Cant calculate RUN8058 solvent\n"
     ]
    },
    {
     "name": "stderr",
     "output_type": "stream",
     "text": [
      "\r",
      " 35%|███▌      | 259/732 [03:23<05:48,  1.36it/s]"
     ]
    },
    {
     "name": "stdout",
     "output_type": "stream",
     "text": [
      "Cant calculate RUN8059 solvent\n"
     ]
    },
    {
     "name": "stderr",
     "output_type": "stream",
     "text": [
      "\r",
      " 36%|███▌      | 260/732 [03:24<05:48,  1.35it/s]"
     ]
    },
    {
     "name": "stdout",
     "output_type": "stream",
     "text": [
      "Cant calculate RUN8060 solvent\n"
     ]
    },
    {
     "name": "stderr",
     "output_type": "stream",
     "text": [
      "\r",
      " 36%|███▌      | 261/732 [03:25<05:49,  1.35it/s]"
     ]
    },
    {
     "name": "stdout",
     "output_type": "stream",
     "text": [
      "Cant calculate RUN8061 solvent\n"
     ]
    },
    {
     "name": "stderr",
     "output_type": "stream",
     "text": [
      "\r",
      " 36%|███▌      | 262/732 [03:25<05:47,  1.35it/s]"
     ]
    },
    {
     "name": "stdout",
     "output_type": "stream",
     "text": [
      "Cant calculate RUN8062 solvent\n"
     ]
    },
    {
     "name": "stderr",
     "output_type": "stream",
     "text": [
      "\r",
      " 36%|███▌      | 263/732 [03:26<05:44,  1.36it/s]"
     ]
    },
    {
     "name": "stdout",
     "output_type": "stream",
     "text": [
      "Cant calculate RUN8063 solvent\n"
     ]
    },
    {
     "name": "stderr",
     "output_type": "stream",
     "text": [
      "\r",
      " 36%|███▌      | 264/732 [03:27<05:43,  1.36it/s]"
     ]
    },
    {
     "name": "stdout",
     "output_type": "stream",
     "text": [
      "Cant calculate RUN8064 solvent\n"
     ]
    },
    {
     "name": "stderr",
     "output_type": "stream",
     "text": [
      "\r",
      " 36%|███▌      | 265/732 [03:27<05:43,  1.36it/s]"
     ]
    },
    {
     "name": "stdout",
     "output_type": "stream",
     "text": [
      "Cant calculate RUN8065 solvent\n"
     ]
    },
    {
     "name": "stderr",
     "output_type": "stream",
     "text": [
      "\r",
      " 36%|███▋      | 266/732 [03:28<05:44,  1.35it/s]"
     ]
    },
    {
     "name": "stdout",
     "output_type": "stream",
     "text": [
      "Cant calculate RUN8066 solvent\n"
     ]
    },
    {
     "name": "stderr",
     "output_type": "stream",
     "text": [
      "\r",
      " 36%|███▋      | 267/732 [03:29<05:44,  1.35it/s]"
     ]
    },
    {
     "name": "stdout",
     "output_type": "stream",
     "text": [
      "Cant calculate RUN8067 solvent\n"
     ]
    },
    {
     "name": "stderr",
     "output_type": "stream",
     "text": [
      "\r",
      " 37%|███▋      | 268/732 [03:30<05:44,  1.35it/s]"
     ]
    },
    {
     "name": "stdout",
     "output_type": "stream",
     "text": [
      "Cant calculate RUN8068 solvent\n"
     ]
    },
    {
     "name": "stderr",
     "output_type": "stream",
     "text": [
      "\r",
      " 37%|███▋      | 269/732 [03:30<05:39,  1.36it/s]"
     ]
    },
    {
     "name": "stdout",
     "output_type": "stream",
     "text": [
      "Cant calculate RUN8069 solvent\n"
     ]
    },
    {
     "name": "stderr",
     "output_type": "stream",
     "text": [
      "\r",
      " 37%|███▋      | 270/732 [03:31<05:34,  1.38it/s]"
     ]
    },
    {
     "name": "stdout",
     "output_type": "stream",
     "text": [
      "Cant calculate RUN8070 solvent\n"
     ]
    },
    {
     "name": "stderr",
     "output_type": "stream",
     "text": [
      "\r",
      " 37%|███▋      | 271/732 [03:32<05:36,  1.37it/s]"
     ]
    },
    {
     "name": "stdout",
     "output_type": "stream",
     "text": [
      "Cant calculate RUN8071 solvent\n"
     ]
    },
    {
     "name": "stderr",
     "output_type": "stream",
     "text": [
      "\r",
      " 37%|███▋      | 272/732 [03:33<05:36,  1.37it/s]"
     ]
    },
    {
     "name": "stdout",
     "output_type": "stream",
     "text": [
      "Cant calculate RUN8072 solvent\n"
     ]
    },
    {
     "name": "stderr",
     "output_type": "stream",
     "text": [
      "\r",
      " 37%|███▋      | 273/732 [03:33<05:36,  1.36it/s]"
     ]
    },
    {
     "name": "stdout",
     "output_type": "stream",
     "text": [
      "Cant calculate RUN8073 solvent\n"
     ]
    },
    {
     "name": "stderr",
     "output_type": "stream",
     "text": [
      "\r",
      " 37%|███▋      | 274/732 [03:34<05:36,  1.36it/s]"
     ]
    },
    {
     "name": "stdout",
     "output_type": "stream",
     "text": [
      "Cant calculate RUN8074 solvent\n"
     ]
    },
    {
     "name": "stderr",
     "output_type": "stream",
     "text": [
      "\r",
      " 38%|███▊      | 275/732 [03:35<05:36,  1.36it/s]"
     ]
    },
    {
     "name": "stdout",
     "output_type": "stream",
     "text": [
      "Cant calculate RUN8075 solvent\n"
     ]
    },
    {
     "name": "stderr",
     "output_type": "stream",
     "text": [
      "\r",
      " 38%|███▊      | 276/732 [03:36<05:36,  1.35it/s]"
     ]
    },
    {
     "name": "stdout",
     "output_type": "stream",
     "text": [
      "Cant calculate RUN8076 solvent\n"
     ]
    },
    {
     "name": "stderr",
     "output_type": "stream",
     "text": [
      "\r",
      " 38%|███▊      | 277/732 [03:36<05:36,  1.35it/s]"
     ]
    },
    {
     "name": "stdout",
     "output_type": "stream",
     "text": [
      "Cant calculate RUN8077 solvent\n"
     ]
    },
    {
     "name": "stderr",
     "output_type": "stream",
     "text": [
      "\r",
      " 38%|███▊      | 278/732 [03:37<05:35,  1.35it/s]"
     ]
    },
    {
     "name": "stdout",
     "output_type": "stream",
     "text": [
      "Cant calculate RUN8078 solvent\n",
      "Cant calculate RUN8079 complex\n"
     ]
    },
    {
     "name": "stderr",
     "output_type": "stream",
     "text": [
      "\r",
      " 38%|███▊      | 279/732 [03:38<05:34,  1.35it/s]"
     ]
    },
    {
     "name": "stdout",
     "output_type": "stream",
     "text": [
      "Cant calculate RUN8079 solvent\n",
      "Cant calculate RUN8080 complex\n"
     ]
    },
    {
     "name": "stderr",
     "output_type": "stream",
     "text": [
      "\r",
      " 38%|███▊      | 280/732 [03:39<05:33,  1.35it/s]"
     ]
    },
    {
     "name": "stdout",
     "output_type": "stream",
     "text": [
      "Cant calculate RUN8080 solvent\n"
     ]
    },
    {
     "name": "stderr",
     "output_type": "stream",
     "text": [
      "\r",
      " 38%|███▊      | 281/732 [03:39<05:33,  1.35it/s]"
     ]
    },
    {
     "name": "stdout",
     "output_type": "stream",
     "text": [
      "Cant calculate RUN8081 solvent\n"
     ]
    },
    {
     "name": "stderr",
     "output_type": "stream",
     "text": [
      "\r",
      " 39%|███▊      | 282/732 [03:40<05:33,  1.35it/s]"
     ]
    },
    {
     "name": "stdout",
     "output_type": "stream",
     "text": [
      "Cant calculate RUN8082 solvent\n",
      "Cant calculate RUN8083 complex\n"
     ]
    },
    {
     "name": "stderr",
     "output_type": "stream",
     "text": [
      "\r",
      " 39%|███▊      | 283/732 [03:41<05:34,  1.34it/s]"
     ]
    },
    {
     "name": "stdout",
     "output_type": "stream",
     "text": [
      "Cant calculate RUN8083 solvent\n",
      "Cant calculate RUN8084 complex\n"
     ]
    },
    {
     "name": "stderr",
     "output_type": "stream",
     "text": [
      "\r",
      " 39%|███▉      | 284/732 [03:42<05:38,  1.32it/s]"
     ]
    },
    {
     "name": "stdout",
     "output_type": "stream",
     "text": [
      "Cant calculate RUN8084 solvent\n",
      "Cant calculate RUN8085 complex\n"
     ]
    },
    {
     "name": "stderr",
     "output_type": "stream",
     "text": [
      "\r",
      " 39%|███▉      | 285/732 [03:42<05:32,  1.34it/s]"
     ]
    },
    {
     "name": "stdout",
     "output_type": "stream",
     "text": [
      "Cant calculate RUN8085 solvent\n",
      "Cant calculate RUN8086 complex\n"
     ]
    },
    {
     "name": "stderr",
     "output_type": "stream",
     "text": [
      "\r",
      " 39%|███▉      | 286/732 [03:43<05:29,  1.35it/s]"
     ]
    },
    {
     "name": "stdout",
     "output_type": "stream",
     "text": [
      "Cant calculate RUN8086 solvent\n",
      "Cant calculate RUN8087 complex\n"
     ]
    },
    {
     "name": "stderr",
     "output_type": "stream",
     "text": [
      "\r",
      " 39%|███▉      | 287/732 [03:44<05:23,  1.38it/s]"
     ]
    },
    {
     "name": "stdout",
     "output_type": "stream",
     "text": [
      "Cant calculate RUN8087 solvent\n",
      "Cant calculate RUN8088 complex\n"
     ]
    },
    {
     "name": "stderr",
     "output_type": "stream",
     "text": [
      "\r",
      " 39%|███▉      | 288/732 [03:44<05:19,  1.39it/s]"
     ]
    },
    {
     "name": "stdout",
     "output_type": "stream",
     "text": [
      "Cant calculate RUN8088 solvent\n",
      "Cant calculate RUN8089 complex\n"
     ]
    },
    {
     "name": "stderr",
     "output_type": "stream",
     "text": [
      "\r",
      " 39%|███▉      | 289/732 [03:45<05:17,  1.39it/s]"
     ]
    },
    {
     "name": "stdout",
     "output_type": "stream",
     "text": [
      "Cant calculate RUN8089 solvent\n",
      "Cant calculate RUN8090 complex\n"
     ]
    },
    {
     "name": "stderr",
     "output_type": "stream",
     "text": [
      "\r",
      " 40%|███▉      | 290/732 [03:46<05:22,  1.37it/s]"
     ]
    },
    {
     "name": "stdout",
     "output_type": "stream",
     "text": [
      "Cant calculate RUN8090 solvent\n",
      "Cant calculate RUN8091 complex\n"
     ]
    },
    {
     "name": "stderr",
     "output_type": "stream",
     "text": [
      "\r",
      " 40%|███▉      | 291/732 [03:47<05:31,  1.33it/s]"
     ]
    },
    {
     "name": "stdout",
     "output_type": "stream",
     "text": [
      "Cant calculate RUN8091 solvent\n",
      "Cant calculate RUN8092 complex\n"
     ]
    },
    {
     "name": "stderr",
     "output_type": "stream",
     "text": [
      "\r",
      " 40%|███▉      | 292/732 [03:47<05:27,  1.35it/s]"
     ]
    },
    {
     "name": "stdout",
     "output_type": "stream",
     "text": [
      "Cant calculate RUN8092 solvent\n",
      "Cant calculate RUN8093 complex\n"
     ]
    },
    {
     "name": "stderr",
     "output_type": "stream",
     "text": [
      "\r",
      " 40%|████      | 293/732 [03:48<05:19,  1.37it/s]"
     ]
    },
    {
     "name": "stdout",
     "output_type": "stream",
     "text": [
      "Cant calculate RUN8093 solvent\n",
      "Cant calculate RUN8094 complex\n"
     ]
    },
    {
     "name": "stderr",
     "output_type": "stream",
     "text": [
      "\r",
      " 40%|████      | 294/732 [03:49<05:18,  1.37it/s]"
     ]
    },
    {
     "name": "stdout",
     "output_type": "stream",
     "text": [
      "Cant calculate RUN8094 solvent\n",
      "Cant calculate RUN8095 complex\n"
     ]
    },
    {
     "name": "stderr",
     "output_type": "stream",
     "text": [
      "\r",
      " 40%|████      | 295/732 [03:50<05:14,  1.39it/s]"
     ]
    },
    {
     "name": "stdout",
     "output_type": "stream",
     "text": [
      "Cant calculate RUN8095 solvent\n",
      "Cant calculate RUN8096 complex\n"
     ]
    },
    {
     "name": "stderr",
     "output_type": "stream",
     "text": [
      "\r",
      " 40%|████      | 296/732 [03:50<05:07,  1.42it/s]"
     ]
    },
    {
     "name": "stdout",
     "output_type": "stream",
     "text": [
      "Cant calculate RUN8096 solvent\n",
      "Cant calculate RUN8097 complex\n"
     ]
    },
    {
     "name": "stderr",
     "output_type": "stream",
     "text": [
      "\r",
      " 41%|████      | 297/732 [03:51<05:06,  1.42it/s]"
     ]
    },
    {
     "name": "stdout",
     "output_type": "stream",
     "text": [
      "Cant calculate RUN8097 solvent\n",
      "Cant calculate RUN8098 complex\n"
     ]
    },
    {
     "name": "stderr",
     "output_type": "stream",
     "text": [
      "\r",
      " 41%|████      | 298/732 [03:52<05:02,  1.44it/s]"
     ]
    },
    {
     "name": "stdout",
     "output_type": "stream",
     "text": [
      "Cant calculate RUN8098 solvent\n",
      "Cant calculate RUN8099 complex\n"
     ]
    },
    {
     "name": "stderr",
     "output_type": "stream",
     "text": [
      "\r",
      " 41%|████      | 299/732 [03:52<04:59,  1.45it/s]"
     ]
    },
    {
     "name": "stdout",
     "output_type": "stream",
     "text": [
      "Cant calculate RUN8099 solvent\n",
      "Cant calculate RUN8100 complex\n"
     ]
    },
    {
     "name": "stderr",
     "output_type": "stream",
     "text": [
      "\r",
      " 41%|████      | 300/732 [03:53<04:56,  1.46it/s]"
     ]
    },
    {
     "name": "stdout",
     "output_type": "stream",
     "text": [
      "Cant calculate RUN8100 solvent\n",
      "Cant calculate RUN8101 complex\n"
     ]
    },
    {
     "name": "stderr",
     "output_type": "stream",
     "text": [
      "\r",
      " 41%|████      | 301/732 [03:54<04:58,  1.44it/s]"
     ]
    },
    {
     "name": "stdout",
     "output_type": "stream",
     "text": [
      "Cant calculate RUN8101 solvent\n",
      "Cant calculate RUN8102 complex\n"
     ]
    },
    {
     "name": "stderr",
     "output_type": "stream",
     "text": [
      "\r",
      " 41%|████▏     | 302/732 [03:54<04:55,  1.45it/s]"
     ]
    },
    {
     "name": "stdout",
     "output_type": "stream",
     "text": [
      "Cant calculate RUN8102 solvent\n",
      "Cant calculate RUN8103 complex\n"
     ]
    },
    {
     "name": "stderr",
     "output_type": "stream",
     "text": [
      "\r",
      " 41%|████▏     | 303/732 [03:55<04:58,  1.44it/s]"
     ]
    },
    {
     "name": "stdout",
     "output_type": "stream",
     "text": [
      "Cant calculate RUN8103 solvent\n",
      "Cant calculate RUN8104 complex\n"
     ]
    },
    {
     "name": "stderr",
     "output_type": "stream",
     "text": [
      "\r",
      " 42%|████▏     | 304/732 [03:56<04:55,  1.45it/s]"
     ]
    },
    {
     "name": "stdout",
     "output_type": "stream",
     "text": [
      "Cant calculate RUN8104 solvent\n",
      "Cant calculate RUN8105 complex\n"
     ]
    },
    {
     "name": "stderr",
     "output_type": "stream",
     "text": [
      "\r",
      " 42%|████▏     | 305/732 [03:56<04:59,  1.43it/s]"
     ]
    },
    {
     "name": "stdout",
     "output_type": "stream",
     "text": [
      "Cant calculate RUN8105 solvent\n",
      "Cant calculate RUN8106 complex\n"
     ]
    },
    {
     "name": "stderr",
     "output_type": "stream",
     "text": [
      "\r",
      " 42%|████▏     | 306/732 [03:57<04:59,  1.42it/s]"
     ]
    },
    {
     "name": "stdout",
     "output_type": "stream",
     "text": [
      "Cant calculate RUN8106 solvent\n",
      "Cant calculate RUN8107 complex\n"
     ]
    },
    {
     "name": "stderr",
     "output_type": "stream",
     "text": [
      "\r",
      " 42%|████▏     | 307/732 [03:58<05:03,  1.40it/s]"
     ]
    },
    {
     "name": "stdout",
     "output_type": "stream",
     "text": [
      "Cant calculate RUN8107 solvent\n",
      "Cant calculate RUN8108 complex\n"
     ]
    },
    {
     "name": "stderr",
     "output_type": "stream",
     "text": [
      "\r",
      " 42%|████▏     | 308/732 [03:59<05:30,  1.28it/s]"
     ]
    },
    {
     "name": "stdout",
     "output_type": "stream",
     "text": [
      "Cant calculate RUN8108 solvent\n",
      "Cant calculate RUN8109 complex\n"
     ]
    },
    {
     "name": "stderr",
     "output_type": "stream",
     "text": [
      "\r",
      " 42%|████▏     | 309/732 [04:00<06:05,  1.16it/s]"
     ]
    },
    {
     "name": "stdout",
     "output_type": "stream",
     "text": [
      "Cant calculate RUN8109 solvent\n",
      "Cant calculate RUN8110 complex\n"
     ]
    },
    {
     "name": "stderr",
     "output_type": "stream",
     "text": [
      "\r",
      " 42%|████▏     | 310/732 [04:01<06:13,  1.13it/s]"
     ]
    },
    {
     "name": "stdout",
     "output_type": "stream",
     "text": [
      "Cant calculate RUN8110 solvent\n",
      "Cant calculate RUN8111 complex\n"
     ]
    },
    {
     "name": "stderr",
     "output_type": "stream",
     "text": [
      "\r",
      " 42%|████▏     | 311/732 [04:02<06:08,  1.14it/s]"
     ]
    },
    {
     "name": "stdout",
     "output_type": "stream",
     "text": [
      "Cant calculate RUN8111 solvent\n",
      "Cant calculate RUN8112 complex\n"
     ]
    },
    {
     "name": "stderr",
     "output_type": "stream",
     "text": [
      "\r",
      " 43%|████▎     | 312/732 [04:03<06:06,  1.15it/s]"
     ]
    },
    {
     "name": "stdout",
     "output_type": "stream",
     "text": [
      "Cant calculate RUN8112 solvent\n",
      "Cant calculate RUN8113 complex\n"
     ]
    },
    {
     "name": "stderr",
     "output_type": "stream",
     "text": [
      "\r",
      " 43%|████▎     | 313/732 [04:03<06:16,  1.11it/s]"
     ]
    },
    {
     "name": "stdout",
     "output_type": "stream",
     "text": [
      "Cant calculate RUN8113 solvent\n",
      "Cant calculate RUN8114 complex\n"
     ]
    },
    {
     "name": "stderr",
     "output_type": "stream",
     "text": [
      "\r",
      " 43%|████▎     | 314/732 [04:04<06:10,  1.13it/s]"
     ]
    },
    {
     "name": "stdout",
     "output_type": "stream",
     "text": [
      "Cant calculate RUN8114 solvent\n",
      "Cant calculate RUN8115 complex\n"
     ]
    },
    {
     "name": "stderr",
     "output_type": "stream",
     "text": [
      "\r",
      " 43%|████▎     | 315/732 [04:05<06:11,  1.12it/s]"
     ]
    },
    {
     "name": "stdout",
     "output_type": "stream",
     "text": [
      "Cant calculate RUN8115 solvent\n",
      "Cant calculate RUN8116 complex\n"
     ]
    },
    {
     "name": "stderr",
     "output_type": "stream",
     "text": [
      "\r",
      " 43%|████▎     | 316/732 [04:06<06:03,  1.15it/s]"
     ]
    },
    {
     "name": "stdout",
     "output_type": "stream",
     "text": [
      "Cant calculate RUN8116 solvent\n",
      "Cant calculate RUN8117 complex\n"
     ]
    },
    {
     "name": "stderr",
     "output_type": "stream",
     "text": [
      "\r",
      " 43%|████▎     | 317/732 [04:07<05:53,  1.17it/s]"
     ]
    },
    {
     "name": "stdout",
     "output_type": "stream",
     "text": [
      "Cant calculate RUN8117 solvent\n",
      "Cant calculate RUN8118 complex\n"
     ]
    },
    {
     "name": "stderr",
     "output_type": "stream",
     "text": [
      "\r",
      " 43%|████▎     | 318/732 [04:08<05:43,  1.21it/s]"
     ]
    },
    {
     "name": "stdout",
     "output_type": "stream",
     "text": [
      "Cant calculate RUN8118 solvent\n",
      "Cant calculate RUN8119 complex\n"
     ]
    },
    {
     "name": "stderr",
     "output_type": "stream",
     "text": [
      "\r",
      " 44%|████▎     | 319/732 [04:08<05:32,  1.24it/s]"
     ]
    },
    {
     "name": "stdout",
     "output_type": "stream",
     "text": [
      "Cant calculate RUN8119 solvent\n",
      "Cant calculate RUN8120 complex\n"
     ]
    },
    {
     "name": "stderr",
     "output_type": "stream",
     "text": [
      "\r",
      " 44%|████▎     | 320/732 [04:09<05:20,  1.29it/s]"
     ]
    },
    {
     "name": "stdout",
     "output_type": "stream",
     "text": [
      "Cant calculate RUN8120 solvent\n",
      "Cant calculate RUN8121 complex\n"
     ]
    },
    {
     "name": "stderr",
     "output_type": "stream",
     "text": [
      "\r",
      " 44%|████▍     | 321/732 [04:10<05:08,  1.33it/s]"
     ]
    },
    {
     "name": "stdout",
     "output_type": "stream",
     "text": [
      "Cant calculate RUN8121 solvent\n",
      "Cant calculate RUN8122 complex\n"
     ]
    },
    {
     "name": "stderr",
     "output_type": "stream",
     "text": [
      "\r",
      " 44%|████▍     | 322/732 [04:10<04:59,  1.37it/s]"
     ]
    },
    {
     "name": "stdout",
     "output_type": "stream",
     "text": [
      "Cant calculate RUN8122 solvent\n",
      "Cant calculate RUN8123 complex\n"
     ]
    },
    {
     "name": "stderr",
     "output_type": "stream",
     "text": [
      "\r",
      " 44%|████▍     | 323/732 [04:11<04:52,  1.40it/s]"
     ]
    },
    {
     "name": "stdout",
     "output_type": "stream",
     "text": [
      "Cant calculate RUN8123 solvent\n",
      "Cant calculate RUN8124 complex\n"
     ]
    },
    {
     "name": "stderr",
     "output_type": "stream",
     "text": [
      "\r",
      " 44%|████▍     | 324/732 [04:12<04:53,  1.39it/s]"
     ]
    },
    {
     "name": "stdout",
     "output_type": "stream",
     "text": [
      "Cant calculate RUN8124 solvent\n",
      "Cant calculate RUN8125 complex\n"
     ]
    },
    {
     "name": "stderr",
     "output_type": "stream",
     "text": [
      "\r",
      " 44%|████▍     | 325/732 [04:13<04:52,  1.39it/s]"
     ]
    },
    {
     "name": "stdout",
     "output_type": "stream",
     "text": [
      "Cant calculate RUN8125 solvent\n",
      "Cant calculate RUN8126 complex\n"
     ]
    },
    {
     "name": "stderr",
     "output_type": "stream",
     "text": [
      "\r",
      " 45%|████▍     | 326/732 [04:13<04:48,  1.41it/s]"
     ]
    },
    {
     "name": "stdout",
     "output_type": "stream",
     "text": [
      "Cant calculate RUN8126 solvent\n",
      "Cant calculate RUN8127 complex\n"
     ]
    },
    {
     "name": "stderr",
     "output_type": "stream",
     "text": [
      "\r",
      " 45%|████▍     | 327/732 [04:14<04:53,  1.38it/s]"
     ]
    },
    {
     "name": "stdout",
     "output_type": "stream",
     "text": [
      "Cant calculate RUN8127 solvent\n",
      "Cant calculate RUN8128 complex\n"
     ]
    },
    {
     "name": "stderr",
     "output_type": "stream",
     "text": [
      "\r",
      " 45%|████▍     | 328/732 [04:15<04:57,  1.36it/s]"
     ]
    },
    {
     "name": "stdout",
     "output_type": "stream",
     "text": [
      "Cant calculate RUN8128 solvent\n",
      "Cant calculate RUN8129 complex\n"
     ]
    },
    {
     "name": "stderr",
     "output_type": "stream",
     "text": [
      "\r",
      " 45%|████▍     | 329/732 [04:16<04:53,  1.37it/s]"
     ]
    },
    {
     "name": "stdout",
     "output_type": "stream",
     "text": [
      "Cant calculate RUN8129 solvent\n",
      "Cant calculate RUN8130 complex\n"
     ]
    },
    {
     "name": "stderr",
     "output_type": "stream",
     "text": [
      "\r",
      " 45%|████▌     | 330/732 [04:16<04:50,  1.38it/s]"
     ]
    },
    {
     "name": "stdout",
     "output_type": "stream",
     "text": [
      "Cant calculate RUN8130 solvent\n",
      "Cant calculate RUN8131 complex\n"
     ]
    },
    {
     "name": "stderr",
     "output_type": "stream",
     "text": [
      "\r",
      " 45%|████▌     | 331/732 [04:17<04:46,  1.40it/s]"
     ]
    },
    {
     "name": "stdout",
     "output_type": "stream",
     "text": [
      "Cant calculate RUN8131 solvent\n",
      "Cant calculate RUN8132 complex\n"
     ]
    },
    {
     "name": "stderr",
     "output_type": "stream",
     "text": [
      "\r",
      " 45%|████▌     | 332/732 [04:18<04:41,  1.42it/s]"
     ]
    },
    {
     "name": "stdout",
     "output_type": "stream",
     "text": [
      "Cant calculate RUN8132 solvent\n",
      "Cant calculate RUN8133 complex\n"
     ]
    },
    {
     "name": "stderr",
     "output_type": "stream",
     "text": [
      "\r",
      " 45%|████▌     | 333/732 [04:18<04:37,  1.44it/s]"
     ]
    },
    {
     "name": "stdout",
     "output_type": "stream",
     "text": [
      "Cant calculate RUN8133 solvent\n",
      "Cant calculate RUN8134 complex\n"
     ]
    },
    {
     "name": "stderr",
     "output_type": "stream",
     "text": [
      "\r",
      " 46%|████▌     | 334/732 [04:19<04:35,  1.44it/s]"
     ]
    },
    {
     "name": "stdout",
     "output_type": "stream",
     "text": [
      "Cant calculate RUN8134 solvent\n",
      "Cant calculate RUN8135 complex\n"
     ]
    },
    {
     "name": "stderr",
     "output_type": "stream",
     "text": [
      "\r",
      " 46%|████▌     | 335/732 [04:20<04:33,  1.45it/s]"
     ]
    },
    {
     "name": "stdout",
     "output_type": "stream",
     "text": [
      "Cant calculate RUN8135 solvent\n",
      "Cant calculate RUN8136 complex\n"
     ]
    },
    {
     "name": "stderr",
     "output_type": "stream",
     "text": [
      "\r",
      " 46%|████▌     | 336/732 [04:20<04:33,  1.45it/s]"
     ]
    },
    {
     "name": "stdout",
     "output_type": "stream",
     "text": [
      "Cant calculate RUN8136 solvent\n",
      "Cant calculate RUN8137 complex\n"
     ]
    },
    {
     "name": "stderr",
     "output_type": "stream",
     "text": [
      "\r",
      " 46%|████▌     | 337/732 [04:21<04:32,  1.45it/s]"
     ]
    },
    {
     "name": "stdout",
     "output_type": "stream",
     "text": [
      "Cant calculate RUN8137 solvent\n",
      "Cant calculate RUN8138 complex\n"
     ]
    },
    {
     "name": "stderr",
     "output_type": "stream",
     "text": [
      "\r",
      " 46%|████▌     | 338/732 [04:22<04:31,  1.45it/s]"
     ]
    },
    {
     "name": "stdout",
     "output_type": "stream",
     "text": [
      "Cant calculate RUN8138 solvent\n",
      "Cant calculate RUN8139 complex\n"
     ]
    },
    {
     "name": "stderr",
     "output_type": "stream",
     "text": [
      "\r",
      " 46%|████▋     | 339/732 [04:22<04:29,  1.46it/s]"
     ]
    },
    {
     "name": "stdout",
     "output_type": "stream",
     "text": [
      "Cant calculate RUN8139 solvent\n",
      "Cant calculate RUN8140 complex\n"
     ]
    },
    {
     "name": "stderr",
     "output_type": "stream",
     "text": [
      "\r",
      " 46%|████▋     | 340/732 [04:23<04:27,  1.46it/s]"
     ]
    },
    {
     "name": "stdout",
     "output_type": "stream",
     "text": [
      "Cant calculate RUN8140 solvent\n",
      "Cant calculate RUN8141 complex\n"
     ]
    },
    {
     "name": "stderr",
     "output_type": "stream",
     "text": [
      "\r",
      " 47%|████▋     | 341/732 [04:24<04:25,  1.47it/s]"
     ]
    },
    {
     "name": "stdout",
     "output_type": "stream",
     "text": [
      "Cant calculate RUN8141 solvent\n",
      "Cant calculate RUN8142 complex\n"
     ]
    },
    {
     "name": "stderr",
     "output_type": "stream",
     "text": [
      "\r",
      " 47%|████▋     | 342/732 [04:24<04:24,  1.47it/s]"
     ]
    },
    {
     "name": "stdout",
     "output_type": "stream",
     "text": [
      "Cant calculate RUN8142 solvent\n",
      "Cant calculate RUN8143 complex\n"
     ]
    },
    {
     "name": "stderr",
     "output_type": "stream",
     "text": [
      "\r",
      " 47%|████▋     | 343/732 [04:25<04:23,  1.48it/s]"
     ]
    },
    {
     "name": "stdout",
     "output_type": "stream",
     "text": [
      "Cant calculate RUN8143 solvent\n",
      "Cant calculate RUN8144 complex\n"
     ]
    },
    {
     "name": "stderr",
     "output_type": "stream",
     "text": [
      "\r",
      " 47%|████▋     | 344/732 [04:26<04:22,  1.48it/s]"
     ]
    },
    {
     "name": "stdout",
     "output_type": "stream",
     "text": [
      "Cant calculate RUN8144 solvent\n",
      "Cant calculate RUN8145 complex\n"
     ]
    },
    {
     "name": "stderr",
     "output_type": "stream",
     "text": [
      "\r",
      " 47%|████▋     | 345/732 [04:26<04:21,  1.48it/s]"
     ]
    },
    {
     "name": "stdout",
     "output_type": "stream",
     "text": [
      "Cant calculate RUN8145 solvent\n",
      "Cant calculate RUN8146 complex\n"
     ]
    },
    {
     "name": "stderr",
     "output_type": "stream",
     "text": [
      "\r",
      " 47%|████▋     | 346/732 [04:27<04:21,  1.48it/s]"
     ]
    },
    {
     "name": "stdout",
     "output_type": "stream",
     "text": [
      "Cant calculate RUN8146 solvent\n",
      "Cant calculate RUN8147 complex\n"
     ]
    },
    {
     "name": "stderr",
     "output_type": "stream",
     "text": [
      "\r",
      " 47%|████▋     | 347/732 [04:28<04:20,  1.48it/s]"
     ]
    },
    {
     "name": "stdout",
     "output_type": "stream",
     "text": [
      "Cant calculate RUN8147 solvent\n",
      "Cant calculate RUN8148 complex\n"
     ]
    },
    {
     "name": "stderr",
     "output_type": "stream",
     "text": [
      "\r",
      " 48%|████▊     | 348/732 [04:28<04:19,  1.48it/s]"
     ]
    },
    {
     "name": "stdout",
     "output_type": "stream",
     "text": [
      "Cant calculate RUN8148 solvent\n",
      "Cant calculate RUN8149 complex\n"
     ]
    },
    {
     "name": "stderr",
     "output_type": "stream",
     "text": [
      "\r",
      " 48%|████▊     | 349/732 [04:29<04:19,  1.48it/s]"
     ]
    },
    {
     "name": "stdout",
     "output_type": "stream",
     "text": [
      "Cant calculate RUN8149 solvent\n",
      "Cant calculate RUN8150 complex\n"
     ]
    },
    {
     "name": "stderr",
     "output_type": "stream",
     "text": [
      "\r",
      " 48%|████▊     | 350/732 [04:30<04:19,  1.47it/s]"
     ]
    },
    {
     "name": "stdout",
     "output_type": "stream",
     "text": [
      "Cant calculate RUN8150 solvent\n",
      "Cant calculate RUN8151 complex\n"
     ]
    },
    {
     "name": "stderr",
     "output_type": "stream",
     "text": [
      "\r",
      " 48%|████▊     | 351/732 [04:31<04:17,  1.48it/s]"
     ]
    },
    {
     "name": "stdout",
     "output_type": "stream",
     "text": [
      "Cant calculate RUN8151 solvent\n",
      "Cant calculate RUN8152 complex\n"
     ]
    },
    {
     "name": "stderr",
     "output_type": "stream",
     "text": [
      "\r",
      " 48%|████▊     | 352/732 [04:31<04:16,  1.48it/s]"
     ]
    },
    {
     "name": "stdout",
     "output_type": "stream",
     "text": [
      "Cant calculate RUN8152 solvent\n",
      "Cant calculate RUN8153 complex\n"
     ]
    },
    {
     "name": "stderr",
     "output_type": "stream",
     "text": [
      "\r",
      " 48%|████▊     | 353/732 [04:32<04:16,  1.48it/s]"
     ]
    },
    {
     "name": "stdout",
     "output_type": "stream",
     "text": [
      "Cant calculate RUN8153 solvent\n",
      "Cant calculate RUN8154 complex\n"
     ]
    },
    {
     "name": "stderr",
     "output_type": "stream",
     "text": [
      "\r",
      " 48%|████▊     | 354/732 [04:33<04:15,  1.48it/s]"
     ]
    },
    {
     "name": "stdout",
     "output_type": "stream",
     "text": [
      "Cant calculate RUN8154 solvent\n",
      "Cant calculate RUN8155 complex\n"
     ]
    },
    {
     "name": "stderr",
     "output_type": "stream",
     "text": [
      "\r",
      " 48%|████▊     | 355/732 [04:33<04:15,  1.48it/s]"
     ]
    },
    {
     "name": "stdout",
     "output_type": "stream",
     "text": [
      "Cant calculate RUN8155 solvent\n",
      "Cant calculate RUN8156 complex\n"
     ]
    },
    {
     "name": "stderr",
     "output_type": "stream",
     "text": [
      "\r",
      " 49%|████▊     | 356/732 [04:34<04:13,  1.48it/s]"
     ]
    },
    {
     "name": "stdout",
     "output_type": "stream",
     "text": [
      "Cant calculate RUN8156 solvent\n",
      "Cant calculate RUN8157 complex\n"
     ]
    },
    {
     "name": "stderr",
     "output_type": "stream",
     "text": [
      "\r",
      " 49%|████▉     | 357/732 [04:35<04:12,  1.49it/s]"
     ]
    },
    {
     "name": "stdout",
     "output_type": "stream",
     "text": [
      "Cant calculate RUN8157 solvent\n",
      "Cant calculate RUN8158 complex\n"
     ]
    },
    {
     "name": "stderr",
     "output_type": "stream",
     "text": [
      "\r",
      " 49%|████▉     | 358/732 [04:35<04:12,  1.48it/s]"
     ]
    },
    {
     "name": "stdout",
     "output_type": "stream",
     "text": [
      "Cant calculate RUN8158 solvent\n",
      "Cant calculate RUN8159 complex\n"
     ]
    },
    {
     "name": "stderr",
     "output_type": "stream",
     "text": [
      "\r",
      " 49%|████▉     | 359/732 [04:36<04:11,  1.49it/s]"
     ]
    },
    {
     "name": "stdout",
     "output_type": "stream",
     "text": [
      "Cant calculate RUN8159 solvent\n",
      "Cant calculate RUN8160 complex\n"
     ]
    },
    {
     "name": "stderr",
     "output_type": "stream",
     "text": [
      "\r",
      " 49%|████▉     | 360/732 [04:37<04:09,  1.49it/s]"
     ]
    },
    {
     "name": "stdout",
     "output_type": "stream",
     "text": [
      "Cant calculate RUN8160 solvent\n",
      "Cant calculate RUN8161 complex\n"
     ]
    },
    {
     "name": "stderr",
     "output_type": "stream",
     "text": [
      "\r",
      " 49%|████▉     | 361/732 [04:37<04:08,  1.49it/s]"
     ]
    },
    {
     "name": "stdout",
     "output_type": "stream",
     "text": [
      "Cant calculate RUN8161 solvent\n",
      "Cant calculate RUN8162 complex\n"
     ]
    },
    {
     "name": "stderr",
     "output_type": "stream",
     "text": [
      "\r",
      " 49%|████▉     | 362/732 [04:38<04:08,  1.49it/s]"
     ]
    },
    {
     "name": "stdout",
     "output_type": "stream",
     "text": [
      "Cant calculate RUN8162 solvent\n",
      "Cant calculate RUN8163 complex\n"
     ]
    },
    {
     "name": "stderr",
     "output_type": "stream",
     "text": [
      "\r",
      " 50%|████▉     | 363/732 [04:39<04:08,  1.48it/s]"
     ]
    },
    {
     "name": "stdout",
     "output_type": "stream",
     "text": [
      "Cant calculate RUN8163 solvent\n",
      "Cant calculate RUN8164 complex\n"
     ]
    },
    {
     "name": "stderr",
     "output_type": "stream",
     "text": [
      "\r",
      " 50%|████▉     | 364/732 [04:39<04:08,  1.48it/s]"
     ]
    },
    {
     "name": "stdout",
     "output_type": "stream",
     "text": [
      "Cant calculate RUN8164 solvent\n",
      "Cant calculate RUN8165 complex\n"
     ]
    },
    {
     "name": "stderr",
     "output_type": "stream",
     "text": [
      "\r",
      " 50%|████▉     | 365/732 [04:40<04:07,  1.48it/s]"
     ]
    },
    {
     "name": "stdout",
     "output_type": "stream",
     "text": [
      "Cant calculate RUN8165 solvent\n",
      "Cant calculate RUN8166 complex\n"
     ]
    },
    {
     "name": "stderr",
     "output_type": "stream",
     "text": [
      "\r",
      " 50%|█████     | 366/732 [04:41<04:05,  1.49it/s]"
     ]
    },
    {
     "name": "stdout",
     "output_type": "stream",
     "text": [
      "Cant calculate RUN8166 solvent\n",
      "Cant calculate RUN8167 complex\n"
     ]
    },
    {
     "name": "stderr",
     "output_type": "stream",
     "text": [
      "\r",
      " 50%|█████     | 367/732 [04:41<04:05,  1.49it/s]"
     ]
    },
    {
     "name": "stdout",
     "output_type": "stream",
     "text": [
      "Cant calculate RUN8167 solvent\n",
      "Cant calculate RUN8168 complex\n"
     ]
    },
    {
     "name": "stderr",
     "output_type": "stream",
     "text": [
      "\r",
      " 50%|█████     | 368/732 [04:42<04:06,  1.48it/s]"
     ]
    },
    {
     "name": "stdout",
     "output_type": "stream",
     "text": [
      "Cant calculate RUN8168 solvent\n",
      "Cant calculate RUN8169 complex\n"
     ]
    },
    {
     "name": "stderr",
     "output_type": "stream",
     "text": [
      "\r",
      " 50%|█████     | 369/732 [04:43<04:05,  1.48it/s]"
     ]
    },
    {
     "name": "stdout",
     "output_type": "stream",
     "text": [
      "Cant calculate RUN8169 solvent\n",
      "Cant calculate RUN8170 complex\n"
     ]
    },
    {
     "name": "stderr",
     "output_type": "stream",
     "text": [
      "\r",
      " 51%|█████     | 370/732 [04:43<04:05,  1.48it/s]"
     ]
    },
    {
     "name": "stdout",
     "output_type": "stream",
     "text": [
      "Cant calculate RUN8170 solvent\n",
      "Cant calculate RUN8171 complex\n"
     ]
    },
    {
     "name": "stderr",
     "output_type": "stream",
     "text": [
      "\r",
      " 51%|█████     | 371/732 [04:44<04:04,  1.48it/s]"
     ]
    },
    {
     "name": "stdout",
     "output_type": "stream",
     "text": [
      "Cant calculate RUN8171 solvent\n",
      "Cant calculate RUN8172 complex\n"
     ]
    },
    {
     "name": "stderr",
     "output_type": "stream",
     "text": [
      "\r",
      " 51%|█████     | 372/732 [04:45<04:03,  1.48it/s]"
     ]
    },
    {
     "name": "stdout",
     "output_type": "stream",
     "text": [
      "Cant calculate RUN8172 solvent\n",
      "Cant calculate RUN8173 complex\n"
     ]
    },
    {
     "name": "stderr",
     "output_type": "stream",
     "text": [
      "\r",
      " 51%|█████     | 373/732 [04:45<04:02,  1.48it/s]"
     ]
    },
    {
     "name": "stdout",
     "output_type": "stream",
     "text": [
      "Cant calculate RUN8173 solvent\n",
      "Cant calculate RUN8174 complex\n"
     ]
    },
    {
     "name": "stderr",
     "output_type": "stream",
     "text": [
      "\r",
      " 51%|█████     | 374/732 [04:46<04:02,  1.48it/s]"
     ]
    },
    {
     "name": "stdout",
     "output_type": "stream",
     "text": [
      "Cant calculate RUN8174 solvent\n",
      "Cant calculate RUN8175 complex\n"
     ]
    },
    {
     "name": "stderr",
     "output_type": "stream",
     "text": [
      "\r",
      " 51%|█████     | 375/732 [04:47<04:01,  1.48it/s]"
     ]
    },
    {
     "name": "stdout",
     "output_type": "stream",
     "text": [
      "Cant calculate RUN8175 solvent\n",
      "Cant calculate RUN8176 complex\n"
     ]
    },
    {
     "name": "stderr",
     "output_type": "stream",
     "text": [
      "\r",
      " 51%|█████▏    | 376/732 [04:47<04:00,  1.48it/s]"
     ]
    },
    {
     "name": "stdout",
     "output_type": "stream",
     "text": [
      "Cant calculate RUN8176 solvent\n",
      "Cant calculate RUN8177 complex\n"
     ]
    },
    {
     "name": "stderr",
     "output_type": "stream",
     "text": [
      "\r",
      " 52%|█████▏    | 377/732 [04:48<03:59,  1.48it/s]"
     ]
    },
    {
     "name": "stdout",
     "output_type": "stream",
     "text": [
      "Cant calculate RUN8177 solvent\n",
      "Cant calculate RUN8178 complex\n"
     ]
    },
    {
     "name": "stderr",
     "output_type": "stream",
     "text": [
      "\r",
      " 52%|█████▏    | 378/732 [04:49<03:59,  1.48it/s]"
     ]
    },
    {
     "name": "stdout",
     "output_type": "stream",
     "text": [
      "Cant calculate RUN8178 solvent\n",
      "Cant calculate RUN8179 complex\n"
     ]
    },
    {
     "name": "stderr",
     "output_type": "stream",
     "text": [
      "\r",
      " 52%|█████▏    | 379/732 [04:49<03:58,  1.48it/s]"
     ]
    },
    {
     "name": "stdout",
     "output_type": "stream",
     "text": [
      "Cant calculate RUN8179 solvent\n",
      "Cant calculate RUN8180 complex\n"
     ]
    },
    {
     "name": "stderr",
     "output_type": "stream",
     "text": [
      "\r",
      " 52%|█████▏    | 380/732 [04:50<03:58,  1.48it/s]"
     ]
    },
    {
     "name": "stdout",
     "output_type": "stream",
     "text": [
      "Cant calculate RUN8180 solvent\n",
      "Cant calculate RUN8181 complex\n"
     ]
    },
    {
     "name": "stderr",
     "output_type": "stream",
     "text": [
      "\r",
      " 52%|█████▏    | 381/732 [04:51<03:56,  1.49it/s]"
     ]
    },
    {
     "name": "stdout",
     "output_type": "stream",
     "text": [
      "Cant calculate RUN8181 solvent\n",
      "Cant calculate RUN8182 complex\n"
     ]
    },
    {
     "name": "stderr",
     "output_type": "stream",
     "text": [
      "\r",
      " 52%|█████▏    | 382/732 [04:51<03:53,  1.50it/s]"
     ]
    },
    {
     "name": "stdout",
     "output_type": "stream",
     "text": [
      "Cant calculate RUN8182 solvent\n",
      "Cant calculate RUN8183 complex\n"
     ]
    },
    {
     "name": "stderr",
     "output_type": "stream",
     "text": [
      "\r",
      " 52%|█████▏    | 383/732 [04:52<03:51,  1.51it/s]"
     ]
    },
    {
     "name": "stdout",
     "output_type": "stream",
     "text": [
      "Cant calculate RUN8183 solvent\n",
      "Cant calculate RUN8184 complex\n"
     ]
    },
    {
     "name": "stderr",
     "output_type": "stream",
     "text": [
      "\r",
      " 52%|█████▏    | 384/732 [04:53<03:50,  1.51it/s]"
     ]
    },
    {
     "name": "stdout",
     "output_type": "stream",
     "text": [
      "Cant calculate RUN8184 solvent\n",
      "Cant calculate RUN8185 complex\n"
     ]
    },
    {
     "name": "stderr",
     "output_type": "stream",
     "text": [
      "\r",
      " 53%|█████▎    | 385/732 [04:53<03:49,  1.51it/s]"
     ]
    },
    {
     "name": "stdout",
     "output_type": "stream",
     "text": [
      "Cant calculate RUN8185 solvent\n",
      "Cant calculate RUN8186 complex\n"
     ]
    },
    {
     "name": "stderr",
     "output_type": "stream",
     "text": [
      "\r",
      " 53%|█████▎    | 386/732 [04:54<03:47,  1.52it/s]"
     ]
    },
    {
     "name": "stdout",
     "output_type": "stream",
     "text": [
      "Cant calculate RUN8186 solvent\n",
      "Cant calculate RUN8187 complex\n"
     ]
    },
    {
     "name": "stderr",
     "output_type": "stream",
     "text": [
      "\r",
      " 53%|█████▎    | 387/732 [04:55<03:48,  1.51it/s]"
     ]
    },
    {
     "name": "stdout",
     "output_type": "stream",
     "text": [
      "Cant calculate RUN8187 solvent\n",
      "Cant calculate RUN8188 complex\n"
     ]
    },
    {
     "name": "stderr",
     "output_type": "stream",
     "text": [
      "\r",
      " 53%|█████▎    | 388/732 [04:55<03:48,  1.50it/s]"
     ]
    },
    {
     "name": "stdout",
     "output_type": "stream",
     "text": [
      "Cant calculate RUN8188 solvent\n",
      "Cant calculate RUN8189 complex\n"
     ]
    },
    {
     "name": "stderr",
     "output_type": "stream",
     "text": [
      "\r",
      " 53%|█████▎    | 389/732 [04:56<03:49,  1.50it/s]"
     ]
    },
    {
     "name": "stdout",
     "output_type": "stream",
     "text": [
      "Cant calculate RUN8189 solvent\n",
      "Cant calculate RUN8190 complex\n"
     ]
    },
    {
     "name": "stderr",
     "output_type": "stream",
     "text": [
      "\r",
      " 53%|█████▎    | 390/732 [04:57<03:48,  1.49it/s]"
     ]
    },
    {
     "name": "stdout",
     "output_type": "stream",
     "text": [
      "Cant calculate RUN8190 solvent\n",
      "Cant calculate RUN8191 complex\n"
     ]
    },
    {
     "name": "stderr",
     "output_type": "stream",
     "text": [
      "\r",
      " 53%|█████▎    | 391/732 [04:57<03:48,  1.49it/s]"
     ]
    },
    {
     "name": "stdout",
     "output_type": "stream",
     "text": [
      "Cant calculate RUN8191 solvent\n",
      "Cant calculate RUN8192 complex\n"
     ]
    },
    {
     "name": "stderr",
     "output_type": "stream",
     "text": [
      "\r",
      " 54%|█████▎    | 392/732 [04:58<03:47,  1.49it/s]"
     ]
    },
    {
     "name": "stdout",
     "output_type": "stream",
     "text": [
      "Cant calculate RUN8192 solvent\n",
      "Cant calculate RUN8193 complex\n"
     ]
    },
    {
     "name": "stderr",
     "output_type": "stream",
     "text": [
      "\r",
      " 54%|█████▎    | 393/732 [04:59<03:46,  1.49it/s]"
     ]
    },
    {
     "name": "stdout",
     "output_type": "stream",
     "text": [
      "Cant calculate RUN8193 solvent\n",
      "Cant calculate RUN8194 complex\n"
     ]
    },
    {
     "name": "stderr",
     "output_type": "stream",
     "text": [
      "\r",
      " 54%|█████▍    | 394/732 [04:59<03:47,  1.49it/s]"
     ]
    },
    {
     "name": "stdout",
     "output_type": "stream",
     "text": [
      "Cant calculate RUN8194 solvent\n",
      "Cant calculate RUN8195 complex\n"
     ]
    },
    {
     "name": "stderr",
     "output_type": "stream",
     "text": [
      "\r",
      " 54%|█████▍    | 395/732 [05:00<03:46,  1.49it/s]"
     ]
    },
    {
     "name": "stdout",
     "output_type": "stream",
     "text": [
      "Cant calculate RUN8195 solvent\n",
      "Cant calculate RUN8196 complex\n"
     ]
    },
    {
     "name": "stderr",
     "output_type": "stream",
     "text": [
      "\r",
      " 54%|█████▍    | 396/732 [05:01<03:46,  1.49it/s]"
     ]
    },
    {
     "name": "stdout",
     "output_type": "stream",
     "text": [
      "Cant calculate RUN8196 solvent\n",
      "Cant calculate RUN8197 complex\n"
     ]
    },
    {
     "name": "stderr",
     "output_type": "stream",
     "text": [
      "\r",
      " 54%|█████▍    | 397/732 [05:01<03:45,  1.49it/s]"
     ]
    },
    {
     "name": "stdout",
     "output_type": "stream",
     "text": [
      "Cant calculate RUN8197 solvent\n",
      "Cant calculate RUN8198 complex\n"
     ]
    },
    {
     "name": "stderr",
     "output_type": "stream",
     "text": [
      "\r",
      " 54%|█████▍    | 398/732 [05:02<03:45,  1.48it/s]"
     ]
    },
    {
     "name": "stdout",
     "output_type": "stream",
     "text": [
      "Cant calculate RUN8198 solvent\n",
      "Cant calculate RUN8199 complex\n"
     ]
    },
    {
     "name": "stderr",
     "output_type": "stream",
     "text": [
      "\r",
      " 55%|█████▍    | 399/732 [05:03<03:45,  1.48it/s]"
     ]
    },
    {
     "name": "stdout",
     "output_type": "stream",
     "text": [
      "Cant calculate RUN8199 solvent\n",
      "Cant calculate RUN8200 complex\n"
     ]
    },
    {
     "name": "stderr",
     "output_type": "stream",
     "text": [
      "\r",
      " 55%|█████▍    | 400/732 [05:03<03:44,  1.48it/s]"
     ]
    },
    {
     "name": "stdout",
     "output_type": "stream",
     "text": [
      "Cant calculate RUN8200 solvent\n",
      "Cant calculate RUN8201 complex\n"
     ]
    },
    {
     "name": "stderr",
     "output_type": "stream",
     "text": [
      "\r",
      " 55%|█████▍    | 401/732 [05:04<03:43,  1.48it/s]"
     ]
    },
    {
     "name": "stdout",
     "output_type": "stream",
     "text": [
      "Cant calculate RUN8201 solvent\n",
      "Cant calculate RUN8202 complex\n"
     ]
    },
    {
     "name": "stderr",
     "output_type": "stream",
     "text": [
      "\r",
      " 55%|█████▍    | 402/732 [05:05<03:42,  1.48it/s]"
     ]
    },
    {
     "name": "stdout",
     "output_type": "stream",
     "text": [
      "Cant calculate RUN8202 solvent\n",
      "Cant calculate RUN8203 complex\n"
     ]
    },
    {
     "name": "stderr",
     "output_type": "stream",
     "text": [
      "\r",
      " 55%|█████▌    | 403/732 [05:05<03:42,  1.48it/s]"
     ]
    },
    {
     "name": "stdout",
     "output_type": "stream",
     "text": [
      "Cant calculate RUN8203 solvent\n",
      "Cant calculate RUN8204 complex\n"
     ]
    },
    {
     "name": "stderr",
     "output_type": "stream",
     "text": [
      "\r",
      " 55%|█████▌    | 404/732 [05:06<03:41,  1.48it/s]"
     ]
    },
    {
     "name": "stdout",
     "output_type": "stream",
     "text": [
      "Cant calculate RUN8204 solvent\n",
      "Cant calculate RUN8205 complex\n"
     ]
    },
    {
     "name": "stderr",
     "output_type": "stream",
     "text": [
      "\r",
      " 55%|█████▌    | 405/732 [05:07<03:41,  1.47it/s]"
     ]
    },
    {
     "name": "stdout",
     "output_type": "stream",
     "text": [
      "Cant calculate RUN8205 solvent\n",
      "Cant calculate RUN8206 complex\n"
     ]
    },
    {
     "name": "stderr",
     "output_type": "stream",
     "text": [
      "\r",
      " 55%|█████▌    | 406/732 [05:08<03:40,  1.48it/s]"
     ]
    },
    {
     "name": "stdout",
     "output_type": "stream",
     "text": [
      "Cant calculate RUN8206 solvent\n",
      "Cant calculate RUN8207 complex\n"
     ]
    },
    {
     "name": "stderr",
     "output_type": "stream",
     "text": [
      "\r",
      " 56%|█████▌    | 407/732 [05:08<03:39,  1.48it/s]"
     ]
    },
    {
     "name": "stdout",
     "output_type": "stream",
     "text": [
      "Cant calculate RUN8207 solvent\n",
      "Cant calculate RUN8208 complex\n"
     ]
    },
    {
     "name": "stderr",
     "output_type": "stream",
     "text": [
      "\r",
      " 56%|█████▌    | 408/732 [05:09<03:39,  1.48it/s]"
     ]
    },
    {
     "name": "stdout",
     "output_type": "stream",
     "text": [
      "Cant calculate RUN8208 solvent\n",
      "Cant calculate RUN8209 complex\n"
     ]
    },
    {
     "name": "stderr",
     "output_type": "stream",
     "text": [
      "\r",
      " 56%|█████▌    | 409/732 [05:10<03:38,  1.48it/s]"
     ]
    },
    {
     "name": "stdout",
     "output_type": "stream",
     "text": [
      "Cant calculate RUN8209 solvent\n",
      "Cant calculate RUN8210 complex\n"
     ]
    },
    {
     "name": "stderr",
     "output_type": "stream",
     "text": [
      "\r",
      " 56%|█████▌    | 410/732 [05:10<03:38,  1.47it/s]"
     ]
    },
    {
     "name": "stdout",
     "output_type": "stream",
     "text": [
      "Cant calculate RUN8210 solvent\n",
      "Cant calculate RUN8211 complex\n"
     ]
    },
    {
     "name": "stderr",
     "output_type": "stream",
     "text": [
      "\r",
      " 56%|█████▌    | 411/732 [05:11<03:38,  1.47it/s]"
     ]
    },
    {
     "name": "stdout",
     "output_type": "stream",
     "text": [
      "Cant calculate RUN8211 solvent\n",
      "Cant calculate RUN8212 complex\n"
     ]
    },
    {
     "name": "stderr",
     "output_type": "stream",
     "text": [
      "\r",
      " 56%|█████▋    | 412/732 [05:12<03:36,  1.48it/s]"
     ]
    },
    {
     "name": "stdout",
     "output_type": "stream",
     "text": [
      "Cant calculate RUN8212 solvent\n",
      "Cant calculate RUN8213 complex\n"
     ]
    },
    {
     "name": "stderr",
     "output_type": "stream",
     "text": [
      "\r",
      " 56%|█████▋    | 413/732 [05:12<03:35,  1.48it/s]"
     ]
    },
    {
     "name": "stdout",
     "output_type": "stream",
     "text": [
      "Cant calculate RUN8213 solvent\n",
      "Cant calculate RUN8214 complex\n"
     ]
    },
    {
     "name": "stderr",
     "output_type": "stream",
     "text": [
      "\r",
      " 57%|█████▋    | 414/732 [05:13<03:34,  1.48it/s]"
     ]
    },
    {
     "name": "stdout",
     "output_type": "stream",
     "text": [
      "Cant calculate RUN8214 solvent\n",
      "Cant calculate RUN8215 complex\n"
     ]
    },
    {
     "name": "stderr",
     "output_type": "stream",
     "text": [
      "\r",
      " 57%|█████▋    | 415/732 [05:14<03:33,  1.48it/s]"
     ]
    },
    {
     "name": "stdout",
     "output_type": "stream",
     "text": [
      "Cant calculate RUN8215 solvent\n",
      "Cant calculate RUN8216 complex\n"
     ]
    },
    {
     "name": "stderr",
     "output_type": "stream",
     "text": [
      "\r",
      " 57%|█████▋    | 416/732 [05:14<03:32,  1.49it/s]"
     ]
    },
    {
     "name": "stdout",
     "output_type": "stream",
     "text": [
      "Cant calculate RUN8216 solvent\n",
      "Cant calculate RUN8217 complex\n"
     ]
    },
    {
     "name": "stderr",
     "output_type": "stream",
     "text": [
      "\r",
      " 57%|█████▋    | 417/732 [05:15<03:32,  1.48it/s]"
     ]
    },
    {
     "name": "stdout",
     "output_type": "stream",
     "text": [
      "Cant calculate RUN8217 solvent\n",
      "Cant calculate RUN8218 complex\n"
     ]
    },
    {
     "name": "stderr",
     "output_type": "stream",
     "text": [
      "\r",
      " 57%|█████▋    | 418/732 [05:16<03:31,  1.48it/s]"
     ]
    },
    {
     "name": "stdout",
     "output_type": "stream",
     "text": [
      "Cant calculate RUN8218 solvent\n",
      "Cant calculate RUN8219 complex\n"
     ]
    },
    {
     "name": "stderr",
     "output_type": "stream",
     "text": [
      "\r",
      " 57%|█████▋    | 419/732 [05:16<03:31,  1.48it/s]"
     ]
    },
    {
     "name": "stdout",
     "output_type": "stream",
     "text": [
      "Cant calculate RUN8219 solvent\n",
      "Cant calculate RUN8220 complex\n"
     ]
    },
    {
     "name": "stderr",
     "output_type": "stream",
     "text": [
      "\r",
      " 57%|█████▋    | 420/732 [05:17<03:30,  1.48it/s]"
     ]
    },
    {
     "name": "stdout",
     "output_type": "stream",
     "text": [
      "Cant calculate RUN8220 solvent\n",
      "Cant calculate RUN8221 complex\n"
     ]
    },
    {
     "name": "stderr",
     "output_type": "stream",
     "text": [
      "\r",
      " 58%|█████▊    | 421/732 [05:18<03:30,  1.48it/s]"
     ]
    },
    {
     "name": "stdout",
     "output_type": "stream",
     "text": [
      "Cant calculate RUN8221 solvent\n",
      "Cant calculate RUN8222 complex\n"
     ]
    },
    {
     "name": "stderr",
     "output_type": "stream",
     "text": [
      "\r",
      " 58%|█████▊    | 422/732 [05:18<03:29,  1.48it/s]"
     ]
    },
    {
     "name": "stdout",
     "output_type": "stream",
     "text": [
      "Cant calculate RUN8222 solvent\n",
      "Cant calculate RUN8223 complex\n"
     ]
    },
    {
     "name": "stderr",
     "output_type": "stream",
     "text": [
      "\r",
      " 58%|█████▊    | 423/732 [05:19<03:28,  1.48it/s]"
     ]
    },
    {
     "name": "stdout",
     "output_type": "stream",
     "text": [
      "Cant calculate RUN8223 solvent\n",
      "Cant calculate RUN8224 complex\n"
     ]
    },
    {
     "name": "stderr",
     "output_type": "stream",
     "text": [
      "\r",
      " 58%|█████▊    | 424/732 [05:20<03:27,  1.48it/s]"
     ]
    },
    {
     "name": "stdout",
     "output_type": "stream",
     "text": [
      "Cant calculate RUN8224 solvent\n",
      "Cant calculate RUN8225 complex\n"
     ]
    },
    {
     "name": "stderr",
     "output_type": "stream",
     "text": [
      "\r",
      " 58%|█████▊    | 425/732 [05:20<03:27,  1.48it/s]"
     ]
    },
    {
     "name": "stdout",
     "output_type": "stream",
     "text": [
      "Cant calculate RUN8225 solvent\n",
      "Cant calculate RUN8226 complex\n"
     ]
    },
    {
     "name": "stderr",
     "output_type": "stream",
     "text": [
      "\r",
      " 58%|█████▊    | 426/732 [05:21<03:25,  1.49it/s]"
     ]
    },
    {
     "name": "stdout",
     "output_type": "stream",
     "text": [
      "Cant calculate RUN8226 solvent\n",
      "Cant calculate RUN8227 complex\n"
     ]
    },
    {
     "name": "stderr",
     "output_type": "stream",
     "text": [
      "\r",
      " 58%|█████▊    | 427/732 [05:22<03:23,  1.50it/s]"
     ]
    },
    {
     "name": "stdout",
     "output_type": "stream",
     "text": [
      "Cant calculate RUN8227 solvent\n",
      "Cant calculate RUN8228 complex\n"
     ]
    },
    {
     "name": "stderr",
     "output_type": "stream",
     "text": [
      "\r",
      " 58%|█████▊    | 428/732 [05:22<03:20,  1.51it/s]"
     ]
    },
    {
     "name": "stdout",
     "output_type": "stream",
     "text": [
      "Cant calculate RUN8228 solvent\n",
      "Cant calculate RUN8229 complex\n"
     ]
    },
    {
     "name": "stderr",
     "output_type": "stream",
     "text": [
      "\r",
      " 59%|█████▊    | 429/732 [05:23<03:21,  1.50it/s]"
     ]
    },
    {
     "name": "stdout",
     "output_type": "stream",
     "text": [
      "Cant calculate RUN8229 solvent\n",
      "Cant calculate RUN8230 complex\n"
     ]
    },
    {
     "name": "stderr",
     "output_type": "stream",
     "text": [
      "\r",
      " 59%|█████▊    | 430/732 [05:24<03:22,  1.49it/s]"
     ]
    },
    {
     "name": "stdout",
     "output_type": "stream",
     "text": [
      "Cant calculate RUN8230 solvent\n",
      "Cant calculate RUN8231 complex\n"
     ]
    },
    {
     "name": "stderr",
     "output_type": "stream",
     "text": [
      "\r",
      " 59%|█████▉    | 431/732 [05:24<03:22,  1.49it/s]"
     ]
    },
    {
     "name": "stdout",
     "output_type": "stream",
     "text": [
      "Cant calculate RUN8231 solvent\n",
      "Cant calculate RUN8232 complex\n"
     ]
    },
    {
     "name": "stderr",
     "output_type": "stream",
     "text": [
      "\r",
      " 59%|█████▉    | 432/732 [05:25<03:21,  1.49it/s]"
     ]
    },
    {
     "name": "stdout",
     "output_type": "stream",
     "text": [
      "Cant calculate RUN8232 solvent\n",
      "Cant calculate RUN8233 complex\n"
     ]
    },
    {
     "name": "stderr",
     "output_type": "stream",
     "text": [
      "\r",
      " 59%|█████▉    | 433/732 [05:26<03:21,  1.48it/s]"
     ]
    },
    {
     "name": "stdout",
     "output_type": "stream",
     "text": [
      "Cant calculate RUN8233 solvent\n",
      "Cant calculate RUN8234 complex\n"
     ]
    },
    {
     "name": "stderr",
     "output_type": "stream",
     "text": [
      "\r",
      " 59%|█████▉    | 434/732 [05:26<03:21,  1.48it/s]"
     ]
    },
    {
     "name": "stdout",
     "output_type": "stream",
     "text": [
      "Cant calculate RUN8234 solvent\n",
      "Cant calculate RUN8235 complex\n"
     ]
    },
    {
     "name": "stderr",
     "output_type": "stream",
     "text": [
      "\r",
      " 59%|█████▉    | 435/732 [05:27<03:20,  1.48it/s]"
     ]
    },
    {
     "name": "stdout",
     "output_type": "stream",
     "text": [
      "Cant calculate RUN8235 solvent\n",
      "Cant calculate RUN8236 complex\n"
     ]
    },
    {
     "name": "stderr",
     "output_type": "stream",
     "text": [
      "\r",
      " 60%|█████▉    | 436/732 [05:28<03:20,  1.48it/s]"
     ]
    },
    {
     "name": "stdout",
     "output_type": "stream",
     "text": [
      "Cant calculate RUN8236 solvent\n",
      "Cant calculate RUN8237 complex\n"
     ]
    },
    {
     "name": "stderr",
     "output_type": "stream",
     "text": [
      "\r",
      " 60%|█████▉    | 437/732 [05:28<03:19,  1.48it/s]"
     ]
    },
    {
     "name": "stdout",
     "output_type": "stream",
     "text": [
      "Cant calculate RUN8237 solvent\n",
      "Cant calculate RUN8238 complex\n"
     ]
    },
    {
     "name": "stderr",
     "output_type": "stream",
     "text": [
      "\r",
      " 60%|█████▉    | 438/732 [05:29<03:18,  1.48it/s]"
     ]
    },
    {
     "name": "stdout",
     "output_type": "stream",
     "text": [
      "Cant calculate RUN8238 solvent\n",
      "Cant calculate RUN8239 complex\n"
     ]
    },
    {
     "name": "stderr",
     "output_type": "stream",
     "text": [
      "\r",
      " 60%|█████▉    | 439/732 [05:30<03:17,  1.48it/s]"
     ]
    },
    {
     "name": "stdout",
     "output_type": "stream",
     "text": [
      "Cant calculate RUN8239 solvent\n",
      "Cant calculate RUN8240 complex\n"
     ]
    },
    {
     "name": "stderr",
     "output_type": "stream",
     "text": [
      "\r",
      " 60%|██████    | 440/732 [05:30<03:17,  1.48it/s]"
     ]
    },
    {
     "name": "stdout",
     "output_type": "stream",
     "text": [
      "Cant calculate RUN8240 solvent\n",
      "Cant calculate RUN8241 complex\n"
     ]
    },
    {
     "name": "stderr",
     "output_type": "stream",
     "text": [
      "\r",
      " 60%|██████    | 441/732 [05:31<03:16,  1.48it/s]"
     ]
    },
    {
     "name": "stdout",
     "output_type": "stream",
     "text": [
      "Cant calculate RUN8241 solvent\n",
      "Cant calculate RUN8242 complex\n"
     ]
    },
    {
     "name": "stderr",
     "output_type": "stream",
     "text": [
      "\r",
      " 60%|██████    | 442/732 [05:32<03:15,  1.48it/s]"
     ]
    },
    {
     "name": "stdout",
     "output_type": "stream",
     "text": [
      "Cant calculate RUN8242 solvent\n",
      "Cant calculate RUN8243 complex\n"
     ]
    },
    {
     "name": "stderr",
     "output_type": "stream",
     "text": [
      "\r",
      " 61%|██████    | 443/732 [05:32<03:15,  1.48it/s]"
     ]
    },
    {
     "name": "stdout",
     "output_type": "stream",
     "text": [
      "Cant calculate RUN8243 solvent\n",
      "Cant calculate RUN8244 complex\n"
     ]
    },
    {
     "name": "stderr",
     "output_type": "stream",
     "text": [
      "\r",
      " 61%|██████    | 444/732 [05:33<03:14,  1.48it/s]"
     ]
    },
    {
     "name": "stdout",
     "output_type": "stream",
     "text": [
      "Cant calculate RUN8244 solvent\n",
      "Cant calculate RUN8245 complex\n"
     ]
    },
    {
     "name": "stderr",
     "output_type": "stream",
     "text": [
      "\r",
      " 61%|██████    | 445/732 [05:34<03:17,  1.46it/s]"
     ]
    },
    {
     "name": "stdout",
     "output_type": "stream",
     "text": [
      "Cant calculate RUN8245 solvent\n",
      "Cant calculate RUN8246 complex\n"
     ]
    },
    {
     "name": "stderr",
     "output_type": "stream",
     "text": [
      "\r",
      " 61%|██████    | 446/732 [05:35<03:20,  1.43it/s]"
     ]
    },
    {
     "name": "stdout",
     "output_type": "stream",
     "text": [
      "Cant calculate RUN8246 solvent\n",
      "Cant calculate RUN8247 complex\n"
     ]
    },
    {
     "name": "stderr",
     "output_type": "stream",
     "text": [
      "\r",
      " 61%|██████    | 447/732 [05:35<03:16,  1.45it/s]"
     ]
    },
    {
     "name": "stdout",
     "output_type": "stream",
     "text": [
      "Cant calculate RUN8247 solvent\n",
      "Cant calculate RUN8248 complex\n"
     ]
    },
    {
     "name": "stderr",
     "output_type": "stream",
     "text": [
      "\r",
      " 61%|██████    | 448/732 [05:36<03:14,  1.46it/s]"
     ]
    },
    {
     "name": "stdout",
     "output_type": "stream",
     "text": [
      "Cant calculate RUN8248 solvent\n",
      "Cant calculate RUN8249 complex\n"
     ]
    },
    {
     "name": "stderr",
     "output_type": "stream",
     "text": [
      "\r",
      " 61%|██████▏   | 449/732 [05:37<03:12,  1.47it/s]"
     ]
    },
    {
     "name": "stdout",
     "output_type": "stream",
     "text": [
      "Cant calculate RUN8249 solvent\n",
      "Cant calculate RUN8250 complex\n"
     ]
    },
    {
     "name": "stderr",
     "output_type": "stream",
     "text": [
      "\r",
      " 61%|██████▏   | 450/732 [05:37<03:12,  1.47it/s]"
     ]
    },
    {
     "name": "stdout",
     "output_type": "stream",
     "text": [
      "Cant calculate RUN8250 solvent\n",
      "Cant calculate RUN8251 complex\n"
     ]
    },
    {
     "name": "stderr",
     "output_type": "stream",
     "text": [
      "\r",
      " 62%|██████▏   | 451/732 [05:38<03:11,  1.47it/s]"
     ]
    },
    {
     "name": "stdout",
     "output_type": "stream",
     "text": [
      "Cant calculate RUN8251 solvent\n",
      "Cant calculate RUN8252 complex\n"
     ]
    },
    {
     "name": "stderr",
     "output_type": "stream",
     "text": [
      "\r",
      " 62%|██████▏   | 452/732 [05:39<03:09,  1.48it/s]"
     ]
    },
    {
     "name": "stdout",
     "output_type": "stream",
     "text": [
      "Cant calculate RUN8252 solvent\n",
      "Cant calculate RUN8253 complex\n"
     ]
    },
    {
     "name": "stderr",
     "output_type": "stream",
     "text": [
      "\r",
      " 62%|██████▏   | 453/732 [05:39<03:09,  1.48it/s]"
     ]
    },
    {
     "name": "stdout",
     "output_type": "stream",
     "text": [
      "Cant calculate RUN8253 solvent\n",
      "Cant calculate RUN8254 complex\n"
     ]
    },
    {
     "name": "stderr",
     "output_type": "stream",
     "text": [
      "\r",
      " 62%|██████▏   | 454/732 [05:40<03:07,  1.48it/s]"
     ]
    },
    {
     "name": "stdout",
     "output_type": "stream",
     "text": [
      "Cant calculate RUN8254 solvent\n",
      "Cant calculate RUN8255 complex\n"
     ]
    },
    {
     "name": "stderr",
     "output_type": "stream",
     "text": [
      "\r",
      " 62%|██████▏   | 455/732 [05:41<03:06,  1.48it/s]"
     ]
    },
    {
     "name": "stdout",
     "output_type": "stream",
     "text": [
      "Cant calculate RUN8255 solvent\n",
      "Cant calculate RUN8256 complex\n"
     ]
    },
    {
     "name": "stderr",
     "output_type": "stream",
     "text": [
      "\r",
      " 62%|██████▏   | 456/732 [05:41<03:06,  1.48it/s]"
     ]
    },
    {
     "name": "stdout",
     "output_type": "stream",
     "text": [
      "Cant calculate RUN8256 solvent\n",
      "Cant calculate RUN8257 complex\n"
     ]
    },
    {
     "name": "stderr",
     "output_type": "stream",
     "text": [
      "\r",
      " 62%|██████▏   | 457/732 [05:42<03:05,  1.48it/s]"
     ]
    },
    {
     "name": "stdout",
     "output_type": "stream",
     "text": [
      "Cant calculate RUN8257 solvent\n",
      "Cant calculate RUN8258 complex\n"
     ]
    },
    {
     "name": "stderr",
     "output_type": "stream",
     "text": [
      "\r",
      " 63%|██████▎   | 458/732 [05:43<03:04,  1.49it/s]"
     ]
    },
    {
     "name": "stdout",
     "output_type": "stream",
     "text": [
      "Cant calculate RUN8258 solvent\n",
      "Cant calculate RUN8259 complex\n"
     ]
    },
    {
     "name": "stderr",
     "output_type": "stream",
     "text": [
      "\r",
      " 63%|██████▎   | 459/732 [05:43<03:03,  1.49it/s]"
     ]
    },
    {
     "name": "stdout",
     "output_type": "stream",
     "text": [
      "Cant calculate RUN8259 solvent\n",
      "Cant calculate RUN8260 complex\n"
     ]
    },
    {
     "name": "stderr",
     "output_type": "stream",
     "text": [
      "\r",
      " 63%|██████▎   | 460/732 [05:44<03:03,  1.48it/s]"
     ]
    },
    {
     "name": "stdout",
     "output_type": "stream",
     "text": [
      "Cant calculate RUN8260 solvent\n",
      "Cant calculate RUN8261 complex\n"
     ]
    },
    {
     "name": "stderr",
     "output_type": "stream",
     "text": [
      "\r",
      " 63%|██████▎   | 461/732 [05:45<03:02,  1.48it/s]"
     ]
    },
    {
     "name": "stdout",
     "output_type": "stream",
     "text": [
      "Cant calculate RUN8261 solvent\n",
      "Cant calculate RUN8262 complex\n"
     ]
    },
    {
     "name": "stderr",
     "output_type": "stream",
     "text": [
      "\r",
      " 63%|██████▎   | 462/732 [05:45<03:01,  1.49it/s]"
     ]
    },
    {
     "name": "stdout",
     "output_type": "stream",
     "text": [
      "Cant calculate RUN8262 solvent\n",
      "Cant calculate RUN8263 complex\n"
     ]
    },
    {
     "name": "stderr",
     "output_type": "stream",
     "text": [
      "\r",
      " 63%|██████▎   | 463/732 [05:46<03:00,  1.49it/s]"
     ]
    },
    {
     "name": "stdout",
     "output_type": "stream",
     "text": [
      "Cant calculate RUN8263 solvent\n",
      "Cant calculate RUN8264 complex\n"
     ]
    },
    {
     "name": "stderr",
     "output_type": "stream",
     "text": [
      "\r",
      " 63%|██████▎   | 464/732 [05:47<02:58,  1.50it/s]"
     ]
    },
    {
     "name": "stdout",
     "output_type": "stream",
     "text": [
      "Cant calculate RUN8264 solvent\n",
      "Cant calculate RUN8265 complex\n"
     ]
    },
    {
     "name": "stderr",
     "output_type": "stream",
     "text": [
      "\r",
      " 64%|██████▎   | 465/732 [05:47<02:58,  1.50it/s]"
     ]
    },
    {
     "name": "stdout",
     "output_type": "stream",
     "text": [
      "Cant calculate RUN8265 solvent\n",
      "Cant calculate RUN8266 complex\n"
     ]
    },
    {
     "name": "stderr",
     "output_type": "stream",
     "text": [
      "\r",
      " 64%|██████▎   | 466/732 [05:48<02:58,  1.49it/s]"
     ]
    },
    {
     "name": "stdout",
     "output_type": "stream",
     "text": [
      "Cant calculate RUN8266 solvent\n",
      "Cant calculate RUN8267 complex\n"
     ]
    },
    {
     "name": "stderr",
     "output_type": "stream",
     "text": [
      "\r",
      " 64%|██████▍   | 467/732 [05:49<02:58,  1.49it/s]"
     ]
    },
    {
     "name": "stdout",
     "output_type": "stream",
     "text": [
      "Cant calculate RUN8267 solvent\n",
      "Cant calculate RUN8268 complex\n"
     ]
    },
    {
     "name": "stderr",
     "output_type": "stream",
     "text": [
      "\r",
      " 64%|██████▍   | 468/732 [05:49<02:57,  1.49it/s]"
     ]
    },
    {
     "name": "stdout",
     "output_type": "stream",
     "text": [
      "Cant calculate RUN8268 solvent\n",
      "Cant calculate RUN8269 complex\n"
     ]
    },
    {
     "name": "stderr",
     "output_type": "stream",
     "text": [
      "\r",
      " 64%|██████▍   | 469/732 [05:50<02:56,  1.49it/s]"
     ]
    },
    {
     "name": "stdout",
     "output_type": "stream",
     "text": [
      "Cant calculate RUN8269 solvent\n",
      "Cant calculate RUN8270 complex\n"
     ]
    },
    {
     "name": "stderr",
     "output_type": "stream",
     "text": [
      "\r",
      " 64%|██████▍   | 470/732 [05:51<02:54,  1.50it/s]"
     ]
    },
    {
     "name": "stdout",
     "output_type": "stream",
     "text": [
      "Cant calculate RUN8270 solvent\n",
      "Cant calculate RUN8271 complex\n"
     ]
    },
    {
     "name": "stderr",
     "output_type": "stream",
     "text": [
      "\r",
      " 64%|██████▍   | 471/732 [05:51<02:54,  1.50it/s]"
     ]
    },
    {
     "name": "stdout",
     "output_type": "stream",
     "text": [
      "Cant calculate RUN8271 solvent\n",
      "Cant calculate RUN8272 complex\n"
     ]
    },
    {
     "name": "stderr",
     "output_type": "stream",
     "text": [
      "\r",
      " 64%|██████▍   | 472/732 [05:52<02:54,  1.49it/s]"
     ]
    },
    {
     "name": "stdout",
     "output_type": "stream",
     "text": [
      "Cant calculate RUN8272 solvent\n",
      "Cant calculate RUN8273 complex\n"
     ]
    },
    {
     "name": "stderr",
     "output_type": "stream",
     "text": [
      "\r",
      " 65%|██████▍   | 473/732 [05:53<02:54,  1.49it/s]"
     ]
    },
    {
     "name": "stdout",
     "output_type": "stream",
     "text": [
      "Cant calculate RUN8273 solvent\n",
      "Cant calculate RUN8274 complex\n"
     ]
    },
    {
     "name": "stderr",
     "output_type": "stream",
     "text": [
      "\r",
      " 65%|██████▍   | 474/732 [05:53<02:53,  1.49it/s]"
     ]
    },
    {
     "name": "stdout",
     "output_type": "stream",
     "text": [
      "Cant calculate RUN8274 solvent\n",
      "Cant calculate RUN8275 complex\n"
     ]
    },
    {
     "name": "stderr",
     "output_type": "stream",
     "text": [
      "\r",
      " 65%|██████▍   | 475/732 [05:54<02:52,  1.49it/s]"
     ]
    },
    {
     "name": "stdout",
     "output_type": "stream",
     "text": [
      "Cant calculate RUN8275 solvent\n",
      "Cant calculate RUN8276 complex\n"
     ]
    },
    {
     "name": "stderr",
     "output_type": "stream",
     "text": [
      "\r",
      " 65%|██████▌   | 476/732 [05:55<02:52,  1.48it/s]"
     ]
    },
    {
     "name": "stdout",
     "output_type": "stream",
     "text": [
      "Cant calculate RUN8276 solvent\n",
      "Cant calculate RUN8277 complex\n"
     ]
    },
    {
     "name": "stderr",
     "output_type": "stream",
     "text": [
      "\r",
      " 65%|██████▌   | 477/732 [05:55<02:51,  1.48it/s]"
     ]
    },
    {
     "name": "stdout",
     "output_type": "stream",
     "text": [
      "Cant calculate RUN8277 solvent\n",
      "Cant calculate RUN8278 complex\n"
     ]
    },
    {
     "name": "stderr",
     "output_type": "stream",
     "text": [
      "\r",
      " 65%|██████▌   | 478/732 [05:56<02:51,  1.48it/s]"
     ]
    },
    {
     "name": "stdout",
     "output_type": "stream",
     "text": [
      "Cant calculate RUN8278 solvent\n",
      "Cant calculate RUN8279 complex\n"
     ]
    },
    {
     "name": "stderr",
     "output_type": "stream",
     "text": [
      "\r",
      " 65%|██████▌   | 479/732 [05:57<02:51,  1.47it/s]"
     ]
    },
    {
     "name": "stdout",
     "output_type": "stream",
     "text": [
      "Cant calculate RUN8279 solvent\n",
      "Cant calculate RUN8280 complex\n"
     ]
    },
    {
     "name": "stderr",
     "output_type": "stream",
     "text": [
      "\r",
      " 66%|██████▌   | 480/732 [05:57<02:51,  1.47it/s]"
     ]
    },
    {
     "name": "stdout",
     "output_type": "stream",
     "text": [
      "Cant calculate RUN8280 solvent\n",
      "Cant calculate RUN8281 complex\n"
     ]
    },
    {
     "name": "stderr",
     "output_type": "stream",
     "text": [
      "\r",
      " 66%|██████▌   | 481/732 [05:58<02:49,  1.48it/s]"
     ]
    },
    {
     "name": "stdout",
     "output_type": "stream",
     "text": [
      "Cant calculate RUN8281 solvent\n",
      "Cant calculate RUN8282 complex\n"
     ]
    },
    {
     "name": "stderr",
     "output_type": "stream",
     "text": [
      "\r",
      " 66%|██████▌   | 482/732 [05:59<02:47,  1.49it/s]"
     ]
    },
    {
     "name": "stdout",
     "output_type": "stream",
     "text": [
      "Cant calculate RUN8282 solvent\n",
      "Cant calculate RUN8283 complex\n"
     ]
    },
    {
     "name": "stderr",
     "output_type": "stream",
     "text": [
      "\r",
      " 66%|██████▌   | 483/732 [05:59<02:46,  1.49it/s]"
     ]
    },
    {
     "name": "stdout",
     "output_type": "stream",
     "text": [
      "Cant calculate RUN8283 solvent\n",
      "Cant calculate RUN8284 complex\n"
     ]
    },
    {
     "name": "stderr",
     "output_type": "stream",
     "text": [
      "\r",
      " 66%|██████▌   | 484/732 [06:00<02:45,  1.49it/s]"
     ]
    },
    {
     "name": "stdout",
     "output_type": "stream",
     "text": [
      "Cant calculate RUN8284 solvent\n",
      "Cant calculate RUN8285 complex\n"
     ]
    },
    {
     "name": "stderr",
     "output_type": "stream",
     "text": [
      "\r",
      " 66%|██████▋   | 485/732 [06:01<02:45,  1.49it/s]"
     ]
    },
    {
     "name": "stdout",
     "output_type": "stream",
     "text": [
      "Cant calculate RUN8285 solvent\n",
      "Cant calculate RUN8286 complex\n"
     ]
    },
    {
     "name": "stderr",
     "output_type": "stream",
     "text": [
      "\r",
      " 66%|██████▋   | 486/732 [06:01<02:45,  1.49it/s]"
     ]
    },
    {
     "name": "stdout",
     "output_type": "stream",
     "text": [
      "Cant calculate RUN8286 solvent\n",
      "Cant calculate RUN8287 complex\n"
     ]
    },
    {
     "name": "stderr",
     "output_type": "stream",
     "text": [
      "\r",
      " 67%|██████▋   | 487/732 [06:02<02:44,  1.49it/s]"
     ]
    },
    {
     "name": "stdout",
     "output_type": "stream",
     "text": [
      "Cant calculate RUN8287 solvent\n",
      "Cant calculate RUN8288 complex\n"
     ]
    },
    {
     "name": "stderr",
     "output_type": "stream",
     "text": [
      "\r",
      " 67%|██████▋   | 488/732 [06:03<02:44,  1.48it/s]"
     ]
    },
    {
     "name": "stdout",
     "output_type": "stream",
     "text": [
      "Cant calculate RUN8288 solvent\n",
      "Cant calculate RUN8289 complex\n"
     ]
    },
    {
     "name": "stderr",
     "output_type": "stream",
     "text": [
      "\r",
      " 67%|██████▋   | 489/732 [06:03<02:43,  1.48it/s]"
     ]
    },
    {
     "name": "stdout",
     "output_type": "stream",
     "text": [
      "Cant calculate RUN8289 solvent\n",
      "Cant calculate RUN8290 complex\n"
     ]
    },
    {
     "name": "stderr",
     "output_type": "stream",
     "text": [
      "\r",
      " 67%|██████▋   | 490/732 [06:04<02:43,  1.48it/s]"
     ]
    },
    {
     "name": "stdout",
     "output_type": "stream",
     "text": [
      "Cant calculate RUN8290 solvent\n",
      "Cant calculate RUN8291 complex\n"
     ]
    },
    {
     "name": "stderr",
     "output_type": "stream",
     "text": [
      "\r",
      " 67%|██████▋   | 491/732 [06:05<02:43,  1.47it/s]"
     ]
    },
    {
     "name": "stdout",
     "output_type": "stream",
     "text": [
      "Cant calculate RUN8291 solvent\n",
      "Cant calculate RUN8292 complex\n"
     ]
    },
    {
     "name": "stderr",
     "output_type": "stream",
     "text": [
      "\r",
      " 67%|██████▋   | 492/732 [06:06<02:42,  1.47it/s]"
     ]
    },
    {
     "name": "stdout",
     "output_type": "stream",
     "text": [
      "Cant calculate RUN8292 solvent\n",
      "Cant calculate RUN8293 complex\n"
     ]
    },
    {
     "name": "stderr",
     "output_type": "stream",
     "text": [
      "\r",
      " 67%|██████▋   | 493/732 [06:06<02:41,  1.48it/s]"
     ]
    },
    {
     "name": "stdout",
     "output_type": "stream",
     "text": [
      "Cant calculate RUN8293 solvent\n",
      "Cant calculate RUN8294 complex\n"
     ]
    },
    {
     "name": "stderr",
     "output_type": "stream",
     "text": [
      "\r",
      " 67%|██████▋   | 494/732 [06:07<02:40,  1.48it/s]"
     ]
    },
    {
     "name": "stdout",
     "output_type": "stream",
     "text": [
      "Cant calculate RUN8294 solvent\n",
      "Cant calculate RUN8295 complex\n"
     ]
    },
    {
     "name": "stderr",
     "output_type": "stream",
     "text": [
      "\r",
      " 68%|██████▊   | 495/732 [06:08<02:38,  1.49it/s]"
     ]
    },
    {
     "name": "stdout",
     "output_type": "stream",
     "text": [
      "Cant calculate RUN8295 solvent\n",
      "Cant calculate RUN8296 complex\n"
     ]
    },
    {
     "name": "stderr",
     "output_type": "stream",
     "text": [
      "\r",
      " 68%|██████▊   | 496/732 [06:08<02:37,  1.49it/s]"
     ]
    },
    {
     "name": "stdout",
     "output_type": "stream",
     "text": [
      "Cant calculate RUN8296 solvent\n",
      "Cant calculate RUN8297 complex\n"
     ]
    },
    {
     "name": "stderr",
     "output_type": "stream",
     "text": [
      "\r",
      " 68%|██████▊   | 497/732 [06:09<02:37,  1.49it/s]"
     ]
    },
    {
     "name": "stdout",
     "output_type": "stream",
     "text": [
      "Cant calculate RUN8297 solvent\n",
      "Cant calculate RUN8298 complex\n"
     ]
    },
    {
     "name": "stderr",
     "output_type": "stream",
     "text": [
      "\r",
      " 68%|██████▊   | 498/732 [06:10<02:36,  1.50it/s]"
     ]
    },
    {
     "name": "stdout",
     "output_type": "stream",
     "text": [
      "Cant calculate RUN8298 solvent\n",
      "Cant calculate RUN8299 complex\n"
     ]
    },
    {
     "name": "stderr",
     "output_type": "stream",
     "text": [
      "\r",
      " 68%|██████▊   | 499/732 [06:10<02:35,  1.50it/s]"
     ]
    },
    {
     "name": "stdout",
     "output_type": "stream",
     "text": [
      "Cant calculate RUN8299 solvent\n",
      "Cant calculate RUN8300 complex\n"
     ]
    },
    {
     "name": "stderr",
     "output_type": "stream",
     "text": [
      "\r",
      " 68%|██████▊   | 500/732 [06:11<02:35,  1.49it/s]"
     ]
    },
    {
     "name": "stdout",
     "output_type": "stream",
     "text": [
      "Cant calculate RUN8300 solvent\n",
      "Cant calculate RUN8301 complex\n"
     ]
    },
    {
     "name": "stderr",
     "output_type": "stream",
     "text": [
      "\r",
      " 68%|██████▊   | 501/732 [06:12<02:34,  1.49it/s]"
     ]
    },
    {
     "name": "stdout",
     "output_type": "stream",
     "text": [
      "Cant calculate RUN8301 solvent\n",
      "Cant calculate RUN8302 complex\n"
     ]
    },
    {
     "name": "stderr",
     "output_type": "stream",
     "text": [
      "\r",
      " 69%|██████▊   | 502/732 [06:12<02:34,  1.49it/s]"
     ]
    },
    {
     "name": "stdout",
     "output_type": "stream",
     "text": [
      "Cant calculate RUN8302 solvent\n",
      "Cant calculate RUN8303 complex\n"
     ]
    },
    {
     "name": "stderr",
     "output_type": "stream",
     "text": [
      "\r",
      " 69%|██████▊   | 503/732 [06:13<02:34,  1.48it/s]"
     ]
    },
    {
     "name": "stdout",
     "output_type": "stream",
     "text": [
      "Cant calculate RUN8303 solvent\n",
      "Cant calculate RUN8304 complex\n"
     ]
    },
    {
     "name": "stderr",
     "output_type": "stream",
     "text": [
      "\r",
      " 69%|██████▉   | 504/732 [06:14<02:33,  1.49it/s]"
     ]
    },
    {
     "name": "stdout",
     "output_type": "stream",
     "text": [
      "Cant calculate RUN8304 solvent\n",
      "Cant calculate RUN8305 complex\n"
     ]
    },
    {
     "name": "stderr",
     "output_type": "stream",
     "text": [
      "\r",
      " 69%|██████▉   | 505/732 [06:14<02:32,  1.49it/s]"
     ]
    },
    {
     "name": "stdout",
     "output_type": "stream",
     "text": [
      "Cant calculate RUN8305 solvent\n",
      "Cant calculate RUN8306 complex\n"
     ]
    },
    {
     "name": "stderr",
     "output_type": "stream",
     "text": [
      "\r",
      " 69%|██████▉   | 506/732 [06:15<02:32,  1.48it/s]"
     ]
    },
    {
     "name": "stdout",
     "output_type": "stream",
     "text": [
      "Cant calculate RUN8306 solvent\n",
      "Cant calculate RUN8307 complex\n"
     ]
    },
    {
     "name": "stderr",
     "output_type": "stream",
     "text": [
      "\r",
      " 69%|██████▉   | 507/732 [06:16<02:31,  1.48it/s]"
     ]
    },
    {
     "name": "stdout",
     "output_type": "stream",
     "text": [
      "Cant calculate RUN8307 solvent\n",
      "Cant calculate RUN8308 complex\n"
     ]
    },
    {
     "name": "stderr",
     "output_type": "stream",
     "text": [
      "\r",
      " 69%|██████▉   | 508/732 [06:16<02:31,  1.48it/s]"
     ]
    },
    {
     "name": "stdout",
     "output_type": "stream",
     "text": [
      "Cant calculate RUN8308 solvent\n",
      "Cant calculate RUN8309 complex\n"
     ]
    },
    {
     "name": "stderr",
     "output_type": "stream",
     "text": [
      "\r",
      " 70%|██████▉   | 509/732 [06:17<02:30,  1.48it/s]"
     ]
    },
    {
     "name": "stdout",
     "output_type": "stream",
     "text": [
      "Cant calculate RUN8309 solvent\n",
      "Cant calculate RUN8310 complex\n"
     ]
    },
    {
     "name": "stderr",
     "output_type": "stream",
     "text": [
      "\r",
      " 70%|██████▉   | 510/732 [06:18<02:29,  1.48it/s]"
     ]
    },
    {
     "name": "stdout",
     "output_type": "stream",
     "text": [
      "Cant calculate RUN8310 solvent\n",
      "Cant calculate RUN8311 complex\n"
     ]
    },
    {
     "name": "stderr",
     "output_type": "stream",
     "text": [
      "\r",
      " 70%|██████▉   | 511/732 [06:18<02:28,  1.49it/s]"
     ]
    },
    {
     "name": "stdout",
     "output_type": "stream",
     "text": [
      "Cant calculate RUN8311 solvent\n",
      "Cant calculate RUN8312 complex\n"
     ]
    },
    {
     "name": "stderr",
     "output_type": "stream",
     "text": [
      "\r",
      " 70%|██████▉   | 512/732 [06:19<02:28,  1.49it/s]"
     ]
    },
    {
     "name": "stdout",
     "output_type": "stream",
     "text": [
      "Cant calculate RUN8312 solvent\n",
      "Cant calculate RUN8313 complex\n"
     ]
    },
    {
     "name": "stderr",
     "output_type": "stream",
     "text": [
      "\r",
      " 70%|███████   | 513/732 [06:20<02:27,  1.48it/s]"
     ]
    },
    {
     "name": "stdout",
     "output_type": "stream",
     "text": [
      "Cant calculate RUN8313 solvent\n",
      "Cant calculate RUN8314 complex\n"
     ]
    },
    {
     "name": "stderr",
     "output_type": "stream",
     "text": [
      "\r",
      " 70%|███████   | 514/732 [06:20<02:27,  1.48it/s]"
     ]
    },
    {
     "name": "stdout",
     "output_type": "stream",
     "text": [
      "Cant calculate RUN8314 solvent\n",
      "Cant calculate RUN8315 complex\n"
     ]
    },
    {
     "name": "stderr",
     "output_type": "stream",
     "text": [
      "\r",
      " 70%|███████   | 515/732 [06:21<02:27,  1.47it/s]"
     ]
    },
    {
     "name": "stdout",
     "output_type": "stream",
     "text": [
      "Cant calculate RUN8315 solvent\n",
      "Cant calculate RUN8316 complex\n"
     ]
    },
    {
     "name": "stderr",
     "output_type": "stream",
     "text": [
      "\r",
      " 70%|███████   | 516/732 [06:22<02:26,  1.48it/s]"
     ]
    },
    {
     "name": "stdout",
     "output_type": "stream",
     "text": [
      "Cant calculate RUN8316 solvent\n",
      "Cant calculate RUN8317 complex\n"
     ]
    },
    {
     "name": "stderr",
     "output_type": "stream",
     "text": [
      "\r",
      " 71%|███████   | 517/732 [06:22<02:25,  1.48it/s]"
     ]
    },
    {
     "name": "stdout",
     "output_type": "stream",
     "text": [
      "Cant calculate RUN8317 solvent\n",
      "Cant calculate RUN8318 complex\n"
     ]
    },
    {
     "name": "stderr",
     "output_type": "stream",
     "text": [
      "\r",
      " 71%|███████   | 518/732 [06:23<02:24,  1.48it/s]"
     ]
    },
    {
     "name": "stdout",
     "output_type": "stream",
     "text": [
      "Cant calculate RUN8318 solvent\n",
      "Cant calculate RUN8319 complex\n"
     ]
    },
    {
     "name": "stderr",
     "output_type": "stream",
     "text": [
      "\r",
      " 71%|███████   | 519/732 [06:24<02:24,  1.48it/s]"
     ]
    },
    {
     "name": "stdout",
     "output_type": "stream",
     "text": [
      "Cant calculate RUN8319 solvent\n",
      "Cant calculate RUN8320 complex\n"
     ]
    },
    {
     "name": "stderr",
     "output_type": "stream",
     "text": [
      "\r",
      " 71%|███████   | 520/732 [06:24<02:23,  1.48it/s]"
     ]
    },
    {
     "name": "stdout",
     "output_type": "stream",
     "text": [
      "Cant calculate RUN8320 solvent\n",
      "Cant calculate RUN8321 complex\n"
     ]
    },
    {
     "name": "stderr",
     "output_type": "stream",
     "text": [
      "\r",
      " 71%|███████   | 521/732 [06:25<02:22,  1.48it/s]"
     ]
    },
    {
     "name": "stdout",
     "output_type": "stream",
     "text": [
      "Cant calculate RUN8321 solvent\n",
      "Cant calculate RUN8322 complex\n"
     ]
    },
    {
     "name": "stderr",
     "output_type": "stream",
     "text": [
      "\r",
      " 71%|███████▏  | 522/732 [06:26<02:21,  1.48it/s]"
     ]
    },
    {
     "name": "stdout",
     "output_type": "stream",
     "text": [
      "Cant calculate RUN8322 solvent\n",
      "Cant calculate RUN8323 complex\n"
     ]
    },
    {
     "name": "stderr",
     "output_type": "stream",
     "text": [
      "\r",
      " 71%|███████▏  | 523/732 [06:26<02:20,  1.48it/s]"
     ]
    },
    {
     "name": "stdout",
     "output_type": "stream",
     "text": [
      "Cant calculate RUN8323 solvent\n",
      "Cant calculate RUN8324 complex\n"
     ]
    },
    {
     "name": "stderr",
     "output_type": "stream",
     "text": [
      "\r",
      " 72%|███████▏  | 524/732 [06:27<02:19,  1.49it/s]"
     ]
    },
    {
     "name": "stdout",
     "output_type": "stream",
     "text": [
      "Cant calculate RUN8324 solvent\n",
      "Cant calculate RUN8325 complex\n"
     ]
    },
    {
     "name": "stderr",
     "output_type": "stream",
     "text": [
      "\r",
      " 72%|███████▏  | 525/732 [06:28<02:19,  1.49it/s]"
     ]
    },
    {
     "name": "stdout",
     "output_type": "stream",
     "text": [
      "Cant calculate RUN8325 solvent\n",
      "Cant calculate RUN8326 complex\n"
     ]
    },
    {
     "name": "stderr",
     "output_type": "stream",
     "text": [
      "\r",
      " 72%|███████▏  | 526/732 [06:28<02:18,  1.49it/s]"
     ]
    },
    {
     "name": "stdout",
     "output_type": "stream",
     "text": [
      "Cant calculate RUN8326 solvent\n",
      "Cant calculate RUN8327 complex\n"
     ]
    },
    {
     "name": "stderr",
     "output_type": "stream",
     "text": [
      "\r",
      " 72%|███████▏  | 527/732 [06:29<02:17,  1.49it/s]"
     ]
    },
    {
     "name": "stdout",
     "output_type": "stream",
     "text": [
      "Cant calculate RUN8327 solvent\n",
      "Cant calculate RUN8328 complex\n"
     ]
    },
    {
     "name": "stderr",
     "output_type": "stream",
     "text": [
      "\r",
      " 72%|███████▏  | 528/732 [06:30<02:17,  1.48it/s]"
     ]
    },
    {
     "name": "stdout",
     "output_type": "stream",
     "text": [
      "Cant calculate RUN8328 solvent\n",
      "Cant calculate RUN8329 complex\n"
     ]
    },
    {
     "name": "stderr",
     "output_type": "stream",
     "text": [
      "\r",
      " 72%|███████▏  | 529/732 [06:30<02:18,  1.47it/s]"
     ]
    },
    {
     "name": "stdout",
     "output_type": "stream",
     "text": [
      "Cant calculate RUN8329 solvent\n",
      "Cant calculate RUN8330 complex\n"
     ]
    },
    {
     "name": "stderr",
     "output_type": "stream",
     "text": [
      "\r",
      " 72%|███████▏  | 530/732 [06:31<02:17,  1.47it/s]"
     ]
    },
    {
     "name": "stdout",
     "output_type": "stream",
     "text": [
      "Cant calculate RUN8330 solvent\n",
      "Cant calculate RUN8331 complex\n"
     ]
    },
    {
     "name": "stderr",
     "output_type": "stream",
     "text": [
      "\r",
      " 73%|███████▎  | 531/732 [06:32<02:16,  1.48it/s]"
     ]
    },
    {
     "name": "stdout",
     "output_type": "stream",
     "text": [
      "Cant calculate RUN8331 solvent\n",
      "Cant calculate RUN8332 complex\n"
     ]
    },
    {
     "name": "stderr",
     "output_type": "stream",
     "text": [
      "\r",
      " 73%|███████▎  | 532/732 [06:32<02:15,  1.48it/s]"
     ]
    },
    {
     "name": "stdout",
     "output_type": "stream",
     "text": [
      "Cant calculate RUN8332 solvent\n",
      "Cant calculate RUN8333 complex\n"
     ]
    },
    {
     "name": "stderr",
     "output_type": "stream",
     "text": [
      "\r",
      " 73%|███████▎  | 533/732 [06:33<02:13,  1.49it/s]"
     ]
    },
    {
     "name": "stdout",
     "output_type": "stream",
     "text": [
      "Cant calculate RUN8333 solvent\n",
      "Cant calculate RUN8334 complex\n"
     ]
    },
    {
     "name": "stderr",
     "output_type": "stream",
     "text": [
      "\r",
      " 73%|███████▎  | 534/732 [06:34<02:13,  1.49it/s]"
     ]
    },
    {
     "name": "stdout",
     "output_type": "stream",
     "text": [
      "Cant calculate RUN8334 solvent\n",
      "Cant calculate RUN8335 complex\n"
     ]
    },
    {
     "name": "stderr",
     "output_type": "stream",
     "text": [
      "\r",
      " 73%|███████▎  | 535/732 [06:35<02:12,  1.49it/s]"
     ]
    },
    {
     "name": "stdout",
     "output_type": "stream",
     "text": [
      "Cant calculate RUN8335 solvent\n",
      "Cant calculate RUN8336 complex\n"
     ]
    },
    {
     "name": "stderr",
     "output_type": "stream",
     "text": [
      "\r",
      " 73%|███████▎  | 536/732 [06:35<02:11,  1.49it/s]"
     ]
    },
    {
     "name": "stdout",
     "output_type": "stream",
     "text": [
      "Cant calculate RUN8336 solvent\n",
      "Cant calculate RUN8337 complex\n"
     ]
    },
    {
     "name": "stderr",
     "output_type": "stream",
     "text": [
      "\r",
      " 73%|███████▎  | 537/732 [06:36<02:10,  1.49it/s]"
     ]
    },
    {
     "name": "stdout",
     "output_type": "stream",
     "text": [
      "Cant calculate RUN8337 solvent\n",
      "Cant calculate RUN8338 complex\n"
     ]
    },
    {
     "name": "stderr",
     "output_type": "stream",
     "text": [
      "\r",
      " 73%|███████▎  | 538/732 [06:37<02:10,  1.49it/s]"
     ]
    },
    {
     "name": "stdout",
     "output_type": "stream",
     "text": [
      "Cant calculate RUN8338 solvent\n",
      "Cant calculate RUN8339 complex\n"
     ]
    },
    {
     "name": "stderr",
     "output_type": "stream",
     "text": [
      "\r",
      " 74%|███████▎  | 539/732 [06:37<02:09,  1.49it/s]"
     ]
    },
    {
     "name": "stdout",
     "output_type": "stream",
     "text": [
      "Cant calculate RUN8339 solvent\n",
      "Cant calculate RUN8340 complex\n"
     ]
    },
    {
     "name": "stderr",
     "output_type": "stream",
     "text": [
      "\r",
      " 74%|███████▍  | 540/732 [06:38<02:08,  1.49it/s]"
     ]
    },
    {
     "name": "stdout",
     "output_type": "stream",
     "text": [
      "Cant calculate RUN8340 solvent\n",
      "Cant calculate RUN8341 complex\n"
     ]
    },
    {
     "name": "stderr",
     "output_type": "stream",
     "text": [
      "\r",
      " 74%|███████▍  | 541/732 [06:39<02:08,  1.49it/s]"
     ]
    },
    {
     "name": "stdout",
     "output_type": "stream",
     "text": [
      "Cant calculate RUN8341 solvent\n",
      "Cant calculate RUN8342 complex\n"
     ]
    },
    {
     "name": "stderr",
     "output_type": "stream",
     "text": [
      "\r",
      " 74%|███████▍  | 542/732 [06:39<02:07,  1.49it/s]"
     ]
    },
    {
     "name": "stdout",
     "output_type": "stream",
     "text": [
      "Cant calculate RUN8342 solvent\n",
      "Cant calculate RUN8343 complex\n"
     ]
    },
    {
     "name": "stderr",
     "output_type": "stream",
     "text": [
      "\r",
      " 74%|███████▍  | 543/732 [06:40<02:07,  1.48it/s]"
     ]
    },
    {
     "name": "stdout",
     "output_type": "stream",
     "text": [
      "Cant calculate RUN8343 solvent\n",
      "Cant calculate RUN8344 complex\n"
     ]
    },
    {
     "name": "stderr",
     "output_type": "stream",
     "text": [
      "\r",
      " 74%|███████▍  | 544/732 [06:41<02:06,  1.49it/s]"
     ]
    },
    {
     "name": "stdout",
     "output_type": "stream",
     "text": [
      "Cant calculate RUN8344 solvent\n",
      "Cant calculate RUN8345 complex\n"
     ]
    },
    {
     "name": "stderr",
     "output_type": "stream",
     "text": [
      "\r",
      " 74%|███████▍  | 545/732 [06:41<02:05,  1.49it/s]"
     ]
    },
    {
     "name": "stdout",
     "output_type": "stream",
     "text": [
      "Cant calculate RUN8345 solvent\n",
      "Cant calculate RUN8346 complex\n"
     ]
    },
    {
     "name": "stderr",
     "output_type": "stream",
     "text": [
      "\r",
      " 75%|███████▍  | 546/732 [06:42<02:04,  1.49it/s]"
     ]
    },
    {
     "name": "stdout",
     "output_type": "stream",
     "text": [
      "Cant calculate RUN8346 solvent\n",
      "Cant calculate RUN8347 complex\n"
     ]
    },
    {
     "name": "stderr",
     "output_type": "stream",
     "text": [
      "\r",
      " 75%|███████▍  | 547/732 [06:43<02:03,  1.49it/s]"
     ]
    },
    {
     "name": "stdout",
     "output_type": "stream",
     "text": [
      "Cant calculate RUN8347 solvent\n",
      "Cant calculate RUN8348 complex\n"
     ]
    },
    {
     "name": "stderr",
     "output_type": "stream",
     "text": [
      "\r",
      " 75%|███████▍  | 548/732 [06:43<02:02,  1.50it/s]"
     ]
    },
    {
     "name": "stdout",
     "output_type": "stream",
     "text": [
      "Cant calculate RUN8348 solvent\n",
      "Cant calculate RUN8349 complex\n"
     ]
    },
    {
     "name": "stderr",
     "output_type": "stream",
     "text": [
      "\r",
      " 75%|███████▌  | 549/732 [06:44<02:02,  1.50it/s]"
     ]
    },
    {
     "name": "stdout",
     "output_type": "stream",
     "text": [
      "Cant calculate RUN8349 solvent\n",
      "Cant calculate RUN8350 complex\n"
     ]
    },
    {
     "name": "stderr",
     "output_type": "stream",
     "text": [
      "\r",
      " 75%|███████▌  | 550/732 [06:45<02:02,  1.49it/s]"
     ]
    },
    {
     "name": "stdout",
     "output_type": "stream",
     "text": [
      "Cant calculate RUN8350 solvent\n",
      "Cant calculate RUN8351 complex\n"
     ]
    },
    {
     "name": "stderr",
     "output_type": "stream",
     "text": [
      "\r",
      " 75%|███████▌  | 551/732 [06:45<02:01,  1.49it/s]"
     ]
    },
    {
     "name": "stdout",
     "output_type": "stream",
     "text": [
      "Cant calculate RUN8351 solvent\n",
      "Cant calculate RUN8352 complex\n"
     ]
    },
    {
     "name": "stderr",
     "output_type": "stream",
     "text": [
      "\r",
      " 75%|███████▌  | 552/732 [06:46<02:01,  1.48it/s]"
     ]
    },
    {
     "name": "stdout",
     "output_type": "stream",
     "text": [
      "Cant calculate RUN8352 solvent\n",
      "Cant calculate RUN8353 complex\n"
     ]
    },
    {
     "name": "stderr",
     "output_type": "stream",
     "text": [
      "\r",
      " 76%|███████▌  | 553/732 [06:47<02:01,  1.48it/s]"
     ]
    },
    {
     "name": "stdout",
     "output_type": "stream",
     "text": [
      "Cant calculate RUN8353 solvent\n",
      "Cant calculate RUN8354 complex\n"
     ]
    },
    {
     "name": "stderr",
     "output_type": "stream",
     "text": [
      "\r",
      " 76%|███████▌  | 554/732 [06:47<02:00,  1.48it/s]"
     ]
    },
    {
     "name": "stdout",
     "output_type": "stream",
     "text": [
      "Cant calculate RUN8354 solvent\n",
      "Cant calculate RUN8355 complex\n"
     ]
    },
    {
     "name": "stderr",
     "output_type": "stream",
     "text": [
      "\r",
      " 76%|███████▌  | 555/732 [06:48<01:59,  1.48it/s]"
     ]
    },
    {
     "name": "stdout",
     "output_type": "stream",
     "text": [
      "Cant calculate RUN8355 solvent\n",
      "Cant calculate RUN8356 complex\n"
     ]
    },
    {
     "name": "stderr",
     "output_type": "stream",
     "text": [
      "\r",
      " 76%|███████▌  | 556/732 [06:49<01:58,  1.48it/s]"
     ]
    },
    {
     "name": "stdout",
     "output_type": "stream",
     "text": [
      "Cant calculate RUN8356 solvent\n",
      "Cant calculate RUN8357 complex\n"
     ]
    },
    {
     "name": "stderr",
     "output_type": "stream",
     "text": [
      "\r",
      " 76%|███████▌  | 557/732 [06:49<01:58,  1.48it/s]"
     ]
    },
    {
     "name": "stdout",
     "output_type": "stream",
     "text": [
      "Cant calculate RUN8357 solvent\n",
      "Cant calculate RUN8358 complex\n"
     ]
    },
    {
     "name": "stderr",
     "output_type": "stream",
     "text": [
      "\r",
      " 76%|███████▌  | 558/732 [06:50<01:57,  1.48it/s]"
     ]
    },
    {
     "name": "stdout",
     "output_type": "stream",
     "text": [
      "Cant calculate RUN8358 solvent\n",
      "Cant calculate RUN8359 complex\n"
     ]
    },
    {
     "name": "stderr",
     "output_type": "stream",
     "text": [
      "\r",
      " 76%|███████▋  | 559/732 [06:51<01:56,  1.48it/s]"
     ]
    },
    {
     "name": "stdout",
     "output_type": "stream",
     "text": [
      "Cant calculate RUN8359 solvent\n",
      "Cant calculate RUN8360 complex\n"
     ]
    },
    {
     "name": "stderr",
     "output_type": "stream",
     "text": [
      "\r",
      " 77%|███████▋  | 560/732 [06:51<01:56,  1.48it/s]"
     ]
    },
    {
     "name": "stdout",
     "output_type": "stream",
     "text": [
      "Cant calculate RUN8360 solvent\n",
      "Cant calculate RUN8361 complex\n"
     ]
    },
    {
     "name": "stderr",
     "output_type": "stream",
     "text": [
      "\r",
      " 77%|███████▋  | 561/732 [06:52<01:55,  1.48it/s]"
     ]
    },
    {
     "name": "stdout",
     "output_type": "stream",
     "text": [
      "Cant calculate RUN8361 solvent\n",
      "Cant calculate RUN8362 complex\n"
     ]
    },
    {
     "name": "stderr",
     "output_type": "stream",
     "text": [
      "\r",
      " 77%|███████▋  | 562/732 [06:53<01:54,  1.48it/s]"
     ]
    },
    {
     "name": "stdout",
     "output_type": "stream",
     "text": [
      "Cant calculate RUN8362 solvent\n",
      "Cant calculate RUN8363 complex\n"
     ]
    },
    {
     "name": "stderr",
     "output_type": "stream",
     "text": [
      "\r",
      " 77%|███████▋  | 563/732 [06:53<01:54,  1.48it/s]"
     ]
    },
    {
     "name": "stdout",
     "output_type": "stream",
     "text": [
      "Cant calculate RUN8363 solvent\n",
      "Cant calculate RUN8364 complex\n"
     ]
    },
    {
     "name": "stderr",
     "output_type": "stream",
     "text": [
      "\r",
      " 77%|███████▋  | 564/732 [06:54<01:53,  1.47it/s]"
     ]
    },
    {
     "name": "stdout",
     "output_type": "stream",
     "text": [
      "Cant calculate RUN8364 solvent\n",
      "Cant calculate RUN8365 complex\n"
     ]
    },
    {
     "name": "stderr",
     "output_type": "stream",
     "text": [
      "\r",
      " 77%|███████▋  | 565/732 [06:55<01:52,  1.48it/s]"
     ]
    },
    {
     "name": "stdout",
     "output_type": "stream",
     "text": [
      "Cant calculate RUN8365 solvent\n",
      "Cant calculate RUN8366 complex\n"
     ]
    },
    {
     "name": "stderr",
     "output_type": "stream",
     "text": [
      "\r",
      " 77%|███████▋  | 566/732 [06:55<01:52,  1.48it/s]"
     ]
    },
    {
     "name": "stdout",
     "output_type": "stream",
     "text": [
      "Cant calculate RUN8366 solvent\n",
      "Cant calculate RUN8367 complex\n"
     ]
    },
    {
     "name": "stderr",
     "output_type": "stream",
     "text": [
      "\r",
      " 77%|███████▋  | 567/732 [06:56<01:51,  1.47it/s]"
     ]
    },
    {
     "name": "stdout",
     "output_type": "stream",
     "text": [
      "Cant calculate RUN8367 solvent\n",
      "Cant calculate RUN8368 complex\n"
     ]
    },
    {
     "name": "stderr",
     "output_type": "stream",
     "text": [
      "\r",
      " 78%|███████▊  | 568/732 [06:57<01:50,  1.48it/s]"
     ]
    },
    {
     "name": "stdout",
     "output_type": "stream",
     "text": [
      "Cant calculate RUN8368 solvent\n",
      "Cant calculate RUN8369 complex\n"
     ]
    },
    {
     "name": "stderr",
     "output_type": "stream",
     "text": [
      "\r",
      " 78%|███████▊  | 569/732 [06:57<01:49,  1.49it/s]"
     ]
    },
    {
     "name": "stdout",
     "output_type": "stream",
     "text": [
      "Cant calculate RUN8369 solvent\n",
      "Cant calculate RUN8370 complex\n"
     ]
    },
    {
     "name": "stderr",
     "output_type": "stream",
     "text": [
      "\r",
      " 78%|███████▊  | 570/732 [06:58<01:48,  1.50it/s]"
     ]
    },
    {
     "name": "stdout",
     "output_type": "stream",
     "text": [
      "Cant calculate RUN8370 solvent\n",
      "Cant calculate RUN8371 complex\n"
     ]
    },
    {
     "name": "stderr",
     "output_type": "stream",
     "text": [
      "\r",
      " 78%|███████▊  | 571/732 [06:59<01:47,  1.50it/s]"
     ]
    },
    {
     "name": "stdout",
     "output_type": "stream",
     "text": [
      "Cant calculate RUN8371 solvent\n",
      "Cant calculate RUN8372 complex\n"
     ]
    },
    {
     "name": "stderr",
     "output_type": "stream",
     "text": [
      "\r",
      " 78%|███████▊  | 572/732 [06:59<01:46,  1.50it/s]"
     ]
    },
    {
     "name": "stdout",
     "output_type": "stream",
     "text": [
      "Cant calculate RUN8372 solvent\n",
      "Cant calculate RUN7641 complex\n"
     ]
    },
    {
     "name": "stderr",
     "output_type": "stream",
     "text": [
      "\r",
      " 78%|███████▊  | 573/732 [07:00<01:46,  1.49it/s]"
     ]
    },
    {
     "name": "stdout",
     "output_type": "stream",
     "text": [
      "Cant calculate RUN7641 solvent\n"
     ]
    },
    {
     "name": "stderr",
     "output_type": "stream",
     "text": [
      "\r",
      " 78%|███████▊  | 574/732 [07:01<01:53,  1.40it/s]"
     ]
    },
    {
     "name": "stdout",
     "output_type": "stream",
     "text": [
      "Cant calculate RUN7643 complex\n"
     ]
    },
    {
     "name": "stderr",
     "output_type": "stream",
     "text": [
      "\r",
      " 79%|███████▊  | 575/732 [07:02<01:50,  1.42it/s]"
     ]
    },
    {
     "name": "stdout",
     "output_type": "stream",
     "text": [
      "Cant calculate RUN7643 solvent\n"
     ]
    },
    {
     "name": "stderr",
     "output_type": "stream",
     "text": [
      " 80%|████████  | 588/732 [07:12<01:55,  1.25it/s]"
     ]
    },
    {
     "name": "stdout",
     "output_type": "stream",
     "text": [
      "Cant calculate RUN7657 complex\n"
     ]
    },
    {
     "name": "stderr",
     "output_type": "stream",
     "text": [
      "\r",
      " 80%|████████  | 589/732 [07:13<01:47,  1.32it/s]"
     ]
    },
    {
     "name": "stdout",
     "output_type": "stream",
     "text": [
      "Cant calculate RUN7657 solvent\n"
     ]
    },
    {
     "name": "stderr",
     "output_type": "stream",
     "text": [
      "\r",
      " 81%|████████  | 590/732 [07:14<01:49,  1.29it/s]"
     ]
    },
    {
     "name": "stdout",
     "output_type": "stream",
     "text": [
      "Cant calculate RUN7659 complex\n"
     ]
    },
    {
     "name": "stderr",
     "output_type": "stream",
     "text": [
      "\r",
      " 81%|████████  | 591/732 [07:14<01:44,  1.35it/s]"
     ]
    },
    {
     "name": "stdout",
     "output_type": "stream",
     "text": [
      "Cant calculate RUN7659 solvent\n"
     ]
    },
    {
     "name": "stderr",
     "output_type": "stream",
     "text": [
      " 83%|████████▎ | 607/732 [07:27<01:42,  1.22it/s]"
     ]
    },
    {
     "name": "stdout",
     "output_type": "stream",
     "text": [
      "Cant calculate RUN7676 complex\n"
     ]
    },
    {
     "name": "stderr",
     "output_type": "stream",
     "text": [
      "\r",
      " 83%|████████▎ | 608/732 [07:28<01:35,  1.29it/s]"
     ]
    },
    {
     "name": "stdout",
     "output_type": "stream",
     "text": [
      "Cant calculate RUN7676 solvent\n",
      "Cant calculate RUN7677 complex\n"
     ]
    },
    {
     "name": "stderr",
     "output_type": "stream",
     "text": [
      "\r",
      " 83%|████████▎ | 609/732 [07:29<01:31,  1.35it/s]"
     ]
    },
    {
     "name": "stdout",
     "output_type": "stream",
     "text": [
      "Cant calculate RUN7677 solvent\n"
     ]
    },
    {
     "name": "stderr",
     "output_type": "stream",
     "text": [
      " 89%|████████▉ | 652/732 [08:04<01:05,  1.23it/s]"
     ]
    },
    {
     "name": "stdout",
     "output_type": "stream",
     "text": [
      "Cant calculate RUN7721 complex\n"
     ]
    },
    {
     "name": "stderr",
     "output_type": "stream",
     "text": [
      "\r",
      " 89%|████████▉ | 653/732 [08:04<01:00,  1.30it/s]"
     ]
    },
    {
     "name": "stdout",
     "output_type": "stream",
     "text": [
      "Cant calculate RUN7721 solvent\n"
     ]
    },
    {
     "name": "stderr",
     "output_type": "stream",
     "text": [
      "\r",
      " 89%|████████▉ | 654/732 [08:05<01:01,  1.27it/s]"
     ]
    },
    {
     "name": "stdout",
     "output_type": "stream",
     "text": [
      "Cant calculate RUN7723 complex\n"
     ]
    },
    {
     "name": "stderr",
     "output_type": "stream",
     "text": [
      "\r",
      " 89%|████████▉ | 655/732 [08:06<00:57,  1.33it/s]"
     ]
    },
    {
     "name": "stdout",
     "output_type": "stream",
     "text": [
      "Cant calculate RUN7723 solvent\n"
     ]
    },
    {
     "name": "stderr",
     "output_type": "stream",
     "text": [
      " 91%|█████████▏| 668/732 [08:16<00:51,  1.24it/s]"
     ]
    },
    {
     "name": "stdout",
     "output_type": "stream",
     "text": [
      "Cant calculate RUN7737 complex\n"
     ]
    },
    {
     "name": "stderr",
     "output_type": "stream",
     "text": [
      "\r",
      " 91%|█████████▏| 669/732 [08:17<00:48,  1.31it/s]"
     ]
    },
    {
     "name": "stdout",
     "output_type": "stream",
     "text": [
      "Cant calculate RUN7737 solvent\n"
     ]
    },
    {
     "name": "stderr",
     "output_type": "stream",
     "text": [
      "\r",
      " 92%|█████████▏| 670/732 [08:18<00:48,  1.29it/s]"
     ]
    },
    {
     "name": "stdout",
     "output_type": "stream",
     "text": [
      "Cant calculate RUN7739 complex\n"
     ]
    },
    {
     "name": "stderr",
     "output_type": "stream",
     "text": [
      "\r",
      " 92%|█████████▏| 671/732 [08:18<00:45,  1.33it/s]"
     ]
    },
    {
     "name": "stdout",
     "output_type": "stream",
     "text": [
      "Cant calculate RUN7739 solvent\n"
     ]
    },
    {
     "name": "stderr",
     "output_type": "stream",
     "text": [
      " 93%|█████████▎| 684/732 [08:29<00:38,  1.23it/s]"
     ]
    },
    {
     "name": "stdout",
     "output_type": "stream",
     "text": [
      "Cant calculate RUN7753 complex\n"
     ]
    },
    {
     "name": "stderr",
     "output_type": "stream",
     "text": [
      "\r",
      " 94%|█████████▎| 685/732 [08:30<00:36,  1.29it/s]"
     ]
    },
    {
     "name": "stdout",
     "output_type": "stream",
     "text": [
      "Cant calculate RUN7753 solvent\n"
     ]
    },
    {
     "name": "stderr",
     "output_type": "stream",
     "text": [
      " 94%|█████████▍| 687/732 [08:31<00:35,  1.26it/s]"
     ]
    },
    {
     "name": "stdout",
     "output_type": "stream",
     "text": [
      "Cant calculate RUN7756 complex\n"
     ]
    },
    {
     "name": "stderr",
     "output_type": "stream",
     "text": [
      "\r",
      " 94%|█████████▍| 688/732 [08:32<00:33,  1.32it/s]"
     ]
    },
    {
     "name": "stdout",
     "output_type": "stream",
     "text": [
      "Cant calculate RUN7756 solvent\n"
     ]
    },
    {
     "name": "stderr",
     "output_type": "stream",
     "text": [
      "\r",
      " 94%|█████████▍| 689/732 [08:33<00:33,  1.29it/s]"
     ]
    },
    {
     "name": "stdout",
     "output_type": "stream",
     "text": [
      "Cant calculate RUN7758 complex\n"
     ]
    },
    {
     "name": "stderr",
     "output_type": "stream",
     "text": [
      "\r",
      " 94%|█████████▍| 690/732 [08:33<00:31,  1.35it/s]"
     ]
    },
    {
     "name": "stdout",
     "output_type": "stream",
     "text": [
      "Cant calculate RUN7758 solvent\n"
     ]
    },
    {
     "name": "stderr",
     "output_type": "stream",
     "text": [
      "100%|██████████| 732/732 [09:08<00:00,  1.33it/s]\n"
     ]
    }
   ],
   "source": [
    "projects = {\n",
    "    'complex' : 'PROJ13420',\n",
    "    'solvent' : 'PROJ13421'}\n",
    "\n",
    "import time\n",
    "plotting = False\n",
    "\n",
    "def _get_works(df,run,project,GEN=None):\n",
    "    works = df[(df['RUN']==run)]\n",
    "    \n",
    "    if GEN:\n",
    "        works = works[works['GEN']==GEN]\n",
    "\n",
    "    f = works[works['PROJ']==project].forward_work\n",
    "    r = works[works['PROJ']==project].reverse_work   \n",
    "    return f, r\n",
    "\n",
    "n_bootstrap = 100\n",
    "for d in tqdm.tqdm(details.values()):\n",
    "    RUN = d['directory']\n",
    "    if plotting:\n",
    "        fig, axes = plt.subplots(ncols=2,nrows=1,figsize=(10,5))\n",
    "    for i, phase in enumerate(projects.keys()):\n",
    "        if plotting:\n",
    "            axes[i].set_title(phase)\n",
    "        \n",
    "        all_forward = []\n",
    "        all_reverse = []\n",
    "        # There will be 6 gens for this project I think\n",
    "        for gen_id in range(0,7):\n",
    "            f_works, r_works = _get_works(work,RUN,projects[phase],GEN=f'GEN{gen_id}')\n",
    "            f_works = _strip_outliers(f_works)       \n",
    "            r_works = _strip_outliers(r_works)\n",
    "            d[f'{phase}_fes_GEN{gen_id}'] = []\n",
    "            d[f'{phase}_dfes_GEN{gen_id}'] = []\n",
    "\n",
    "            if len(f_works) > 10 and len(r_works) > 10:\n",
    "                for _ in range(n_bootstrap):\n",
    "                    f = random.choices(f_works, k=len(f_works))\n",
    "                    r = random.choices(r_works, k=len(r_works))\n",
    "                    fe, err = BAR(np.asarray(f), np.asarray(f)) \n",
    "                    d[f'{phase}_fes_GEN{gen_id}'].append(fe)\n",
    "                    d[f'{phase}_dfes_GEN{gen_id}'].append(err)\n",
    "\n",
    "            all_forward.extend(f_works)\n",
    "            all_reverse.extend(r_works)\n",
    "#         print(all_forward)\n",
    "        if len(all_forward) < 10:\n",
    "            print(f'Cant calculate {RUN} {phase}')\n",
    "            continue\n",
    "        if len(all_reverse) < 10:\n",
    "            print(f'Cant calculate {RUN} {phase}')\n",
    "            continue\n",
    "        if plotting:\n",
    "            sns.kdeplot(all_forward,shade=True,color='cornflowerblue',ax=axes[i])\n",
    "            sns.rugplot(all_forward,ax=axes[i],color='cornflowerblue',alpha=0.5,label=f'forward : N={len(f_works)}')\n",
    "            sns.rugplot(all_forward,ax=axes[i],color='darkblue',label=f'forward (gen0) : N={len(f_works)}')\n",
    "            sns.rugplot([-x for x in all_reverse],ax=axes[i],color='mediumvioletred',label=f'reverse (gen0) : N={len(r_works)}')\n",
    "            sns.kdeplot([-x for x in all_reverse],shade=True,color='hotpink',ax=axes[i])\n",
    "            sns.rugplot([-x for x in all_reverse],ax=axes[i],color='hotpink',alpha=0.5,label=f'reverse : N={len(r_works)}')\n",
    "\n",
    "        if any([True for x in [all_reverse, all_forward] if len(x) < 20]):\n",
    "            print(f'Cant calculate {RUN} {phase}')\n",
    "        else:\n",
    "            # TODO add bootstrapping here\n",
    "            d[f'{phase}_fes'] = BAR(np.asarray(all_forward), np.asarray(all_reverse))\n",
    "#             d[f'n_{phase}'] = len(all_forward) + len(all_reverse)\n",
    "              \n",
    "        \n",
    "    if plotting:    \n",
    "        fig.suptitle(f\"{RUN}: {d['protein'].split('_')[0]} {d['start']}-{d['end']}\", fontsize=16)\n",
    "        fig.subplots_adjust(top=0.9,wspace=0.15)\n",
    "        axes[0].legend()\n",
    "        axes[1].legend()\n",
    "        plt.show()"
   ]
  },
  {
   "cell_type": "code",
   "execution_count": 242,
   "metadata": {},
   "outputs": [],
   "source": [
    "for d in details.values():\n",
    "#     print(d['start'], d['end'])\n",
    "#     print(d['start_title'], d['end_title'])\n",
    "    if 'TRY-UNI-2eddb1ff-7' not in [d['start_title'], d['end_title']]:\n",
    "        print(d)"
   ]
  },
  {
   "cell_type": "code",
   "execution_count": 230,
   "metadata": {},
   "outputs": [],
   "source": [
    "all_molecules = [d['start_title'] for d in details.values()] + [d['end_title'] for d in details.values()]\n",
    "all_molecules = set(all_molecules)\n",
    "\n",
    "index_to_title = {i:t for i,t in enumerate(all_molecules)}\n",
    "title_to_index = {t:i for i,t in enumerate(all_molecules)}"
   ]
  },
  {
   "cell_type": "markdown",
   "metadata": {},
   "source": [
    "* Which is more accurate? Backwards (docked to X-ray) or forwards (Xray to docked)?\n",
    "* Which is more accurate? Cys145/His45, or Cys145(-)/His45(+)?\n",
    "* How well can we predict loss of affinity? Gain or maintenance of affinity?\n",
    "* For the small subset with IC50 data, do we have a numerical accuracy in DeltaDeltaG we could report?"
   ]
  },
  {
   "cell_type": "code",
   "execution_count": 254,
   "metadata": {},
   "outputs": [],
   "source": [
    "import networkx as nx\n",
    "\n",
    "protein_files = {'../receptors/monomer/Mpro-x2646_0_bound-protein.pdb':'neutral','../receptors/monomer/Mpro-x2646_0_bound-protein-thiolate.pdb':'charged'}\n",
    "\n",
    "graphs = {'neutral-f':nx.DiGraph(),'neutral-r':nx.DiGraph(),'neutral-both':nx.DiGraph(),'charged-f':nx.DiGraph(),'charged-r':nx.DiGraph(),'charged-both':nx.DiGraph()}\n",
    "\n",
    "for d in details.values():\n",
    "    if 'complex_fes' in d and 'solvent_fes' in d:  \n",
    "        protein = d['protein']\n",
    "        DDG = ((d['complex_fes'][0] - d['solvent_fes'][0])*kT).value_in_unit(unit.kilocalories_per_mole) \n",
    "        dDDG = ((d['solvent_fes'][1]**0.5 + d['complex_fes'][1]**0.5)**2*kT).value_in_unit(unit.kilocalories_per_mole)\n",
    "        if d['start_title'] == 'TRY-UNI-2eddb1ff-7':\n",
    "            graph = graphs[f'{protein_files[protein]}-f']\n",
    "        else:\n",
    "            graph = graphs[f'{protein_files[protein]}-r']\n",
    "        graph.add_edge(d['start_title'],d['end_title'],calc_DDG=DDG, calc_dDDG=dDDG,exp_DDG=0.,exp_dDDG=0.1)\n",
    "        \n",
    "        graph = graphs[f'{protein_files[protein]}-both']\n",
    "        graph.add_edge(d['start_title'],d['end_title'],calc_DDG=DDG, calc_dDDG=dDDG,exp_DDG=0.,exp_dDDG=0.1)"
   ]
  },
  {
   "cell_type": "code",
   "execution_count": 255,
   "metadata": {},
   "outputs": [
    {
     "data": {
      "image/png": "[encoded data removed]",
      "text/plain": [
       "<Figure size 234x234 with 1 Axes>"
      ]
     },
     "metadata": {
      "needs_background": "light"
     },
     "output_type": "display_data"
    },
    {
     "data": {
      "image/png": "[encoded data removed]",
      "text/plain": [
       "<Figure size 234x234 with 1 Axes>"
      ]
     },
     "metadata": {
      "needs_background": "light"
     },
     "output_type": "display_data"
    }
   ],
   "source": [
    "from beryllium import plotting, stats\n",
    "\n",
    "graphs['neutral-comb'] = nx.DiGraph()\n",
    "graphs['charged-comb'] = nx.DiGraph()\n",
    "\n",
    "for bi in ['neutral-both','charged-both']:\n",
    "    x = []\n",
    "    y = []\n",
    "    g = graphs[bi]\n",
    "    for edge in g.edges(data=True):\n",
    "        if edge[0] == 'TRY-UNI-2eddb1ff-7':\n",
    "            if g.has_edge(edge[1],edge[0]):\n",
    "                x.append(edge[2]['calc_DDG'])\n",
    "                y.append(-g.get_edge_data(edge[1],edge[0])['calc_DDG'])\n",
    "                graph = graphs[f\"{bi.split('-')[0]}-comb\"]\n",
    "                graph.add_edge(edge[0],edge[1],\n",
    "                               calc_DDG=0.5*(edge[2]['calc_DDG']-g.get_edge_data(edge[1],edge[0])['calc_DDG']), \n",
    "                               calc_dDDG=(edge[2]['calc_dDDG']**2+g.get_edge_data(edge[1],edge[0])['calc_dDDG']**2)**0.5,\n",
    "                               exp_DDG=0.,exp_dDDG=0.1)\n",
    "    plotting._master_plot(np.asarray(x), np.asarray(y),title=f\"{bi.split('-')[0]} \\n forwards vs backwards\", xlabel=r'0$\\rightarrow$x', ylabel=r'x$\\rightarrow$0')\n",
    "\n",
    "                               \n",
    "del graphs['neutral-both']\n",
    "del graphs['charged-both']"
   ]
  },
  {
   "cell_type": "code",
   "execution_count": 423,
   "metadata": {
    "scrolled": true
   },
   "outputs": [
    {
     "name": "stderr",
     "output_type": "stream",
     "text": [
      "/Users/brucemah/miniconda3/lib/python3.6/site-packages/ipykernel_launcher.py:11: RuntimeWarning:\n",
      "\n",
      "divide by zero encountered in log\n",
      "\n"
     ]
    }
   ],
   "source": [
    "import csv\n",
    "r_inhib_20 = {}\n",
    "r_inhib_50 = {}\n",
    "r_ic50 = {}\n",
    "f_inhib_20 = {}\n",
    "f_inhib_50 = {}\n",
    "f_ic50 = {}\n",
    "\n",
    "def _ic50_to_dG(x,s_conc=375E-9,Km=40E-6):\n",
    "    Ki = x / (1 + (s_conc/Km))\n",
    "    return 0.59*np.log(Ki)\n",
    "\n",
    "def _inhibition_to_kd(percentage, concentration):\n",
    "    fraction = percentage / 100.\n",
    "    # using equation 7 from https://www.molbiolcell.org/doi/10.1091/mbc.e10-08-0683#F1\n",
    "    kd = concentration*((1 - fraction)/fraction)\n",
    "    return _ic50_to_dG(kd)\n",
    "\n",
    "def best_guess_expt(m, threshold=10):\n",
    "    # use IC50s if possible\n",
    "    experimentals = [m[x] for x in m.keys() if 'IC50' in x]\n",
    "    experimentals = [_ic50_to_dG(x) for x in experimentals]\n",
    "    if len(experimentals) > 0:\n",
    "        return (np.mean(experimentals), np.std(experimentals))  \n",
    "    \n",
    "    # if no IC50, try 20uM if > threshold\n",
    "    experimentals = [m[x] for x in m.keys() if 'inhib20uM' in x and m[x] > threshold]\n",
    "    experimentals = [_inhibition_to_kd(x,20) for x in experimentals]\n",
    "    if len(experimentals) > 0:\n",
    "        return (np.mean(experimentals), np.std(experimentals))   \n",
    "    \n",
    "    # else try 50uM\n",
    "    experimentals = [m[x] for x in m.keys() if 'inhib50uM' in x if m[x] > 0]\n",
    "    experimentals = [_inhibition_to_kd(x,50) for x in experimentals]\n",
    "    if len(experimentals) > 0:\n",
    "        return (np.mean(experimentals), np.std(experimentals))  \n",
    "    else:\n",
    "        return (None, None)\n",
    "    \n",
    "\n",
    "\n",
    "experimental = {}\n",
    "with open('activity-data-2020-07-29.csv','r') as f:\n",
    "    x = csv.reader(f)\n",
    "    for i, row in enumerate(x):\n",
    "        if i == 0:\n",
    "            continue\n",
    "\n",
    "        name = row[1]\n",
    "        contents = ['r_inhib20uM','r_inhib50uM','r_IC50','f_inhib20uM','f_inhib50uM','f_IC50']\n",
    "        experimental[name] = {}\n",
    "        for i, c in enumerate(contents, 3):\n",
    "            if row[i] != '':\n",
    "                if float(row[i]) < 0.:\n",
    "                    row[i] = 0.\n",
    "                if float(row[i]) > 100.:\n",
    "                    row[i] = 100.\n",
    "                experimental[name][c] = float(row[i])\n",
    "        dg , ddg = best_guess_expt(experimental[name])\n",
    "        if dg is not None:\n",
    "            experimental[name]['DG'] = dg\n",
    "            experimental[name]['dDG'] = ddg\n",
    "                \n",
    "            \n",
    "\n",
    "for g in graphs.values():\n",
    "    nx.set_node_attributes(g, experimental)"
   ]
  },
  {
   "cell_type": "code",
   "execution_count": 425,
   "metadata": {
    "scrolled": false
   },
   "outputs": [
    {
     "name": "stderr",
     "output_type": "stream",
     "text": [
      "/Users/brucemah/miniconda3/lib/python3.6/site-packages/ipykernel_launcher.py:11: RuntimeWarning:\n",
      "\n",
      "divide by zero encountered in log\n",
      "\n"
     ]
    },
    {
     "data": {
      "image/png": "[encoded data removed]",
      "text/plain": [
       "<Figure size 1080x1080 with 36 Axes>"
      ]
     },
     "metadata": {
      "needs_background": "light"
     },
     "output_type": "display_data"
    }
   ],
   "source": [
    "fig, axes = plt.subplots(ncols=6,nrows=6,figsize=(15,15))\n",
    "import itertools\n",
    "contents = ['r_inhib20uM','r_inhib50uM','r_IC50','f_inhib20uM','f_inhib50uM','f_IC50']\n",
    "hist = {c:[] for c in contents}\n",
    "scatters = {(j,i):[[],[]] for i,j in itertools.combinations(range(0,6),2)}\n",
    "\n",
    "for exp in experimental.values():\n",
    "    res = []\n",
    "    for val in contents:\n",
    "        if val in exp.keys():\n",
    "            if 'IC50' in val:\n",
    "                res.append(_ic50_to_dG(exp[val]))\n",
    "            elif 'inhib20' in val and exp[val] > 0.:\n",
    "                res.append(_inhibition_to_kd(exp[val],20))\n",
    "            elif 'inhib50' in val and exp[val] > 0.:\n",
    "                res.append(_inhibition_to_kd(exp[val],50))\n",
    "            else:\n",
    "                res.append(None)\n",
    "        else:\n",
    "            res.append(None)\n",
    "            \n",
    "    for i,c in enumerate(contents):\n",
    "        if res[i] is not None:\n",
    "            hist[c].append(res[i])\n",
    "\n",
    "    for i,j in itertools.combinations(range(0,6),2):\n",
    "        if res[i] is not None and res[j] is not None:\n",
    "            scatters[(j,i)][0].append(res[i])\n",
    "            scatters[(j,i)][1].append(res[j])\n",
    "            \n",
    "    contents_formal = ['Inhib. 20uM (r)','Inhib. 50uM (r)','IC50 (r)','Inhib. 20uM (f)','Inhib. 50uM (f)','IC50 (f)']\n",
    "    for i,label in enumerate(contents_formal):\n",
    "        axes[5][i].set_xlabel(f'{label}')\n",
    "        axes[i][0].set_ylabel(f'{label}')\n",
    "        \n",
    "for i,c in enumerate(contents):\n",
    "    axes[i][i].hist([x for x in hist[c] if x is not None and not np.isinf(x)],color='cornflowerblue')\n",
    "    \n",
    "limits = [_inhibition_to_kd(100.,20),_inhibition_to_kd(100.,50),_ic50_to_dG(99.),_inhibition_to_kd(100.,20),_inhibition_to_kd(100.,50),_ic50_to_dG(99.)]   \n",
    "\n",
    "for i,j in itertools.combinations(range(0,6),2):\n",
    "    xs = []\n",
    "    ys = []\n",
    "    for x,y in zip(scatters[(j,i)][0], scatters[(j,i)][1]):\n",
    "        if x is not None and y is not None and not np.isinf(x) and not np.isinf(y):\n",
    "            xs.append(x)\n",
    "            ys.append(y)\n",
    "\n",
    "    axes[j][i].scatter(xs,ys,color='hotpink',marker='x')\n",
    "    s = stats.bootstrap_statistic(np.asarray(xs),np.asarray(ys), statistic='R2')\n",
    "    string = f\"$R^2$: {s['mle']:.2f}\"  \n",
    "    \n",
    "    \n",
    "    y_low, y_high = axes[j][i].get_ylim()\n",
    "    x_low, x_high = axes[j][i].get_xlim()\n",
    "    low = min(x_low,y_low)\n",
    "    high = max(x_high,y_high)\n",
    "    axes[j][i].text(low+0.5, high-1.,string)    \n",
    "\n",
    "    axes[j][i].set_xlim(low,high)\n",
    "    axes[j][i].set_ylim(low,high)\n",
    "    axes[i][j].axis('off')\n",
    "    \n",
    "    # now plot the limits\n",
    "    axes[j][i].hlines(limits[j],low,high,'k',linestyle=':',alpha=0.5)\n",
    "    axes[j][i].vlines(limits[i],low,high,'k',linestyle=':',alpha=0.5)\n",
    "plt.suptitle('All units kcal/mol',y=0.8)\n",
    "\n",
    "plt.show()"
   ]
  },
  {
   "cell_type": "code",
   "execution_count": 428,
   "metadata": {
    "scrolled": false
   },
   "outputs": [
    {
     "data": {
      "image/png": "[encoded data removed]",
      "text/plain": [
       "<Figure size 360x2160 with 6 Axes>"
      ]
     },
     "metadata": {
      "needs_background": "light"
     },
     "output_type": "display_data"
    }
   ],
   "source": [
    "fig, axes = plt.subplots(ncols=1,nrows=len(graphs),figsize=(5, 5*len(graphs)))\n",
    "\n",
    "\n",
    "for i, protein in enumerate(graphs.keys()):\n",
    "    g = graphs[protein]\n",
    "    xs = []\n",
    "    x_err = []\n",
    "    y_err = []\n",
    "    ys = []\n",
    "    for edge in g.edges(data=True):\n",
    "        try:\n",
    "            expt = nx.get_node_attributes(g,'DG')[edge[0]] - nx.get_node_attributes(g,'DG')[edge[1]]\n",
    "            dexpt = (nx.get_node_attributes(g,'dDG')[edge[0]]**2 + nx.get_node_attributes(g,'dDG')[edge[1]]**2)**0.5\n",
    "            ys.append(edge[2]['calc_DDG'])\n",
    "            y_err.append(edge[2]['calc_dDDG'])\n",
    "            xs.append(expt)\n",
    "            x_err.append(dexpt)\n",
    "        except:\n",
    "            continue\n",
    "    xs = xs - np.mean(xs)\n",
    "    ys = ys - np.mean(ys)\n",
    "    axes[i].scatter(xs,ys)\n",
    "    axes[i].errorbar(xs,ys,xerr=x_err,yerr=y_err,ls='none')\n",
    "    y_low, y_high = axes[i].get_ylim()\n",
    "    x_low, x_high = axes[i].get_xlim()\n",
    "    low = min(x_low,y_low)\n",
    "    high = max(x_high,y_high)\n",
    "    axes[i].set_xlim(low,high)\n",
    "    axes[i].set_ylim(low,high)\n",
    "\n",
    "    statistics_string = f'{protein}\\n'\n",
    "    for statistic in ['R2']:\n",
    "        s = stats.bootstrap_statistic(np.asarray(xs),np.asarray(ys), statistic=statistic)\n",
    "        string = f\"{statistic}:   {s['mle']:.2f} [95%: {s['low']:.2f}, {s['high']:.2f}] \" + \"\\n\"\n",
    "        statistics_string += string\n",
    "    axes[i].set_title(statistics_string, fontsize=12, loc='right', horizontalalignment='right', family='monospace')\n",
    "\n",
    "    axes[i].set_ylabel(f'Calculated ΔΔG '+r'/ kcal mol$^{-1}$')\n",
    "    axes[i].set_xlabel(f'Best-guess experimental ΔΔG '+r'/ kcal mol$^{-1}$')\n",
    "\n",
    "plt.subplots_adjust(hspace = 0.5,wspace = 0.5) \n",
    "plt.show()\n"
   ]
  },
  {
   "cell_type": "code",
   "execution_count": 350,
   "metadata": {
    "scrolled": true
   },
   "outputs": [
    {
     "name": "stderr",
     "output_type": "stream",
     "text": [
      "/Users/brucemah/miniconda3/lib/python3.6/site-packages/scipy/stats/_stats_mstats_common.py:116: RuntimeWarning:\n",
      "\n",
      "invalid value encountered in double_scalars\n",
      "\n",
      "/Users/brucemah/miniconda3/lib/python3.6/site-packages/scipy/stats/_stats_mstats_common.py:128: RuntimeWarning:\n",
      "\n",
      "invalid value encountered in double_scalars\n",
      "\n"
     ]
    },
    {
     "data": {
      "image/png": "[encoded data removed]",
      "text/plain": [
       "<Figure size 720x2160 with 12 Axes>"
      ]
     },
     "metadata": {
      "needs_background": "light"
     },
     "output_type": "display_data"
    }
   ],
   "source": [
    "fig, axes = plt.subplots(ncols=2,nrows=len(graphs),figsize=(10, 5*len(graphs)))\n",
    "\n",
    "\n",
    "for i, protein in enumerate(graphs.keys()):\n",
    "    g = graphs[protein]\n",
    "    xs = []\n",
    "    y_err = []\n",
    "    ys = []\n",
    "    for j, assay in enumerate(['f','r']):\n",
    "        for edge in g.edges(data=True):\n",
    "            try:\n",
    "                # TODO if either of these are 99, we want to color the associated datapoint different\n",
    "                expt = nx.get_node_attributes(g,f'{assay}_IC50')[edge[0]] / nx.get_node_attributes(g,f'{assay}_IC50')[edge[1]]\n",
    "                ys.append(edge[2]['calc_DDG'])\n",
    "                y_err.append(edge[2]['calc_dDDG'])\n",
    "                xs.append(0.59*np.log(expt))\n",
    "            except:\n",
    "                continue\n",
    "        \n",
    "        axes[i][j].scatter(xs,ys)\n",
    "        axes[i][j].errorbar(xs,ys,yerr=y_err,ls='none')\n",
    "#         low_lim, high_lim = axes[i][j].get_ylim()[0],axes[i][j].get_ylim()[1]\n",
    "#         axes[i][j].vlines(0.59*np.log(99),low_lim, high_lim)\n",
    "#         axes[i][j].set_ylim(low_lim, high_lim)\n",
    "        \n",
    "        statistics_string = f'{protein}\\n'\n",
    "        for statistic in ['R2']:\n",
    "            s = stats.bootstrap_statistic(np.asarray(xs),np.asarray(ys), statistic=statistic)\n",
    "            string = f\"{statistic}:   {s['mle']:.2f} [95%: {s['low']:.2f}, {s['high']:.2f}] \" + \"\\n\"\n",
    "            statistics_string += string\n",
    "        axes[i][j].set_title(statistics_string, fontsize=12, loc='right', horizontalalignment='right', family='monospace')\n",
    "\n",
    "    axes[i][0].set_ylabel(f'Calculated ΔΔG '+r'/ kcal mol$^{-1}$')\n",
    "    axes[i][0].set_xlabel(r'ΔG from IC$_{50}$  (rapidfire) '+r'/ kcal mol$^{-1}$')\n",
    "    axes[i][1].set_xlabel(r'ΔG from IC$_{50}$  (fluorescence) '+r'/ kcal mol$^{-1}$')\n",
    "plt.subplots_adjust(hspace = 0.5,wspace = 0.5) \n",
    "plt.show()\n"
   ]
  },
  {
   "cell_type": "code",
   "execution_count": 351,
   "metadata": {
    "scrolled": false
   },
   "outputs": [
    {
     "data": {
      "image/png": "[encoded data removed]",
      "text/plain": [
       "<Figure size 1440x2160 with 24 Axes>"
      ]
     },
     "metadata": {
      "needs_background": "light"
     },
     "output_type": "display_data"
    }
   ],
   "source": [
    "fig, axes = plt.subplots(ncols=4,nrows=len(graphs),figsize=(20, 5*len(graphs)))\n",
    "\n",
    "\n",
    "for i, protein in enumerate(graphs.keys()):\n",
    "    g = graphs[protein]\n",
    "    xs = []\n",
    "    y_err = []\n",
    "    ys = []\n",
    "    for j, assay in enumerate(['f_inhib20uM','r_inhib20uM','f_inhib50uM','r_inhib50uM']):\n",
    "        for edge in g.edges(data=True):\n",
    "            try:\n",
    "                expt = nx.get_node_attributes(g,assay)[edge[0]] - nx.get_node_attributes(g,assay)[edge[1]]\n",
    "                ys.append(edge[2]['calc_DDG'])\n",
    "                y_err.append(edge[2]['calc_dDDG'])\n",
    "                xs.append(expt)\n",
    "            except:\n",
    "                continue\n",
    "        axes[i][j].scatter(xs,ys)\n",
    "        axes[i][j].errorbar(xs,ys,yerr=y_err,ls='none')\n",
    "#         axes[i][j].set_xlim(0.,100.)\n",
    "\n",
    "        \n",
    "        statistics_string = f'{protein}\\n'\n",
    "        for statistic in ['R2']:\n",
    "            s = stats.bootstrap_statistic(np.asarray(xs),np.asarray(ys), statistic=statistic)\n",
    "            string = f\"{statistic}:   {s['mle']:.2f} [95%: {s['low']:.2f}, {s['high']:.2f}] \" + \"\\n\"\n",
    "            statistics_string += string\n",
    "        axes[i][j].set_title(statistics_string, fontsize=12, loc='right', horizontalalignment='right', family='monospace')\n",
    "\n",
    "    axes[i][0].set_ylabel(f'Calculated ΔΔG '+r'/ kcal mol$^{-1}$')\n",
    "    axes[i][0].set_xlabel(r'Inhibition at 20 uM (rapidfire) ')\n",
    "    axes[i][1].set_xlabel(r'Inhibition at 20 uM (fluoresence) ')\n",
    "    axes[i][2].set_xlabel(r'Inhibition at 50 uM (rapidfire) ')\n",
    "    axes[i][3].set_xlabel(r'Inhibition at 50 uM (fluoresence) ')\n",
    "plt.subplots_adjust(hspace = 0.5,wspace = 0.5) \n",
    "plt.show()\n"
   ]
  },
  {
   "cell_type": "code",
   "execution_count": 295,
   "metadata": {
    "scrolled": true
   },
   "outputs": [
    {
     "name": "stdout",
     "output_type": "stream",
     "text": [
      "JAN-GHE-83b26c96-9\n",
      "JAN-GHE-83b26c96-16\n",
      "BEN-DND-93268d01-15\n",
      "ANN-UNI-98d2bf15-2\n",
      "LON-WEI-0a73fcb8-2\n",
      "ADA-UNI-f8e79267-2\n",
      "GAB-REV-70cc3ca5-20\n",
      "BAR-COM-0f94fc3d-59\n",
      "MAT-POS-590ac91e-19\n",
      "MAT-POS-590ac91e-21\n",
      "EDJ-MED-e58735b6-3\n",
      "ALP-POS-95b75b4d-2\n",
      "CHR-SOS-7098f804-11\n",
      "CHR-SOS-7098f804-21\n",
      "MAT-POS-590ac91e-27\n",
      "JAN-GHE-83b26c96-14\n",
      "ANT-DIA-3c79be55-4\n",
      "TRY-UNI-714a760b-5\n",
      "TRY-UNI-714a760b-20\n",
      "JAN-GHE-83b26c96-13\n",
      "EDG-MED-0da5ad92-13\n",
      "JAN-GHE-83b26c96-2\n",
      "TRY-UNI-714a760b-18\n",
      "AGN-NEW-c7b24fe3-5\n",
      "EDG-MED-0da5ad92-2\n",
      "ERI-UCB-5b47150d-6\n",
      "JAN-GHE-83b26c96-12\n",
      "TRY-UNI-714a760b-22\n",
      "JAG-UCB-a3ef7265-3\n",
      "EDJ-MED-49816e9b-2\n",
      "TRY-UNI-2eddb1ff-7\n",
      "JAN-GHE-83b26c96-23\n",
      "MAT-POS-590ac91e-8\n",
      "BAR-COM-0f94fc3d-45\n",
      "EDG-MED-0da5ad92-18\n",
      "BAR-COM-0f94fc3d-23\n",
      "ALP-POS-95b75b4d-1\n",
      "TRY-UNI-714a760b-6\n",
      "AGN-NEW-c7b24fe3-3\n",
      "ADA-UNI-f8e79267-5\n",
      "MAT-POS-590ac91e-18\n",
      "CHR-SOS-7098f804-14\n",
      "JAN-GHE-83b26c96-3\n",
      "MAT-POS-590ac91e-22\n",
      "AGN-NEW-c7b24fe3-4\n",
      "JAN-GHE-83b26c96-11\n",
      "MAT-POS-590ac91e-12\n",
      "ALP-POS-95b75b4d-6\n",
      "BAR-COM-0f94fc3d-58\n",
      "BAR-COM-0f94fc3d-46\n",
      "JAN-GHE-83b26c96-15\n",
      "MAT-POS-590ac91e-28\n",
      "EDG-MED-0da5ad92-12\n",
      "MAT-POS-590ac91e-20\n",
      "CHR-SOS-7098f804-12\n",
      "JAN-GHE-83b26c96-8\n",
      "ANN-UNI-98d2bf15-5\n",
      "BRU-LEF-c49414a7-1\n",
      "BAR-COM-0f94fc3d-43\n",
      "ANN-UNI-26382800-5\n",
      "JAN-GHE-83b26c96-22\n",
      "EDG-MED-0da5ad92-14\n",
      "EDJ-MED-e58735b6-2\n",
      "BAR-COM-0f94fc3d-38\n",
      "LON-WEI-0a73fcb8-7\n",
      "ERI-UCB-5b47150d-5\n",
      "LON-WEI-0a73fcb8-1\n",
      "JAN-GHE-83b26c96-10\n",
      "ALP-POS-95b75b4d-4\n",
      "CHR-SOS-7098f804-10\n"
     ]
    }
   ],
   "source": [
    "# # enumerated stereochemistry NEED TO COMBINE ESTIMATE FROM DIFFERENT STEREOCHEMISTRIES\n",
    "# for title in title_to_index.keys():\n",
    "#     print(title)"
   ]
  },
  {
   "cell_type": "code",
   "execution_count": 296,
   "metadata": {},
   "outputs": [
    {
     "ename": "KeyError",
     "evalue": "'JAN-GHE-83b26c96-9'",
     "output_type": "error",
     "traceback": [
      "\u001b[0;31m---------------------------------------------------------------------------\u001b[0m",
      "\u001b[0;31mKeyError\u001b[0m                                  Traceback (most recent call last)",
      "\u001b[0;32m<ipython-input-296-d8da99c95f37>\u001b[0m in \u001b[0;36m<module>\u001b[0;34m\u001b[0m\n\u001b[1;32m      7\u001b[0m \u001b[0;31m### combining all\u001b[0m\u001b[0;34m\u001b[0m\u001b[0;34m\u001b[0m\u001b[0;34m\u001b[0m\u001b[0m\n\u001b[1;32m      8\u001b[0m \u001b[0;32mfor\u001b[0m \u001b[0mligand\u001b[0m \u001b[0;32min\u001b[0m \u001b[0mindex_to_title\u001b[0m\u001b[0;34m.\u001b[0m\u001b[0mkeys\u001b[0m\u001b[0;34m(\u001b[0m\u001b[0;34m)\u001b[0m\u001b[0;34m:\u001b[0m\u001b[0;34m\u001b[0m\u001b[0;34m\u001b[0m\u001b[0m\n\u001b[0;32m----> 9\u001b[0;31m     \u001b[0minhib\u001b[0m \u001b[0;34m=\u001b[0m \u001b[0mr_inhib_20\u001b[0m\u001b[0;34m[\u001b[0m\u001b[0mindex_to_title\u001b[0m\u001b[0;34m[\u001b[0m\u001b[0mligand\u001b[0m\u001b[0;34m]\u001b[0m\u001b[0;34m]\u001b[0m\u001b[0;34m\u001b[0m\u001b[0;34m\u001b[0m\u001b[0m\n\u001b[0m\u001b[1;32m     10\u001b[0m     \u001b[0;32mif\u001b[0m \u001b[0minhib\u001b[0m \u001b[0;32mis\u001b[0m \u001b[0;32mnot\u001b[0m \u001b[0;32mNone\u001b[0m \u001b[0;32mand\u001b[0m \u001b[0minhib\u001b[0m \u001b[0;34m>\u001b[0m \u001b[0;36m0.\u001b[0m\u001b[0;34m:\u001b[0m\u001b[0;34m\u001b[0m\u001b[0;34m\u001b[0m\u001b[0m\n\u001b[1;32m     11\u001b[0m         \u001b[0mkd_a\u001b[0m \u001b[0;34m=\u001b[0m \u001b[0m_inhibition_to_kd\u001b[0m\u001b[0;34m(\u001b[0m\u001b[0minhib\u001b[0m\u001b[0;34m,\u001b[0m\u001b[0;36m20.\u001b[0m\u001b[0;34m)\u001b[0m\u001b[0;34m\u001b[0m\u001b[0;34m\u001b[0m\u001b[0m\n",
      "\u001b[0;31mKeyError\u001b[0m: 'JAN-GHE-83b26c96-9'"
     ]
    }
   ],
   "source": [
    "# def _inhibition_to_kd(percentage, concentration):\n",
    "#     fraction = percentage / 100.\n",
    "#     # using equation 7 from https://www.molbiolcell.org/doi/10.1091/mbc.e10-08-0683#F1\n",
    "#     kd = concentration*((1 - fraction)/fraction)\n",
    "#     return kd\n",
    "\n",
    "# ### combining all\n",
    "# for ligand in index_to_title.keys():\n",
    "#     inhib = r_inhib_20[index_to_title[ligand]]\n",
    "#     if inhib is not None and inhib > 0.:\n",
    "#         kd_a = _inhibition_to_kd(inhib,20.)\n",
    "#     else:\n",
    "#         kd_a = None\n",
    "#     inhib = r_inhib_50[index_to_title[ligand]]\n",
    "#     if inhib is not None and inhib > 0.:\n",
    "#         kd_b = _inhibition_to_kd(inhib,50.)\n",
    "#     else:\n",
    "#         kd_b = None\n",
    "#     print(kd_a, kd_b, r_ic50[index_to_title[ligand]])"
   ]
  },
  {
   "cell_type": "code",
   "execution_count": null,
   "metadata": {},
   "outputs": [],
   "source": [
    "fig, axes = plt.subplots(ncols=2,nrows=len(graphs),figsize=(10, 5*len(graphs)),sharey=True)\n",
    "\n",
    "for i, protein in enumerate(graphs.keys()):\n",
    "    g = graphs[protein]\n",
    "    for j, item in enumerate([r_ic50,f_ic50]):\n",
    "        xs = []\n",
    "        y_err = []\n",
    "        ys = []\n",
    "        for edge in g.edges(data=True):\n",
    "            if edge[0] == 0:\n",
    "                index = edge[1]\n",
    "            else:\n",
    "                index = edge[0]\n",
    "            ic = item[index_to_title[index]]\n",
    "            if ic is not None:\n",
    "                ys.append(edge[2]['calc_DDG'])\n",
    "                y_err.append(edge[2]['calc_dDDG'])\n",
    "                xs.append(0.59*np.log(ic))\n",
    "            elif \n",
    "        axes[i][j].scatter(xs,ys)\n",
    "        axes[i][j].errorbar(xs,ys,yerr=y_err,ls='none')\n",
    "\n",
    "        \n",
    "        statistics_string = f'{protein}\\n'\n",
    "        for statistic in ['R2']:\n",
    "            s = stats.bootstrap_statistic(np.asarray(xs),np.asarray(ys), statistic=statistic)\n",
    "            string = f\"{statistic}:   {s['mle']:.2f} [95%: {s['low']:.2f}, {s['high']:.2f}] \" + \"\\n\"\n",
    "            statistics_string += string\n",
    "        axes[i][j].set_title(statistics_string, fontsize=12, loc='right', horizontalalignment='right', family='monospace')\n",
    "\n",
    "    axes[i][0].set_ylabel(f'Calculated ΔΔG '+r'/ kcal mol$^{-1}$')\n",
    "    axes[i][0].set_xlabel(r'ΔG from IC$_{50}$  (rapidfire) '+r'/ kcal mol$^{-1}$')\n",
    "    axes[i][1].set_xlabel(r'ΔG from IC$_{50}$  (fluorescence)'+r'/ kcal mol$^{-1}$')\n",
    "plt.subplots_adjust(hspace = 0.5,wspace = 0.5) \n",
    "plt.show()"
   ]
  },
  {
   "cell_type": "code",
   "execution_count": null,
   "metadata": {},
   "outputs": [],
   "source": [
    "# enumerated stereochemistry\n",
    "\n",
    "# for title in title_to_index.keys():\n",
    "#     print(title)"
   ]
  },
  {
   "cell_type": "code",
   "execution_count": 189,
   "metadata": {},
   "outputs": [],
   "source": [
    "fig1_left = {1:'ADA-UCB-6c2cb422-1',\n",
    "2:'TRY-UNI-714a760b-6',\n",
    "3:'EDG-MED-0da5ad92-2',\n",
    "4:'JAN-GHE-5a013bed-2',\n",
    "5:'JAN-GHE-5a013bed-3',\n",
    "6:'JAN-GHE-5a013bed-1'}\n",
    "\n",
    "\n",
    "# fig1_r = {\n",
    "# 1'TRY-UNI-714a760b-6'\n",
    "# 2'JAN-GHE-83b26c96-12'\n",
    "# 3'TRY-UNI-714a760b-20'\n",
    "# 4\n",
    "# 5\n"
   ]
  },
  {
   "cell_type": "code",
   "execution_count": 437,
   "metadata": {},
   "outputs": [],
   "source": [
    "g = graphs['neutral-f']\n",
    "for title in fig1_left.values():\n",
    "    try:\n",
    "        print(g.nodes.data()[title])"
   ]
  },
  {
   "cell_type": "code",
   "execution_count": 439,
   "metadata": {},
   "outputs": [
    {
     "data": {
      "text/plain": [
       "{'r_inhib50uM': 28.6594331524507,\n",
       " 'r_IC50': 73.3563140602343,\n",
       " 'f_inhib20uM': 39.57277,\n",
       " 'f_inhib50uM': 70.405075,\n",
       " 'f_IC50': 14.1625652028387,\n",
       " 'DG': 2.043544106472776,\n",
       " 'dDG': 0.48519427380776525}"
      ]
     },
     "execution_count": 439,
     "metadata": {},
     "output_type": "execute_result"
    }
   ],
   "source": [
    "experimental[title]"
   ]
  },
  {
   "cell_type": "code",
   "execution_count": 440,
   "metadata": {},
   "outputs": [
    {
     "data": {
      "text/plain": [
       "{'r_inhib50uM': 87.191315835,\n",
       " 'r_IC50': 0.940748777754165,\n",
       " 'f_inhib20uM': 94.4703,\n",
       " 'f_inhib50uM': 97.00562,\n",
       " 'f_IC50': 3.6098563119233,\n",
       " 'DG': 0.3551582187249122,\n",
       " 'dDG': 0.3967003996612177}"
      ]
     },
     "execution_count": 440,
     "metadata": {},
     "output_type": "execute_result"
    }
   ],
   "source": [
    "experimental['TRY-UNI-2eddb1ff-7']"
   ]
  },
  {
   "cell_type": "code",
   "execution_count": 445,
   "metadata": {},
   "outputs": [
    {
     "name": "stdout",
     "output_type": "stream",
     "text": [
      "{'r_inhib50uM': 0.0, 'f_inhib20uM': 0.0, 'f_inhib50uM': 2.540904, 'DG': 4.454266664763582, 'dDG': 0.0}\n",
      "{'r_inhib50uM': 58.930355553955, 'r_IC50': 66.3508066283698, 'f_inhib20uM': 64.546535, 'f_inhib50uM': 84.22906, 'f_IC50': 13.6719871340003, 'DG': 2.0035344689963206, 'dDG': 0.46598403936773336}\n",
      "{'r_inhib50uM': 0.0, 'f_inhib20uM': 0.0, 'f_inhib50uM': 7.303486, 'DG': 3.8017657579982713, 'dDG': 0.0}\n",
      "{'r_inhib50uM': 4.57, 'f_inhib20uM': 0.0, 'f_inhib50uM': 1.67086995, 'DG': 4.401175519186263, 'dDG': 0.3056483533480998}\n",
      "{'r_inhib50uM': 3.35419548562795, 'f_inhib20uM': 4.102835, 'f_inhib50uM': 3.5664645, 'DG': 4.2667335196450695, 'dDG': 0.018750671652795425}\n",
      "{'r_inhib50uM': 0.0, 'f_inhib20uM': 0.0, 'f_inhib50uM': 0.0}\n",
      "{'r_inhib50uM': 8.855, 'f_inhib20uM': 1.3484824, 'f_inhib50uM': 1.3631175, 'DG': 4.253464470078363, 'dDG': 0.575309449546247}\n",
      "{'r_inhib50uM': 45.2875347336265, 'f_inhib20uM': 17.61691, 'f_inhib50uM': 35.208985, 'DG': 2.672063925309131, 'dDG': 0.0}\n",
      "{'r_inhib50uM': 0.0, 'f_inhib20uM': 3.0183885, 'f_inhib50uM': 0.0}\n",
      "{'r_inhib50uM': 0.0, 'f_inhib20uM': 10.2293075, 'f_inhib50uM': 15.574088, 'DG': 3.0434575454517385, 'dDG': 0.0}\n",
      "{'r_inhib50uM': 18.8253366101928, 'f_inhib20uM': 4.527841, 'f_inhib50uM': 5.745891, 'DG': 3.5589662297527047, 'dDG': 0.3941524248729096}\n",
      "{'r_inhib50uM': 4.1366251583336, 'f_inhib20uM': 0.0, 'f_inhib50uM': 3.788563, 'DG': 4.183981615056888, 'dDG': 0.026997728583606495}\n",
      "{'r_inhib50uM': 4.01, 'f_inhib20uM': 0.0, 'f_inhib50uM': 0.0, 'DG': 4.176105229073175, 'dDG': 0.0}\n",
      "{'r_inhib50uM': 0.0, 'f_inhib20uM': 0.0, 'f_inhib50uM': 0.0}\n",
      "{'r_inhib50uM': 58.622264305, 'r_IC50': 18.387963478411, 'f_inhib20uM': 46.10042, 'f_inhib50uM': 73.050635, 'f_IC50': 42.3575881065483, 'DG': 1.9585584593210665, 'dDG': 0.2461631303552555}\n",
      "{'r_inhib20uM': 15.5016110318792, 'r_inhib50uM': 65.9276376769994, 'f_inhib20uM': 66.7876, 'f_inhib50uM': 75.23331, 'f_IC50': 24.1845155987681, 'DG': 1.8740649372940796, 'dDG': 0.0}\n",
      "{'r_inhib20uM': 0.0, 'f_inhib20uM': 18.33001, 'f_inhib50uM': 22.7829, 'DG': 2.6435232926511985, 'dDG': 0.0}\n",
      "{'r_inhib20uM': 0.0, 'f_inhib20uM': 5.474617, 'f_inhib50uM': 6.673363, 'DG': 3.858997254513298, 'dDG': 0.0}\n",
      "{'r_inhib20uM': 2.12902402883738, 'f_inhib20uM': 47.4339, 'f_inhib50uM': 60.36814, 'f_IC50': 39.068781630213, 'DG': 2.1570355141548867, 'dDG': 0.0}\n",
      "{'r_inhib20uM': 0.0, 'r_inhib50uM': 10.5166441451651, 'f_inhib20uM': 0.0, 'f_inhib50uM': 3.232219, 'DG': 3.9369585008492045, 'dDG': 0.3711252569965282}\n",
      "{'r_inhib20uM': 0.0, 'f_inhib20uM': 0.4693825, 'f_inhib50uM': 6.26142, 'DG': 3.8991887701320413, 'dDG': 0.0}\n"
     ]
    }
   ],
   "source": [
    "for edge in g.edges(data=True):\n",
    "    print(experimental[edge[1]])"
   ]
  },
  {
   "cell_type": "code",
   "execution_count": null,
   "metadata": {},
   "outputs": [],
   "source": []
  }
 ],
 "metadata": {
  "kernelspec": {
   "display_name": "Python 3",
   "language": "python",
   "name": "python3"
  },
  "language_info": {
   "codemirror_mode": {
    "name": "ipython",
    "version": 3
   },
   "file_extension": ".py",
   "mimetype": "text/x-python",
   "name": "python",
   "nbconvert_exporter": "python",
   "pygments_lexer": "ipython3",
   "version": "3.6.8"
  }
 },
 "nbformat": 4,
 "nbformat_minor": 2
}
