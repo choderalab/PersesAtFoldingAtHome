{
 "cells": [
  {
   "cell_type": "code",
   "execution_count": 1,
   "metadata": {},
   "outputs": [],
   "source": [
    "import os\n",
    "import numpy as np\n",
    "import seaborn as sns\n",
    "from pymbar import BAR\n",
    "import matplotlib.pyplot as plt\n",
    "import seaborn\n",
    "import numpy as np\n",
    "from glob import glob\n",
    "import pickle\n",
    "from simtk.openmm import unit\n",
    "import bz2\n",
    "from beryllium import plotting, stats\n",
    "import pandas as pd\n",
    "import json\n",
    "import tqdm\n",
    "from openmmtools.constants import kB\n",
    "import networkx as nx\n",
    "import random\n",
    "temperature = 300.0 * unit.kelvin\n",
    "kT = kB * temperature"
   ]
  },
  {
   "cell_type": "code",
   "execution_count": 2,
   "metadata": {},
   "outputs": [],
   "source": [
    "def form_edge_matrix(g, label, step=None, action=None):\n",
    "    \"\"\"\n",
    "    Extract the labeled property from edges into a matrix\n",
    "\n",
    "    Parameters\n",
    "    ----------\n",
    "    g : nx.Graph\n",
    "        The graph to extract data from\n",
    "    label : str\n",
    "        The label to use for extracting edge properties\n",
    "    action : str, optional, default=None\n",
    "        If 'symmetrize', will return a symmetric matrix where A[i,j] = A[j,i]\n",
    "        If 'antisymmetrize', will return an antisymmetric matrix where A[i,j] = -A[j,i]\n",
    "\n",
    "    \"\"\"\n",
    "    N = len(g.nodes)\n",
    "    matrix = np.zeros([N,N])\n",
    "    node_index_map = {j:i for i, j in enumerate(g.nodes)}\n",
    "\n",
    "    for i, j in g.edges:\n",
    "        m, n = node_index_map[i],node_index_map[j]        \n",
    "        matrix[m,n] = g.edges[i,j][label]\n",
    "        if action == 'symmetrize':\n",
    "            matrix[n,m] = matrix[m,n]\n",
    "        elif action == 'antisymmetrize':\n",
    "            matrix[n,m] = - matrix[m,n]\n",
    "        elif action is None:\n",
    "            pass\n",
    "        else:\n",
    "            raise Exception(f'action \"{action}\" unknown.')\n",
    "    return matrix\n",
    "\n",
    "\n",
    "def mle(g,factor='f_ij'):\n",
    "    \"\"\"\n",
    "    Compute maximum likelihood estimate of free energies and covariance in their estimates.\n",
    "    The number 'factor' is the node attribute on which the MLE will be calculated,\n",
    "    where d'factor' will be used as the standard error of the factor\n",
    "\n",
    "    We assume the free energy of node 0 is zero.\n",
    "\n",
    "    Reference : https://pubs.acs.org/doi/abs/10.1021/acs.jcim.9b00528\n",
    "    Xu, Huafeng. \"Optimal measurement network of pairwise differences.\" Journal of Chemical Information and Modeling 59.11 (2019): 4720-4728.\n",
    "\n",
    "    Parameters\n",
    "    ----------\n",
    "    g : nx.Graph\n",
    "        The graph for which an estimate is to be computed\n",
    "        Each edge must have attributes 'f_ij' and 'df_ij' for the free energy and uncertainty estimate\n",
    "        Will have 'bayesian_f_ij' and 'bayesian_df_ij' added to each edge\n",
    "        and 'bayesian_f_i' and 'bayesian_df_i' added to each node.\n",
    "    factor : string, default = 'f_ij'\n",
    "        node attribute of nx.Graph that will be used for MLE\n",
    "    Returns\n",
    "    -------\n",
    "    f_i : np.array with shape (n_ligands,)\n",
    "        f_i[i] is the absolute free energy of ligand i in kT\n",
    "        f_i[0] = 0\n",
    "\n",
    "    C : np.array with shape (n_ligands, n_ligands)\n",
    "        C[i,j] is the covariance of the free energy estimates of i and j\n",
    "\n",
    "    \"\"\"\n",
    "    N = len(g.nodes)\n",
    "    \n",
    "    # number of nodes may not be the same as the indices of the nodes\n",
    "    node_index_map = {j:i for i, j in enumerate(g.nodes)}\n",
    "    \n",
    "    f_ij = form_edge_matrix(g, factor, action='antisymmetrize')\n",
    "    df_ij = form_edge_matrix(g, factor.replace('_','_d'), action='symmetrize')\n",
    "\n",
    "    # Form F matrix (Eq 4)\n",
    "    F = np.zeros([N,N])\n",
    "    for (i,j) in g.edges:\n",
    "        m, n = node_index_map[i], node_index_map[j]\n",
    "        F[m,n] = - df_ij[m,n]**(-2)\n",
    "        F[n,m] = - df_ij[m,n]**(-2)\n",
    "    for i in g.nodes:\n",
    "        m = node_index_map[i]\n",
    "        F[m,m] = - np.sum(F[m,:])\n",
    "\n",
    "    # Form z vector (Eq 3)\n",
    "    z = np.zeros([N])\n",
    "    for (i,j) in g.edges:\n",
    "        m, n = node_index_map[i], node_index_map[j]\n",
    "        z[m] += f_ij[m,n] * df_ij[m,n]**(-2)\n",
    "        z[n] += f_ij[n,m] * df_ij[n,m]**(-2)\n",
    "\n",
    "    # Compute MLE estimate (Eq 2)\n",
    "    Finv = np.linalg.pinv(F)\n",
    "    f_i = - np.matmul(Finv, z) # NOTE: This differs in sign from Eq. 2!\n",
    "    f_i[:] -= f_i[0]\n",
    "\n",
    "    # Compute uncertainty\n",
    "    C = Finv\n",
    "    return f_i, C"
   ]
  },
  {
   "cell_type": "code",
   "execution_count": 3,
   "metadata": {},
   "outputs": [],
   "source": [
    "with bz2.BZ2File('../data/work-13420.pkl.bz2', 'r') as infile:\n",
    "    work = pickle.load(infile)"
   ]
  },
  {
   "cell_type": "code",
   "execution_count": 4,
   "metadata": {},
   "outputs": [],
   "source": [
    "work.replace([np.inf, -np.inf], np.nan)\n",
    "work = work.dropna()\n",
    "\n",
    "def _strip_outliers(w,n_devs=100):\n",
    "    w = [x for x in w if np.abs(x) < 10**4]\n",
    "    mean = np.mean(w)\n",
    "    std = np.std(w)\n",
    "    good_w = [x for x in w if np.abs(x-mean) < n_devs*std]\n",
    "    return np.asarray(good_w)"
   ]
  },
  {
   "cell_type": "code",
   "execution_count": 5,
   "metadata": {},
   "outputs": [
    {
     "name": "stdout",
     "output_type": "stream",
     "text": [
      "2978\n",
      "5956\n"
     ]
    }
   ],
   "source": [
    "details = {}\n",
    "jsons = ['2020-07-27.json','2020-07-28.json']\n",
    "for x in jsons:\n",
    "    with open(f'/Users/brucemah/bin/covid-moonshot-new/synthetic-enumeration/{x}', 'r') as f:\n",
    "        new = json.load(f)\n",
    "        details = {**details, **new}\n",
    "        print(len(details))"
   ]
  },
  {
   "cell_type": "code",
   "execution_count": 69,
   "metadata": {},
   "outputs": [
    {
     "name": "stdout",
     "output_type": "stream",
     "text": [
      "{'GEN1', 'GEN2', 'GEN0'}\n"
     ]
    }
   ],
   "source": [
    "print(set(work['GEN']))\n",
    "\n",
    "n_gens_run = max([int(x[3:]) for x in set(work['GEN'])])"
   ]
  },
  {
   "cell_type": "code",
   "execution_count": 70,
   "metadata": {
    "scrolled": true
   },
   "outputs": [
    {
     "name": "stderr",
     "output_type": "stream",
     "text": [
      "  0%|          | 0/5956 [00:00<?, ?it/s]/Users/brucemah/miniconda3/lib/python3.6/site-packages/numpy/core/fromnumeric.py:3335: RuntimeWarning:\n",
      "\n",
      "Mean of empty slice.\n",
      "\n",
      "/Users/brucemah/miniconda3/lib/python3.6/site-packages/numpy/core/_methods.py:161: RuntimeWarning:\n",
      "\n",
      "invalid value encountered in double_scalars\n",
      "\n",
      "/Users/brucemah/miniconda3/lib/python3.6/site-packages/numpy/core/_methods.py:217: RuntimeWarning:\n",
      "\n",
      "Degrees of freedom <= 0 for slice\n",
      "\n",
      "/Users/brucemah/miniconda3/lib/python3.6/site-packages/numpy/core/_methods.py:186: RuntimeWarning:\n",
      "\n",
      "invalid value encountered in true_divide\n",
      "\n",
      "/Users/brucemah/miniconda3/lib/python3.6/site-packages/numpy/core/_methods.py:209: RuntimeWarning:\n",
      "\n",
      "invalid value encountered in double_scalars\n",
      "\n",
      "  1%|          | 48/5956 [00:17<35:28,  2.78it/s]"
     ]
    },
    {
     "name": "stdout",
     "output_type": "stream",
     "text": [
      "Cant calculate RUN1732 complex\n",
      "Cant calculate RUN1732 solvent\n"
     ]
    },
    {
     "name": "stderr",
     "output_type": "stream",
     "text": [
      "\r",
      "  1%|          | 49/5956 [00:18<35:20,  2.79it/s]"
     ]
    },
    {
     "name": "stdout",
     "output_type": "stream",
     "text": [
      "Cant calculate RUN1733 complex\n",
      "Cant calculate RUN1733 solvent\n"
     ]
    },
    {
     "name": "stderr",
     "output_type": "stream",
     "text": [
      "  1%|          | 51/5956 [00:18<35:13,  2.79it/s]"
     ]
    },
    {
     "name": "stdout",
     "output_type": "stream",
     "text": [
      "Cant calculate RUN1735 complex\n",
      "Cant calculate RUN1735 solvent\n"
     ]
    },
    {
     "name": "stderr",
     "output_type": "stream",
     "text": [
      "\r",
      "  1%|          | 52/5956 [00:19<35:27,  2.78it/s]"
     ]
    },
    {
     "name": "stdout",
     "output_type": "stream",
     "text": [
      "Cant calculate RUN1736 complex\n",
      "Cant calculate RUN1736 solvent\n"
     ]
    },
    {
     "name": "stderr",
     "output_type": "stream",
     "text": [
      "  1%|          | 55/5956 [00:20<36:23,  2.70it/s]"
     ]
    },
    {
     "name": "stdout",
     "output_type": "stream",
     "text": [
      "Cant calculate RUN1739 complex\n",
      "Cant calculate RUN1739 solvent\n"
     ]
    },
    {
     "name": "stderr",
     "output_type": "stream",
     "text": [
      "  3%|▎         | 170/5956 [01:02<35:03,  2.75it/s]"
     ]
    },
    {
     "name": "stdout",
     "output_type": "stream",
     "text": [
      "Cant calculate RUN1854 complex\n",
      "Cant calculate RUN1854 solvent\n"
     ]
    },
    {
     "name": "stderr",
     "output_type": "stream",
     "text": [
      "  4%|▍         | 236/5956 [01:26<36:19,  2.62it/s]"
     ]
    },
    {
     "name": "stdout",
     "output_type": "stream",
     "text": [
      "Cant calculate RUN1920 complex\n",
      "Cant calculate RUN1920 solvent\n"
     ]
    },
    {
     "name": "stderr",
     "output_type": "stream",
     "text": [
      "\r",
      "  4%|▍         | 237/5956 [01:26<35:44,  2.67it/s]"
     ]
    },
    {
     "name": "stdout",
     "output_type": "stream",
     "text": [
      "Cant calculate RUN1921 complex\n",
      "Cant calculate RUN1921 solvent\n"
     ]
    },
    {
     "name": "stderr",
     "output_type": "stream",
     "text": [
      "\r",
      "  4%|▍         | 238/5956 [01:27<36:17,  2.63it/s]"
     ]
    },
    {
     "name": "stdout",
     "output_type": "stream",
     "text": [
      "Cant calculate RUN1922 complex\n",
      "Cant calculate RUN1922 solvent\n"
     ]
    },
    {
     "name": "stderr",
     "output_type": "stream",
     "text": [
      "\r",
      "  4%|▍         | 239/5956 [01:27<35:54,  2.65it/s]"
     ]
    },
    {
     "name": "stdout",
     "output_type": "stream",
     "text": [
      "Cant calculate RUN1923 complex\n",
      "Cant calculate RUN1923 solvent\n"
     ]
    },
    {
     "name": "stderr",
     "output_type": "stream",
     "text": [
      "\r",
      "  4%|▍         | 240/5956 [01:27<35:31,  2.68it/s]"
     ]
    },
    {
     "name": "stdout",
     "output_type": "stream",
     "text": [
      "Cant calculate RUN1924 complex\n",
      "Cant calculate RUN1924 solvent\n"
     ]
    },
    {
     "name": "stderr",
     "output_type": "stream",
     "text": [
      "  4%|▍         | 242/5956 [01:28<35:17,  2.70it/s]"
     ]
    },
    {
     "name": "stdout",
     "output_type": "stream",
     "text": [
      "Cant calculate RUN1926 complex\n",
      "Cant calculate RUN1926 solvent\n"
     ]
    },
    {
     "name": "stderr",
     "output_type": "stream",
     "text": [
      "  5%|▌         | 323/5956 [01:59<34:18,  2.74it/s]"
     ]
    },
    {
     "name": "stdout",
     "output_type": "stream",
     "text": [
      "Cant calculate RUN2007 complex\n",
      "Cant calculate RUN2007 solvent\n"
     ]
    },
    {
     "name": "stderr",
     "output_type": "stream",
     "text": [
      "  6%|▌         | 336/5956 [02:04<33:29,  2.80it/s]"
     ]
    },
    {
     "name": "stdout",
     "output_type": "stream",
     "text": [
      "Cant calculate RUN2020 complex\n",
      "Cant calculate RUN2020 solvent\n"
     ]
    },
    {
     "name": "stderr",
     "output_type": "stream",
     "text": [
      "  6%|▌         | 369/5956 [02:16<33:29,  2.78it/s]"
     ]
    },
    {
     "name": "stdout",
     "output_type": "stream",
     "text": [
      "Cant calculate RUN2053 complex\n",
      "Cant calculate RUN2053 solvent\n"
     ]
    },
    {
     "name": "stderr",
     "output_type": "stream",
     "text": [
      "\r",
      "  6%|▌         | 370/5956 [02:16<33:10,  2.81it/s]"
     ]
    },
    {
     "name": "stdout",
     "output_type": "stream",
     "text": [
      "Cant calculate RUN2054 complex\n",
      "Cant calculate RUN2054 solvent\n"
     ]
    },
    {
     "name": "stderr",
     "output_type": "stream",
     "text": [
      "\r",
      "  6%|▌         | 371/5956 [02:17<32:56,  2.83it/s]"
     ]
    },
    {
     "name": "stdout",
     "output_type": "stream",
     "text": [
      "Cant calculate RUN2055 complex\n",
      "Cant calculate RUN2055 solvent\n"
     ]
    },
    {
     "name": "stderr",
     "output_type": "stream",
     "text": [
      "\r",
      "  6%|▌         | 372/5956 [02:17<32:48,  2.84it/s]"
     ]
    },
    {
     "name": "stdout",
     "output_type": "stream",
     "text": [
      "Cant calculate RUN2056 complex\n",
      "Cant calculate RUN2056 solvent\n"
     ]
    },
    {
     "name": "stderr",
     "output_type": "stream",
     "text": [
      "\r",
      "  6%|▋         | 373/5956 [02:17<32:42,  2.84it/s]"
     ]
    },
    {
     "name": "stdout",
     "output_type": "stream",
     "text": [
      "Cant calculate RUN2057 complex\n",
      "Cant calculate RUN2057 solvent\n"
     ]
    },
    {
     "name": "stderr",
     "output_type": "stream",
     "text": [
      "\r",
      "  6%|▋         | 374/5956 [02:18<32:41,  2.85it/s]"
     ]
    },
    {
     "name": "stdout",
     "output_type": "stream",
     "text": [
      "Cant calculate RUN2058 complex\n",
      "Cant calculate RUN2058 solvent\n"
     ]
    },
    {
     "name": "stderr",
     "output_type": "stream",
     "text": [
      "\r",
      "  6%|▋         | 375/5956 [02:18<32:39,  2.85it/s]"
     ]
    },
    {
     "name": "stdout",
     "output_type": "stream",
     "text": [
      "Cant calculate RUN2059 complex\n",
      "Cant calculate RUN2059 solvent\n"
     ]
    },
    {
     "name": "stderr",
     "output_type": "stream",
     "text": [
      "\r",
      "  6%|▋         | 376/5956 [02:18<32:32,  2.86it/s]"
     ]
    },
    {
     "name": "stdout",
     "output_type": "stream",
     "text": [
      "Cant calculate RUN2060 complex\n",
      "Cant calculate RUN2060 solvent\n"
     ]
    },
    {
     "name": "stderr",
     "output_type": "stream",
     "text": [
      "  7%|▋         | 392/5956 [02:24<34:03,  2.72it/s]"
     ]
    },
    {
     "name": "stdout",
     "output_type": "stream",
     "text": [
      "Cant calculate RUN2076 complex\n",
      "Cant calculate RUN2076 solvent\n"
     ]
    },
    {
     "name": "stderr",
     "output_type": "stream",
     "text": [
      "  7%|▋         | 426/5956 [02:37<33:54,  2.72it/s]"
     ]
    },
    {
     "name": "stdout",
     "output_type": "stream",
     "text": [
      "Cant calculate RUN2110 complex\n",
      "Cant calculate RUN2110 solvent\n"
     ]
    },
    {
     "name": "stderr",
     "output_type": "stream",
     "text": [
      "\r",
      "  7%|▋         | 427/5956 [02:37<33:25,  2.76it/s]"
     ]
    },
    {
     "name": "stdout",
     "output_type": "stream",
     "text": [
      "Cant calculate RUN2111 complex\n",
      "Cant calculate RUN2111 solvent\n"
     ]
    },
    {
     "name": "stderr",
     "output_type": "stream",
     "text": [
      "  8%|▊         | 490/5956 [03:00<32:24,  2.81it/s]"
     ]
    },
    {
     "name": "stdout",
     "output_type": "stream",
     "text": [
      "Cant calculate RUN2174 complex\n",
      "Cant calculate RUN2174 solvent\n"
     ]
    },
    {
     "name": "stderr",
     "output_type": "stream",
     "text": [
      "  8%|▊         | 493/5956 [03:01<32:36,  2.79it/s]"
     ]
    },
    {
     "name": "stdout",
     "output_type": "stream",
     "text": [
      "Cant calculate RUN2177 complex\n",
      "Cant calculate RUN2177 solvent\n"
     ]
    },
    {
     "name": "stderr",
     "output_type": "stream",
     "text": [
      "\r",
      "  8%|▊         | 494/5956 [03:02<32:24,  2.81it/s]"
     ]
    },
    {
     "name": "stdout",
     "output_type": "stream",
     "text": [
      "Cant calculate RUN2178 complex\n",
      "Cant calculate RUN2178 solvent\n"
     ]
    },
    {
     "name": "stderr",
     "output_type": "stream",
     "text": [
      "\r",
      "  8%|▊         | 495/5956 [03:02<32:16,  2.82it/s]"
     ]
    },
    {
     "name": "stdout",
     "output_type": "stream",
     "text": [
      "Cant calculate RUN2179 complex\n",
      "Cant calculate RUN2179 solvent\n"
     ]
    },
    {
     "name": "stderr",
     "output_type": "stream",
     "text": [
      "\r",
      "  8%|▊         | 496/5956 [03:02<32:11,  2.83it/s]"
     ]
    },
    {
     "name": "stdout",
     "output_type": "stream",
     "text": [
      "Cant calculate RUN2180 complex\n",
      "Cant calculate RUN2180 solvent\n"
     ]
    },
    {
     "name": "stderr",
     "output_type": "stream",
     "text": [
      "\r",
      "  8%|▊         | 497/5956 [03:03<32:00,  2.84it/s]"
     ]
    },
    {
     "name": "stdout",
     "output_type": "stream",
     "text": [
      "Cant calculate RUN2181 complex\n",
      "Cant calculate RUN2181 solvent\n"
     ]
    },
    {
     "name": "stderr",
     "output_type": "stream",
     "text": [
      "\r",
      "  8%|▊         | 498/5956 [03:03<32:20,  2.81it/s]"
     ]
    },
    {
     "name": "stdout",
     "output_type": "stream",
     "text": [
      "Cant calculate RUN2182 complex\n",
      "Cant calculate RUN2182 solvent\n"
     ]
    },
    {
     "name": "stderr",
     "output_type": "stream",
     "text": [
      "\r",
      "  8%|▊         | 499/5956 [03:04<32:26,  2.80it/s]"
     ]
    },
    {
     "name": "stdout",
     "output_type": "stream",
     "text": [
      "Cant calculate RUN2183 complex\n",
      "Cant calculate RUN2183 solvent\n"
     ]
    },
    {
     "name": "stderr",
     "output_type": "stream",
     "text": [
      "\r",
      "  8%|▊         | 500/5956 [03:04<32:30,  2.80it/s]"
     ]
    },
    {
     "name": "stdout",
     "output_type": "stream",
     "text": [
      "Cant calculate RUN2184 complex\n",
      "Cant calculate RUN2184 solvent\n"
     ]
    },
    {
     "name": "stderr",
     "output_type": "stream",
     "text": [
      "  9%|▉         | 559/5956 [03:26<33:24,  2.69it/s]"
     ]
    },
    {
     "name": "stdout",
     "output_type": "stream",
     "text": [
      "Cant calculate RUN2243 complex\n",
      "Cant calculate RUN2243 solvent\n"
     ]
    },
    {
     "name": "stderr",
     "output_type": "stream",
     "text": [
      "\r",
      "  9%|▉         | 560/5956 [03:26<33:19,  2.70it/s]"
     ]
    },
    {
     "name": "stdout",
     "output_type": "stream",
     "text": [
      "Cant calculate RUN2244 complex\n",
      "Cant calculate RUN2244 solvent\n"
     ]
    },
    {
     "name": "stderr",
     "output_type": "stream",
     "text": [
      " 10%|▉         | 574/5956 [03:31<33:09,  2.71it/s]"
     ]
    },
    {
     "name": "stdout",
     "output_type": "stream",
     "text": [
      "Cant calculate RUN2258 complex\n",
      "Cant calculate RUN2258 solvent\n"
     ]
    },
    {
     "name": "stderr",
     "output_type": "stream",
     "text": [
      " 10%|▉         | 576/5956 [03:32<33:56,  2.64it/s]"
     ]
    },
    {
     "name": "stdout",
     "output_type": "stream",
     "text": [
      "Cant calculate RUN2260 complex\n",
      "Cant calculate RUN2260 solvent\n"
     ]
    },
    {
     "name": "stderr",
     "output_type": "stream",
     "text": [
      " 10%|▉         | 585/5956 [03:36<32:46,  2.73it/s]"
     ]
    },
    {
     "name": "stdout",
     "output_type": "stream",
     "text": [
      "Cant calculate RUN2269 complex\n",
      "Cant calculate RUN2269 solvent\n"
     ]
    },
    {
     "name": "stderr",
     "output_type": "stream",
     "text": [
      "\r",
      " 10%|▉         | 586/5956 [03:36<32:20,  2.77it/s]"
     ]
    },
    {
     "name": "stdout",
     "output_type": "stream",
     "text": [
      "Cant calculate RUN2270 complex\n",
      "Cant calculate RUN2270 solvent\n"
     ]
    },
    {
     "name": "stderr",
     "output_type": "stream",
     "text": [
      "\r",
      " 10%|▉         | 587/5956 [03:36<32:14,  2.78it/s]"
     ]
    },
    {
     "name": "stdout",
     "output_type": "stream",
     "text": [
      "Cant calculate RUN2271 complex\n",
      "Cant calculate RUN2271 solvent\n"
     ]
    },
    {
     "name": "stderr",
     "output_type": "stream",
     "text": [
      "\r",
      " 10%|▉         | 588/5956 [03:37<31:53,  2.80it/s]"
     ]
    },
    {
     "name": "stdout",
     "output_type": "stream",
     "text": [
      "Cant calculate RUN2272 complex\n",
      "Cant calculate RUN2272 solvent\n"
     ]
    },
    {
     "name": "stderr",
     "output_type": "stream",
     "text": [
      "\r",
      " 10%|▉         | 589/5956 [03:37<31:53,  2.80it/s]"
     ]
    },
    {
     "name": "stdout",
     "output_type": "stream",
     "text": [
      "Cant calculate RUN2273 complex\n",
      "Cant calculate RUN2273 solvent\n"
     ]
    },
    {
     "name": "stderr",
     "output_type": "stream",
     "text": [
      "\r",
      " 10%|▉         | 590/5956 [03:37<31:44,  2.82it/s]"
     ]
    },
    {
     "name": "stdout",
     "output_type": "stream",
     "text": [
      "Cant calculate RUN2274 complex\n",
      "Cant calculate RUN2274 solvent\n"
     ]
    },
    {
     "name": "stderr",
     "output_type": "stream",
     "text": [
      "\r",
      " 10%|▉         | 591/5956 [03:38<31:43,  2.82it/s]"
     ]
    },
    {
     "name": "stdout",
     "output_type": "stream",
     "text": [
      "Cant calculate RUN2275 complex\n",
      "Cant calculate RUN2275 solvent\n"
     ]
    },
    {
     "name": "stderr",
     "output_type": "stream",
     "text": [
      "\r",
      " 10%|▉         | 592/5956 [03:38<31:33,  2.83it/s]"
     ]
    },
    {
     "name": "stdout",
     "output_type": "stream",
     "text": [
      "Cant calculate RUN2276 complex\n",
      "Cant calculate RUN2276 solvent\n"
     ]
    },
    {
     "name": "stderr",
     "output_type": "stream",
     "text": [
      " 10%|█         | 606/5956 [03:43<32:23,  2.75it/s]"
     ]
    },
    {
     "name": "stdout",
     "output_type": "stream",
     "text": [
      "Cant calculate RUN2290 complex\n",
      "Cant calculate RUN2290 solvent\n"
     ]
    },
    {
     "name": "stderr",
     "output_type": "stream",
     "text": [
      " 11%|█         | 643/5956 [03:57<31:55,  2.77it/s]"
     ]
    },
    {
     "name": "stdout",
     "output_type": "stream",
     "text": [
      "Cant calculate RUN2327 complex\n",
      "Cant calculate RUN2327 solvent\n"
     ]
    },
    {
     "name": "stderr",
     "output_type": "stream",
     "text": [
      "\r",
      " 11%|█         | 644/5956 [03:57<32:01,  2.76it/s]"
     ]
    },
    {
     "name": "stdout",
     "output_type": "stream",
     "text": [
      "Cant calculate RUN2328 complex\n",
      "Cant calculate RUN2328 solvent\n"
     ]
    },
    {
     "name": "stderr",
     "output_type": "stream",
     "text": [
      " 11%|█         | 654/5956 [04:01<31:33,  2.80it/s]"
     ]
    },
    {
     "name": "stdout",
     "output_type": "stream",
     "text": [
      "Cant calculate RUN2338 complex\n",
      "Cant calculate RUN2338 solvent\n"
     ]
    },
    {
     "name": "stderr",
     "output_type": "stream",
     "text": [
      "\r",
      " 11%|█         | 655/5956 [04:01<31:22,  2.82it/s]"
     ]
    },
    {
     "name": "stdout",
     "output_type": "stream",
     "text": [
      "Cant calculate RUN2339 complex\n",
      "Cant calculate RUN2339 solvent\n"
     ]
    },
    {
     "name": "stderr",
     "output_type": "stream",
     "text": [
      "\r",
      " 11%|█         | 656/5956 [04:01<31:30,  2.80it/s]"
     ]
    },
    {
     "name": "stdout",
     "output_type": "stream",
     "text": [
      "Cant calculate RUN2340 complex\n",
      "Cant calculate RUN2340 solvent\n"
     ]
    },
    {
     "name": "stderr",
     "output_type": "stream",
     "text": [
      "\r",
      " 11%|█         | 657/5956 [04:02<31:30,  2.80it/s]"
     ]
    },
    {
     "name": "stdout",
     "output_type": "stream",
     "text": [
      "Cant calculate RUN2341 complex\n",
      "Cant calculate RUN2341 solvent\n"
     ]
    },
    {
     "name": "stderr",
     "output_type": "stream",
     "text": [
      "\r",
      " 11%|█         | 658/5956 [04:02<31:16,  2.82it/s]"
     ]
    },
    {
     "name": "stdout",
     "output_type": "stream",
     "text": [
      "Cant calculate RUN2342 complex\n",
      "Cant calculate RUN2342 solvent\n"
     ]
    },
    {
     "name": "stderr",
     "output_type": "stream",
     "text": [
      " 12%|█▏        | 725/5956 [04:27<31:00,  2.81it/s]"
     ]
    },
    {
     "name": "stdout",
     "output_type": "stream",
     "text": [
      "Cant calculate RUN2409 complex\n",
      "Cant calculate RUN2409 solvent\n"
     ]
    },
    {
     "name": "stderr",
     "output_type": "stream",
     "text": [
      " 13%|█▎        | 793/5956 [04:51<30:13,  2.85it/s]"
     ]
    },
    {
     "name": "stdout",
     "output_type": "stream",
     "text": [
      "Cant calculate RUN2477 complex\n",
      "Cant calculate RUN2477 solvent\n"
     ]
    },
    {
     "name": "stderr",
     "output_type": "stream",
     "text": [
      "\r",
      " 13%|█▎        | 794/5956 [04:51<29:54,  2.88it/s]"
     ]
    },
    {
     "name": "stdout",
     "output_type": "stream",
     "text": [
      "Cant calculate RUN2478 complex\n",
      "Cant calculate RUN2478 solvent\n"
     ]
    },
    {
     "name": "stderr",
     "output_type": "stream",
     "text": [
      " 14%|█▎        | 818/5956 [05:00<30:54,  2.77it/s]"
     ]
    },
    {
     "name": "stdout",
     "output_type": "stream",
     "text": [
      "Cant calculate RUN2502 complex\n",
      "Cant calculate RUN2502 solvent\n"
     ]
    },
    {
     "name": "stderr",
     "output_type": "stream",
     "text": [
      " 14%|█▍        | 820/5956 [05:01<30:48,  2.78it/s]"
     ]
    },
    {
     "name": "stdout",
     "output_type": "stream",
     "text": [
      "Cant calculate RUN2504 complex\n",
      "Cant calculate RUN2504 solvent\n"
     ]
    },
    {
     "name": "stderr",
     "output_type": "stream",
     "text": [
      "\r",
      " 14%|█▍        | 821/5956 [05:01<30:45,  2.78it/s]"
     ]
    },
    {
     "name": "stdout",
     "output_type": "stream",
     "text": [
      "Cant calculate RUN2505 complex\n",
      "Cant calculate RUN2505 solvent\n"
     ]
    },
    {
     "name": "stderr",
     "output_type": "stream",
     "text": [
      " 14%|█▍        | 828/5956 [05:04<30:42,  2.78it/s]"
     ]
    },
    {
     "name": "stdout",
     "output_type": "stream",
     "text": [
      "Cant calculate RUN2512 complex\n",
      "Cant calculate RUN2512 solvent\n"
     ]
    },
    {
     "name": "stderr",
     "output_type": "stream",
     "text": [
      " 14%|█▍        | 832/5956 [05:05<31:12,  2.74it/s]"
     ]
    },
    {
     "name": "stdout",
     "output_type": "stream",
     "text": [
      "Cant calculate RUN2516 complex\n",
      "Cant calculate RUN2516 solvent\n"
     ]
    },
    {
     "name": "stderr",
     "output_type": "stream",
     "text": [
      " 14%|█▍        | 860/5956 [05:15<30:46,  2.76it/s]"
     ]
    },
    {
     "name": "stdout",
     "output_type": "stream",
     "text": [
      "Cant calculate RUN2544 complex\n",
      "Cant calculate RUN2544 solvent\n"
     ]
    },
    {
     "name": "stderr",
     "output_type": "stream",
     "text": [
      "\r",
      " 14%|█▍        | 861/5956 [05:16<30:55,  2.75it/s]"
     ]
    },
    {
     "name": "stdout",
     "output_type": "stream",
     "text": [
      "Cant calculate RUN2545 complex\n",
      "Cant calculate RUN2545 solvent\n"
     ]
    },
    {
     "name": "stderr",
     "output_type": "stream",
     "text": [
      "\r",
      " 14%|█▍        | 862/5956 [05:16<31:48,  2.67it/s]"
     ]
    },
    {
     "name": "stdout",
     "output_type": "stream",
     "text": [
      "Cant calculate RUN2546 complex\n",
      "Cant calculate RUN2546 solvent\n"
     ]
    },
    {
     "name": "stderr",
     "output_type": "stream",
     "text": [
      "\r",
      " 14%|█▍        | 863/5956 [05:16<31:59,  2.65it/s]"
     ]
    },
    {
     "name": "stdout",
     "output_type": "stream",
     "text": [
      "Cant calculate RUN2547 complex\n",
      "Cant calculate RUN2547 solvent\n"
     ]
    },
    {
     "name": "stderr",
     "output_type": "stream",
     "text": [
      " 15%|█▍        | 865/5956 [05:17<31:35,  2.69it/s]"
     ]
    },
    {
     "name": "stdout",
     "output_type": "stream",
     "text": [
      "Cant calculate RUN2549 complex\n",
      "Cant calculate RUN2549 solvent\n"
     ]
    },
    {
     "name": "stderr",
     "output_type": "stream",
     "text": [
      " 15%|█▍        | 869/5956 [05:19<31:01,  2.73it/s]"
     ]
    },
    {
     "name": "stdout",
     "output_type": "stream",
     "text": [
      "Cant calculate RUN2553 complex\n",
      "Cant calculate RUN2553 solvent\n"
     ]
    },
    {
     "name": "stderr",
     "output_type": "stream",
     "text": [
      "\r",
      " 15%|█▍        | 870/5956 [05:19<30:44,  2.76it/s]"
     ]
    },
    {
     "name": "stdout",
     "output_type": "stream",
     "text": [
      "Cant calculate RUN2554 complex\n",
      "Cant calculate RUN2554 solvent\n"
     ]
    },
    {
     "name": "stderr",
     "output_type": "stream",
     "text": [
      " 15%|█▍        | 873/5956 [05:20<31:07,  2.72it/s]"
     ]
    },
    {
     "name": "stdout",
     "output_type": "stream",
     "text": [
      "Cant calculate RUN2557 complex\n",
      "Cant calculate RUN2557 solvent\n"
     ]
    },
    {
     "name": "stderr",
     "output_type": "stream",
     "text": [
      "\r",
      " 15%|█▍        | 874/5956 [05:20<31:07,  2.72it/s]"
     ]
    },
    {
     "name": "stdout",
     "output_type": "stream",
     "text": [
      "Cant calculate RUN2558 complex\n",
      "Cant calculate RUN2558 solvent\n"
     ]
    },
    {
     "name": "stderr",
     "output_type": "stream",
     "text": [
      " 15%|█▍        | 877/5956 [05:21<31:30,  2.69it/s]"
     ]
    },
    {
     "name": "stdout",
     "output_type": "stream",
     "text": [
      "Cant calculate RUN2561 complex\n",
      "Cant calculate RUN2561 solvent\n"
     ]
    },
    {
     "name": "stderr",
     "output_type": "stream",
     "text": [
      " 16%|█▌        | 960/5956 [05:52<32:23,  2.57it/s]"
     ]
    },
    {
     "name": "stdout",
     "output_type": "stream",
     "text": [
      "Cant calculate RUN2644 complex\n",
      "Cant calculate RUN2644 solvent\n"
     ]
    },
    {
     "name": "stderr",
     "output_type": "stream",
     "text": [
      " 16%|█▌        | 963/5956 [05:53<31:29,  2.64it/s]"
     ]
    },
    {
     "name": "stdout",
     "output_type": "stream",
     "text": [
      "Cant calculate RUN2647 complex\n",
      "Cant calculate RUN2647 solvent\n"
     ]
    },
    {
     "name": "stderr",
     "output_type": "stream",
     "text": [
      " 16%|█▌        | 966/5956 [05:54<31:29,  2.64it/s]"
     ]
    },
    {
     "name": "stdout",
     "output_type": "stream",
     "text": [
      "Cant calculate RUN2650 solvent\n"
     ]
    },
    {
     "name": "stderr",
     "output_type": "stream",
     "text": [
      " 16%|█▋        | 977/5956 [05:58<30:57,  2.68it/s]"
     ]
    },
    {
     "name": "stdout",
     "output_type": "stream",
     "text": [
      "Cant calculate RUN2661 complex\n",
      "Cant calculate RUN2661 solvent\n"
     ]
    },
    {
     "name": "stderr",
     "output_type": "stream",
     "text": [
      " 17%|█▋        | 1019/5956 [06:14<30:16,  2.72it/s]"
     ]
    },
    {
     "name": "stdout",
     "output_type": "stream",
     "text": [
      "Cant calculate RUN2703 complex\n",
      "Cant calculate RUN2703 solvent\n"
     ]
    },
    {
     "name": "stderr",
     "output_type": "stream",
     "text": [
      " 17%|█▋        | 1027/5956 [06:17<30:20,  2.71it/s]"
     ]
    },
    {
     "name": "stdout",
     "output_type": "stream",
     "text": [
      "Cant calculate RUN2711 complex\n",
      "Cant calculate RUN2711 solvent\n"
     ]
    },
    {
     "name": "stderr",
     "output_type": "stream",
     "text": [
      "\r",
      " 17%|█▋        | 1028/5956 [06:17<30:03,  2.73it/s]"
     ]
    },
    {
     "name": "stdout",
     "output_type": "stream",
     "text": [
      "Cant calculate RUN2712 complex\n",
      "Cant calculate RUN2712 solvent\n"
     ]
    },
    {
     "name": "stderr",
     "output_type": "stream",
     "text": [
      " 17%|█▋        | 1030/5956 [06:18<30:19,  2.71it/s]"
     ]
    },
    {
     "name": "stdout",
     "output_type": "stream",
     "text": [
      "Cant calculate RUN2714 complex\n",
      "Cant calculate RUN2714 solvent\n"
     ]
    },
    {
     "name": "stderr",
     "output_type": "stream",
     "text": [
      " 17%|█▋        | 1033/5956 [06:19<29:51,  2.75it/s]"
     ]
    },
    {
     "name": "stdout",
     "output_type": "stream",
     "text": [
      "Cant calculate RUN2717 complex\n",
      "Cant calculate RUN2717 solvent\n"
     ]
    },
    {
     "name": "stderr",
     "output_type": "stream",
     "text": [
      " 17%|█▋        | 1035/5956 [06:20<29:39,  2.77it/s]"
     ]
    },
    {
     "name": "stdout",
     "output_type": "stream",
     "text": [
      "Cant calculate RUN2719 complex\n",
      "Cant calculate RUN2719 solvent\n"
     ]
    },
    {
     "name": "stderr",
     "output_type": "stream",
     "text": [
      " 18%|█▊        | 1051/5956 [06:25<29:23,  2.78it/s]"
     ]
    },
    {
     "name": "stdout",
     "output_type": "stream",
     "text": [
      "Cant calculate RUN2735 solvent\n"
     ]
    },
    {
     "name": "stderr",
     "output_type": "stream",
     "text": [
      " 18%|█▊        | 1058/5956 [06:28<29:12,  2.80it/s]"
     ]
    },
    {
     "name": "stdout",
     "output_type": "stream",
     "text": [
      "Cant calculate RUN2742 complex\n",
      "Cant calculate RUN2742 solvent\n"
     ]
    },
    {
     "name": "stderr",
     "output_type": "stream",
     "text": [
      "\r",
      " 18%|█▊        | 1059/5956 [06:28<29:10,  2.80it/s]"
     ]
    },
    {
     "name": "stdout",
     "output_type": "stream",
     "text": [
      "Cant calculate RUN2743 complex\n",
      "Cant calculate RUN2743 solvent\n"
     ]
    },
    {
     "name": "stderr",
     "output_type": "stream",
     "text": [
      " 18%|█▊        | 1065/5956 [06:30<29:16,  2.78it/s]"
     ]
    },
    {
     "name": "stdout",
     "output_type": "stream",
     "text": [
      "Cant calculate RUN2749 complex\n",
      "Cant calculate RUN2749 solvent\n"
     ]
    },
    {
     "name": "stderr",
     "output_type": "stream",
     "text": [
      " 18%|█▊        | 1068/5956 [06:32<29:20,  2.78it/s]"
     ]
    },
    {
     "name": "stdout",
     "output_type": "stream",
     "text": [
      "Cant calculate RUN2752 complex\n",
      "Cant calculate RUN2752 solvent\n"
     ]
    },
    {
     "name": "stderr",
     "output_type": "stream",
     "text": [
      " 18%|█▊        | 1070/5956 [06:32<29:12,  2.79it/s]"
     ]
    },
    {
     "name": "stdout",
     "output_type": "stream",
     "text": [
      "Cant calculate RUN2754 complex\n",
      "Cant calculate RUN2754 solvent\n"
     ]
    },
    {
     "name": "stderr",
     "output_type": "stream",
     "text": [
      "\r",
      " 18%|█▊        | 1071/5956 [06:33<29:54,  2.72it/s]"
     ]
    },
    {
     "name": "stdout",
     "output_type": "stream",
     "text": [
      "Cant calculate RUN2755 complex\n",
      "Cant calculate RUN2755 solvent\n"
     ]
    },
    {
     "name": "stderr",
     "output_type": "stream",
     "text": [
      "\r",
      " 18%|█▊        | 1072/5956 [06:33<29:42,  2.74it/s]"
     ]
    },
    {
     "name": "stdout",
     "output_type": "stream",
     "text": [
      "Cant calculate RUN2756 complex\n",
      "Cant calculate RUN2756 solvent\n"
     ]
    },
    {
     "name": "stderr",
     "output_type": "stream",
     "text": [
      "\r",
      " 18%|█▊        | 1073/5956 [06:33<29:19,  2.78it/s]"
     ]
    },
    {
     "name": "stdout",
     "output_type": "stream",
     "text": [
      "Cant calculate RUN2757 complex\n",
      "Cant calculate RUN2757 solvent\n"
     ]
    },
    {
     "name": "stderr",
     "output_type": "stream",
     "text": [
      "\r",
      " 18%|█▊        | 1074/5956 [06:34<29:06,  2.80it/s]"
     ]
    },
    {
     "name": "stdout",
     "output_type": "stream",
     "text": [
      "Cant calculate RUN2758 complex\n",
      "Cant calculate RUN2758 solvent\n"
     ]
    },
    {
     "name": "stderr",
     "output_type": "stream",
     "text": [
      "\r",
      " 18%|█▊        | 1075/5956 [06:34<28:55,  2.81it/s]"
     ]
    },
    {
     "name": "stdout",
     "output_type": "stream",
     "text": [
      "Cant calculate RUN2759 complex\n",
      "Cant calculate RUN2759 solvent\n"
     ]
    },
    {
     "name": "stderr",
     "output_type": "stream",
     "text": [
      " 18%|█▊        | 1080/5956 [06:36<29:07,  2.79it/s]"
     ]
    },
    {
     "name": "stdout",
     "output_type": "stream",
     "text": [
      "Cant calculate RUN2764 complex\n",
      "Cant calculate RUN2764 solvent\n"
     ]
    },
    {
     "name": "stderr",
     "output_type": "stream",
     "text": [
      "\r",
      " 18%|█▊        | 1081/5956 [06:36<28:54,  2.81it/s]"
     ]
    },
    {
     "name": "stdout",
     "output_type": "stream",
     "text": [
      "Cant calculate RUN2765 complex\n",
      "Cant calculate RUN2765 solvent\n"
     ]
    },
    {
     "name": "stderr",
     "output_type": "stream",
     "text": [
      " 19%|█▉        | 1124/5956 [06:52<29:58,  2.69it/s]"
     ]
    },
    {
     "name": "stdout",
     "output_type": "stream",
     "text": [
      "Cant calculate RUN2808 complex\n",
      "Cant calculate RUN2808 solvent\n"
     ]
    },
    {
     "name": "stderr",
     "output_type": "stream",
     "text": [
      " 19%|█▉        | 1130/5956 [06:55<29:18,  2.74it/s]"
     ]
    },
    {
     "name": "stdout",
     "output_type": "stream",
     "text": [
      "Cant calculate RUN2814 complex\n",
      "Cant calculate RUN2814 solvent\n"
     ]
    },
    {
     "name": "stderr",
     "output_type": "stream",
     "text": [
      " 20%|██        | 1192/5956 [07:18<29:13,  2.72it/s]"
     ]
    },
    {
     "name": "stdout",
     "output_type": "stream",
     "text": [
      "Cant calculate RUN2876 complex\n",
      "Cant calculate RUN2876 solvent\n"
     ]
    },
    {
     "name": "stderr",
     "output_type": "stream",
     "text": [
      " 21%|██        | 1223/5956 [07:29<29:40,  2.66it/s]"
     ]
    },
    {
     "name": "stdout",
     "output_type": "stream",
     "text": [
      "Cant calculate RUN2907 complex\n",
      "Cant calculate RUN2907 solvent\n"
     ]
    },
    {
     "name": "stderr",
     "output_type": "stream",
     "text": [
      " 21%|██        | 1225/5956 [07:30<29:20,  2.69it/s]"
     ]
    },
    {
     "name": "stdout",
     "output_type": "stream",
     "text": [
      "Cant calculate RUN2909 complex\n",
      "Cant calculate RUN2909 solvent\n"
     ]
    },
    {
     "name": "stderr",
     "output_type": "stream",
     "text": [
      " 21%|██        | 1254/5956 [07:41<27:59,  2.80it/s]"
     ]
    },
    {
     "name": "stdout",
     "output_type": "stream",
     "text": [
      "Cant calculate RUN2938 complex\n",
      "Cant calculate RUN2938 solvent\n"
     ]
    },
    {
     "name": "stderr",
     "output_type": "stream",
     "text": [
      "\r",
      " 21%|██        | 1255/5956 [07:41<27:57,  2.80it/s]"
     ]
    },
    {
     "name": "stdout",
     "output_type": "stream",
     "text": [
      "Cant calculate RUN2939 complex\n",
      "Cant calculate RUN2939 solvent\n"
     ]
    },
    {
     "name": "stderr",
     "output_type": "stream",
     "text": [
      "\r",
      " 21%|██        | 1256/5956 [07:41<28:01,  2.80it/s]"
     ]
    },
    {
     "name": "stdout",
     "output_type": "stream",
     "text": [
      "Cant calculate RUN2940 complex\n",
      "Cant calculate RUN2940 solvent\n"
     ]
    },
    {
     "name": "stderr",
     "output_type": "stream",
     "text": [
      " 21%|██        | 1264/5956 [07:44<28:09,  2.78it/s]"
     ]
    },
    {
     "name": "stdout",
     "output_type": "stream",
     "text": [
      "Cant calculate RUN2948 complex\n",
      "Cant calculate RUN2948 solvent\n"
     ]
    },
    {
     "name": "stderr",
     "output_type": "stream",
     "text": [
      " 22%|██▏       | 1307/5956 [08:00<29:21,  2.64it/s]"
     ]
    },
    {
     "name": "stdout",
     "output_type": "stream",
     "text": [
      "Cant calculate RUN2991 complex\n",
      "Cant calculate RUN2991 solvent\n"
     ]
    },
    {
     "name": "stderr",
     "output_type": "stream",
     "text": [
      " 22%|██▏       | 1314/5956 [08:03<29:43,  2.60it/s]"
     ]
    },
    {
     "name": "stdout",
     "output_type": "stream",
     "text": [
      "Cant calculate RUN2998 solvent\n"
     ]
    },
    {
     "name": "stderr",
     "output_type": "stream",
     "text": [
      " 23%|██▎       | 1375/5956 [08:26<27:09,  2.81it/s]"
     ]
    },
    {
     "name": "stdout",
     "output_type": "stream",
     "text": [
      "Cant calculate RUN3059 complex\n",
      "Cant calculate RUN3059 solvent\n"
     ]
    },
    {
     "name": "stderr",
     "output_type": "stream",
     "text": [
      " 23%|██▎       | 1378/5956 [08:27<27:20,  2.79it/s]"
     ]
    },
    {
     "name": "stdout",
     "output_type": "stream",
     "text": [
      "Cant calculate RUN3062 complex\n",
      "Cant calculate RUN3062 solvent\n"
     ]
    },
    {
     "name": "stderr",
     "output_type": "stream",
     "text": [
      " 23%|██▎       | 1382/5956 [08:29<27:13,  2.80it/s]"
     ]
    },
    {
     "name": "stdout",
     "output_type": "stream",
     "text": [
      "Cant calculate RUN3066 complex\n",
      "Cant calculate RUN3066 solvent\n"
     ]
    },
    {
     "name": "stderr",
     "output_type": "stream",
     "text": [
      " 26%|██▋       | 1564/5956 [09:35<26:29,  2.76it/s]"
     ]
    },
    {
     "name": "stdout",
     "output_type": "stream",
     "text": [
      "Cant calculate RUN3248 complex\n",
      "Cant calculate RUN3248 solvent\n"
     ]
    },
    {
     "name": "stderr",
     "output_type": "stream",
     "text": [
      "\r",
      " 26%|██▋       | 1565/5956 [09:36<26:21,  2.78it/s]"
     ]
    },
    {
     "name": "stdout",
     "output_type": "stream",
     "text": [
      "Cant calculate RUN3249 complex\n",
      "Cant calculate RUN3249 solvent\n"
     ]
    },
    {
     "name": "stderr",
     "output_type": "stream",
     "text": [
      "\r",
      " 26%|██▋       | 1566/5956 [09:36<26:12,  2.79it/s]"
     ]
    },
    {
     "name": "stdout",
     "output_type": "stream",
     "text": [
      "Cant calculate RUN3250 complex\n",
      "Cant calculate RUN3250 solvent\n"
     ]
    },
    {
     "name": "stderr",
     "output_type": "stream",
     "text": [
      " 26%|██▋       | 1569/5956 [09:37<26:09,  2.80it/s]"
     ]
    },
    {
     "name": "stdout",
     "output_type": "stream",
     "text": [
      "Cant calculate RUN3253 complex\n",
      "Cant calculate RUN3253 solvent\n"
     ]
    },
    {
     "name": "stderr",
     "output_type": "stream",
     "text": [
      " 26%|██▋       | 1574/5956 [09:39<26:17,  2.78it/s]"
     ]
    },
    {
     "name": "stdout",
     "output_type": "stream",
     "text": [
      "Cant calculate RUN3258 solvent\n"
     ]
    },
    {
     "name": "stderr",
     "output_type": "stream",
     "text": [
      " 28%|██▊       | 1650/5956 [10:07<27:30,  2.61it/s]"
     ]
    },
    {
     "name": "stdout",
     "output_type": "stream",
     "text": [
      "Cant calculate RUN3334 complex\n",
      "Cant calculate RUN3334 solvent\n"
     ]
    },
    {
     "name": "stderr",
     "output_type": "stream",
     "text": [
      " 28%|██▊       | 1696/5956 [10:24<26:35,  2.67it/s]"
     ]
    },
    {
     "name": "stdout",
     "output_type": "stream",
     "text": [
      "Cant calculate RUN3380 complex\n",
      "Cant calculate RUN3380 solvent\n"
     ]
    },
    {
     "name": "stderr",
     "output_type": "stream",
     "text": [
      "\r",
      " 28%|██▊       | 1697/5956 [10:24<26:44,  2.65it/s]"
     ]
    },
    {
     "name": "stdout",
     "output_type": "stream",
     "text": [
      "Cant calculate RUN3381 complex\n",
      "Cant calculate RUN3381 solvent\n"
     ]
    },
    {
     "name": "stderr",
     "output_type": "stream",
     "text": [
      "\r",
      " 29%|██▊       | 1698/5956 [10:25<26:45,  2.65it/s]"
     ]
    },
    {
     "name": "stdout",
     "output_type": "stream",
     "text": [
      "Cant calculate RUN3382 complex\n",
      "Cant calculate RUN3382 solvent\n"
     ]
    },
    {
     "name": "stderr",
     "output_type": "stream",
     "text": [
      "\r",
      " 29%|██▊       | 1699/5956 [10:25<26:44,  2.65it/s]"
     ]
    },
    {
     "name": "stdout",
     "output_type": "stream",
     "text": [
      "Cant calculate RUN3383 complex\n",
      "Cant calculate RUN3383 solvent\n"
     ]
    },
    {
     "name": "stderr",
     "output_type": "stream",
     "text": [
      "\r",
      " 29%|██▊       | 1700/5956 [10:25<27:12,  2.61it/s]"
     ]
    },
    {
     "name": "stdout",
     "output_type": "stream",
     "text": [
      "Cant calculate RUN3384 complex\n",
      "Cant calculate RUN3384 solvent\n"
     ]
    },
    {
     "name": "stderr",
     "output_type": "stream",
     "text": [
      "\r",
      " 29%|██▊       | 1701/5956 [10:26<26:34,  2.67it/s]"
     ]
    },
    {
     "name": "stdout",
     "output_type": "stream",
     "text": [
      "Cant calculate RUN3385 complex\n",
      "Cant calculate RUN3385 solvent\n"
     ]
    },
    {
     "name": "stderr",
     "output_type": "stream",
     "text": [
      "\r",
      " 29%|██▊       | 1702/5956 [10:26<26:04,  2.72it/s]"
     ]
    },
    {
     "name": "stdout",
     "output_type": "stream",
     "text": [
      "Cant calculate RUN3386 complex\n",
      "Cant calculate RUN3386 solvent\n"
     ]
    },
    {
     "name": "stderr",
     "output_type": "stream",
     "text": [
      "\r",
      " 29%|██▊       | 1703/5956 [10:26<25:40,  2.76it/s]"
     ]
    },
    {
     "name": "stdout",
     "output_type": "stream",
     "text": [
      "Cant calculate RUN3387 complex\n",
      "Cant calculate RUN3387 solvent\n"
     ]
    },
    {
     "name": "stderr",
     "output_type": "stream",
     "text": [
      " 29%|██▉       | 1723/5956 [10:34<25:11,  2.80it/s]"
     ]
    },
    {
     "name": "stdout",
     "output_type": "stream",
     "text": [
      "Cant calculate RUN3407 complex\n",
      "Cant calculate RUN3407 solvent\n"
     ]
    },
    {
     "name": "stderr",
     "output_type": "stream",
     "text": [
      " 29%|██▉       | 1725/5956 [10:34<24:56,  2.83it/s]"
     ]
    },
    {
     "name": "stdout",
     "output_type": "stream",
     "text": [
      "Cant calculate RUN3409 complex\n",
      "Cant calculate RUN3409 solvent\n"
     ]
    },
    {
     "name": "stderr",
     "output_type": "stream",
     "text": [
      " 29%|██▉       | 1751/5956 [10:44<24:59,  2.80it/s]"
     ]
    },
    {
     "name": "stdout",
     "output_type": "stream",
     "text": [
      "Cant calculate RUN3435 complex\n",
      "Cant calculate RUN3435 solvent\n"
     ]
    },
    {
     "name": "stderr",
     "output_type": "stream",
     "text": [
      "\r",
      " 29%|██▉       | 1752/5956 [10:44<24:56,  2.81it/s]"
     ]
    },
    {
     "name": "stdout",
     "output_type": "stream",
     "text": [
      "Cant calculate RUN3436 complex\n",
      "Cant calculate RUN3436 solvent\n"
     ]
    },
    {
     "name": "stderr",
     "output_type": "stream",
     "text": [
      "\r",
      " 29%|██▉       | 1753/5956 [10:44<24:51,  2.82it/s]"
     ]
    },
    {
     "name": "stdout",
     "output_type": "stream",
     "text": [
      "Cant calculate RUN3437 complex\n",
      "Cant calculate RUN3437 solvent\n"
     ]
    },
    {
     "name": "stderr",
     "output_type": "stream",
     "text": [
      " 30%|██▉       | 1780/5956 [10:54<24:57,  2.79it/s]"
     ]
    },
    {
     "name": "stdout",
     "output_type": "stream",
     "text": [
      "Cant calculate RUN3464 complex\n",
      "Cant calculate RUN3464 solvent\n"
     ]
    },
    {
     "name": "stderr",
     "output_type": "stream",
     "text": [
      " 31%|███       | 1817/5956 [11:07<24:26,  2.82it/s]"
     ]
    },
    {
     "name": "stdout",
     "output_type": "stream",
     "text": [
      "Cant calculate RUN3501 complex\n",
      "Cant calculate RUN3501 solvent\n"
     ]
    },
    {
     "name": "stderr",
     "output_type": "stream",
     "text": [
      " 31%|███       | 1820/5956 [11:08<24:24,  2.82it/s]"
     ]
    },
    {
     "name": "stdout",
     "output_type": "stream",
     "text": [
      "Cant calculate RUN3504 complex\n",
      "Cant calculate RUN3504 solvent\n"
     ]
    },
    {
     "name": "stderr",
     "output_type": "stream",
     "text": [
      "\r",
      " 31%|███       | 1821/5956 [11:09<24:13,  2.85it/s]"
     ]
    },
    {
     "name": "stdout",
     "output_type": "stream",
     "text": [
      "Cant calculate RUN3505 complex\n",
      "Cant calculate RUN3505 solvent\n"
     ]
    },
    {
     "name": "stderr",
     "output_type": "stream",
     "text": [
      "\r",
      " 31%|███       | 1822/5956 [11:09<24:06,  2.86it/s]"
     ]
    },
    {
     "name": "stdout",
     "output_type": "stream",
     "text": [
      "Cant calculate RUN3506 complex\n",
      "Cant calculate RUN3506 solvent\n"
     ]
    },
    {
     "name": "stderr",
     "output_type": "stream",
     "text": [
      "\r",
      " 31%|███       | 1823/5956 [11:09<24:07,  2.85it/s]"
     ]
    },
    {
     "name": "stdout",
     "output_type": "stream",
     "text": [
      "Cant calculate RUN3507 complex\n",
      "Cant calculate RUN3507 solvent\n"
     ]
    },
    {
     "name": "stderr",
     "output_type": "stream",
     "text": [
      "\r",
      " 31%|███       | 1824/5956 [11:10<24:02,  2.86it/s]"
     ]
    },
    {
     "name": "stdout",
     "output_type": "stream",
     "text": [
      "Cant calculate RUN3508 complex\n",
      "Cant calculate RUN3508 solvent\n"
     ]
    },
    {
     "name": "stderr",
     "output_type": "stream",
     "text": [
      "\r",
      " 31%|███       | 1825/5956 [11:10<24:01,  2.87it/s]"
     ]
    },
    {
     "name": "stdout",
     "output_type": "stream",
     "text": [
      "Cant calculate RUN3509 complex\n",
      "Cant calculate RUN3509 solvent\n"
     ]
    },
    {
     "name": "stderr",
     "output_type": "stream",
     "text": [
      "\r",
      " 31%|███       | 1826/5956 [11:10<24:09,  2.85it/s]"
     ]
    },
    {
     "name": "stdout",
     "output_type": "stream",
     "text": [
      "Cant calculate RUN3510 complex\n",
      "Cant calculate RUN3510 solvent\n"
     ]
    },
    {
     "name": "stderr",
     "output_type": "stream",
     "text": [
      "\r",
      " 31%|███       | 1827/5956 [11:11<24:04,  2.86it/s]"
     ]
    },
    {
     "name": "stdout",
     "output_type": "stream",
     "text": [
      "Cant calculate RUN3511 complex\n",
      "Cant calculate RUN3511 solvent\n"
     ]
    },
    {
     "name": "stderr",
     "output_type": "stream",
     "text": [
      " 31%|███       | 1831/5956 [11:12<24:12,  2.84it/s]"
     ]
    },
    {
     "name": "stdout",
     "output_type": "stream",
     "text": [
      "Cant calculate RUN3515 complex\n",
      "Cant calculate RUN3515 solvent\n"
     ]
    },
    {
     "name": "stderr",
     "output_type": "stream",
     "text": [
      "\r",
      " 31%|███       | 1832/5956 [11:13<24:13,  2.84it/s]"
     ]
    },
    {
     "name": "stdout",
     "output_type": "stream",
     "text": [
      "Cant calculate RUN3516 complex\n",
      "Cant calculate RUN3516 solvent\n"
     ]
    },
    {
     "name": "stderr",
     "output_type": "stream",
     "text": [
      " 32%|███▏      | 1886/5956 [11:32<23:59,  2.83it/s]"
     ]
    },
    {
     "name": "stdout",
     "output_type": "stream",
     "text": [
      "Cant calculate RUN3570 complex\n",
      "Cant calculate RUN3570 solvent\n"
     ]
    },
    {
     "name": "stderr",
     "output_type": "stream",
     "text": [
      "\r",
      " 32%|███▏      | 1887/5956 [11:32<23:50,  2.84it/s]"
     ]
    },
    {
     "name": "stdout",
     "output_type": "stream",
     "text": [
      "Cant calculate RUN3571 complex\n",
      "Cant calculate RUN3571 solvent\n"
     ]
    },
    {
     "name": "stderr",
     "output_type": "stream",
     "text": [
      " 32%|███▏      | 1902/5956 [11:38<23:57,  2.82it/s]"
     ]
    },
    {
     "name": "stdout",
     "output_type": "stream",
     "text": [
      "Cant calculate RUN3586 complex\n",
      "Cant calculate RUN3586 solvent\n"
     ]
    },
    {
     "name": "stderr",
     "output_type": "stream",
     "text": [
      " 32%|███▏      | 1912/5956 [11:41<23:55,  2.82it/s]"
     ]
    },
    {
     "name": "stdout",
     "output_type": "stream",
     "text": [
      "Cant calculate RUN3596 complex\n",
      "Cant calculate RUN3596 solvent\n"
     ]
    },
    {
     "name": "stderr",
     "output_type": "stream",
     "text": [
      "\r",
      " 32%|███▏      | 1913/5956 [11:42<23:49,  2.83it/s]"
     ]
    },
    {
     "name": "stdout",
     "output_type": "stream",
     "text": [
      "Cant calculate RUN3597 complex\n",
      "Cant calculate RUN3597 solvent\n"
     ]
    },
    {
     "name": "stderr",
     "output_type": "stream",
     "text": [
      "\r",
      " 32%|███▏      | 1914/5956 [11:42<23:40,  2.85it/s]"
     ]
    },
    {
     "name": "stdout",
     "output_type": "stream",
     "text": [
      "Cant calculate RUN3598 complex\n",
      "Cant calculate RUN3598 solvent\n"
     ]
    },
    {
     "name": "stderr",
     "output_type": "stream",
     "text": [
      "\r",
      " 32%|███▏      | 1915/5956 [11:42<23:32,  2.86it/s]"
     ]
    },
    {
     "name": "stdout",
     "output_type": "stream",
     "text": [
      "Cant calculate RUN3599 complex\n",
      "Cant calculate RUN3599 solvent\n"
     ]
    },
    {
     "name": "stderr",
     "output_type": "stream",
     "text": [
      "\r",
      " 32%|███▏      | 1916/5956 [11:43<23:34,  2.86it/s]"
     ]
    },
    {
     "name": "stdout",
     "output_type": "stream",
     "text": [
      "Cant calculate RUN3600 complex\n",
      "Cant calculate RUN3600 solvent\n"
     ]
    },
    {
     "name": "stderr",
     "output_type": "stream",
     "text": [
      "\r",
      " 32%|███▏      | 1917/5956 [11:43<23:28,  2.87it/s]"
     ]
    },
    {
     "name": "stdout",
     "output_type": "stream",
     "text": [
      "Cant calculate RUN3601 complex\n",
      "Cant calculate RUN3601 solvent\n"
     ]
    },
    {
     "name": "stderr",
     "output_type": "stream",
     "text": [
      "\r",
      " 32%|███▏      | 1918/5956 [11:43<23:24,  2.88it/s]"
     ]
    },
    {
     "name": "stdout",
     "output_type": "stream",
     "text": [
      "Cant calculate RUN3602 complex\n",
      "Cant calculate RUN3602 solvent\n"
     ]
    },
    {
     "name": "stderr",
     "output_type": "stream",
     "text": [
      "\r",
      " 32%|███▏      | 1919/5956 [11:44<23:22,  2.88it/s]"
     ]
    },
    {
     "name": "stdout",
     "output_type": "stream",
     "text": [
      "Cant calculate RUN3603 complex\n",
      "Cant calculate RUN3603 solvent\n"
     ]
    },
    {
     "name": "stderr",
     "output_type": "stream",
     "text": [
      " 32%|███▏      | 1933/5956 [11:49<23:46,  2.82it/s]"
     ]
    },
    {
     "name": "stdout",
     "output_type": "stream",
     "text": [
      "Cant calculate RUN3617 complex\n",
      "Cant calculate RUN3617 solvent\n"
     ]
    },
    {
     "name": "stderr",
     "output_type": "stream",
     "text": [
      " 33%|███▎      | 1972/5956 [12:03<23:38,  2.81it/s]"
     ]
    },
    {
     "name": "stdout",
     "output_type": "stream",
     "text": [
      "Cant calculate RUN3656 complex\n",
      "Cant calculate RUN3656 solvent\n"
     ]
    },
    {
     "name": "stderr",
     "output_type": "stream",
     "text": [
      " 33%|███▎      | 1981/5956 [12:06<23:35,  2.81it/s]"
     ]
    },
    {
     "name": "stdout",
     "output_type": "stream",
     "text": [
      "Cant calculate RUN3665 complex\n",
      "Cant calculate RUN3665 solvent\n"
     ]
    },
    {
     "name": "stderr",
     "output_type": "stream",
     "text": [
      "\r",
      " 33%|███▎      | 1982/5956 [12:06<23:26,  2.83it/s]"
     ]
    },
    {
     "name": "stdout",
     "output_type": "stream",
     "text": [
      "Cant calculate RUN3666 complex\n",
      "Cant calculate RUN3666 solvent\n"
     ]
    },
    {
     "name": "stderr",
     "output_type": "stream",
     "text": [
      " 33%|███▎      | 1984/5956 [12:07<23:23,  2.83it/s]"
     ]
    },
    {
     "name": "stdout",
     "output_type": "stream",
     "text": [
      "Cant calculate RUN3668 complex\n",
      "Cant calculate RUN3668 solvent\n"
     ]
    },
    {
     "name": "stderr",
     "output_type": "stream",
     "text": [
      " 34%|███▍      | 2011/5956 [12:17<23:22,  2.81it/s]"
     ]
    },
    {
     "name": "stdout",
     "output_type": "stream",
     "text": [
      "Cant calculate RUN3695 complex\n",
      "Cant calculate RUN3695 solvent\n"
     ]
    },
    {
     "name": "stderr",
     "output_type": "stream",
     "text": [
      " 34%|███▍      | 2022/5956 [12:21<23:15,  2.82it/s]"
     ]
    },
    {
     "name": "stdout",
     "output_type": "stream",
     "text": [
      "Cant calculate RUN3706 complex\n",
      "Cant calculate RUN3706 solvent\n"
     ]
    },
    {
     "name": "stderr",
     "output_type": "stream",
     "text": [
      " 34%|███▍      | 2054/5956 [12:32<22:59,  2.83it/s]"
     ]
    },
    {
     "name": "stdout",
     "output_type": "stream",
     "text": [
      "Cant calculate RUN3738 complex\n",
      "Cant calculate RUN3738 solvent\n"
     ]
    },
    {
     "name": "stderr",
     "output_type": "stream",
     "text": [
      " 35%|███▌      | 2088/5956 [12:44<23:33,  2.74it/s]"
     ]
    },
    {
     "name": "stdout",
     "output_type": "stream",
     "text": [
      "Cant calculate RUN3772 complex\n",
      "Cant calculate RUN3772 solvent\n"
     ]
    },
    {
     "name": "stderr",
     "output_type": "stream",
     "text": [
      " 35%|███▌      | 2092/5956 [12:46<22:54,  2.81it/s]"
     ]
    },
    {
     "name": "stdout",
     "output_type": "stream",
     "text": [
      "Cant calculate RUN3776 complex\n",
      "Cant calculate RUN3776 solvent\n"
     ]
    },
    {
     "name": "stderr",
     "output_type": "stream",
     "text": [
      " 36%|███▌      | 2144/5956 [13:04<22:31,  2.82it/s]"
     ]
    },
    {
     "name": "stdout",
     "output_type": "stream",
     "text": [
      "Cant calculate RUN3828 complex\n",
      "Cant calculate RUN3828 solvent\n"
     ]
    },
    {
     "name": "stderr",
     "output_type": "stream",
     "text": [
      " 36%|███▌      | 2147/5956 [13:05<22:39,  2.80it/s]"
     ]
    },
    {
     "name": "stdout",
     "output_type": "stream",
     "text": [
      "Cant calculate RUN3831 complex\n",
      "Cant calculate RUN3831 solvent\n"
     ]
    },
    {
     "name": "stderr",
     "output_type": "stream",
     "text": [
      "\r",
      " 36%|███▌      | 2148/5956 [13:06<22:30,  2.82it/s]"
     ]
    },
    {
     "name": "stdout",
     "output_type": "stream",
     "text": [
      "Cant calculate RUN3832 complex\n",
      "Cant calculate RUN3832 solvent\n"
     ]
    },
    {
     "name": "stderr",
     "output_type": "stream",
     "text": [
      " 36%|███▌      | 2151/5956 [13:07<22:25,  2.83it/s]"
     ]
    },
    {
     "name": "stdout",
     "output_type": "stream",
     "text": [
      "Cant calculate RUN3835 complex\n",
      "Cant calculate RUN3835 solvent\n"
     ]
    },
    {
     "name": "stderr",
     "output_type": "stream",
     "text": [
      "\r",
      " 36%|███▌      | 2152/5956 [13:07<22:18,  2.84it/s]"
     ]
    },
    {
     "name": "stdout",
     "output_type": "stream",
     "text": [
      "Cant calculate RUN3836 complex\n",
      "Cant calculate RUN3836 solvent\n"
     ]
    },
    {
     "name": "stderr",
     "output_type": "stream",
     "text": [
      "\r",
      " 36%|███▌      | 2153/5956 [13:08<22:26,  2.82it/s]"
     ]
    },
    {
     "name": "stdout",
     "output_type": "stream",
     "text": [
      "Cant calculate RUN3837 complex\n",
      "Cant calculate RUN3837 solvent\n"
     ]
    },
    {
     "name": "stderr",
     "output_type": "stream",
     "text": [
      " 36%|███▌      | 2156/5956 [13:09<22:26,  2.82it/s]"
     ]
    },
    {
     "name": "stdout",
     "output_type": "stream",
     "text": [
      "Cant calculate RUN3840 complex\n",
      "Cant calculate RUN3840 solvent\n"
     ]
    },
    {
     "name": "stderr",
     "output_type": "stream",
     "text": [
      "\r",
      " 36%|███▌      | 2157/5956 [13:09<22:19,  2.84it/s]"
     ]
    },
    {
     "name": "stdout",
     "output_type": "stream",
     "text": [
      "Cant calculate RUN3841 complex\n",
      "Cant calculate RUN3841 solvent\n"
     ]
    },
    {
     "name": "stderr",
     "output_type": "stream",
     "text": [
      "\r",
      " 36%|███▌      | 2158/5956 [13:09<22:13,  2.85it/s]"
     ]
    },
    {
     "name": "stdout",
     "output_type": "stream",
     "text": [
      "Cant calculate RUN3842 complex\n",
      "Cant calculate RUN3842 solvent\n"
     ]
    },
    {
     "name": "stderr",
     "output_type": "stream",
     "text": [
      " 37%|███▋      | 2186/5956 [13:19<22:17,  2.82it/s]"
     ]
    },
    {
     "name": "stdout",
     "output_type": "stream",
     "text": [
      "Cant calculate RUN3870 complex\n",
      "Cant calculate RUN3870 solvent\n"
     ]
    },
    {
     "name": "stderr",
     "output_type": "stream",
     "text": [
      "\r",
      " 37%|███▋      | 2187/5956 [13:20<22:07,  2.84it/s]"
     ]
    },
    {
     "name": "stdout",
     "output_type": "stream",
     "text": [
      "Cant calculate RUN3871 complex\n",
      "Cant calculate RUN3871 solvent\n"
     ]
    },
    {
     "name": "stderr",
     "output_type": "stream",
     "text": [
      "\r",
      " 37%|███▋      | 2188/5956 [13:20<22:02,  2.85it/s]"
     ]
    },
    {
     "name": "stdout",
     "output_type": "stream",
     "text": [
      "Cant calculate RUN3872 complex\n",
      "Cant calculate RUN3872 solvent\n"
     ]
    },
    {
     "name": "stderr",
     "output_type": "stream",
     "text": [
      " 37%|███▋      | 2191/5956 [13:21<22:15,  2.82it/s]"
     ]
    },
    {
     "name": "stdout",
     "output_type": "stream",
     "text": [
      "Cant calculate RUN3875 complex\n",
      "Cant calculate RUN3875 solvent\n"
     ]
    },
    {
     "name": "stderr",
     "output_type": "stream",
     "text": [
      " 37%|███▋      | 2196/5956 [13:23<22:07,  2.83it/s]"
     ]
    },
    {
     "name": "stdout",
     "output_type": "stream",
     "text": [
      "Cant calculate RUN3880 complex\n",
      "Cant calculate RUN3880 solvent\n"
     ]
    },
    {
     "name": "stderr",
     "output_type": "stream",
     "text": [
      "\r",
      " 37%|███▋      | 2197/5956 [13:23<21:59,  2.85it/s]"
     ]
    },
    {
     "name": "stdout",
     "output_type": "stream",
     "text": [
      "Cant calculate RUN3881 complex\n",
      "Cant calculate RUN3881 solvent\n"
     ]
    },
    {
     "name": "stderr",
     "output_type": "stream",
     "text": [
      "\r",
      " 37%|███▋      | 2198/5956 [13:24<21:52,  2.86it/s]"
     ]
    },
    {
     "name": "stdout",
     "output_type": "stream",
     "text": [
      "Cant calculate RUN3882 complex\n",
      "Cant calculate RUN3882 solvent\n"
     ]
    },
    {
     "name": "stderr",
     "output_type": "stream",
     "text": [
      "\r",
      " 37%|███▋      | 2199/5956 [13:24<21:49,  2.87it/s]"
     ]
    },
    {
     "name": "stdout",
     "output_type": "stream",
     "text": [
      "Cant calculate RUN3883 complex\n",
      "Cant calculate RUN3883 solvent\n"
     ]
    },
    {
     "name": "stderr",
     "output_type": "stream",
     "text": [
      " 37%|███▋      | 2201/5956 [13:25<21:58,  2.85it/s]"
     ]
    },
    {
     "name": "stdout",
     "output_type": "stream",
     "text": [
      "Cant calculate RUN3885 complex\n",
      "Cant calculate RUN3885 solvent\n"
     ]
    },
    {
     "name": "stderr",
     "output_type": "stream",
     "text": [
      " 39%|███▊      | 2304/5956 [14:02<21:37,  2.82it/s]"
     ]
    },
    {
     "name": "stdout",
     "output_type": "stream",
     "text": [
      "Cant calculate RUN3988 complex\n",
      "Cant calculate RUN3988 solvent\n"
     ]
    },
    {
     "name": "stderr",
     "output_type": "stream",
     "text": [
      " 39%|███▉      | 2346/5956 [14:17<21:25,  2.81it/s]"
     ]
    },
    {
     "name": "stdout",
     "output_type": "stream",
     "text": [
      "Cant calculate RUN4030 complex\n",
      "Cant calculate RUN4030 solvent\n"
     ]
    },
    {
     "name": "stderr",
     "output_type": "stream",
     "text": [
      " 40%|███▉      | 2354/5956 [14:20<21:29,  2.79it/s]"
     ]
    },
    {
     "name": "stdout",
     "output_type": "stream",
     "text": [
      "Cant calculate RUN4038 complex\n",
      "Cant calculate RUN4038 solvent\n"
     ]
    },
    {
     "name": "stderr",
     "output_type": "stream",
     "text": [
      " 40%|███▉      | 2356/5956 [14:20<21:21,  2.81it/s]"
     ]
    },
    {
     "name": "stdout",
     "output_type": "stream",
     "text": [
      "Cant calculate RUN4040 complex\n",
      "Cant calculate RUN4040 solvent\n"
     ]
    },
    {
     "name": "stderr",
     "output_type": "stream",
     "text": [
      "\r",
      " 40%|███▉      | 2357/5956 [14:21<21:10,  2.83it/s]"
     ]
    },
    {
     "name": "stdout",
     "output_type": "stream",
     "text": [
      "Cant calculate RUN4041 complex\n",
      "Cant calculate RUN4041 solvent\n"
     ]
    },
    {
     "name": "stderr",
     "output_type": "stream",
     "text": [
      "\r",
      " 40%|███▉      | 2358/5956 [14:21<21:06,  2.84it/s]"
     ]
    },
    {
     "name": "stdout",
     "output_type": "stream",
     "text": [
      "Cant calculate RUN4042 complex\n",
      "Cant calculate RUN4042 solvent\n"
     ]
    },
    {
     "name": "stderr",
     "output_type": "stream",
     "text": [
      " 40%|███▉      | 2360/5956 [14:22<21:08,  2.83it/s]"
     ]
    },
    {
     "name": "stdout",
     "output_type": "stream",
     "text": [
      "Cant calculate RUN4044 complex\n",
      "Cant calculate RUN4044 solvent\n"
     ]
    },
    {
     "name": "stderr",
     "output_type": "stream",
     "text": [
      " 40%|███▉      | 2362/5956 [14:23<21:06,  2.84it/s]"
     ]
    },
    {
     "name": "stdout",
     "output_type": "stream",
     "text": [
      "Cant calculate RUN4046 complex\n",
      "Cant calculate RUN4046 solvent\n"
     ]
    },
    {
     "name": "stderr",
     "output_type": "stream",
     "text": [
      " 40%|████      | 2384/5956 [14:30<21:05,  2.82it/s]"
     ]
    },
    {
     "name": "stdout",
     "output_type": "stream",
     "text": [
      "Cant calculate RUN4068 complex\n",
      "Cant calculate RUN4068 solvent\n"
     ]
    },
    {
     "name": "stderr",
     "output_type": "stream",
     "text": [
      "\r",
      " 40%|████      | 2385/5956 [14:31<20:56,  2.84it/s]"
     ]
    },
    {
     "name": "stdout",
     "output_type": "stream",
     "text": [
      "Cant calculate RUN4069 complex\n",
      "Cant calculate RUN4069 solvent\n"
     ]
    },
    {
     "name": "stderr",
     "output_type": "stream",
     "text": [
      "\r",
      " 40%|████      | 2386/5956 [14:31<20:52,  2.85it/s]"
     ]
    },
    {
     "name": "stdout",
     "output_type": "stream",
     "text": [
      "Cant calculate RUN4070 complex\n",
      "Cant calculate RUN4070 solvent\n"
     ]
    },
    {
     "name": "stderr",
     "output_type": "stream",
     "text": [
      " 40%|████      | 2392/5956 [14:33<21:01,  2.82it/s]"
     ]
    },
    {
     "name": "stdout",
     "output_type": "stream",
     "text": [
      "Cant calculate RUN4076 complex\n",
      "Cant calculate RUN4076 solvent\n"
     ]
    },
    {
     "name": "stderr",
     "output_type": "stream",
     "text": [
      " 40%|████      | 2395/5956 [14:34<20:56,  2.83it/s]"
     ]
    },
    {
     "name": "stdout",
     "output_type": "stream",
     "text": [
      "Cant calculate RUN4079 complex\n",
      "Cant calculate RUN4079 solvent\n"
     ]
    },
    {
     "name": "stderr",
     "output_type": "stream",
     "text": [
      " 40%|████      | 2397/5956 [14:35<21:02,  2.82it/s]"
     ]
    },
    {
     "name": "stdout",
     "output_type": "stream",
     "text": [
      "Cant calculate RUN4081 complex\n",
      "Cant calculate RUN4081 solvent\n"
     ]
    },
    {
     "name": "stderr",
     "output_type": "stream",
     "text": [
      " 40%|████      | 2399/5956 [14:36<20:58,  2.83it/s]"
     ]
    },
    {
     "name": "stdout",
     "output_type": "stream",
     "text": [
      "Cant calculate RUN4083 complex\n",
      "Cant calculate RUN4083 solvent\n"
     ]
    },
    {
     "name": "stderr",
     "output_type": "stream",
     "text": [
      "\r",
      " 40%|████      | 2400/5956 [14:36<21:02,  2.82it/s]"
     ]
    },
    {
     "name": "stdout",
     "output_type": "stream",
     "text": [
      "Cant calculate RUN4084 complex\n",
      "Cant calculate RUN4084 solvent\n"
     ]
    },
    {
     "name": "stderr",
     "output_type": "stream",
     "text": [
      "\r",
      " 40%|████      | 2401/5956 [14:37<20:54,  2.83it/s]"
     ]
    },
    {
     "name": "stdout",
     "output_type": "stream",
     "text": [
      "Cant calculate RUN4085 complex\n",
      "Cant calculate RUN4085 solvent\n"
     ]
    },
    {
     "name": "stderr",
     "output_type": "stream",
     "text": [
      "\r",
      " 40%|████      | 2402/5956 [14:37<20:48,  2.85it/s]"
     ]
    },
    {
     "name": "stdout",
     "output_type": "stream",
     "text": [
      "Cant calculate RUN4086 complex\n",
      "Cant calculate RUN4086 solvent\n"
     ]
    },
    {
     "name": "stderr",
     "output_type": "stream",
     "text": [
      " 41%|████      | 2444/5956 [14:52<20:49,  2.81it/s]"
     ]
    },
    {
     "name": "stdout",
     "output_type": "stream",
     "text": [
      "Cant calculate RUN4128 complex\n",
      "Cant calculate RUN4128 solvent\n"
     ]
    },
    {
     "name": "stderr",
     "output_type": "stream",
     "text": [
      " 41%|████      | 2451/5956 [14:54<21:06,  2.77it/s]"
     ]
    },
    {
     "name": "stdout",
     "output_type": "stream",
     "text": [
      "Cant calculate RUN4135 complex\n",
      "Cant calculate RUN4135 solvent\n"
     ]
    },
    {
     "name": "stderr",
     "output_type": "stream",
     "text": [
      " 41%|████▏     | 2457/5956 [14:57<20:44,  2.81it/s]"
     ]
    },
    {
     "name": "stdout",
     "output_type": "stream",
     "text": [
      "Cant calculate RUN4141 complex\n",
      "Cant calculate RUN4141 solvent\n"
     ]
    },
    {
     "name": "stderr",
     "output_type": "stream",
     "text": [
      " 42%|████▏     | 2514/5956 [15:17<20:50,  2.75it/s]"
     ]
    },
    {
     "name": "stdout",
     "output_type": "stream",
     "text": [
      "Cant calculate RUN4198 complex\n",
      "Cant calculate RUN4198 solvent\n"
     ]
    },
    {
     "name": "stderr",
     "output_type": "stream",
     "text": [
      "\r",
      " 42%|████▏     | 2515/5956 [15:18<20:36,  2.78it/s]"
     ]
    },
    {
     "name": "stdout",
     "output_type": "stream",
     "text": [
      "Cant calculate RUN4199 complex\n",
      "Cant calculate RUN4199 solvent\n"
     ]
    },
    {
     "name": "stderr",
     "output_type": "stream",
     "text": [
      " 42%|████▏     | 2519/5956 [15:19<20:40,  2.77it/s]"
     ]
    },
    {
     "name": "stdout",
     "output_type": "stream",
     "text": [
      "Cant calculate RUN4203 complex\n",
      "Cant calculate RUN4203 solvent\n"
     ]
    },
    {
     "name": "stderr",
     "output_type": "stream",
     "text": [
      " 43%|████▎     | 2549/5956 [15:30<20:36,  2.76it/s]"
     ]
    },
    {
     "name": "stdout",
     "output_type": "stream",
     "text": [
      "Cant calculate RUN4233 complex\n",
      "Cant calculate RUN4233 solvent\n"
     ]
    },
    {
     "name": "stderr",
     "output_type": "stream",
     "text": [
      " 43%|████▎     | 2551/5956 [15:31<20:32,  2.76it/s]"
     ]
    },
    {
     "name": "stdout",
     "output_type": "stream",
     "text": [
      "Cant calculate RUN4235 complex\n",
      "Cant calculate RUN4235 solvent\n"
     ]
    },
    {
     "name": "stderr",
     "output_type": "stream",
     "text": [
      "\r",
      " 43%|████▎     | 2552/5956 [15:31<20:37,  2.75it/s]"
     ]
    },
    {
     "name": "stdout",
     "output_type": "stream",
     "text": [
      "Cant calculate RUN4236 complex\n",
      "Cant calculate RUN4236 solvent\n"
     ]
    },
    {
     "name": "stderr",
     "output_type": "stream",
     "text": [
      " 43%|████▎     | 2581/5956 [15:43<21:09,  2.66it/s]"
     ]
    },
    {
     "name": "stdout",
     "output_type": "stream",
     "text": [
      "Cant calculate RUN4265 complex\n",
      "Cant calculate RUN4265 solvent\n"
     ]
    },
    {
     "name": "stderr",
     "output_type": "stream",
     "text": [
      "\r",
      " 43%|████▎     | 2582/5956 [15:43<21:05,  2.67it/s]"
     ]
    },
    {
     "name": "stdout",
     "output_type": "stream",
     "text": [
      "Cant calculate RUN4266 complex\n",
      "Cant calculate RUN4266 solvent\n"
     ]
    },
    {
     "name": "stderr",
     "output_type": "stream",
     "text": [
      "\r",
      " 43%|████▎     | 2583/5956 [15:43<20:51,  2.70it/s]"
     ]
    },
    {
     "name": "stdout",
     "output_type": "stream",
     "text": [
      "Cant calculate RUN4267 complex\n",
      "Cant calculate RUN4267 solvent\n"
     ]
    },
    {
     "name": "stderr",
     "output_type": "stream",
     "text": [
      "\r",
      " 43%|████▎     | 2584/5956 [15:44<20:34,  2.73it/s]"
     ]
    },
    {
     "name": "stdout",
     "output_type": "stream",
     "text": [
      "Cant calculate RUN4268 complex\n",
      "Cant calculate RUN4268 solvent\n"
     ]
    },
    {
     "name": "stderr",
     "output_type": "stream",
     "text": [
      " 44%|████▎     | 2591/5956 [15:46<20:10,  2.78it/s]"
     ]
    },
    {
     "name": "stdout",
     "output_type": "stream",
     "text": [
      "Cant calculate RUN4275 complex\n",
      "Cant calculate RUN4275 solvent\n"
     ]
    },
    {
     "name": "stderr",
     "output_type": "stream",
     "text": [
      " 44%|████▍     | 2616/5956 [15:55<20:56,  2.66it/s]"
     ]
    },
    {
     "name": "stdout",
     "output_type": "stream",
     "text": [
      "Cant calculate RUN4300 complex\n",
      "Cant calculate RUN4300 solvent\n"
     ]
    },
    {
     "name": "stderr",
     "output_type": "stream",
     "text": [
      " 46%|████▋     | 2756/5956 [16:46<19:05,  2.79it/s]"
     ]
    },
    {
     "name": "stdout",
     "output_type": "stream",
     "text": [
      "Cant calculate RUN4440 complex\n",
      "Cant calculate RUN4440 solvent\n"
     ]
    },
    {
     "name": "stderr",
     "output_type": "stream",
     "text": [
      "\r",
      " 46%|████▋     | 2757/5956 [16:46<18:58,  2.81it/s]"
     ]
    },
    {
     "name": "stdout",
     "output_type": "stream",
     "text": [
      "Cant calculate RUN4441 complex\n",
      "Cant calculate RUN4441 solvent\n"
     ]
    },
    {
     "name": "stderr",
     "output_type": "stream",
     "text": [
      " 47%|████▋     | 2801/5956 [17:03<19:33,  2.69it/s]"
     ]
    },
    {
     "name": "stdout",
     "output_type": "stream",
     "text": [
      "Cant calculate RUN4485 complex\n",
      "Cant calculate RUN4485 solvent\n"
     ]
    },
    {
     "name": "stderr",
     "output_type": "stream",
     "text": [
      "\r",
      " 47%|████▋     | 2802/5956 [17:04<19:40,  2.67it/s]"
     ]
    },
    {
     "name": "stdout",
     "output_type": "stream",
     "text": [
      "Cant calculate RUN4486 complex\n",
      "Cant calculate RUN4486 solvent\n"
     ]
    },
    {
     "name": "stderr",
     "output_type": "stream",
     "text": [
      "\r",
      " 47%|████▋     | 2803/5956 [17:04<19:21,  2.71it/s]"
     ]
    },
    {
     "name": "stdout",
     "output_type": "stream",
     "text": [
      "Cant calculate RUN4487 complex\n",
      "Cant calculate RUN4487 solvent\n"
     ]
    },
    {
     "name": "stderr",
     "output_type": "stream",
     "text": [
      " 48%|████▊     | 2884/5956 [17:33<18:25,  2.78it/s]"
     ]
    },
    {
     "name": "stdout",
     "output_type": "stream",
     "text": [
      "Cant calculate RUN4568 complex\n",
      "Cant calculate RUN4568 solvent\n"
     ]
    },
    {
     "name": "stderr",
     "output_type": "stream",
     "text": [
      " 49%|████▉     | 2918/5956 [17:46<17:58,  2.82it/s]"
     ]
    },
    {
     "name": "stdout",
     "output_type": "stream",
     "text": [
      "Cant calculate RUN4602 complex\n",
      "Cant calculate RUN4602 solvent\n"
     ]
    },
    {
     "name": "stderr",
     "output_type": "stream",
     "text": [
      "\r",
      " 49%|████▉     | 2919/5956 [17:46<17:55,  2.82it/s]"
     ]
    },
    {
     "name": "stdout",
     "output_type": "stream",
     "text": [
      "Cant calculate RUN4603 complex\n",
      "Cant calculate RUN4603 solvent\n"
     ]
    },
    {
     "name": "stderr",
     "output_type": "stream",
     "text": [
      " 50%|████▉     | 2962/5956 [18:02<17:49,  2.80it/s]"
     ]
    },
    {
     "name": "stdout",
     "output_type": "stream",
     "text": [
      "Cant calculate RUN4646 complex\n",
      "Cant calculate RUN4646 solvent\n"
     ]
    },
    {
     "name": "stderr",
     "output_type": "stream",
     "text": [
      "\r",
      " 50%|████▉     | 2963/5956 [18:02<17:41,  2.82it/s]"
     ]
    },
    {
     "name": "stdout",
     "output_type": "stream",
     "text": [
      "Cant calculate RUN4647 complex\n",
      "Cant calculate RUN4647 solvent\n"
     ]
    },
    {
     "name": "stderr",
     "output_type": "stream",
     "text": [
      "\r",
      " 50%|████▉     | 2964/5956 [18:02<17:35,  2.83it/s]"
     ]
    },
    {
     "name": "stdout",
     "output_type": "stream",
     "text": [
      "Cant calculate RUN4648 complex\n",
      "Cant calculate RUN4648 solvent\n"
     ]
    },
    {
     "name": "stderr",
     "output_type": "stream",
     "text": [
      "\r",
      " 50%|████▉     | 2965/5956 [18:03<17:30,  2.85it/s]"
     ]
    },
    {
     "name": "stdout",
     "output_type": "stream",
     "text": [
      "Cant calculate RUN4649 complex\n",
      "Cant calculate RUN4649 solvent\n"
     ]
    },
    {
     "name": "stderr",
     "output_type": "stream",
     "text": [
      " 51%|█████     | 3026/5956 [18:24<17:16,  2.83it/s]"
     ]
    },
    {
     "name": "stdout",
     "output_type": "stream",
     "text": [
      "Cant calculate RUN4710 complex\n",
      "Cant calculate RUN4710 solvent\n"
     ]
    },
    {
     "name": "stderr",
     "output_type": "stream",
     "text": [
      "\r",
      " 51%|█████     | 3027/5956 [18:25<17:12,  2.84it/s]"
     ]
    },
    {
     "name": "stdout",
     "output_type": "stream",
     "text": [
      "Cant calculate RUN4711 complex\n",
      "Cant calculate RUN4711 solvent\n"
     ]
    },
    {
     "name": "stderr",
     "output_type": "stream",
     "text": [
      "\r",
      " 51%|█████     | 3028/5956 [18:25<17:06,  2.85it/s]"
     ]
    },
    {
     "name": "stdout",
     "output_type": "stream",
     "text": [
      "Cant calculate RUN4712 complex\n",
      "Cant calculate RUN4712 solvent\n"
     ]
    },
    {
     "name": "stderr",
     "output_type": "stream",
     "text": [
      "\r",
      " 51%|█████     | 3029/5956 [18:25<17:02,  2.86it/s]"
     ]
    },
    {
     "name": "stdout",
     "output_type": "stream",
     "text": [
      "Cant calculate RUN4713 complex\n",
      "Cant calculate RUN4713 solvent\n"
     ]
    },
    {
     "name": "stderr",
     "output_type": "stream",
     "text": [
      "\r",
      " 51%|█████     | 3030/5956 [18:26<17:03,  2.86it/s]"
     ]
    },
    {
     "name": "stdout",
     "output_type": "stream",
     "text": [
      "Cant calculate RUN4714 complex\n",
      "Cant calculate RUN4714 solvent\n"
     ]
    },
    {
     "name": "stderr",
     "output_type": "stream",
     "text": [
      "\r",
      " 51%|█████     | 3031/5956 [18:26<17:01,  2.86it/s]"
     ]
    },
    {
     "name": "stdout",
     "output_type": "stream",
     "text": [
      "Cant calculate RUN4715 complex\n",
      "Cant calculate RUN4715 solvent\n"
     ]
    },
    {
     "name": "stderr",
     "output_type": "stream",
     "text": [
      "\r",
      " 51%|█████     | 3032/5956 [18:26<17:01,  2.86it/s]"
     ]
    },
    {
     "name": "stdout",
     "output_type": "stream",
     "text": [
      "Cant calculate RUN4716 complex\n",
      "Cant calculate RUN4716 solvent\n"
     ]
    },
    {
     "name": "stderr",
     "output_type": "stream",
     "text": [
      "\r",
      " 51%|█████     | 3033/5956 [18:27<17:00,  2.86it/s]"
     ]
    },
    {
     "name": "stdout",
     "output_type": "stream",
     "text": [
      "Cant calculate RUN4717 complex\n",
      "Cant calculate RUN4717 solvent\n"
     ]
    },
    {
     "name": "stderr",
     "output_type": "stream",
     "text": [
      " 53%|█████▎    | 3149/5956 [19:09<17:42,  2.64it/s]"
     ]
    },
    {
     "name": "stdout",
     "output_type": "stream",
     "text": [
      "Cant calculate RUN4833 complex\n",
      "Cant calculate RUN4833 solvent\n"
     ]
    },
    {
     "name": "stderr",
     "output_type": "stream",
     "text": [
      " 54%|█████▍    | 3215/5956 [19:33<16:52,  2.71it/s]"
     ]
    },
    {
     "name": "stdout",
     "output_type": "stream",
     "text": [
      "Cant calculate RUN4899 complex\n",
      "Cant calculate RUN4899 solvent\n"
     ]
    },
    {
     "name": "stderr",
     "output_type": "stream",
     "text": [
      "\r",
      " 54%|█████▍    | 3216/5956 [19:33<17:04,  2.67it/s]"
     ]
    },
    {
     "name": "stdout",
     "output_type": "stream",
     "text": [
      "Cant calculate RUN4900 complex\n",
      "Cant calculate RUN4900 solvent\n"
     ]
    },
    {
     "name": "stderr",
     "output_type": "stream",
     "text": [
      "\r",
      " 54%|█████▍    | 3217/5956 [19:34<17:03,  2.67it/s]"
     ]
    },
    {
     "name": "stdout",
     "output_type": "stream",
     "text": [
      "Cant calculate RUN4901 complex\n",
      "Cant calculate RUN4901 solvent\n"
     ]
    },
    {
     "name": "stderr",
     "output_type": "stream",
     "text": [
      " 54%|█████▍    | 3221/5956 [19:35<17:20,  2.63it/s]"
     ]
    },
    {
     "name": "stdout",
     "output_type": "stream",
     "text": [
      "Cant calculate RUN4905 complex\n",
      "Cant calculate RUN4905 solvent\n"
     ]
    },
    {
     "name": "stderr",
     "output_type": "stream",
     "text": [
      " 55%|█████▌    | 3301/5956 [20:04<16:34,  2.67it/s]"
     ]
    },
    {
     "name": "stdout",
     "output_type": "stream",
     "text": [
      "Cant calculate RUN4985 complex\n",
      "Cant calculate RUN4985 solvent\n"
     ]
    },
    {
     "name": "stderr",
     "output_type": "stream",
     "text": [
      " 56%|█████▌    | 3347/5956 [20:21<15:23,  2.83it/s]"
     ]
    },
    {
     "name": "stdout",
     "output_type": "stream",
     "text": [
      "Cant calculate RUN5031 complex\n",
      "Cant calculate RUN5031 solvent\n"
     ]
    },
    {
     "name": "stderr",
     "output_type": "stream",
     "text": [
      "\r",
      " 56%|█████▌    | 3348/5956 [20:21<15:19,  2.84it/s]"
     ]
    },
    {
     "name": "stdout",
     "output_type": "stream",
     "text": [
      "Cant calculate RUN5032 complex\n",
      "Cant calculate RUN5032 solvent\n"
     ]
    },
    {
     "name": "stderr",
     "output_type": "stream",
     "text": [
      "\r",
      " 56%|█████▌    | 3349/5956 [20:21<15:15,  2.85it/s]"
     ]
    },
    {
     "name": "stdout",
     "output_type": "stream",
     "text": [
      "Cant calculate RUN5033 complex\n",
      "Cant calculate RUN5033 solvent\n"
     ]
    },
    {
     "name": "stderr",
     "output_type": "stream",
     "text": [
      "\r",
      " 56%|█████▌    | 3350/5956 [20:22<15:12,  2.86it/s]"
     ]
    },
    {
     "name": "stdout",
     "output_type": "stream",
     "text": [
      "Cant calculate RUN5034 complex\n",
      "Cant calculate RUN5034 solvent\n"
     ]
    },
    {
     "name": "stderr",
     "output_type": "stream",
     "text": [
      "\r",
      " 56%|█████▋    | 3351/5956 [20:22<15:10,  2.86it/s]"
     ]
    },
    {
     "name": "stdout",
     "output_type": "stream",
     "text": [
      "Cant calculate RUN5035 complex\n",
      "Cant calculate RUN5035 solvent\n"
     ]
    },
    {
     "name": "stderr",
     "output_type": "stream",
     "text": [
      "\r",
      " 56%|█████▋    | 3352/5956 [20:22<15:08,  2.87it/s]"
     ]
    },
    {
     "name": "stdout",
     "output_type": "stream",
     "text": [
      "Cant calculate RUN5036 complex\n",
      "Cant calculate RUN5036 solvent\n"
     ]
    },
    {
     "name": "stderr",
     "output_type": "stream",
     "text": [
      "\r",
      " 56%|█████▋    | 3353/5956 [20:23<15:07,  2.87it/s]"
     ]
    },
    {
     "name": "stdout",
     "output_type": "stream",
     "text": [
      "Cant calculate RUN5037 complex\n",
      "Cant calculate RUN5037 solvent\n"
     ]
    },
    {
     "name": "stderr",
     "output_type": "stream",
     "text": [
      "\r",
      " 56%|█████▋    | 3354/5956 [20:23<15:07,  2.87it/s]"
     ]
    },
    {
     "name": "stdout",
     "output_type": "stream",
     "text": [
      "Cant calculate RUN5038 complex\n",
      "Cant calculate RUN5038 solvent\n"
     ]
    },
    {
     "name": "stderr",
     "output_type": "stream",
     "text": [
      " 57%|█████▋    | 3376/5956 [20:31<15:15,  2.82it/s]"
     ]
    },
    {
     "name": "stdout",
     "output_type": "stream",
     "text": [
      "Cant calculate RUN5060 complex\n",
      "Cant calculate RUN5060 solvent\n"
     ]
    },
    {
     "name": "stderr",
     "output_type": "stream",
     "text": [
      " 57%|█████▋    | 3403/5956 [20:41<15:17,  2.78it/s]"
     ]
    },
    {
     "name": "stdout",
     "output_type": "stream",
     "text": [
      "Cant calculate RUN5087 complex\n",
      "Cant calculate RUN5087 solvent\n"
     ]
    },
    {
     "name": "stderr",
     "output_type": "stream",
     "text": [
      " 58%|█████▊    | 3431/5956 [20:51<14:58,  2.81it/s]"
     ]
    },
    {
     "name": "stdout",
     "output_type": "stream",
     "text": [
      "Cant calculate RUN5115 complex\n",
      "Cant calculate RUN5115 solvent\n"
     ]
    },
    {
     "name": "stderr",
     "output_type": "stream",
     "text": [
      " 58%|█████▊    | 3468/5956 [21:04<14:43,  2.81it/s]"
     ]
    },
    {
     "name": "stdout",
     "output_type": "stream",
     "text": [
      "Cant calculate RUN5152 complex\n",
      "Cant calculate RUN5152 solvent\n"
     ]
    },
    {
     "name": "stderr",
     "output_type": "stream",
     "text": [
      " 58%|█████▊    | 3471/5956 [21:05<14:45,  2.81it/s]"
     ]
    },
    {
     "name": "stdout",
     "output_type": "stream",
     "text": [
      "Cant calculate RUN5155 complex\n",
      "Cant calculate RUN5155 solvent\n"
     ]
    },
    {
     "name": "stderr",
     "output_type": "stream",
     "text": [
      "\r",
      " 58%|█████▊    | 3472/5956 [21:06<14:37,  2.83it/s]"
     ]
    },
    {
     "name": "stdout",
     "output_type": "stream",
     "text": [
      "Cant calculate RUN5156 complex\n",
      "Cant calculate RUN5156 solvent\n"
     ]
    },
    {
     "name": "stderr",
     "output_type": "stream",
     "text": [
      "\r",
      " 58%|█████▊    | 3473/5956 [21:06<14:33,  2.84it/s]"
     ]
    },
    {
     "name": "stdout",
     "output_type": "stream",
     "text": [
      "Cant calculate RUN5157 complex\n",
      "Cant calculate RUN5157 solvent\n"
     ]
    },
    {
     "name": "stderr",
     "output_type": "stream",
     "text": [
      "\r",
      " 58%|█████▊    | 3474/5956 [21:06<14:32,  2.84it/s]"
     ]
    },
    {
     "name": "stdout",
     "output_type": "stream",
     "text": [
      "Cant calculate RUN5158 complex\n",
      "Cant calculate RUN5158 solvent\n"
     ]
    },
    {
     "name": "stderr",
     "output_type": "stream",
     "text": [
      "\r",
      " 58%|█████▊    | 3475/5956 [21:07<14:29,  2.85it/s]"
     ]
    },
    {
     "name": "stdout",
     "output_type": "stream",
     "text": [
      "Cant calculate RUN5159 complex\n",
      "Cant calculate RUN5159 solvent\n"
     ]
    },
    {
     "name": "stderr",
     "output_type": "stream",
     "text": [
      "\r",
      " 58%|█████▊    | 3476/5956 [21:07<14:29,  2.85it/s]"
     ]
    },
    {
     "name": "stdout",
     "output_type": "stream",
     "text": [
      "Cant calculate RUN5160 complex\n",
      "Cant calculate RUN5160 solvent\n"
     ]
    },
    {
     "name": "stderr",
     "output_type": "stream",
     "text": [
      "\r",
      " 58%|█████▊    | 3477/5956 [21:07<14:34,  2.83it/s]"
     ]
    },
    {
     "name": "stdout",
     "output_type": "stream",
     "text": [
      "Cant calculate RUN5161 complex\n",
      "Cant calculate RUN5161 solvent\n"
     ]
    },
    {
     "name": "stderr",
     "output_type": "stream",
     "text": [
      "\r",
      " 58%|█████▊    | 3478/5956 [21:08<14:30,  2.85it/s]"
     ]
    },
    {
     "name": "stdout",
     "output_type": "stream",
     "text": [
      "Cant calculate RUN5162 complex\n",
      "Cant calculate RUN5162 solvent\n"
     ]
    },
    {
     "name": "stderr",
     "output_type": "stream",
     "text": [
      " 58%|█████▊    | 3482/5956 [21:09<14:31,  2.84it/s]"
     ]
    },
    {
     "name": "stdout",
     "output_type": "stream",
     "text": [
      "Cant calculate RUN5166 complex\n",
      "Cant calculate RUN5166 solvent\n"
     ]
    },
    {
     "name": "stderr",
     "output_type": "stream",
     "text": [
      "\r",
      " 58%|█████▊    | 3483/5956 [21:10<14:30,  2.84it/s]"
     ]
    },
    {
     "name": "stdout",
     "output_type": "stream",
     "text": [
      "Cant calculate RUN5167 complex\n",
      "Cant calculate RUN5167 solvent\n"
     ]
    },
    {
     "name": "stderr",
     "output_type": "stream",
     "text": [
      " 59%|█████▉    | 3537/5956 [21:29<14:18,  2.82it/s]"
     ]
    },
    {
     "name": "stdout",
     "output_type": "stream",
     "text": [
      "Cant calculate RUN5221 complex\n",
      "Cant calculate RUN5221 solvent\n"
     ]
    },
    {
     "name": "stderr",
     "output_type": "stream",
     "text": [
      "\r",
      " 59%|█████▉    | 3538/5956 [21:29<14:13,  2.83it/s]"
     ]
    },
    {
     "name": "stdout",
     "output_type": "stream",
     "text": [
      "Cant calculate RUN5222 complex\n",
      "Cant calculate RUN5222 solvent\n"
     ]
    },
    {
     "name": "stderr",
     "output_type": "stream",
     "text": [
      " 60%|█████▉    | 3552/5956 [21:34<14:17,  2.80it/s]"
     ]
    },
    {
     "name": "stdout",
     "output_type": "stream",
     "text": [
      "Cant calculate RUN5236 complex\n",
      "Cant calculate RUN5236 solvent\n"
     ]
    },
    {
     "name": "stderr",
     "output_type": "stream",
     "text": [
      " 60%|█████▉    | 3554/5956 [21:35<14:14,  2.81it/s]"
     ]
    },
    {
     "name": "stdout",
     "output_type": "stream",
     "text": [
      "Cant calculate RUN5238 complex\n",
      "Cant calculate RUN5238 solvent\n"
     ]
    },
    {
     "name": "stderr",
     "output_type": "stream",
     "text": [
      " 60%|█████▉    | 3563/5956 [21:38<14:15,  2.80it/s]"
     ]
    },
    {
     "name": "stdout",
     "output_type": "stream",
     "text": [
      "Cant calculate RUN5247 complex\n",
      "Cant calculate RUN5247 solvent\n"
     ]
    },
    {
     "name": "stderr",
     "output_type": "stream",
     "text": [
      "\r",
      " 60%|█████▉    | 3564/5956 [21:38<14:10,  2.81it/s]"
     ]
    },
    {
     "name": "stdout",
     "output_type": "stream",
     "text": [
      "Cant calculate RUN5248 complex\n",
      "Cant calculate RUN5248 solvent\n"
     ]
    },
    {
     "name": "stderr",
     "output_type": "stream",
     "text": [
      "\r",
      " 60%|█████▉    | 3565/5956 [21:39<14:04,  2.83it/s]"
     ]
    },
    {
     "name": "stdout",
     "output_type": "stream",
     "text": [
      "Cant calculate RUN5249 complex\n",
      "Cant calculate RUN5249 solvent\n"
     ]
    },
    {
     "name": "stderr",
     "output_type": "stream",
     "text": [
      "\r",
      " 60%|█████▉    | 3566/5956 [21:39<14:02,  2.84it/s]"
     ]
    },
    {
     "name": "stdout",
     "output_type": "stream",
     "text": [
      "Cant calculate RUN5250 complex\n",
      "Cant calculate RUN5250 solvent\n"
     ]
    },
    {
     "name": "stderr",
     "output_type": "stream",
     "text": [
      "\r",
      " 60%|█████▉    | 3567/5956 [21:39<14:00,  2.84it/s]"
     ]
    },
    {
     "name": "stdout",
     "output_type": "stream",
     "text": [
      "Cant calculate RUN5251 complex\n",
      "Cant calculate RUN5251 solvent\n"
     ]
    },
    {
     "name": "stderr",
     "output_type": "stream",
     "text": [
      "\r",
      " 60%|█████▉    | 3568/5956 [21:40<13:58,  2.85it/s]"
     ]
    },
    {
     "name": "stdout",
     "output_type": "stream",
     "text": [
      "Cant calculate RUN5252 complex\n",
      "Cant calculate RUN5252 solvent\n"
     ]
    },
    {
     "name": "stderr",
     "output_type": "stream",
     "text": [
      " 60%|█████▉    | 3570/5956 [21:41<13:58,  2.84it/s]"
     ]
    },
    {
     "name": "stdout",
     "output_type": "stream",
     "text": [
      "Cant calculate RUN5254 complex\n",
      "Cant calculate RUN5254 solvent\n"
     ]
    },
    {
     "name": "stderr",
     "output_type": "stream",
     "text": [
      " 61%|██████    | 3621/5956 [21:59<13:48,  2.82it/s]"
     ]
    },
    {
     "name": "stdout",
     "output_type": "stream",
     "text": [
      "Cant calculate RUN5305 complex\n",
      "Cant calculate RUN5305 solvent\n"
     ]
    },
    {
     "name": "stderr",
     "output_type": "stream",
     "text": [
      " 61%|██████    | 3623/5956 [22:00<13:44,  2.83it/s]"
     ]
    },
    {
     "name": "stdout",
     "output_type": "stream",
     "text": [
      "Cant calculate RUN5307 complex\n",
      "Cant calculate RUN5307 solvent\n"
     ]
    },
    {
     "name": "stderr",
     "output_type": "stream",
     "text": [
      " 61%|██████    | 3632/5956 [22:03<13:52,  2.79it/s]"
     ]
    },
    {
     "name": "stdout",
     "output_type": "stream",
     "text": [
      "Cant calculate RUN5316 complex\n",
      "Cant calculate RUN5316 solvent\n"
     ]
    },
    {
     "name": "stderr",
     "output_type": "stream",
     "text": [
      "\r",
      " 61%|██████    | 3633/5956 [22:03<13:51,  2.79it/s]"
     ]
    },
    {
     "name": "stdout",
     "output_type": "stream",
     "text": [
      "Cant calculate RUN5317 complex\n",
      "Cant calculate RUN5317 solvent\n"
     ]
    },
    {
     "name": "stderr",
     "output_type": "stream",
     "text": [
      "\r",
      " 61%|██████    | 3634/5956 [22:03<13:50,  2.79it/s]"
     ]
    },
    {
     "name": "stdout",
     "output_type": "stream",
     "text": [
      "Cant calculate RUN5318 complex\n",
      "Cant calculate RUN5318 solvent\n"
     ]
    },
    {
     "name": "stderr",
     "output_type": "stream",
     "text": [
      " 63%|██████▎   | 3739/5956 [22:42<13:04,  2.83it/s]"
     ]
    },
    {
     "name": "stdout",
     "output_type": "stream",
     "text": [
      "Cant calculate RUN5423 complex\n",
      "Cant calculate RUN5423 solvent\n"
     ]
    },
    {
     "name": "stderr",
     "output_type": "stream",
     "text": [
      " 63%|██████▎   | 3771/5956 [22:54<13:07,  2.78it/s]"
     ]
    },
    {
     "name": "stdout",
     "output_type": "stream",
     "text": [
      "Cant calculate RUN5455 complex\n",
      "Cant calculate RUN5455 solvent\n"
     ]
    },
    {
     "name": "stderr",
     "output_type": "stream",
     "text": [
      " 64%|██████▎   | 3795/5956 [23:02<12:46,  2.82it/s]"
     ]
    },
    {
     "name": "stdout",
     "output_type": "stream",
     "text": [
      "Cant calculate RUN5479 complex\n",
      "Cant calculate RUN5479 solvent\n"
     ]
    },
    {
     "name": "stderr",
     "output_type": "stream",
     "text": [
      " 64%|██████▍   | 3798/5956 [23:03<12:44,  2.82it/s]"
     ]
    },
    {
     "name": "stdout",
     "output_type": "stream",
     "text": [
      "Cant calculate RUN5482 complex\n",
      "Cant calculate RUN5482 solvent\n"
     ]
    },
    {
     "name": "stderr",
     "output_type": "stream",
     "text": [
      " 64%|██████▍   | 3802/5956 [23:05<12:54,  2.78it/s]"
     ]
    },
    {
     "name": "stdout",
     "output_type": "stream",
     "text": [
      "Cant calculate RUN5486 complex\n",
      "Cant calculate RUN5486 solvent\n"
     ]
    },
    {
     "name": "stderr",
     "output_type": "stream",
     "text": [
      "\r",
      " 64%|██████▍   | 3803/5956 [23:05<12:51,  2.79it/s]"
     ]
    },
    {
     "name": "stdout",
     "output_type": "stream",
     "text": [
      "Cant calculate RUN5487 complex\n",
      "Cant calculate RUN5487 solvent\n"
     ]
    },
    {
     "name": "stderr",
     "output_type": "stream",
     "text": [
      " 64%|██████▍   | 3805/5956 [23:06<12:44,  2.81it/s]"
     ]
    },
    {
     "name": "stdout",
     "output_type": "stream",
     "text": [
      "Cant calculate RUN5489 complex\n",
      "Cant calculate RUN5489 solvent\n"
     ]
    },
    {
     "name": "stderr",
     "output_type": "stream",
     "text": [
      " 64%|██████▍   | 3807/5956 [23:07<12:39,  2.83it/s]"
     ]
    },
    {
     "name": "stdout",
     "output_type": "stream",
     "text": [
      "Cant calculate RUN5491 complex\n",
      "Cant calculate RUN5491 solvent\n"
     ]
    },
    {
     "name": "stderr",
     "output_type": "stream",
     "text": [
      " 64%|██████▍   | 3810/5956 [23:08<12:38,  2.83it/s]"
     ]
    },
    {
     "name": "stdout",
     "output_type": "stream",
     "text": [
      "Cant calculate RUN5494 complex\n",
      "Cant calculate RUN5494 solvent\n"
     ]
    },
    {
     "name": "stderr",
     "output_type": "stream",
     "text": [
      " 64%|██████▍   | 3834/5956 [23:16<12:33,  2.82it/s]"
     ]
    },
    {
     "name": "stdout",
     "output_type": "stream",
     "text": [
      "Cant calculate RUN5518 complex\n",
      "Cant calculate RUN5518 solvent\n"
     ]
    },
    {
     "name": "stderr",
     "output_type": "stream",
     "text": [
      "\r",
      " 64%|██████▍   | 3835/5956 [23:17<12:28,  2.83it/s]"
     ]
    },
    {
     "name": "stdout",
     "output_type": "stream",
     "text": [
      "Cant calculate RUN5519 complex\n",
      "Cant calculate RUN5519 solvent\n"
     ]
    },
    {
     "name": "stderr",
     "output_type": "stream",
     "text": [
      " 64%|██████▍   | 3840/5956 [23:18<12:33,  2.81it/s]"
     ]
    },
    {
     "name": "stdout",
     "output_type": "stream",
     "text": [
      "Cant calculate RUN5524 complex\n",
      "Cant calculate RUN5524 solvent\n"
     ]
    },
    {
     "name": "stderr",
     "output_type": "stream",
     "text": [
      " 65%|██████▍   | 3846/5956 [23:20<12:27,  2.82it/s]"
     ]
    },
    {
     "name": "stdout",
     "output_type": "stream",
     "text": [
      "Cant calculate RUN5530 complex\n",
      "Cant calculate RUN5530 solvent\n"
     ]
    },
    {
     "name": "stderr",
     "output_type": "stream",
     "text": [
      "\r",
      " 65%|██████▍   | 3847/5956 [23:21<12:25,  2.83it/s]"
     ]
    },
    {
     "name": "stdout",
     "output_type": "stream",
     "text": [
      "Cant calculate RUN5531 complex\n",
      "Cant calculate RUN5531 solvent\n"
     ]
    },
    {
     "name": "stderr",
     "output_type": "stream",
     "text": [
      " 65%|██████▍   | 3849/5956 [23:22<12:25,  2.83it/s]"
     ]
    },
    {
     "name": "stdout",
     "output_type": "stream",
     "text": [
      "Cant calculate RUN5533 complex\n",
      "Cant calculate RUN5533 solvent\n"
     ]
    },
    {
     "name": "stderr",
     "output_type": "stream",
     "text": [
      " 65%|██████▍   | 3852/5956 [23:23<12:22,  2.84it/s]"
     ]
    },
    {
     "name": "stdout",
     "output_type": "stream",
     "text": [
      "Cant calculate RUN5536 complex\n",
      "Cant calculate RUN5536 solvent\n"
     ]
    },
    {
     "name": "stderr",
     "output_type": "stream",
     "text": [
      " 65%|██████▍   | 3855/5956 [23:24<12:30,  2.80it/s]"
     ]
    },
    {
     "name": "stdout",
     "output_type": "stream",
     "text": [
      "Cant calculate RUN5539 complex\n",
      "Cant calculate RUN5539 solvent\n"
     ]
    },
    {
     "name": "stderr",
     "output_type": "stream",
     "text": [
      " 66%|██████▋   | 3955/5956 [24:00<11:54,  2.80it/s]"
     ]
    },
    {
     "name": "stdout",
     "output_type": "stream",
     "text": [
      "Cant calculate RUN5639 complex\n",
      "Cant calculate RUN5639 solvent\n"
     ]
    },
    {
     "name": "stderr",
     "output_type": "stream",
     "text": [
      " 67%|██████▋   | 3997/5956 [24:15<11:46,  2.77it/s]"
     ]
    },
    {
     "name": "stdout",
     "output_type": "stream",
     "text": [
      "Cant calculate RUN5681 complex\n",
      "Cant calculate RUN5681 solvent\n"
     ]
    },
    {
     "name": "stderr",
     "output_type": "stream",
     "text": [
      " 67%|██████▋   | 4005/5956 [24:18<11:33,  2.81it/s]"
     ]
    },
    {
     "name": "stdout",
     "output_type": "stream",
     "text": [
      "Cant calculate RUN5689 complex\n",
      "Cant calculate RUN5689 solvent\n"
     ]
    },
    {
     "name": "stderr",
     "output_type": "stream",
     "text": [
      "\r",
      " 67%|██████▋   | 4006/5956 [24:18<11:29,  2.83it/s]"
     ]
    },
    {
     "name": "stdout",
     "output_type": "stream",
     "text": [
      "Cant calculate RUN5690 complex\n",
      "Cant calculate RUN5690 solvent\n"
     ]
    },
    {
     "name": "stderr",
     "output_type": "stream",
     "text": [
      "\r",
      " 67%|██████▋   | 4007/5956 [24:19<11:31,  2.82it/s]"
     ]
    },
    {
     "name": "stdout",
     "output_type": "stream",
     "text": [
      "Cant calculate RUN5691 complex\n",
      "Cant calculate RUN5691 solvent\n"
     ]
    },
    {
     "name": "stderr",
     "output_type": "stream",
     "text": [
      " 67%|██████▋   | 4009/5956 [24:19<11:31,  2.81it/s]"
     ]
    },
    {
     "name": "stdout",
     "output_type": "stream",
     "text": [
      "Cant calculate RUN5693 complex\n",
      "Cant calculate RUN5693 solvent\n"
     ]
    },
    {
     "name": "stderr",
     "output_type": "stream",
     "text": [
      " 67%|██████▋   | 4011/5956 [24:20<11:27,  2.83it/s]"
     ]
    },
    {
     "name": "stdout",
     "output_type": "stream",
     "text": [
      "Cant calculate RUN5695 complex\n",
      "Cant calculate RUN5695 solvent\n"
     ]
    },
    {
     "name": "stderr",
     "output_type": "stream",
     "text": [
      "\r",
      " 67%|██████▋   | 4012/5956 [24:21<11:24,  2.84it/s]"
     ]
    },
    {
     "name": "stdout",
     "output_type": "stream",
     "text": [
      "Cant calculate RUN5696 complex\n",
      "Cant calculate RUN5696 solvent\n"
     ]
    },
    {
     "name": "stderr",
     "output_type": "stream",
     "text": [
      " 68%|██████▊   | 4035/5956 [24:29<11:24,  2.81it/s]"
     ]
    },
    {
     "name": "stdout",
     "output_type": "stream",
     "text": [
      "Cant calculate RUN5719 complex\n",
      "Cant calculate RUN5719 solvent\n"
     ]
    },
    {
     "name": "stderr",
     "output_type": "stream",
     "text": [
      "\r",
      " 68%|██████▊   | 4036/5956 [24:29<11:19,  2.82it/s]"
     ]
    },
    {
     "name": "stdout",
     "output_type": "stream",
     "text": [
      "Cant calculate RUN5720 complex\n",
      "Cant calculate RUN5720 solvent\n"
     ]
    },
    {
     "name": "stderr",
     "output_type": "stream",
     "text": [
      "\r",
      " 68%|██████▊   | 4037/5956 [24:29<11:16,  2.84it/s]"
     ]
    },
    {
     "name": "stdout",
     "output_type": "stream",
     "text": [
      "Cant calculate RUN5721 complex\n",
      "Cant calculate RUN5721 solvent\n"
     ]
    },
    {
     "name": "stderr",
     "output_type": "stream",
     "text": [
      " 68%|██████▊   | 4047/5956 [24:33<11:17,  2.82it/s]"
     ]
    },
    {
     "name": "stdout",
     "output_type": "stream",
     "text": [
      "Cant calculate RUN5731 complex\n",
      "Cant calculate RUN5731 solvent\n"
     ]
    },
    {
     "name": "stderr",
     "output_type": "stream",
     "text": [
      "\r",
      " 68%|██████▊   | 4048/5956 [24:33<11:14,  2.83it/s]"
     ]
    },
    {
     "name": "stdout",
     "output_type": "stream",
     "text": [
      "Cant calculate RUN5732 complex\n",
      "Cant calculate RUN5732 solvent\n"
     ]
    },
    {
     "name": "stderr",
     "output_type": "stream",
     "text": [
      "\r",
      " 68%|██████▊   | 4049/5956 [24:34<11:15,  2.83it/s]"
     ]
    },
    {
     "name": "stdout",
     "output_type": "stream",
     "text": [
      "Cant calculate RUN5733 complex\n",
      "Cant calculate RUN5733 solvent\n"
     ]
    },
    {
     "name": "stderr",
     "output_type": "stream",
     "text": [
      "\r",
      " 68%|██████▊   | 4050/5956 [24:34<11:15,  2.82it/s]"
     ]
    },
    {
     "name": "stdout",
     "output_type": "stream",
     "text": [
      "Cant calculate RUN5734 complex\n",
      "Cant calculate RUN5734 solvent\n"
     ]
    },
    {
     "name": "stderr",
     "output_type": "stream",
     "text": [
      "\r",
      " 68%|██████▊   | 4051/5956 [24:34<11:12,  2.83it/s]"
     ]
    },
    {
     "name": "stdout",
     "output_type": "stream",
     "text": [
      "Cant calculate RUN5735 complex\n",
      "Cant calculate RUN5735 solvent\n"
     ]
    },
    {
     "name": "stderr",
     "output_type": "stream",
     "text": [
      "\r",
      " 68%|██████▊   | 4052/5956 [24:35<11:08,  2.85it/s]"
     ]
    },
    {
     "name": "stdout",
     "output_type": "stream",
     "text": [
      "Cant calculate RUN5736 complex\n",
      "Cant calculate RUN5736 solvent\n"
     ]
    },
    {
     "name": "stderr",
     "output_type": "stream",
     "text": [
      "\r",
      " 68%|██████▊   | 4053/5956 [24:35<11:10,  2.84it/s]"
     ]
    },
    {
     "name": "stdout",
     "output_type": "stream",
     "text": [
      "Cant calculate RUN5737 complex\n",
      "Cant calculate RUN5737 solvent\n"
     ]
    },
    {
     "name": "stderr",
     "output_type": "stream",
     "text": [
      " 68%|██████▊   | 4059/5956 [24:37<11:12,  2.82it/s]"
     ]
    },
    {
     "name": "stdout",
     "output_type": "stream",
     "text": [
      "Cant calculate RUN5743 complex\n",
      "Cant calculate RUN5743 solvent\n"
     ]
    },
    {
     "name": "stderr",
     "output_type": "stream",
     "text": [
      " 69%|██████▉   | 4095/5956 [24:50<11:10,  2.78it/s]"
     ]
    },
    {
     "name": "stdout",
     "output_type": "stream",
     "text": [
      "Cant calculate RUN5779 complex\n",
      "Cant calculate RUN5779 solvent\n"
     ]
    },
    {
     "name": "stderr",
     "output_type": "stream",
     "text": [
      " 69%|██████▉   | 4102/5956 [24:53<10:55,  2.83it/s]"
     ]
    },
    {
     "name": "stdout",
     "output_type": "stream",
     "text": [
      "Cant calculate RUN5786 complex\n",
      "Cant calculate RUN5786 solvent\n"
     ]
    },
    {
     "name": "stderr",
     "output_type": "stream",
     "text": [
      " 69%|██████▉   | 4108/5956 [24:55<10:54,  2.82it/s]"
     ]
    },
    {
     "name": "stdout",
     "output_type": "stream",
     "text": [
      "Cant calculate RUN5792 complex\n",
      "Cant calculate RUN5792 solvent\n"
     ]
    },
    {
     "name": "stderr",
     "output_type": "stream",
     "text": [
      " 70%|██████▉   | 4160/5956 [25:13<10:36,  2.82it/s]"
     ]
    },
    {
     "name": "stdout",
     "output_type": "stream",
     "text": [
      "Cant calculate RUN5844 complex\n",
      "Cant calculate RUN5844 solvent\n"
     ]
    },
    {
     "name": "stderr",
     "output_type": "stream",
     "text": [
      " 70%|██████▉   | 4162/5956 [25:14<10:38,  2.81it/s]"
     ]
    },
    {
     "name": "stdout",
     "output_type": "stream",
     "text": [
      "Cant calculate RUN5846 complex\n",
      "Cant calculate RUN5846 solvent\n"
     ]
    },
    {
     "name": "stderr",
     "output_type": "stream",
     "text": [
      " 70%|███████   | 4170/5956 [25:17<10:36,  2.80it/s]"
     ]
    },
    {
     "name": "stdout",
     "output_type": "stream",
     "text": [
      "Cant calculate RUN5854 complex\n",
      "Cant calculate RUN5854 solvent\n"
     ]
    },
    {
     "name": "stderr",
     "output_type": "stream",
     "text": [
      " 71%|███████   | 4200/5956 [25:28<10:25,  2.81it/s]"
     ]
    },
    {
     "name": "stdout",
     "output_type": "stream",
     "text": [
      "Cant calculate RUN5884 complex\n",
      "Cant calculate RUN5884 solvent\n"
     ]
    },
    {
     "name": "stderr",
     "output_type": "stream",
     "text": [
      "\r",
      " 71%|███████   | 4201/5956 [25:28<10:24,  2.81it/s]"
     ]
    },
    {
     "name": "stdout",
     "output_type": "stream",
     "text": [
      "Cant calculate RUN5885 complex\n",
      "Cant calculate RUN5885 solvent\n"
     ]
    },
    {
     "name": "stderr",
     "output_type": "stream",
     "text": [
      " 71%|███████   | 4203/5956 [25:29<10:23,  2.81it/s]"
     ]
    },
    {
     "name": "stdout",
     "output_type": "stream",
     "text": [
      "Cant calculate RUN5887 complex\n",
      "Cant calculate RUN5887 solvent\n"
     ]
    },
    {
     "name": "stderr",
     "output_type": "stream",
     "text": [
      " 71%|███████   | 4231/5956 [25:39<10:11,  2.82it/s]"
     ]
    },
    {
     "name": "stdout",
     "output_type": "stream",
     "text": [
      "Cant calculate RUN5915 complex\n"
     ]
    },
    {
     "name": "stderr",
     "output_type": "stream",
     "text": [
      " 71%|███████   | 4233/5956 [25:40<10:08,  2.83it/s]"
     ]
    },
    {
     "name": "stdout",
     "output_type": "stream",
     "text": [
      "Cant calculate RUN5917 complex\n",
      "Cant calculate RUN5917 solvent\n"
     ]
    },
    {
     "name": "stderr",
     "output_type": "stream",
     "text": [
      " 71%|███████▏  | 4258/5956 [25:49<10:09,  2.79it/s]"
     ]
    },
    {
     "name": "stdout",
     "output_type": "stream",
     "text": [
      "Cant calculate RUN5942 complex\n",
      "Cant calculate RUN5942 solvent\n"
     ]
    },
    {
     "name": "stderr",
     "output_type": "stream",
     "text": [
      " 72%|███████▏  | 4267/5956 [25:52<09:58,  2.82it/s]"
     ]
    },
    {
     "name": "stdout",
     "output_type": "stream",
     "text": [
      "Cant calculate RUN5951 complex\n",
      "Cant calculate RUN5951 solvent\n"
     ]
    },
    {
     "name": "stderr",
     "output_type": "stream",
     "text": [
      " 72%|███████▏  | 4283/5956 [25:58<09:57,  2.80it/s]"
     ]
    },
    {
     "name": "stdout",
     "output_type": "stream",
     "text": [
      "Cant calculate RUN5967 complex\n",
      "Cant calculate RUN5967 solvent\n"
     ]
    },
    {
     "name": "stderr",
     "output_type": "stream",
     "text": [
      " 72%|███████▏  | 4285/5956 [25:58<09:56,  2.80it/s]"
     ]
    },
    {
     "name": "stdout",
     "output_type": "stream",
     "text": [
      "Cant calculate RUN5969 complex\n",
      "Cant calculate RUN5969 solvent\n"
     ]
    },
    {
     "name": "stderr",
     "output_type": "stream",
     "text": [
      " 73%|███████▎  | 4353/5956 [26:23<09:32,  2.80it/s]"
     ]
    },
    {
     "name": "stdout",
     "output_type": "stream",
     "text": [
      "Cant calculate RUN6037 complex\n",
      "Cant calculate RUN6037 solvent\n"
     ]
    },
    {
     "name": "stderr",
     "output_type": "stream",
     "text": [
      " 73%|███████▎  | 4357/5956 [26:24<09:26,  2.82it/s]"
     ]
    },
    {
     "name": "stdout",
     "output_type": "stream",
     "text": [
      "Cant calculate RUN6041 complex\n",
      "Cant calculate RUN6041 solvent\n"
     ]
    },
    {
     "name": "stderr",
     "output_type": "stream",
     "text": [
      "\r",
      " 73%|███████▎  | 4358/5956 [26:24<09:23,  2.84it/s]"
     ]
    },
    {
     "name": "stdout",
     "output_type": "stream",
     "text": [
      "Cant calculate RUN6042 complex\n",
      "Cant calculate RUN6042 solvent\n"
     ]
    },
    {
     "name": "stderr",
     "output_type": "stream",
     "text": [
      " 73%|███████▎  | 4360/5956 [26:25<09:21,  2.84it/s]"
     ]
    },
    {
     "name": "stdout",
     "output_type": "stream",
     "text": [
      "Cant calculate RUN6044 complex\n",
      "Cant calculate RUN6044 solvent\n"
     ]
    },
    {
     "name": "stderr",
     "output_type": "stream",
     "text": [
      " 76%|███████▌  | 4541/5956 [27:31<08:26,  2.80it/s]"
     ]
    },
    {
     "name": "stdout",
     "output_type": "stream",
     "text": [
      "Cant calculate RUN6225 complex\n",
      "Cant calculate RUN6225 solvent\n"
     ]
    },
    {
     "name": "stderr",
     "output_type": "stream",
     "text": [
      "\r",
      " 76%|███████▋  | 4542/5956 [27:32<08:27,  2.79it/s]"
     ]
    },
    {
     "name": "stdout",
     "output_type": "stream",
     "text": [
      "Cant calculate RUN6226 complex\n",
      "Cant calculate RUN6226 solvent\n"
     ]
    },
    {
     "name": "stderr",
     "output_type": "stream",
     "text": [
      " 76%|███████▋  | 4544/5956 [27:32<08:37,  2.73it/s]"
     ]
    },
    {
     "name": "stdout",
     "output_type": "stream",
     "text": [
      "Cant calculate RUN6228 complex\n",
      "Cant calculate RUN6228 solvent\n"
     ]
    },
    {
     "name": "stderr",
     "output_type": "stream",
     "text": [
      "\r",
      " 76%|███████▋  | 4545/5956 [27:33<08:39,  2.72it/s]"
     ]
    },
    {
     "name": "stdout",
     "output_type": "stream",
     "text": [
      "Cant calculate RUN6229 complex\n",
      "Cant calculate RUN6229 solvent\n"
     ]
    },
    {
     "name": "stderr",
     "output_type": "stream",
     "text": [
      "\r",
      " 76%|███████▋  | 4546/5956 [27:33<08:34,  2.74it/s]"
     ]
    },
    {
     "name": "stdout",
     "output_type": "stream",
     "text": [
      "Cant calculate RUN6230 complex\n",
      "Cant calculate RUN6230 solvent\n"
     ]
    },
    {
     "name": "stderr",
     "output_type": "stream",
     "text": [
      " 76%|███████▋  | 4548/5956 [27:34<08:24,  2.79it/s]"
     ]
    },
    {
     "name": "stdout",
     "output_type": "stream",
     "text": [
      "Cant calculate RUN6232 complex\n",
      "Cant calculate RUN6232 solvent\n"
     ]
    },
    {
     "name": "stderr",
     "output_type": "stream",
     "text": [
      " 78%|███████▊  | 4628/5956 [28:02<07:49,  2.83it/s]"
     ]
    },
    {
     "name": "stdout",
     "output_type": "stream",
     "text": [
      "Cant calculate RUN6312 complex\n",
      "Cant calculate RUN6312 solvent\n"
     ]
    },
    {
     "name": "stderr",
     "output_type": "stream",
     "text": [
      " 78%|███████▊  | 4641/5956 [28:07<07:45,  2.82it/s]"
     ]
    },
    {
     "name": "stdout",
     "output_type": "stream",
     "text": [
      "Cant calculate RUN6325 complex\n",
      "Cant calculate RUN6325 solvent\n"
     ]
    },
    {
     "name": "stderr",
     "output_type": "stream",
     "text": [
      " 78%|███████▊  | 4674/5956 [28:19<07:37,  2.80it/s]"
     ]
    },
    {
     "name": "stdout",
     "output_type": "stream",
     "text": [
      "Cant calculate RUN6358 complex\n",
      "Cant calculate RUN6358 solvent\n"
     ]
    },
    {
     "name": "stderr",
     "output_type": "stream",
     "text": [
      "\r",
      " 78%|███████▊  | 4675/5956 [28:19<07:33,  2.83it/s]"
     ]
    },
    {
     "name": "stdout",
     "output_type": "stream",
     "text": [
      "Cant calculate RUN6359 complex\n",
      "Cant calculate RUN6359 solvent\n"
     ]
    },
    {
     "name": "stderr",
     "output_type": "stream",
     "text": [
      "\r",
      " 79%|███████▊  | 4676/5956 [28:20<07:29,  2.85it/s]"
     ]
    },
    {
     "name": "stdout",
     "output_type": "stream",
     "text": [
      "Cant calculate RUN6360 complex\n",
      "Cant calculate RUN6360 solvent\n"
     ]
    },
    {
     "name": "stderr",
     "output_type": "stream",
     "text": [
      "\r",
      " 79%|███████▊  | 4677/5956 [28:20<07:28,  2.85it/s]"
     ]
    },
    {
     "name": "stdout",
     "output_type": "stream",
     "text": [
      "Cant calculate RUN6361 complex\n",
      "Cant calculate RUN6361 solvent\n"
     ]
    },
    {
     "name": "stderr",
     "output_type": "stream",
     "text": [
      "\r",
      " 79%|███████▊  | 4678/5956 [28:20<07:27,  2.86it/s]"
     ]
    },
    {
     "name": "stdout",
     "output_type": "stream",
     "text": [
      "Cant calculate RUN6362 complex\n",
      "Cant calculate RUN6362 solvent\n"
     ]
    },
    {
     "name": "stderr",
     "output_type": "stream",
     "text": [
      "\r",
      " 79%|███████▊  | 4679/5956 [28:21<07:27,  2.85it/s]"
     ]
    },
    {
     "name": "stdout",
     "output_type": "stream",
     "text": [
      "Cant calculate RUN6363 complex\n",
      "Cant calculate RUN6363 solvent\n"
     ]
    },
    {
     "name": "stderr",
     "output_type": "stream",
     "text": [
      "\r",
      " 79%|███████▊  | 4680/5956 [28:21<07:29,  2.84it/s]"
     ]
    },
    {
     "name": "stdout",
     "output_type": "stream",
     "text": [
      "Cant calculate RUN6364 complex\n",
      "Cant calculate RUN6364 solvent\n"
     ]
    },
    {
     "name": "stderr",
     "output_type": "stream",
     "text": [
      "\r",
      " 79%|███████▊  | 4681/5956 [28:21<07:28,  2.84it/s]"
     ]
    },
    {
     "name": "stdout",
     "output_type": "stream",
     "text": [
      "Cant calculate RUN6365 complex\n",
      "Cant calculate RUN6365 solvent\n"
     ]
    },
    {
     "name": "stderr",
     "output_type": "stream",
     "text": [
      " 79%|███████▉  | 4701/5956 [28:28<07:36,  2.75it/s]"
     ]
    },
    {
     "name": "stdout",
     "output_type": "stream",
     "text": [
      "Cant calculate RUN6385 complex\n",
      "Cant calculate RUN6385 solvent\n"
     ]
    },
    {
     "name": "stderr",
     "output_type": "stream",
     "text": [
      " 79%|███████▉  | 4703/5956 [28:29<07:28,  2.79it/s]"
     ]
    },
    {
     "name": "stdout",
     "output_type": "stream",
     "text": [
      "Cant calculate RUN6387 complex\n",
      "Cant calculate RUN6387 solvent\n"
     ]
    },
    {
     "name": "stderr",
     "output_type": "stream",
     "text": [
      " 79%|███████▉  | 4722/5956 [28:36<07:17,  2.82it/s]"
     ]
    },
    {
     "name": "stdout",
     "output_type": "stream",
     "text": [
      "Cant calculate RUN6406 complex\n",
      "Cant calculate RUN6406 solvent\n"
     ]
    },
    {
     "name": "stderr",
     "output_type": "stream",
     "text": [
      " 79%|███████▉  | 4726/5956 [28:37<07:16,  2.82it/s]"
     ]
    },
    {
     "name": "stdout",
     "output_type": "stream",
     "text": [
      "Cant calculate RUN6410 complex\n",
      "Cant calculate RUN6410 solvent\n"
     ]
    },
    {
     "name": "stderr",
     "output_type": "stream",
     "text": [
      " 79%|███████▉  | 4728/5956 [28:38<07:13,  2.84it/s]"
     ]
    },
    {
     "name": "stdout",
     "output_type": "stream",
     "text": [
      "Cant calculate RUN6412 complex\n",
      "Cant calculate RUN6412 solvent\n"
     ]
    },
    {
     "name": "stderr",
     "output_type": "stream",
     "text": [
      " 79%|███████▉  | 4731/5956 [28:39<07:13,  2.83it/s]"
     ]
    },
    {
     "name": "stdout",
     "output_type": "stream",
     "text": [
      "Cant calculate RUN6415 complex\n",
      "Cant calculate RUN6415 solvent\n"
     ]
    },
    {
     "name": "stderr",
     "output_type": "stream",
     "text": [
      "\r",
      " 79%|███████▉  | 4732/5956 [28:39<07:10,  2.84it/s]"
     ]
    },
    {
     "name": "stdout",
     "output_type": "stream",
     "text": [
      "Cant calculate RUN6416 complex\n",
      "Cant calculate RUN6416 solvent\n"
     ]
    },
    {
     "name": "stderr",
     "output_type": "stream",
     "text": [
      " 81%|████████  | 4795/5956 [29:02<06:59,  2.77it/s]"
     ]
    },
    {
     "name": "stdout",
     "output_type": "stream",
     "text": [
      "Cant calculate RUN6479 complex\n",
      "Cant calculate RUN6479 solvent\n"
     ]
    },
    {
     "name": "stderr",
     "output_type": "stream",
     "text": [
      " 81%|████████  | 4798/5956 [29:03<07:00,  2.76it/s]"
     ]
    },
    {
     "name": "stdout",
     "output_type": "stream",
     "text": [
      "Cant calculate RUN6482 complex\n",
      "Cant calculate RUN6482 solvent\n"
     ]
    },
    {
     "name": "stderr",
     "output_type": "stream",
     "text": [
      "\r",
      " 81%|████████  | 4799/5956 [29:04<07:03,  2.73it/s]"
     ]
    },
    {
     "name": "stdout",
     "output_type": "stream",
     "text": [
      "Cant calculate RUN6483 complex\n",
      "Cant calculate RUN6483 solvent\n"
     ]
    },
    {
     "name": "stderr",
     "output_type": "stream",
     "text": [
      "\r",
      " 81%|████████  | 4800/5956 [29:04<07:06,  2.71it/s]"
     ]
    },
    {
     "name": "stdout",
     "output_type": "stream",
     "text": [
      "Cant calculate RUN6484 complex\n",
      "Cant calculate RUN6484 solvent\n"
     ]
    },
    {
     "name": "stderr",
     "output_type": "stream",
     "text": [
      "\r",
      " 81%|████████  | 4801/5956 [29:04<07:07,  2.70it/s]"
     ]
    },
    {
     "name": "stdout",
     "output_type": "stream",
     "text": [
      "Cant calculate RUN6485 complex\n",
      "Cant calculate RUN6485 solvent\n"
     ]
    },
    {
     "name": "stderr",
     "output_type": "stream",
     "text": [
      "\r",
      " 81%|████████  | 4802/5956 [29:05<07:07,  2.70it/s]"
     ]
    },
    {
     "name": "stdout",
     "output_type": "stream",
     "text": [
      "Cant calculate RUN6486 complex\n",
      "Cant calculate RUN6486 solvent\n"
     ]
    },
    {
     "name": "stderr",
     "output_type": "stream",
     "text": [
      "\r",
      " 81%|████████  | 4803/5956 [29:05<07:06,  2.70it/s]"
     ]
    },
    {
     "name": "stdout",
     "output_type": "stream",
     "text": [
      "Cant calculate RUN6487 complex\n",
      "Cant calculate RUN6487 solvent\n"
     ]
    },
    {
     "name": "stderr",
     "output_type": "stream",
     "text": [
      "\r",
      " 81%|████████  | 4804/5956 [29:05<07:04,  2.71it/s]"
     ]
    },
    {
     "name": "stdout",
     "output_type": "stream",
     "text": [
      "Cant calculate RUN6488 complex\n",
      "Cant calculate RUN6488 solvent\n"
     ]
    },
    {
     "name": "stderr",
     "output_type": "stream",
     "text": [
      "\r",
      " 81%|████████  | 4805/5956 [29:06<07:02,  2.72it/s]"
     ]
    },
    {
     "name": "stdout",
     "output_type": "stream",
     "text": [
      "Cant calculate RUN6489 complex\n",
      "Cant calculate RUN6489 solvent\n"
     ]
    },
    {
     "name": "stderr",
     "output_type": "stream",
     "text": [
      " 81%|████████  | 4809/5956 [29:07<07:01,  2.72it/s]"
     ]
    },
    {
     "name": "stdout",
     "output_type": "stream",
     "text": [
      "Cant calculate RUN6493 complex\n",
      "Cant calculate RUN6493 solvent\n"
     ]
    },
    {
     "name": "stderr",
     "output_type": "stream",
     "text": [
      "\r",
      " 81%|████████  | 4810/5956 [29:08<07:11,  2.66it/s]"
     ]
    },
    {
     "name": "stdout",
     "output_type": "stream",
     "text": [
      "Cant calculate RUN6494 complex\n",
      "Cant calculate RUN6494 solvent\n"
     ]
    },
    {
     "name": "stderr",
     "output_type": "stream",
     "text": [
      " 81%|████████  | 4812/5956 [29:08<07:18,  2.61it/s]"
     ]
    },
    {
     "name": "stdout",
     "output_type": "stream",
     "text": [
      "Cant calculate RUN6496 complex\n",
      "Cant calculate RUN6496 solvent\n"
     ]
    },
    {
     "name": "stderr",
     "output_type": "stream",
     "text": [
      " 82%|████████▏ | 4864/5956 [29:28<06:28,  2.81it/s]"
     ]
    },
    {
     "name": "stdout",
     "output_type": "stream",
     "text": [
      "Cant calculate RUN6548 complex\n",
      "Cant calculate RUN6548 solvent\n"
     ]
    },
    {
     "name": "stderr",
     "output_type": "stream",
     "text": [
      "\r",
      " 82%|████████▏ | 4865/5956 [29:28<06:26,  2.83it/s]"
     ]
    },
    {
     "name": "stdout",
     "output_type": "stream",
     "text": [
      "Cant calculate RUN6549 complex\n",
      "Cant calculate RUN6549 solvent\n"
     ]
    },
    {
     "name": "stderr",
     "output_type": "stream",
     "text": [
      " 82%|████████▏ | 4890/5956 [29:37<06:24,  2.77it/s]"
     ]
    },
    {
     "name": "stdout",
     "output_type": "stream",
     "text": [
      "Cant calculate RUN6574 complex\n",
      "Cant calculate RUN6574 solvent\n"
     ]
    },
    {
     "name": "stderr",
     "output_type": "stream",
     "text": [
      "\r",
      " 82%|████████▏ | 4891/5956 [29:37<06:21,  2.79it/s]"
     ]
    },
    {
     "name": "stdout",
     "output_type": "stream",
     "text": [
      "Cant calculate RUN6575 complex\n",
      "Cant calculate RUN6575 solvent\n"
     ]
    },
    {
     "name": "stderr",
     "output_type": "stream",
     "text": [
      "\r",
      " 82%|████████▏ | 4892/5956 [29:38<06:18,  2.81it/s]"
     ]
    },
    {
     "name": "stdout",
     "output_type": "stream",
     "text": [
      "Cant calculate RUN6576 complex\n",
      "Cant calculate RUN6576 solvent\n"
     ]
    },
    {
     "name": "stderr",
     "output_type": "stream",
     "text": [
      "\r",
      " 82%|████████▏ | 4893/5956 [29:38<06:16,  2.83it/s]"
     ]
    },
    {
     "name": "stdout",
     "output_type": "stream",
     "text": [
      "Cant calculate RUN6577 complex\n",
      "Cant calculate RUN6577 solvent\n"
     ]
    },
    {
     "name": "stderr",
     "output_type": "stream",
     "text": [
      "\r",
      " 82%|████████▏ | 4894/5956 [29:39<06:15,  2.83it/s]"
     ]
    },
    {
     "name": "stdout",
     "output_type": "stream",
     "text": [
      "Cant calculate RUN6578 complex\n",
      "Cant calculate RUN6578 solvent\n"
     ]
    },
    {
     "name": "stderr",
     "output_type": "stream",
     "text": [
      "\r",
      " 82%|████████▏ | 4895/5956 [29:39<06:14,  2.83it/s]"
     ]
    },
    {
     "name": "stdout",
     "output_type": "stream",
     "text": [
      "Cant calculate RUN6579 complex\n",
      "Cant calculate RUN6579 solvent\n"
     ]
    },
    {
     "name": "stderr",
     "output_type": "stream",
     "text": [
      "\r",
      " 82%|████████▏ | 4896/5956 [29:39<06:15,  2.82it/s]"
     ]
    },
    {
     "name": "stdout",
     "output_type": "stream",
     "text": [
      "Cant calculate RUN6580 complex\n",
      "Cant calculate RUN6580 solvent\n"
     ]
    },
    {
     "name": "stderr",
     "output_type": "stream",
     "text": [
      "\r",
      " 82%|████████▏ | 4897/5956 [29:40<06:13,  2.83it/s]"
     ]
    },
    {
     "name": "stdout",
     "output_type": "stream",
     "text": [
      "Cant calculate RUN6581 complex\n",
      "Cant calculate RUN6581 solvent\n"
     ]
    },
    {
     "name": "stderr",
     "output_type": "stream",
     "text": [
      " 82%|████████▏ | 4911/5956 [29:45<06:16,  2.78it/s]"
     ]
    },
    {
     "name": "stdout",
     "output_type": "stream",
     "text": [
      "Cant calculate RUN6595 complex\n",
      "Cant calculate RUN6595 solvent\n"
     ]
    },
    {
     "name": "stderr",
     "output_type": "stream",
     "text": [
      " 83%|████████▎ | 4943/5956 [29:56<05:58,  2.82it/s]"
     ]
    },
    {
     "name": "stdout",
     "output_type": "stream",
     "text": [
      "Cant calculate RUN6627 complex\n",
      "Cant calculate RUN6627 solvent\n"
     ]
    },
    {
     "name": "stderr",
     "output_type": "stream",
     "text": [
      " 83%|████████▎ | 4948/5956 [29:58<05:56,  2.83it/s]"
     ]
    },
    {
     "name": "stdout",
     "output_type": "stream",
     "text": [
      "Cant calculate RUN6632 complex\n",
      "Cant calculate RUN6632 solvent\n"
     ]
    },
    {
     "name": "stderr",
     "output_type": "stream",
     "text": [
      "\r",
      " 83%|████████▎ | 4949/5956 [29:58<05:54,  2.84it/s]"
     ]
    },
    {
     "name": "stdout",
     "output_type": "stream",
     "text": [
      "Cant calculate RUN6633 complex\n",
      "Cant calculate RUN6633 solvent\n"
     ]
    },
    {
     "name": "stderr",
     "output_type": "stream",
     "text": [
      "\r",
      " 83%|████████▎ | 4950/5956 [29:59<05:52,  2.85it/s]"
     ]
    },
    {
     "name": "stdout",
     "output_type": "stream",
     "text": [
      "Cant calculate RUN6634 complex\n",
      "Cant calculate RUN6634 solvent\n"
     ]
    },
    {
     "name": "stderr",
     "output_type": "stream",
     "text": [
      " 83%|████████▎ | 4959/5956 [30:02<05:53,  2.82it/s]"
     ]
    },
    {
     "name": "stdout",
     "output_type": "stream",
     "text": [
      "Cant calculate RUN6643 complex\n",
      "Cant calculate RUN6643 solvent\n"
     ]
    },
    {
     "name": "stderr",
     "output_type": "stream",
     "text": [
      "\r",
      " 83%|████████▎ | 4960/5956 [30:02<05:50,  2.84it/s]"
     ]
    },
    {
     "name": "stdout",
     "output_type": "stream",
     "text": [
      "Cant calculate RUN6644 complex\n",
      "Cant calculate RUN6644 solvent\n"
     ]
    },
    {
     "name": "stderr",
     "output_type": "stream",
     "text": [
      "\r",
      " 83%|████████▎ | 4961/5956 [30:03<05:48,  2.86it/s]"
     ]
    },
    {
     "name": "stdout",
     "output_type": "stream",
     "text": [
      "Cant calculate RUN6645 complex\n",
      "Cant calculate RUN6645 solvent\n"
     ]
    },
    {
     "name": "stderr",
     "output_type": "stream",
     "text": [
      "\r",
      " 83%|████████▎ | 4962/5956 [30:03<05:46,  2.87it/s]"
     ]
    },
    {
     "name": "stdout",
     "output_type": "stream",
     "text": [
      "Cant calculate RUN6646 complex\n",
      "Cant calculate RUN6646 solvent\n"
     ]
    },
    {
     "name": "stderr",
     "output_type": "stream",
     "text": [
      " 84%|████████▍ | 4989/5956 [30:12<05:42,  2.83it/s]"
     ]
    },
    {
     "name": "stdout",
     "output_type": "stream",
     "text": [
      "Cant calculate RUN6673 complex\n",
      "Cant calculate RUN6673 solvent\n"
     ]
    },
    {
     "name": "stderr",
     "output_type": "stream",
     "text": [
      " 84%|████████▍ | 5002/5956 [30:17<05:37,  2.83it/s]"
     ]
    },
    {
     "name": "stdout",
     "output_type": "stream",
     "text": [
      "Cant calculate RUN6686 complex\n",
      "Cant calculate RUN6686 solvent\n"
     ]
    },
    {
     "name": "stderr",
     "output_type": "stream",
     "text": [
      " 84%|████████▍ | 5029/5956 [30:27<05:28,  2.82it/s]"
     ]
    },
    {
     "name": "stdout",
     "output_type": "stream",
     "text": [
      "Cant calculate RUN6713 complex\n",
      "Cant calculate RUN6713 solvent\n"
     ]
    },
    {
     "name": "stderr",
     "output_type": "stream",
     "text": [
      "\r",
      " 84%|████████▍ | 5030/5956 [30:27<05:26,  2.84it/s]"
     ]
    },
    {
     "name": "stdout",
     "output_type": "stream",
     "text": [
      "Cant calculate RUN6714 complex\n",
      "Cant calculate RUN6714 solvent\n"
     ]
    },
    {
     "name": "stderr",
     "output_type": "stream",
     "text": [
      " 85%|████████▌ | 5066/5956 [30:40<05:14,  2.83it/s]"
     ]
    },
    {
     "name": "stdout",
     "output_type": "stream",
     "text": [
      "Cant calculate RUN6750 complex\n",
      "Cant calculate RUN6750 solvent\n"
     ]
    },
    {
     "name": "stderr",
     "output_type": "stream",
     "text": [
      " 85%|████████▌ | 5070/5956 [30:41<05:14,  2.82it/s]"
     ]
    },
    {
     "name": "stdout",
     "output_type": "stream",
     "text": [
      "Cant calculate RUN6754 complex\n",
      "Cant calculate RUN6754 solvent\n"
     ]
    },
    {
     "name": "stderr",
     "output_type": "stream",
     "text": [
      " 86%|████████▌ | 5098/5956 [30:51<05:02,  2.84it/s]"
     ]
    },
    {
     "name": "stdout",
     "output_type": "stream",
     "text": [
      "Cant calculate RUN6782 complex\n",
      "Cant calculate RUN6782 solvent\n"
     ]
    },
    {
     "name": "stderr",
     "output_type": "stream",
     "text": [
      " 86%|████████▌ | 5118/5956 [30:59<04:56,  2.83it/s]"
     ]
    },
    {
     "name": "stdout",
     "output_type": "stream",
     "text": [
      "Cant calculate RUN6802 complex\n",
      "Cant calculate RUN6802 solvent\n"
     ]
    },
    {
     "name": "stderr",
     "output_type": "stream",
     "text": [
      " 86%|████████▌ | 5125/5956 [31:01<04:54,  2.83it/s]"
     ]
    },
    {
     "name": "stdout",
     "output_type": "stream",
     "text": [
      "Cant calculate RUN6809 complex\n",
      "Cant calculate RUN6809 solvent\n"
     ]
    },
    {
     "name": "stderr",
     "output_type": "stream",
     "text": [
      "\r",
      " 86%|████████▌ | 5126/5956 [31:01<04:52,  2.84it/s]"
     ]
    },
    {
     "name": "stdout",
     "output_type": "stream",
     "text": [
      "Cant calculate RUN6810 complex\n",
      "Cant calculate RUN6810 solvent\n"
     ]
    },
    {
     "name": "stderr",
     "output_type": "stream",
     "text": [
      " 86%|████████▌ | 5131/5956 [31:03<04:50,  2.84it/s]"
     ]
    },
    {
     "name": "stdout",
     "output_type": "stream",
     "text": [
      "Cant calculate RUN6815 complex\n",
      "Cant calculate RUN6815 solvent\n"
     ]
    },
    {
     "name": "stderr",
     "output_type": "stream",
     "text": [
      " 86%|████████▌ | 5133/5956 [31:04<04:49,  2.84it/s]"
     ]
    },
    {
     "name": "stdout",
     "output_type": "stream",
     "text": [
      "Cant calculate RUN6817 complex\n",
      "Cant calculate RUN6817 solvent\n"
     ]
    },
    {
     "name": "stderr",
     "output_type": "stream",
     "text": [
      " 86%|████████▌ | 5137/5956 [31:05<04:50,  2.82it/s]"
     ]
    },
    {
     "name": "stdout",
     "output_type": "stream",
     "text": [
      "Cant calculate RUN6821 complex\n",
      "Cant calculate RUN6821 solvent\n"
     ]
    },
    {
     "name": "stderr",
     "output_type": "stream",
     "text": [
      " 87%|████████▋ | 5165/5956 [31:15<04:41,  2.81it/s]"
     ]
    },
    {
     "name": "stdout",
     "output_type": "stream",
     "text": [
      "Cant calculate RUN6849 complex\n",
      "Cant calculate RUN6849 solvent\n"
     ]
    },
    {
     "name": "stderr",
     "output_type": "stream",
     "text": [
      " 87%|████████▋ | 5167/5956 [31:16<04:43,  2.78it/s]"
     ]
    },
    {
     "name": "stdout",
     "output_type": "stream",
     "text": [
      "Cant calculate RUN6851 complex\n",
      "Cant calculate RUN6851 solvent\n"
     ]
    },
    {
     "name": "stderr",
     "output_type": "stream",
     "text": [
      " 87%|████████▋ | 5170/5956 [31:17<04:44,  2.76it/s]"
     ]
    },
    {
     "name": "stdout",
     "output_type": "stream",
     "text": [
      "Cant calculate RUN6854 complex\n",
      "Cant calculate RUN6854 solvent\n"
     ]
    },
    {
     "name": "stderr",
     "output_type": "stream",
     "text": [
      " 87%|████████▋ | 5177/5956 [31:20<04:51,  2.67it/s]"
     ]
    },
    {
     "name": "stdout",
     "output_type": "stream",
     "text": [
      "Cant calculate RUN6861 complex\n",
      "Cant calculate RUN6861 solvent\n"
     ]
    },
    {
     "name": "stderr",
     "output_type": "stream",
     "text": [
      " 87%|████████▋ | 5179/5956 [31:20<04:44,  2.73it/s]"
     ]
    },
    {
     "name": "stdout",
     "output_type": "stream",
     "text": [
      "Cant calculate RUN6863 complex\n",
      "Cant calculate RUN6863 solvent\n"
     ]
    },
    {
     "name": "stderr",
     "output_type": "stream",
     "text": [
      " 87%|████████▋ | 5182/5956 [31:22<04:39,  2.76it/s]"
     ]
    },
    {
     "name": "stdout",
     "output_type": "stream",
     "text": [
      "Cant calculate RUN6866 complex\n",
      "Cant calculate RUN6866 solvent\n"
     ]
    },
    {
     "name": "stderr",
     "output_type": "stream",
     "text": [
      " 88%|████████▊ | 5235/5956 [31:41<04:18,  2.79it/s]"
     ]
    },
    {
     "name": "stdout",
     "output_type": "stream",
     "text": [
      "Cant calculate RUN6919 complex\n",
      "Cant calculate RUN6919 solvent\n"
     ]
    },
    {
     "name": "stderr",
     "output_type": "stream",
     "text": [
      " 89%|████████▊ | 5282/5956 [31:58<03:58,  2.83it/s]"
     ]
    },
    {
     "name": "stdout",
     "output_type": "stream",
     "text": [
      "Cant calculate RUN6966 complex\n",
      "Cant calculate RUN6966 solvent\n"
     ]
    },
    {
     "name": "stderr",
     "output_type": "stream",
     "text": [
      " 89%|████████▉ | 5324/5956 [32:14<03:58,  2.65it/s]"
     ]
    },
    {
     "name": "stdout",
     "output_type": "stream",
     "text": [
      "Cant calculate RUN7008 complex\n",
      "Cant calculate RUN7008 solvent\n"
     ]
    },
    {
     "name": "stderr",
     "output_type": "stream",
     "text": [
      " 90%|████████▉ | 5332/5956 [32:17<04:36,  2.26it/s]"
     ]
    },
    {
     "name": "stdout",
     "output_type": "stream",
     "text": [
      "Cant calculate RUN7016 complex\n",
      "Cant calculate RUN7016 solvent\n"
     ]
    },
    {
     "name": "stderr",
     "output_type": "stream",
     "text": [
      " 90%|████████▉ | 5334/5956 [32:18<04:28,  2.32it/s]"
     ]
    },
    {
     "name": "stdout",
     "output_type": "stream",
     "text": [
      "Cant calculate RUN7018 complex\n",
      "Cant calculate RUN7018 solvent\n"
     ]
    },
    {
     "name": "stderr",
     "output_type": "stream",
     "text": [
      "\r",
      " 90%|████████▉ | 5335/5956 [32:18<04:20,  2.38it/s]"
     ]
    },
    {
     "name": "stdout",
     "output_type": "stream",
     "text": [
      "Cant calculate RUN7019 complex\n",
      "Cant calculate RUN7019 solvent\n"
     ]
    },
    {
     "name": "stderr",
     "output_type": "stream",
     "text": [
      " 90%|████████▉ | 5338/5956 [32:19<04:11,  2.46it/s]"
     ]
    },
    {
     "name": "stdout",
     "output_type": "stream",
     "text": [
      "Cant calculate RUN7022 complex\n",
      "Cant calculate RUN7022 solvent\n"
     ]
    },
    {
     "name": "stderr",
     "output_type": "stream",
     "text": [
      "\r",
      " 90%|████████▉ | 5339/5956 [32:20<04:04,  2.52it/s]"
     ]
    },
    {
     "name": "stdout",
     "output_type": "stream",
     "text": [
      "Cant calculate RUN7023 complex\n",
      "Cant calculate RUN7023 solvent\n"
     ]
    },
    {
     "name": "stderr",
     "output_type": "stream",
     "text": [
      "\r",
      " 90%|████████▉ | 5340/5956 [32:20<03:58,  2.58it/s]"
     ]
    },
    {
     "name": "stdout",
     "output_type": "stream",
     "text": [
      "Cant calculate RUN7024 complex\n",
      "Cant calculate RUN7024 solvent\n"
     ]
    },
    {
     "name": "stderr",
     "output_type": "stream",
     "text": [
      " 90%|█████████ | 5362/5956 [32:28<03:33,  2.78it/s]"
     ]
    },
    {
     "name": "stdout",
     "output_type": "stream",
     "text": [
      "Cant calculate RUN7046 complex\n",
      "Cant calculate RUN7046 solvent\n"
     ]
    },
    {
     "name": "stderr",
     "output_type": "stream",
     "text": [
      "\r",
      " 90%|█████████ | 5363/5956 [32:29<03:31,  2.80it/s]"
     ]
    },
    {
     "name": "stdout",
     "output_type": "stream",
     "text": [
      "Cant calculate RUN7047 complex\n",
      "Cant calculate RUN7047 solvent\n"
     ]
    },
    {
     "name": "stderr",
     "output_type": "stream",
     "text": [
      "\r",
      " 90%|█████████ | 5364/5956 [32:29<03:30,  2.81it/s]"
     ]
    },
    {
     "name": "stdout",
     "output_type": "stream",
     "text": [
      "Cant calculate RUN7048 complex\n",
      "Cant calculate RUN7048 solvent\n"
     ]
    },
    {
     "name": "stderr",
     "output_type": "stream",
     "text": [
      " 90%|█████████ | 5370/5956 [32:31<03:40,  2.66it/s]"
     ]
    },
    {
     "name": "stdout",
     "output_type": "stream",
     "text": [
      "Cant calculate RUN7054 complex\n",
      "Cant calculate RUN7054 solvent\n"
     ]
    },
    {
     "name": "stderr",
     "output_type": "stream",
     "text": [
      " 90%|█████████ | 5373/5956 [32:32<03:34,  2.72it/s]"
     ]
    },
    {
     "name": "stdout",
     "output_type": "stream",
     "text": [
      "Cant calculate RUN7057 complex\n",
      "Cant calculate RUN7057 solvent\n"
     ]
    },
    {
     "name": "stderr",
     "output_type": "stream",
     "text": [
      "\r",
      " 90%|█████████ | 5374/5956 [32:33<03:37,  2.68it/s]"
     ]
    },
    {
     "name": "stdout",
     "output_type": "stream",
     "text": [
      "Cant calculate RUN7058 complex\n",
      "Cant calculate RUN7058 solvent\n"
     ]
    },
    {
     "name": "stderr",
     "output_type": "stream",
     "text": [
      "\r",
      " 90%|█████████ | 5375/5956 [32:33<03:34,  2.71it/s]"
     ]
    },
    {
     "name": "stdout",
     "output_type": "stream",
     "text": [
      "Cant calculate RUN7059 complex\n",
      "Cant calculate RUN7059 solvent\n"
     ]
    },
    {
     "name": "stderr",
     "output_type": "stream",
     "text": [
      "\r",
      " 90%|█████████ | 5376/5956 [32:34<03:38,  2.66it/s]"
     ]
    },
    {
     "name": "stdout",
     "output_type": "stream",
     "text": [
      "Cant calculate RUN7060 complex\n",
      "Cant calculate RUN7060 solvent\n"
     ]
    },
    {
     "name": "stderr",
     "output_type": "stream",
     "text": [
      "\r",
      " 90%|█████████ | 5377/5956 [32:34<03:36,  2.67it/s]"
     ]
    },
    {
     "name": "stdout",
     "output_type": "stream",
     "text": [
      "Cant calculate RUN7061 complex\n",
      "Cant calculate RUN7061 solvent\n"
     ]
    },
    {
     "name": "stderr",
     "output_type": "stream",
     "text": [
      " 90%|█████████ | 5385/5956 [32:37<03:35,  2.65it/s]"
     ]
    },
    {
     "name": "stdout",
     "output_type": "stream",
     "text": [
      "Cant calculate RUN7069 complex\n",
      "Cant calculate RUN7069 solvent\n"
     ]
    },
    {
     "name": "stderr",
     "output_type": "stream",
     "text": [
      "\r",
      " 90%|█████████ | 5386/5956 [32:37<03:31,  2.70it/s]"
     ]
    },
    {
     "name": "stdout",
     "output_type": "stream",
     "text": [
      "Cant calculate RUN7070 complex\n",
      "Cant calculate RUN7070 solvent\n"
     ]
    },
    {
     "name": "stderr",
     "output_type": "stream",
     "text": [
      " 91%|█████████ | 5422/5956 [32:51<03:15,  2.73it/s]"
     ]
    },
    {
     "name": "stdout",
     "output_type": "stream",
     "text": [
      "Cant calculate RUN7106 complex\n",
      "Cant calculate RUN7106 solvent\n"
     ]
    },
    {
     "name": "stderr",
     "output_type": "stream",
     "text": [
      " 91%|█████████ | 5429/5956 [32:53<03:10,  2.76it/s]"
     ]
    },
    {
     "name": "stdout",
     "output_type": "stream",
     "text": [
      "Cant calculate RUN7113 complex\n",
      "Cant calculate RUN7113 solvent\n"
     ]
    },
    {
     "name": "stderr",
     "output_type": "stream",
     "text": [
      " 91%|█████████▏| 5435/5956 [32:56<03:08,  2.77it/s]"
     ]
    },
    {
     "name": "stdout",
     "output_type": "stream",
     "text": [
      "Cant calculate RUN7119 complex\n",
      "Cant calculate RUN7119 solvent\n"
     ]
    },
    {
     "name": "stderr",
     "output_type": "stream",
     "text": [
      " 92%|█████████▏| 5497/5956 [33:19<02:51,  2.67it/s]"
     ]
    },
    {
     "name": "stdout",
     "output_type": "stream",
     "text": [
      "Cant calculate RUN7181 complex\n",
      "Cant calculate RUN7181 solvent\n"
     ]
    },
    {
     "name": "stderr",
     "output_type": "stream",
     "text": [
      " 93%|█████████▎| 5527/5956 [33:30<02:37,  2.72it/s]"
     ]
    },
    {
     "name": "stdout",
     "output_type": "stream",
     "text": [
      "Cant calculate RUN7211 complex\n",
      "Cant calculate RUN7211 solvent\n"
     ]
    },
    {
     "name": "stderr",
     "output_type": "stream",
     "text": [
      "\r",
      " 93%|█████████▎| 5528/5956 [33:30<02:35,  2.75it/s]"
     ]
    },
    {
     "name": "stdout",
     "output_type": "stream",
     "text": [
      "Cant calculate RUN7212 complex\n",
      "Cant calculate RUN7212 solvent\n"
     ]
    },
    {
     "name": "stderr",
     "output_type": "stream",
     "text": [
      " 93%|█████████▎| 5530/5956 [33:31<02:36,  2.71it/s]"
     ]
    },
    {
     "name": "stdout",
     "output_type": "stream",
     "text": [
      "Cant calculate RUN7214 complex\n",
      "Cant calculate RUN7214 solvent\n"
     ]
    },
    {
     "name": "stderr",
     "output_type": "stream",
     "text": [
      " 93%|█████████▎| 5558/5956 [33:41<02:23,  2.77it/s]"
     ]
    },
    {
     "name": "stdout",
     "output_type": "stream",
     "text": [
      "Cant calculate RUN7242 complex\n"
     ]
    },
    {
     "name": "stderr",
     "output_type": "stream",
     "text": [
      " 93%|█████████▎| 5560/5956 [33:42<02:21,  2.80it/s]"
     ]
    },
    {
     "name": "stdout",
     "output_type": "stream",
     "text": [
      "Cant calculate RUN7244 complex\n",
      "Cant calculate RUN7244 solvent\n"
     ]
    },
    {
     "name": "stderr",
     "output_type": "stream",
     "text": [
      "\r",
      " 93%|█████████▎| 5561/5956 [33:42<02:21,  2.80it/s]"
     ]
    },
    {
     "name": "stdout",
     "output_type": "stream",
     "text": [
      "Cant calculate RUN7245 complex\n",
      "Cant calculate RUN7245 solvent\n"
     ]
    },
    {
     "name": "stderr",
     "output_type": "stream",
     "text": [
      " 94%|█████████▎| 5569/5956 [33:45<02:18,  2.79it/s]"
     ]
    },
    {
     "name": "stdout",
     "output_type": "stream",
     "text": [
      "Cant calculate RUN7253 complex\n",
      "Cant calculate RUN7253 solvent\n"
     ]
    },
    {
     "name": "stderr",
     "output_type": "stream",
     "text": [
      " 94%|█████████▍| 5585/5956 [33:51<02:13,  2.78it/s]"
     ]
    },
    {
     "name": "stdout",
     "output_type": "stream",
     "text": [
      "Cant calculate RUN7269 complex\n",
      "Cant calculate RUN7269 solvent\n"
     ]
    },
    {
     "name": "stderr",
     "output_type": "stream",
     "text": [
      " 94%|█████████▍| 5594/5956 [33:54<02:10,  2.78it/s]"
     ]
    },
    {
     "name": "stdout",
     "output_type": "stream",
     "text": [
      "Cant calculate RUN7278 complex\n",
      "Cant calculate RUN7278 solvent\n"
     ]
    },
    {
     "name": "stderr",
     "output_type": "stream",
     "text": [
      " 94%|█████████▍| 5612/5956 [34:01<02:02,  2.81it/s]"
     ]
    },
    {
     "name": "stdout",
     "output_type": "stream",
     "text": [
      "Cant calculate RUN7296 complex\n",
      "Cant calculate RUN7296 solvent\n"
     ]
    },
    {
     "name": "stderr",
     "output_type": "stream",
     "text": [
      " 95%|█████████▌| 5666/5956 [34:20<01:43,  2.81it/s]"
     ]
    },
    {
     "name": "stdout",
     "output_type": "stream",
     "text": [
      "Cant calculate RUN7350 complex\n",
      "Cant calculate RUN7350 solvent\n"
     ]
    },
    {
     "name": "stderr",
     "output_type": "stream",
     "text": [
      " 96%|█████████▌| 5700/5956 [34:33<01:39,  2.57it/s]"
     ]
    },
    {
     "name": "stdout",
     "output_type": "stream",
     "text": [
      "Cant calculate RUN7384 complex\n",
      "Cant calculate RUN7384 solvent\n"
     ]
    },
    {
     "name": "stderr",
     "output_type": "stream",
     "text": [
      " 96%|█████████▋| 5734/5956 [34:46<01:23,  2.67it/s]"
     ]
    },
    {
     "name": "stdout",
     "output_type": "stream",
     "text": [
      "Cant calculate RUN7418 complex\n",
      "Cant calculate RUN7418 solvent\n"
     ]
    },
    {
     "name": "stderr",
     "output_type": "stream",
     "text": [
      "\r",
      " 96%|█████████▋| 5735/5956 [34:46<01:21,  2.71it/s]"
     ]
    },
    {
     "name": "stdout",
     "output_type": "stream",
     "text": [
      "Cant calculate RUN7419 complex\n",
      "Cant calculate RUN7419 solvent\n"
     ]
    },
    {
     "name": "stderr",
     "output_type": "stream",
     "text": [
      " 97%|█████████▋| 5778/5956 [35:05<01:09,  2.55it/s]"
     ]
    },
    {
     "name": "stdout",
     "output_type": "stream",
     "text": [
      "Cant calculate RUN7462 complex\n",
      "Cant calculate RUN7462 solvent\n"
     ]
    },
    {
     "name": "stderr",
     "output_type": "stream",
     "text": [
      "\r",
      " 97%|█████████▋| 5779/5956 [35:06<01:08,  2.59it/s]"
     ]
    },
    {
     "name": "stdout",
     "output_type": "stream",
     "text": [
      "Cant calculate RUN7463 complex\n",
      "Cant calculate RUN7463 solvent\n"
     ]
    },
    {
     "name": "stderr",
     "output_type": "stream",
     "text": [
      "\r",
      " 97%|█████████▋| 5780/5956 [35:06<01:07,  2.62it/s]"
     ]
    },
    {
     "name": "stdout",
     "output_type": "stream",
     "text": [
      "Cant calculate RUN7464 complex\n",
      "Cant calculate RUN7464 solvent\n"
     ]
    },
    {
     "name": "stderr",
     "output_type": "stream",
     "text": [
      " 98%|█████████▊| 5828/5956 [35:24<00:46,  2.77it/s]"
     ]
    },
    {
     "name": "stdout",
     "output_type": "stream",
     "text": [
      "Cant calculate RUN7512 complex\n",
      "Cant calculate RUN7512 solvent\n"
     ]
    },
    {
     "name": "stderr",
     "output_type": "stream",
     "text": [
      " 99%|█████████▉| 5897/5956 [35:49<00:21,  2.70it/s]"
     ]
    },
    {
     "name": "stdout",
     "output_type": "stream",
     "text": [
      "Cant calculate RUN7581 complex\n",
      "Cant calculate RUN7581 solvent\n"
     ]
    },
    {
     "name": "stderr",
     "output_type": "stream",
     "text": [
      "100%|█████████▉| 5941/5956 [36:05<00:05,  2.78it/s]"
     ]
    },
    {
     "name": "stdout",
     "output_type": "stream",
     "text": [
      "Cant calculate RUN7625 complex\n",
      "Cant calculate RUN7625 solvent\n"
     ]
    },
    {
     "name": "stderr",
     "output_type": "stream",
     "text": [
      "100%|█████████▉| 5943/5956 [36:06<00:04,  2.74it/s]"
     ]
    },
    {
     "name": "stdout",
     "output_type": "stream",
     "text": [
      "Cant calculate RUN7627 complex\n",
      "Cant calculate RUN7627 solvent\n"
     ]
    },
    {
     "name": "stderr",
     "output_type": "stream",
     "text": [
      "100%|██████████| 5956/5956 [36:10<00:00,  2.74it/s]\n"
     ]
    }
   ],
   "source": [
    "projects = {\n",
    "    'complex' : 'PROJ13420',\n",
    "    'solvent' : 'PROJ13421'}\n",
    "\n",
    "import time\n",
    "plotting = False\n",
    "\n",
    "def _get_works(df,run,project,GEN=None):\n",
    "    works = df[(df['RUN']==run)]\n",
    "    \n",
    "    if GEN:\n",
    "        works = works[works['GEN']==GEN]\n",
    "\n",
    "    f = works[works['PROJ']==project].forward_work\n",
    "    r = works[works['PROJ']==project].reverse_work   \n",
    "    return f, r\n",
    "\n",
    "n_bootstrap = 1\n",
    "for d in tqdm.tqdm(details.values()):\n",
    "    RUN = d['directory']\n",
    "    if plotting:\n",
    "        fig, axes = plt.subplots(ncols=2,nrows=1,figsize=(10,5))\n",
    "    for i, phase in enumerate(projects.keys()):\n",
    "        if plotting:\n",
    "            axes[i].set_title(phase)\n",
    "        \n",
    "        all_forward = []\n",
    "        all_reverse = []\n",
    "        # There will be 6 gens for this project I think\n",
    "        for gen_id in range(0,n_gens_run+1): # change this\n",
    "            f_works, r_works = _get_works(work,RUN,projects[phase],GEN=f'GEN{gen_id}')\n",
    "            f_works = _strip_outliers(f_works)       \n",
    "            r_works = _strip_outliers(r_works)\n",
    "            d[f'{phase}_fes_GEN{gen_id}'] = []\n",
    "            d[f'{phase}_dfes_GEN{gen_id}'] = []\n",
    "\n",
    "            if len(f_works) > 10 and len(r_works) > 10:\n",
    "                for _ in range(n_bootstrap):\n",
    "                    # the f and r's should come from the same switches for bootstrapping\n",
    "                    f = random.choices(f_works, k=len(f_works))\n",
    "                    r = random.choices(r_works, k=len(r_works))\n",
    "                    fe, err = BAR(np.asarray(f), np.asarray(r)) \n",
    "                    d[f'{phase}_fes_GEN{gen_id}'].append(fe)\n",
    "                    d[f'{phase}_dfes_GEN{gen_id}'].append(err)\n",
    "\n",
    "            all_forward.extend(f_works)\n",
    "            all_reverse.extend(r_works)\n",
    "\n",
    "        if len(all_forward) < 10:\n",
    "            print(f'Cant calculate {RUN} {phase}')\n",
    "            continue\n",
    "        if len(all_reverse) < 10:\n",
    "            print(f'Cant calculate {RUN} {phase}')\n",
    "            continue\n",
    "        if plotting:\n",
    "            sns.kdeplot(all_forward,shade=True,color='cornflowerblue',ax=axes[i])\n",
    "            sns.rugplot(all_forward,ax=axes[i],color='cornflowerblue',alpha=0.5,label=f'forward : N={len(f_works)}')\n",
    "            sns.rugplot(all_forward,ax=axes[i],color='darkblue',label=f'forward (gen0) : N={len(f_works)}')\n",
    "            sns.rugplot([-x for x in all_reverse],ax=axes[i],color='mediumvioletred',label=f'reverse (gen0) : N={len(r_works)}')\n",
    "            sns.kdeplot([-x for x in all_reverse],shade=True,color='hotpink',ax=axes[i])\n",
    "            sns.rugplot([-x for x in all_reverse],ax=axes[i],color='hotpink',alpha=0.5,label=f'reverse : N={len(r_works)}')\n",
    "\n",
    "        if any([True for x in [all_reverse, all_forward] if len(x) < 20]):\n",
    "            print(f'Cant calculate {RUN} {phase}')\n",
    "        else:\n",
    "            # TODO add bootstrapping here\n",
    "            d[f'{phase}_fes'] = BAR(np.asarray(all_forward), np.asarray(all_reverse))\n",
    "#             d[f'n_{phase}'] = len(all_forward) + len(all_reverse)\n",
    "              \n",
    "        \n",
    "    if plotting:    \n",
    "        fig.suptitle(f\"{RUN}: {d['protein'].split('_')[0]} {d['start']}-{d['end']}\", fontsize=16)\n",
    "        fig.subplots_adjust(top=0.9,wspace=0.15)\n",
    "        axes[0].legend()\n",
    "        axes[1].legend()\n",
    "        plt.show()"
   ]
  },
  {
   "cell_type": "code",
   "execution_count": 116,
   "metadata": {},
   "outputs": [],
   "source": [
    "import networkx as nx\n",
    "result_types = ['amine-neutral','amine-charged','boronic-neutral','boronic-charged']\n",
    "r = {}\n",
    "\n",
    "for res in result_types:\n",
    "    r[res] = {}\n",
    "    \n",
    "for result_set in r.keys():\n",
    "    r[result_set]['DDG_f'] = {0:0.}\n",
    "    r[result_set]['DDG_r'] = {0:0.}\n",
    "    r[result_set]['dDDG_f'] = {0:0.}\n",
    "    r[result_set]['dDDG_r'] = {0:0.}\n",
    "    \n",
    "for d in details.values():\n",
    "    if 'amine' in d['ligand']:\n",
    "        ligand = 'amine'\n",
    "    if 'boronic' in d['ligand']:\n",
    "        ligand = 'boronic'\n",
    "    if 'thiolate' in d['protein']:\n",
    "        prot = 'charged'\n",
    "    else:\n",
    "        prot = 'neutral'\n",
    "        \n",
    "    r_type = f'{ligand}-{prot}'\n",
    "    if d['start'] == 0:\n",
    "        if 'complex_fes' in d and 'solvent_fes' in d:\n",
    "            DDG = ((d['complex_fes'][0] - d['solvent_fes'][0])*kT).value_in_unit(unit.kilocalories_per_mole) \n",
    "            dDDG = ((d['solvent_fes'][1]**0.5 + d['complex_fes'][1]**0.5)**2*kT).value_in_unit(unit.kilocalories_per_mole)\n",
    "            if np.abs(DDG) < 15:\n",
    "                r[r_type]['DDG_f'][d['end']] = DDG\n",
    "                r[r_type]['dDDG_f'][d['end']] = dDDG\n",
    "    if d['end'] == 0:\n",
    "        if 'complex_fes' in d and 'solvent_fes' in d:\n",
    "            DDG = ((d['complex_fes'][0] - d['solvent_fes'][0])*kT).value_in_unit(unit.kilocalories_per_mole) \n",
    "            dDDG = ((d['solvent_fes'][1]**0.5 + d['complex_fes'][1]**0.5)**2*kT).value_in_unit(unit.kilocalories_per_mole)\n",
    "            if np.abs(DDG) < 15:\n",
    "                r[r_type]['DDG_r'][d['start']] = -DDG\n",
    "                r[r_type]['dDDG_r'][d['start']] = dDDG"
   ]
  },
  {
   "cell_type": "code",
   "execution_count": 117,
   "metadata": {},
   "outputs": [],
   "source": [
    "# result_sets = ['amine-neutral','amine-charged','boronic-neutral','boronic-charged']\n",
    "\n",
    "# ligand_types = set([d['ligand'] for d in details.values()])\n",
    "# print(ligand_types)\n",
    "\n",
    "# protein_types = set([d['protein'] for d in details.values()])\n",
    "# print(protein_types)\n",
    "\n",
    "\n",
    "# for d in details.values():\n",
    "#     print(d['ligand'])"
   ]
  },
  {
   "cell_type": "code",
   "execution_count": 118,
   "metadata": {},
   "outputs": [
    {
     "data": {
      "image/png": "[encoded data removed]",
      "text/plain": [
       "<Figure size 432x288 with 1 Axes>"
      ]
     },
     "metadata": {
      "needs_background": "light"
     },
     "output_type": "display_data"
    },
    {
     "data": {
      "image/png": "[encoded data removed]",
      "text/plain": [
       "<Figure size 432x288 with 1 Axes>"
      ]
     },
     "metadata": {
      "needs_background": "light"
     },
     "output_type": "display_data"
    },
    {
     "data": {
      "image/png": "[encoded data removed]",
      "text/plain": [
       "<Figure size 432x288 with 1 Axes>"
      ]
     },
     "metadata": {
      "needs_background": "light"
     },
     "output_type": "display_data"
    },
    {
     "data": {
      "image/png": "[encoded data removed]",
      "text/plain": [
       "<Figure size 432x288 with 1 Axes>"
      ]
     },
     "metadata": {
      "needs_background": "light"
     },
     "output_type": "display_data"
    }
   ],
   "source": [
    "for results in r:\n",
    "    plt.hist(r[results]['DDG_f'].values(),bins=100,alpha=0.7)\n",
    "    plt.xlabel('Relative free energy to ligand 0 / kcal/mol')\n",
    "    plt.vlines(0,0,75,'grey',linestyles=':')\n",
    "\n",
    "\n",
    "    plt.hist(r[results]['DDG_r'].values(),bins=100,alpha=0.7)\n",
    "    plt.xlabel('Relative free energy to ligand 0 / kcal/mol')\n",
    "    plt.vlines(0,0,75,'grey',linestyles=':')\n",
    "    plt.title(results)\n",
    "    plt.show()"
   ]
  },
  {
   "cell_type": "code",
   "execution_count": 119,
   "metadata": {
    "scrolled": true
   },
   "outputs": [
    {
     "data": {
      "text/plain": [
       "<Figure size 540x540 with 0 Axes>"
      ]
     },
     "metadata": {},
     "output_type": "display_data"
    },
    {
     "data": {
      "image/png": "[encoded data removed]",
      "text/plain": [
       "<Figure size 234x234 with 1 Axes>"
      ]
     },
     "metadata": {
      "needs_background": "light"
     },
     "output_type": "display_data"
    },
    {
     "data": {
      "text/plain": [
       "<Figure size 540x540 with 0 Axes>"
      ]
     },
     "metadata": {},
     "output_type": "display_data"
    },
    {
     "data": {
      "image/png": "[encoded data removed]",
      "text/plain": [
       "<Figure size 234x234 with 1 Axes>"
      ]
     },
     "metadata": {
      "needs_background": "light"
     },
     "output_type": "display_data"
    },
    {
     "data": {
      "text/plain": [
       "<Figure size 540x540 with 0 Axes>"
      ]
     },
     "metadata": {},
     "output_type": "display_data"
    },
    {
     "data": {
      "image/png": "[encoded data removed]",
      "text/plain": [
       "<Figure size 234x234 with 1 Axes>"
      ]
     },
     "metadata": {
      "needs_background": "light"
     },
     "output_type": "display_data"
    },
    {
     "data": {
      "text/plain": [
       "<Figure size 540x540 with 0 Axes>"
      ]
     },
     "metadata": {},
     "output_type": "display_data"
    },
    {
     "data": {
      "image/png": "[encoded data removed]",
      "text/plain": [
       "<Figure size 234x234 with 1 Axes>"
      ]
     },
     "metadata": {
      "needs_background": "light"
     },
     "output_type": "display_data"
    }
   ],
   "source": [
    "from beryllium import plotting\n",
    "for results in r:\n",
    "    xs = []\n",
    "    ys = []\n",
    "    x_err = []\n",
    "    y_err = []\n",
    "    plt.figure(figsize=(7.5,7.5))\n",
    "    for lig in r[results]['DDG_f'].keys():\n",
    "        if lig in r[results]['DDG_r']:\n",
    "            xs.append(r[results]['DDG_f'][lig])\n",
    "            ys.append(r[results]['DDG_r'][lig])\n",
    "            x_err.append(r[results]['dDDG_f'][lig])\n",
    "            y_err.append(r[results]['dDDG_r'][lig])\n",
    "    plotting._master_plot(np.asarray(xs), np.asarray(ys),xerr=np.asarray(x_err), yerr=np.asarray(y_err),title=f\"{results}\\nforwards vs backwards\", xlabel=r'0$\\rightarrow$x', ylabel=r'x$\\rightarrow$0')\n",
    "\n",
    "    plt.show()"
   ]
  },
  {
   "cell_type": "code",
   "execution_count": 120,
   "metadata": {},
   "outputs": [],
   "source": [
    "def _get_best_number(ligand_result, n=10):\n",
    "    return sorted(ligand_result.items(), key=lambda kv: kv[1])[0:n]\n",
    "\n",
    "def _get_best_percent(ligand_result, p=10):\n",
    "    assert 0 < p < 100, f'Percentage must be between 0 and 100 %, percentage {p} not in range'\n",
    "    n = int(len(ligand_result) * (p/100))\n",
    "    return sorted(ligand_result.items(), key=lambda kv: kv[1])[0:n]\n",
    "\n",
    "def _get_better_than(ligand_result, threshold=0):\n",
    "    return [(k,v) for k,v in ligand_result.items() if v < threshold]"
   ]
  },
  {
   "cell_type": "code",
   "execution_count": 122,
   "metadata": {},
   "outputs": [
    {
     "data": {
      "image/png": "[encoded data removed]",
      "text/plain": [
       "<Figure size 432x288 with 1 Axes>"
      ]
     },
     "metadata": {
      "needs_background": "light"
     },
     "output_type": "display_data"
    },
    {
     "data": {
      "image/png": "[encoded data removed]",
      "text/plain": [
       "<Figure size 432x288 with 1 Axes>"
      ]
     },
     "metadata": {
      "needs_background": "light"
     },
     "output_type": "display_data"
    },
    {
     "data": {
      "image/png": "[encoded data removed]",
      "text/plain": [
       "<Figure size 432x288 with 1 Axes>"
      ]
     },
     "metadata": {
      "needs_background": "light"
     },
     "output_type": "display_data"
    },
    {
     "data": {
      "image/png": "[encoded data removed]",
      "text/plain": [
       "<Figure size 432x288 with 1 Axes>"
      ]
     },
     "metadata": {
      "needs_background": "light"
     },
     "output_type": "display_data"
    }
   ],
   "source": [
    "for results in r:\n",
    "    ligand_result = r[results]['DDG_f']\n",
    "    subset = {k:v for k,v in ligand_result.items() if v < 5}\n",
    "\n",
    "    cm = plt.cm.get_cmap('PiYG')\n",
    "\n",
    "    # Get the histogramp\n",
    "    Y,X = np.histogram(list(subset.values()), 100)\n",
    "    Y = np.cumsum(Y)\n",
    "    # Y = np.log(Y)\n",
    "    x_span = X.max()-X.min()\n",
    "    C = [cm(((X.max()-x)/x_span)) for x in X]\n",
    "\n",
    "    plt.bar(X[:-1],Y,color=C,width=X[1]-X[0],edgecolor='k')\n",
    "\n",
    "    for v in range(-2,3):\n",
    "        plt.vlines(-v,0,max(Y),'grey',linestyles=':')\n",
    "        plt.text(v-0.4, 0.8*max(Y),f\"$N$ = {len(_get_better_than(subset,v))}\", rotation=90, verticalalignment='center',color='green')\n",
    "    plt.xlabel('Relative free energy to ligand 0 / kcal/mol')\n",
    "    plt.ylabel('Cumulative $N$ ligands')\n",
    "    plt.title(results)\n",
    "    plt.show()"
   ]
  },
  {
   "cell_type": "code",
   "execution_count": 209,
   "metadata": {},
   "outputs": [],
   "source": [
    "### this will be useful for looking at looking at shift in relative FEs over GENS\n",
    "\n",
    "for d in details.values():\n",
    "    if len(d['complex_fes_GEN1']) > 0 and len(d['solvent_fes_GEN1']) > 0: # only interesting with more than one GEN done\n",
    "        for i in range(0,n_gens_run):\n",
    "            try:\n",
    "                DDG = ((np.mean(d[f'complex_fes_GEN{i}']) - np.mean(d[f'solvent_fes_GEN{i}']))*kT).value_in_unit(unit.kilocalories_per_mole) \n",
    "                dDDG = ((np.mean(d[f'complex_dfes_GEN{i}'])**0.5 + np.mean(d[f'solvent_dfes_GEN{i}'])**0.5)**2*kT).value_in_unit(unit.kilocalories_per_mole)\n",
    "                plt.errorbar(i, DDG,yerr=dDDG)\n",
    "                plt.scatter(i,DDG)\n",
    "            except:\n",
    "                continue\n",
    "    plt.show()\n"
   ]
  },
  {
   "cell_type": "code",
   "execution_count": 210,
   "metadata": {
    "scrolled": true
   },
   "outputs": [
    {
     "name": "stderr",
     "output_type": "stream",
     "text": [
      "Warning (not error because allow_undefined_stereo=True): OEMol has unspecified stereochemistry. oemol.GetTitle(): EN300-321459\n",
      "Problematic atoms are:\n",
      "Atom atomic num: 7, name: , idx: 23, aromatic: False, chiral: True with bonds:\n",
      "bond order: 1, chiral: False to atom atomic num: 6, name: , idx: 8, aromatic: True, chiral: False\n",
      "bond order: 1, chiral: False to atom atomic num: 6, name: , idx: 16, aromatic: False, chiral: False\n",
      "bond order: 1, chiral: False to atom atomic num: 6, name: , idx: 18, aromatic: False, chiral: False\n",
      "\n",
      "Warning (not error because allow_undefined_stereo=True): OEMol has unspecified stereochemistry. oemol.GetTitle(): EN300-321459\n",
      "Problematic atoms are:\n",
      "Atom atomic num: 7, name: , idx: 23, aromatic: False, chiral: True with bonds:\n",
      "bond order: 1, chiral: False to atom atomic num: 6, name: , idx: 8, aromatic: True, chiral: False\n",
      "bond order: 1, chiral: False to atom atomic num: 6, name: , idx: 16, aromatic: False, chiral: False\n",
      "bond order: 1, chiral: False to atom atomic num: 6, name: , idx: 18, aromatic: False, chiral: False\n",
      "\n",
      "Warning (not error because allow_undefined_stereo=True): OEMol has unspecified stereochemistry. oemol.GetTitle(): EN300-6729473\n",
      "Problematic atoms are:\n",
      "Atom atomic num: 6, name: , idx: 17, aromatic: False, chiral: True with bonds:\n",
      "bond order: 1, chiral: False to atom atomic num: 6, name: , idx: 13, aromatic: False, chiral: False\n",
      "bond order: 1, chiral: False to atom atomic num: 6, name: , idx: 15, aromatic: False, chiral: False\n",
      "bond order: 1, chiral: False to atom atomic num: 6, name: , idx: 16, aromatic: False, chiral: False\n",
      "bond order: 1, chiral: False to atom atomic num: 7, name: , idx: 24, aromatic: False, chiral: False\n",
      "\n",
      "Warning (not error because allow_undefined_stereo=True): OEMol has unspecified stereochemistry. oemol.GetTitle(): EN300-6729473\n",
      "Problematic atoms are:\n",
      "Atom atomic num: 6, name: , idx: 17, aromatic: False, chiral: True with bonds:\n",
      "bond order: 1, chiral: False to atom atomic num: 6, name: , idx: 13, aromatic: False, chiral: False\n",
      "bond order: 1, chiral: False to atom atomic num: 6, name: , idx: 15, aromatic: False, chiral: False\n",
      "bond order: 1, chiral: False to atom atomic num: 6, name: , idx: 16, aromatic: False, chiral: False\n",
      "bond order: 1, chiral: False to atom atomic num: 7, name: , idx: 24, aromatic: False, chiral: False\n",
      "\n",
      "Warning (not error because allow_undefined_stereo=True): OEMol has unspecified stereochemistry. oemol.GetTitle(): EN300-26678761\n",
      "Problematic atoms are:\n",
      "Atom atomic num: 6, name: , idx: 16, aromatic: False, chiral: True with bonds:\n",
      "bond order: 1, chiral: False to atom atomic num: 6, name: , idx: 12, aromatic: False, chiral: False\n",
      "bond order: 1, chiral: False to atom atomic num: 6, name: , idx: 14, aromatic: False, chiral: False\n",
      "bond order: 1, chiral: False to atom atomic num: 6, name: , idx: 15, aromatic: False, chiral: False\n",
      "bond order: 1, chiral: False to atom atomic num: 7, name: , idx: 23, aromatic: False, chiral: False\n",
      "\n",
      "Warning (not error because allow_undefined_stereo=True): OEMol has unspecified stereochemistry. oemol.GetTitle(): EN300-7563712\n",
      "Problematic atoms are:\n",
      "Atom atomic num: 6, name: , idx: 16, aromatic: False, chiral: True with bonds:\n",
      "bond order: 1, chiral: False to atom atomic num: 6, name: , idx: 12, aromatic: False, chiral: False\n",
      "bond order: 1, chiral: False to atom atomic num: 6, name: , idx: 14, aromatic: False, chiral: False\n",
      "bond order: 1, chiral: False to atom atomic num: 6, name: , idx: 15, aromatic: False, chiral: False\n",
      "bond order: 1, chiral: False to atom atomic num: 7, name: , idx: 23, aromatic: False, chiral: False\n",
      "\n"
     ]
    },
    {
     "data": {
      "image/png": "[encoded data removed]",
      "text/plain": [
       "<IPython.core.display.Image object>"
      ]
     },
     "execution_count": 210,
     "metadata": {},
     "output_type": "execute_result"
    }
   ],
   "source": [
    "from openforcefield.topology import Molecule\n",
    "molecules = Molecule.from_file('primary_amine_enumeration_for_chodera_lab_FEP-permuted-conformers.sdf',allow_undefined_stereo=True)\n",
    "from rdkit.Chem.Draw import IPythonConsole\n",
    "        \n",
    "mol = molecules[0]\n",
    "mol.visualize(backend='openeye')"
   ]
  },
  {
   "cell_type": "code",
   "execution_count": 211,
   "metadata": {
    "scrolled": false
   },
   "outputs": [],
   "source": [
    "n = 60\n",
    "\n",
    "results = r['amine-neutral']\n",
    "l = results['DDG_f']\n",
    "best_amide_neutral_forwards = _get_best_number(l,n=n)\n",
    "l = results['DDG_r']\n",
    "best_amide_neutral_backwards = _get_best_number(l,n=n)\n",
    "\n",
    "results = r['amine-charged']\n",
    "l = results['DDG_f']\n",
    "best_amide_charged_forwards = _get_best_number(l,n=n)\n",
    "l = results['DDG_r']\n",
    "best_amide_charged_backwards = _get_best_number(l,n=n)"
   ]
  },
  {
   "cell_type": "code",
   "execution_count": 212,
   "metadata": {},
   "outputs": [],
   "source": [
    "#### TODO --- add ligand uncertainty into selection of 'best'\n",
    "\n",
    "from collections import Counter\n",
    "neutral_amide = Counter([i[0] for i in best_amide_neutral_forwards] + [i[0] for i in best_amide_neutral_backwards])\n",
    "with open('best_amide_neutral.txt','w') as f:\n",
    "    for i in neutral_amide:\n",
    "        f.write(f'{molecules[i].name}\\n')\n",
    "\n",
    "charged_amide = Counter([i[0] for i in best_amide_charged_forwards] + [i[0] for i in best_amide_charged_backwards])\n",
    "with open('best_amide_charged.txt','w') as f:\n",
    "    for i in charged_amide:\n",
    "        f.write(f'{molecules[i].name}\\n')\n",
    "\n",
    "all_amide = Counter([i[0] for i in best_amide_neutral_forwards] + [i[0] for i in best_amide_neutral_backwards]+[i[0] for i in best_amide_charged_forwards] + [i[0] for i in best_amide_charged_backwards])\n",
    "with open('best_amide_comb.txt','w') as f:\n",
    "    for i in all_amide:\n",
    "        f.write(f'{molecules[i].name}, {all_amide[i]}\\n')"
   ]
  },
  {
   "cell_type": "code",
   "execution_count": 213,
   "metadata": {
    "scrolled": true
   },
   "outputs": [
    {
     "name": "stdout",
     "output_type": "stream",
     "text": [
      "637\n"
     ]
    }
   ],
   "source": [
    "for i,j in all_amide.items():\n",
    "    if j == 4:\n",
    "        print(i)"
   ]
  },
  {
   "cell_type": "code",
   "execution_count": 214,
   "metadata": {},
   "outputs": [
    {
     "data": {
      "image/png": "[encoded data removed]",
      "text/plain": [
       "<IPython.core.display.Image object>"
      ]
     },
     "execution_count": 214,
     "metadata": {},
     "output_type": "execute_result"
    }
   ],
   "source": [
    "mol = molecules[637]\n",
    "mol.visualize(backend='openeye')"
   ]
  },
  {
   "cell_type": "code",
   "execution_count": 215,
   "metadata": {},
   "outputs": [
    {
     "data": {
      "text/plain": [
       "True"
      ]
     },
     "execution_count": 215,
     "metadata": {},
     "output_type": "execute_result"
    }
   ],
   "source": [
    "from openeye import oedepict\n",
    "from openeye import oechem\n",
    "\n",
    "image = oedepict.OEImage(1200, 1200)\n",
    "\n",
    "rows, cols = 12,12\n",
    "grid = oedepict.OEImageGrid(image, rows, cols)\n",
    "\n",
    "opts = oedepict.OE2DMolDisplayOptions(grid.GetCellWidth(), grid.GetCellHeight(),\n",
    "                                       oedepict.OEScale_AutoScale)\n",
    "\n",
    "for ind, cell in zip(neutral_amide, grid.GetCells()):\n",
    "    mol = molecules[ind].to_openeye()\n",
    "    oedepict.OEPrepareDepiction(mol)\n",
    "    disp = oedepict.OE2DMolDisplay(mol, opts)\n",
    "    oedepict.OERenderMolecule(cell, disp)\n",
    "\n",
    "oedepict.OEWriteImage(\"BestNeutralBuchwald.pdf\", image)\n",
    "\n",
    "\n",
    "\n",
    "image = oedepict.OEImage(1200, 1200)\n",
    "\n",
    "rows, cols = 12,12\n",
    "grid = oedepict.OEImageGrid(image, rows, cols)\n",
    "\n",
    "opts = oedepict.OE2DMolDisplayOptions(grid.GetCellWidth(), grid.GetCellHeight(),\n",
    "                                       oedepict.OEScale_AutoScale)\n",
    "\n",
    "for ind, cell in zip(charged_amide, grid.GetCells()):\n",
    "    mol = molecules[ind].to_openeye()\n",
    "    oedepict.OEPrepareDepiction(mol)\n",
    "    disp = oedepict.OE2DMolDisplay(mol, opts)\n",
    "    oedepict.OERenderMolecule(cell, disp)\n",
    "\n",
    "oedepict.OEWriteImage(\"BestChargedBuchwald.pdf\", image)"
   ]
  },
  {
   "cell_type": "code",
   "execution_count": 216,
   "metadata": {},
   "outputs": [
    {
     "data": {
      "image/png": "[encoded data removed]",
      "text/plain": [
       "<Figure size 540x216 with 1 Axes>"
      ]
     },
     "metadata": {
      "needs_background": "light"
     },
     "output_type": "display_data"
    }
   ],
   "source": [
    "better_ligands = _get_better_than(ligand_result)\n",
    "plt.figure(figsize=(7.5,3))\n",
    "for i,(lig,val) in enumerate(sorted(ligand_result.items(), key=lambda kv: kv[1])):\n",
    "    if val-ligand_result_uncertainty[lig] < 0. < val+ligand_result_uncertainty[lig]:\n",
    "        plt.errorbar(i, val,yerr=ligand_result_uncertainty[lig],color='grey')\n",
    "    elif val+ligand_result_uncertainty[lig] < 0.:\n",
    "        plt.errorbar(i, val,yerr=ligand_result_uncertainty[lig],color='green')\n",
    "    else:\n",
    "        plt.errorbar(i, val,yerr=ligand_result_uncertainty[lig],color='red')\n",
    "        \n",
    "        \n",
    "# plt.legendHandles[0].set_color('red')\n",
    "# plt.legendHandles[1].set_color('yellow')\n",
    "# plt.legend(['better','equal','worse'])\n",
    "plt.hlines(0,0,len(ligand_result),color='k',alpha=0.25)\n",
    "\n",
    "plt.show()"
   ]
  },
  {
   "cell_type": "code",
   "execution_count": 217,
   "metadata": {},
   "outputs": [
    {
     "name": "stderr",
     "output_type": "stream",
     "text": [
      "Warning (not error because allow_undefined_stereo=True): OEMol has unspecified stereochemistry. oemol.GetTitle(): EN300-1722947\n",
      "Problematic atoms are:\n",
      "Atom atomic num: 6, name: , idx: 17, aromatic: False, chiral: True with bonds:\n",
      "bond order: 1, chiral: False to atom atomic num: 6, name: , idx: 6, aromatic: True, chiral: False\n",
      "bond order: 1, chiral: False to atom atomic num: 6, name: , idx: 13, aromatic: False, chiral: False\n",
      "bond order: 1, chiral: False to atom atomic num: 6, name: , idx: 15, aromatic: False, chiral: False\n",
      "bond order: 1, chiral: False to atom atomic num: 6, name: , idx: 16, aromatic: False, chiral: True\n",
      "\n",
      "Warning (not error because allow_undefined_stereo=True): OEMol has unspecified stereochemistry. oemol.GetTitle(): EN300-1722947\n",
      "Problematic atoms are:\n",
      "Atom atomic num: 6, name: , idx: 17, aromatic: False, chiral: True with bonds:\n",
      "bond order: 1, chiral: False to atom atomic num: 6, name: , idx: 6, aromatic: True, chiral: False\n",
      "bond order: 1, chiral: False to atom atomic num: 6, name: , idx: 13, aromatic: False, chiral: False\n",
      "bond order: 1, chiral: False to atom atomic num: 6, name: , idx: 15, aromatic: False, chiral: False\n",
      "bond order: 1, chiral: False to atom atomic num: 6, name: , idx: 16, aromatic: False, chiral: True\n",
      "\n"
     ]
    },
    {
     "data": {
      "image/png": "[encoded data removed]",
      "text/plain": [
       "<IPython.core.display.Image object>"
      ]
     },
     "execution_count": 217,
     "metadata": {},
     "output_type": "execute_result"
    }
   ],
   "source": [
    "from openforcefield.topology import Molecule\n",
    "molecules = Molecule.from_file('../../covid-moonshot-new/synthetic-enumeration/boronic_ester_enumeration_for_chodera_lab_FEP-permuted-conformers-x10789.sdf',allow_undefined_stereo=True)\n",
    "from rdkit.Chem.Draw import IPythonConsole\n",
    "        \n",
    "mol = molecules[0]\n",
    "mol.visualize(backend='openeye')"
   ]
  },
  {
   "cell_type": "code",
   "execution_count": 218,
   "metadata": {},
   "outputs": [],
   "source": [
    "n = 40\n",
    "\n",
    "results = r['boronic-neutral']\n",
    "l = results['DDG_f']\n",
    "best_boronic_neutral_forwards = _get_best_number(l,n=n)\n",
    "l = results['DDG_r']\n",
    "best_boronic_neutral_backwards = _get_best_number(l,n=n)\n",
    "\n",
    "results = r['boronic-charged']\n",
    "l = results['DDG_f']\n",
    "best_boronic_charged_forwards = _get_best_number(l,n=n)\n",
    "l = results['DDG_r']\n",
    "best_boronic_charged_backwards = _get_best_number(l,n=n)"
   ]
  },
  {
   "cell_type": "code",
   "execution_count": 219,
   "metadata": {},
   "outputs": [],
   "source": [
    "#### TODO --- add ligand uncertainty into selection of 'best'\n",
    "\n",
    "# from collections import Counter\n",
    "neutral_boronic = Counter([i[0] for i in best_boronic_neutral_forwards] + [i[0] for i in best_boronic_neutral_backwards])\n",
    "with open('best_boronic_neutral.txt','w') as f:\n",
    "    for i in neutral_boronic:\n",
    "        f.write(f'{molecules[i].name}\\n')\n",
    "\n",
    "charged_boronic = Counter([i[0] for i in best_boronic_charged_forwards] + [i[0] for i in best_boronic_charged_backwards])\n",
    "with open('best_boronic_charged.txt','w') as f:\n",
    "    for i in charged_boronic:\n",
    "        f.write(f'{molecules[i].name}\\n')\n",
    "\n",
    "all_boronic = Counter([i[0] for i in best_boronic_neutral_forwards] + [i[0] for i in best_boronic_neutral_backwards]+[i[0] for i in best_boronic_charged_forwards] + [i[0] for i in best_boronic_charged_backwards])\n",
    "with open('best_boronic_comb.txt','w') as f:\n",
    "    for i in all_boronic:\n",
    "        f.write(f'{molecules[i].name}, {all_amide[i]}\\n')"
   ]
  },
  {
   "cell_type": "code",
   "execution_count": 220,
   "metadata": {},
   "outputs": [
    {
     "name": "stdout",
     "output_type": "stream",
     "text": [
      "163\n"
     ]
    }
   ],
   "source": [
    "print(len(molecules))"
   ]
  },
  {
   "cell_type": "code",
   "execution_count": 221,
   "metadata": {},
   "outputs": [
    {
     "data": {
      "text/plain": [
       "True"
      ]
     },
     "execution_count": 221,
     "metadata": {},
     "output_type": "execute_result"
    }
   ],
   "source": [
    "from openeye import oedepict\n",
    "from openeye import oechem\n",
    "\n",
    "image = oedepict.OEImage(1200, 1200)\n",
    "\n",
    "rows, cols = 12,12\n",
    "grid = oedepict.OEImageGrid(image, rows, cols)\n",
    "\n",
    "opts = oedepict.OE2DMolDisplayOptions(grid.GetCellWidth(), grid.GetCellHeight(),\n",
    "                                       oedepict.OEScale_AutoScale)\n",
    "\n",
    "for ind, cell in zip(neutral_boronic, grid.GetCells()):\n",
    "    mol = molecules[ind].to_openeye()\n",
    "    oedepict.OEPrepareDepiction(mol)\n",
    "    disp = oedepict.OE2DMolDisplay(mol, opts)\n",
    "    oedepict.OERenderMolecule(cell, disp)\n",
    "\n",
    "oedepict.OEWriteImage(\"BestNeutralSuzuki.pdf\", image)\n",
    "\n",
    "\n",
    "\n",
    "image = oedepict.OEImage(1200, 1200)\n",
    "\n",
    "rows, cols = 12,12\n",
    "grid = oedepict.OEImageGrid(image, rows, cols)\n",
    "\n",
    "opts = oedepict.OE2DMolDisplayOptions(grid.GetCellWidth(), grid.GetCellHeight(),\n",
    "                                       oedepict.OEScale_AutoScale)\n",
    "\n",
    "for ind, cell in zip(charged_boronic, grid.GetCells()):\n",
    "    mol = molecules[ind].to_openeye()\n",
    "    oedepict.OEPrepareDepiction(mol)\n",
    "    disp = oedepict.OE2DMolDisplay(mol, opts)\n",
    "    oedepict.OERenderMolecule(cell, disp)\n",
    "\n",
    "oedepict.OEWriteImage(\"BestChargedSuzuki.pdf\", image)"
   ]
  },
  {
   "cell_type": "code",
   "execution_count": 222,
   "metadata": {},
   "outputs": [
    {
     "name": "stdout",
     "output_type": "stream",
     "text": [
      "0\n",
      "2\n",
      "24\n",
      "46\n",
      "21\n",
      "23\n"
     ]
    }
   ],
   "source": [
    "for i,j in all_boronic.items():\n",
    "    if j == 4:\n",
    "        print(i)"
   ]
  },
  {
   "cell_type": "code",
   "execution_count": 224,
   "metadata": {},
   "outputs": [
    {
     "data": {
      "image/png": "[encoded data removed]",
      "text/plain": [
       "<IPython.core.display.Image object>"
      ]
     },
     "execution_count": 224,
     "metadata": {},
     "output_type": "execute_result"
    }
   ],
   "source": [
    "mol = molecules[21]\n",
    "mol.visualize(backend='openeye')"
   ]
  },
  {
   "cell_type": "code",
   "execution_count": null,
   "metadata": {},
   "outputs": [],
   "source": [
    "#!/usr/bin/env python3\n",
    "# (C) 2017 OpenEye Scientific Software Inc. All rights reserved.\n",
    "#\n",
    "# TERMS FOR USE OF SAMPLE CODE The software below (\"Sample Code\") is\n",
    "# provided to current licensees or subscribers of OpenEye products or\n",
    "# SaaS offerings (each a \"Customer\").\n",
    "# Customer is hereby permitted to use, copy, and modify the Sample Code,\n",
    "# subject to these terms. OpenEye claims no rights to Customer's\n",
    "# modifications. Modification of Sample Code is at Customer's sole and\n",
    "# exclusive risk. Sample Code may require Customer to have a then\n",
    "# current license or subscription to the applicable OpenEye offering.\n",
    "# THE SAMPLE CODE IS PROVIDED \"AS IS\", WITHOUT WARRANTY OF ANY KIND,\n",
    "# EXPRESS OR IMPLIED.  OPENEYE DISCLAIMS ALL WARRANTIES, INCLUDING, BUT\n",
    "# NOT LIMITED TO, WARRANTIES OF MERCHANTABILITY, FITNESS FOR A\n",
    "# PARTICULAR PURPOSE AND NONINFRINGEMENT. In no event shall OpenEye be\n",
    "# liable for any damages or liability in connection with the Sample Code\n",
    "# or its use.\n",
    "\n",
    "#############################################################################\n",
    "# Converts a CSV or a SDF file into PDF\n",
    "#############################################################################\n",
    "\n",
    "\n",
    "InterfaceData = '''\n",
    "!CATEGORY \"input/output options\"\n",
    "\n",
    "    !PARAMETER -in\n",
    "      !ALIAS -i\n",
    "      !TYPE string\n",
    "      !REQUIRED true\n",
    "      !KEYLESS 1\n",
    "      !VISIBILITY simple\n",
    "      !BRIEF Input filename(s)\n",
    "    !END\n",
    "\n",
    "    !PARAMETER -out\n",
    "      !ALIAS -o\n",
    "      !TYPE string\n",
    "      !REQUIRED true\n",
    "      !KEYLESS 2\n",
    "      !VISIBILITY simple\n",
    "      !BRIEF Output PDF filename\n",
    "    !END\n",
    "\n",
    "!END\n",
    "\n",
    "!CATEGORY \"report options\"\n",
    "\n",
    "    !PARAMETER -pagebypage\n",
    "      !ALIAS -p\n",
    "      !TYPE bool\n",
    "      !REQUIRED false\n",
    "      !DEFAULT false\n",
    "      !VISIBILITY simple\n",
    "      !BRIEF Write individual numbered separate pages\n",
    "    !END\n",
    "\n",
    "!END\n",
    "'''\n",
    "\n",
    "import sys\n",
    "from openeye import oechem\n",
    "from openeye import oedepict\n",
    "\n",
    "def CollectDataTags(mollist):\n",
    "\n",
    "    tags = []\n",
    "    for mol in mollist:\n",
    "        for dp in oechem.OEGetSDDataIter(mol):\n",
    "            if not dp.GetTag() in tags:\n",
    "                tags.append(dp.GetTag())\n",
    "\n",
    "    return tags\n",
    "\n",
    "\n",
    "def DepictMoleculesWithData(report, mollist, iname, tags, opts):\n",
    "\n",
    "    for mol in mollist:\n",
    "\n",
    "        # render molecule\n",
    "\n",
    "        cell = report.NewCell()\n",
    "        oedepict.OEPrepareDepiction(mol)\n",
    "        disp = oedepict.OE2DMolDisplay(mol, opts)\n",
    "        oedepict.OERenderMolecule(cell, disp)\n",
    "        oedepict.OEDrawCurvedBorder(cell, oedepict.OELightGreyPen, 10.0)\n",
    "\n",
    "        # render corresponding data\n",
    "\n",
    "        cell = report.NewCell()\n",
    "        RenderData(cell, mol, tags)\n",
    "\n",
    "    # add input filnename to headers\n",
    "\n",
    "    headerfont = oedepict.OEFont(oedepict.OEFontFamily_Default, oedepict.OEFontStyle_Default,\n",
    "                                 12, oedepict.OEAlignment_Center, oechem.OEBlack)\n",
    "    headerpos = oedepict.OE2DPoint(report.GetHeaderWidth() / 2.0, report.GetHeaderHeight() / 2.0)\n",
    "\n",
    "    for header in report.GetHeaders():\n",
    "        header.DrawText(headerpos, iname, headerfont)\n",
    "\n",
    "    # add page number to footers\n",
    "\n",
    "    footerfont = oedepict.OEFont(oedepict.OEFontFamily_Default, oedepict.OEFontStyle_Default,\n",
    "                                 12, oedepict.OEAlignment_Center, oechem.OEBlack)\n",
    "    footerpos = oedepict.OE2DPoint(report.GetFooterWidth() / 2.0, report.GetFooterHeight() / 2.0)\n",
    "\n",
    "    for pageidx, footer in enumerate(report.GetFooters()):\n",
    "        footer.DrawText(footerpos, \"- %d -\" % (pageidx + 1), footerfont)\n",
    "\n",
    "\n",
    "def RenderData(image, mol, tags):\n",
    "\n",
    "    data = []\n",
    "    for tag in tags:\n",
    "        value = \"N/A\"\n",
    "        if oechem.OEHasSDData(mol, tag):\n",
    "            value = oechem.OEGetSDData(mol, tag)\n",
    "        data.append((tag, value))\n",
    "\n",
    "    nrdata = len(data)\n",
    "\n",
    "    tableopts = oedepict.OEImageTableOptions(nrdata, 2, oedepict.OEImageTableStyle_LightBlue)\n",
    "    tableopts.SetColumnWidths([10, 20])\n",
    "    tableopts.SetMargins(2.0)\n",
    "    tableopts.SetHeader(False)\n",
    "    tableopts.SetStubColumn(True)\n",
    "    table = oedepict.OEImageTable(image, tableopts)\n",
    "\n",
    "    for row, (tag, value) in enumerate(data):\n",
    "        cell = table.GetCell(row + 1, 1)\n",
    "        table.DrawText(cell, tag + \":\")\n",
    "        cell = table.GetBodyCell(row + 1, 1)\n",
    "        table.DrawText(cell, value)\n",
    "\n",
    "        \n",
    "\n",
    "itf = oechem.OEInterface(InterfaceData)\n",
    "oedepict.OEConfigure2DMolDisplayOptions(itf, oedepict.OE2DMolDisplaySetup_AromaticStyle)\n",
    "\n",
    "iname = itf.GetString(\"-in\")\n",
    "oname = itf.GetString(\"-out\")\n",
    "\n",
    "pagebypage = itf.GetBool(\"-pagebypage\")\n",
    "\n",
    "# check input/output files\n",
    "\n",
    "ifs = oechem.oemolistream()\n",
    "if not ifs.open(iname):\n",
    "    oechem.OEThrow.Fatal(\"Cannot open input file!\")\n",
    "\n",
    "if ifs.GetFormat() not in [oechem.OEFormat_CSV, oechem.OEFormat_SDF]:\n",
    "    oechem.OEThrow.Fatal(\"Input must be CSV or SDF file!\")\n",
    "\n",
    "ext = oechem.OEGetFileExtension(oname)\n",
    "if not pagebypage and not oedepict.OEIsRegisteredMultiPageImageFile(ext):\n",
    "    oechem.OEThrow.Warning(\"Report will be generated into separate pages!\")\n",
    "    pagebypage = True\n",
    "\n",
    "# import molecules\n",
    "\n",
    "mollist = []\n",
    "for mol in ifs.GetOEGraphMols():\n",
    "    mollist.append(oechem.OEGraphMol(mol))\n",
    "\n",
    "# collect data tags\n",
    "\n",
    "tags = CollectDataTags(mollist)\n",
    "\n",
    "# initialize multi-page report\n",
    "\n",
    "rows, cols = 3, 2\n",
    "ropts = oedepict.OEReportOptions(rows, cols)\n",
    "ropts.SetHeaderHeight(25)\n",
    "ropts.SetFooterHeight(25)\n",
    "ropts.SetCellGap(2)\n",
    "ropts.SetPageMargins(10)\n",
    "report = oedepict.OEReport(ropts)\n",
    "\n",
    "# setup depiction options\n",
    "\n",
    "cellwidth, cellheight = report.GetCellWidth(), report.GetCellHeight()\n",
    "opts = oedepict.OE2DMolDisplayOptions(cellwidth, cellheight, oedepict.OEScale_AutoScale)\n",
    "oedepict.OESetup2DMolDisplayOptions(opts, itf)\n",
    "\n",
    "# generate report\n",
    "\n",
    "DepictMoleculesWithData(report, mollist, iname, tags, opts)\n",
    "\n",
    "if pagebypage:\n",
    "    oedepict.OEWriteReportPageByPage(oname, report)\n",
    "else:\n",
    "    oedepict.OEWriteReport(oname, report)\n",
    "\n"
   ]
  },
  {
   "cell_type": "code",
   "execution_count": null,
   "metadata": {},
   "outputs": [],
   "source": []
  }
 ],
 "metadata": {
  "kernelspec": {
   "display_name": "Python 3",
   "language": "python",
   "name": "python3"
  },
  "language_info": {
   "codemirror_mode": {
    "name": "ipython",
    "version": 3
   },
   "file_extension": ".py",
   "mimetype": "text/x-python",
   "name": "python",
   "nbconvert_exporter": "python",
   "pygments_lexer": "ipython3",
   "version": "3.6.8"
  }
 },
 "nbformat": 4,
 "nbformat_minor": 2
}
