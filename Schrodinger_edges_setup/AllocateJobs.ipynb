{
 "cells": [
  {
   "cell_type": "code",
   "execution_count": 2,
   "metadata": {},
   "outputs": [],
   "source": [
    "import numpy as np\n",
    "from system_objects import *\n",
    "import json"
   ]
  },
  {
   "cell_type": "code",
   "execution_count": 16,
   "metadata": {
    "scrolled": true
   },
   "outputs": [
    {
     "name": "stdout",
     "output_type": "stream",
     "text": [
      "Bace 1\n",
      "Bace 117\n",
      "Cdk2 117\n",
      "Cdk2 167\n",
      "Jnk1 167\n",
      "Jnk1 229\n",
      "Mcl1 229\n",
      "Mcl1 371\n",
      "p38a 371\n",
      "p38a 483\n",
      "Ptp1b 483\n",
      "Ptp1b 581\n",
      "Ptp1bprot 581\n",
      "Ptp1bprot 679\n",
      "Thrombin 679\n",
      "Thrombin 711\n",
      "Tyk2 711\n",
      "Tyk2 759\n",
      "Bace 759\n",
      "Bace 875\n",
      "Cdk2 875\n",
      "Cdk2 925\n",
      "Jnk1 925\n",
      "Jnk1 987\n",
      "Mcl1 987\n",
      "Mcl1 1129\n",
      "p38a 1129\n",
      "p38a 1241\n",
      "Ptp1b 1241\n",
      "Ptp1b 1339\n",
      "Ptp1bprot 1339\n",
      "Ptp1bprot 1437\n",
      "Thrombin 1437\n",
      "Thrombin 1469\n",
      "Tyk2 1469\n",
      "Tyk2 1517\n",
      "Bace 1517\n",
      "Bace 1633\n",
      "Cdk2 1633\n",
      "Cdk2 1683\n",
      "Jnk1 1683\n",
      "Jnk1 1745\n",
      "Mcl1 1745\n",
      "Mcl1 1887\n",
      "p38a 1887\n",
      "p38a 1999\n",
      "Ptp1b 1999\n",
      "Ptp1b 2097\n",
      "Ptp1bprot 2097\n",
      "Ptp1bprot 2195\n",
      "Thrombin 2195\n",
      "Thrombin 2227\n",
      "Tyk2 2227\n",
      "Tyk2 2275\n",
      "Bace 2275\n",
      "Bace 2391\n",
      "Cdk2 2391\n",
      "Cdk2 2441\n",
      "Jnk1 2441\n",
      "Jnk1 2503\n",
      "Mcl1 2503\n",
      "Mcl1 2645\n",
      "p38a 2645\n",
      "p38a 2757\n",
      "Ptp1b 2757\n",
      "Ptp1b 2855\n",
      "Ptp1bprot 2855\n",
      "Ptp1bprot 2953\n",
      "Thrombin 2953\n",
      "Thrombin 2985\n",
      "Tyk2 2985\n",
      "Tyk2 3033\n"
     ]
    }
   ],
   "source": [
    "master_dict = {}\n",
    "forcefields = ['openff-1.0.0', 'gaff-1.81', 'gaff-2.11', 'smirnoff99Frosst-1.1.0']\n",
    "\n",
    "# object to mirror Ptp1b, but points to the alternate protonation file\n",
    "class Ptp1bprot(Ptp1b):\n",
    "    name = 'Ptp1bprot'\n",
    "    def __init__(self):\n",
    "        super(Ptp1b, self).__init__()\n",
    "        \n",
    "\n",
    "protein_dict = {Bace:'Bace_protein.pdb',Cdk2:'CDK2_protein.pdb',Jnk1:'Jnk1_protein.pdb',Mcl1:'Mcl1_protein.pdb',P38a:'p38_protein.pdb'\n",
    "               ,Ptp1b:'PTP1B_protein-deprot.pdb',Ptp1bprot:'PTP1B_protein.pdb',Thrombin:'Thrombin_protein.pdb',Tyk2:'Tyk2_protein.pdb'}\n",
    "ligand_dict = {Bace:'Bace_ligands_shifted.sdf',Cdk2:'CDK2_ligands_shifted.sdf',Jnk1:'Jnk1_ligands_shifted.sdf',\n",
    "               Mcl1:'Mcl1_ligands_shifted.sdf',P38a:'p38_ligands_shifted.sdf',Ptp1b:'PTP1B_ligands_shifted.sdf',\n",
    "               Ptp1bprot:'PTP1B_ligands_shifted.sdf',Thrombin:'Thrombin_ligands_shifted.sdf',Tyk2:'Tyk2_ligands_shifted.sdf'}\n",
    "\n",
    "index = 1\n",
    "for ff in forcefields:\n",
    "    for target in [Bace,Cdk2,Jnk1,Mcl1,P38a,Ptp1b,Ptp1bprot,Thrombin,Tyk2]:\n",
    "        print(target.name, index)\n",
    "        for pair in sorted(target.index_pairs):\n",
    "            expt = target.experimental[pair[1]]-target.experimental[pair[0]]\n",
    "            master_dict[index] = {'target':target.name,'start':pair[0],'end':pair[1],\n",
    "                                  'protein':protein_dict[target],'ligand':ligand_dict[target],'ff':ff,\n",
    "                                           'directory':f'RUN{index-1}','JOBID':index,'expt':expt}\n",
    "            index+=1\n",
    "            master_dict[index] = {'target':target.name,'start':pair[1],'end':pair[0],\n",
    "                                  'protein':protein_dict[target],'ligand':ligand_dict[target],'ff':ff,\n",
    "                                           'directory':f'RUN{index-1}','JOBID':index,'expt':-expt}\n",
    "            index+=1\n",
    "        print(target.name, index)"
   ]
  },
  {
   "cell_type": "code",
   "execution_count": 17,
   "metadata": {},
   "outputs": [],
   "source": [
    "with open(\"master.json\", \"w\") as f:\n",
    "    json.dump(master_dict, f)"
   ]
  },
  {
   "cell_type": "code",
   "execution_count": 18,
   "metadata": {},
   "outputs": [],
   "source": [
    "with open('master.json', 'r') as f:\n",
    "    data = json.load(f)"
   ]
  },
  {
   "cell_type": "code",
   "execution_count": 24,
   "metadata": {},
   "outputs": [
    {
     "data": {
      "text/plain": [
       "{'target': 'Ptp1bprot',\n",
       " 'start': 2,\n",
       " 'end': 18,\n",
       " 'protein': 'PTP1B_protein.pdb',\n",
       " 'ligand': 'PTP1B_ligands_shifted.sdf',\n",
       " 'ff': 'openff-1.0.0',\n",
       " 'directory': 'RUN584',\n",
       " 'JOBID': 585,\n",
       " 'expt': 1.2642119999999997}"
      ]
     },
     "execution_count": 24,
     "metadata": {},
     "output_type": "execute_result"
    }
   ],
   "source": [
    "data['578']"
   ]
  },
  {
   "cell_type": "code",
   "execution_count": 25,
   "metadata": {},
   "outputs": [
    {
     "data": {
      "text/plain": [
       "{'target': 'Ptp1bprot',\n",
       " 'start': 2,\n",
       " 'end': 18,\n",
       " 'protein': 'PTP1B_protein.pdb',\n",
       " 'ligand': 'PTP1B_ligands_shifted.sdf',\n",
       " 'ff': 'openff-1.0.0',\n",
       " 'directory': 'RUN584',\n",
       " 'JOBID': 585,\n",
       " 'expt': 1.2642119999999997}"
      ]
     },
     "execution_count": 25,
     "metadata": {},
     "output_type": "execute_result"
    }
   ],
   "source": [
    "data['585']"
   ]
  }
 ],
 "metadata": {
  "kernelspec": {
   "display_name": "Python 3",
   "language": "python",
   "name": "python3"
  },
  "language_info": {
   "codemirror_mode": {
    "name": "ipython",
    "version": 3
   },
   "file_extension": ".py",
   "mimetype": "text/x-python",
   "name": "python",
   "nbconvert_exporter": "python",
   "pygments_lexer": "ipython3",
   "version": "3.6.8"
  }
 },
 "nbformat": 4,
 "nbformat_minor": 2
}
