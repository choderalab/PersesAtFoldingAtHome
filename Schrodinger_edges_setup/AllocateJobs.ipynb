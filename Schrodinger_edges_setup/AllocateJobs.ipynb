{
 "cells": [
  {
   "cell_type": "code",
   "execution_count": 1,
   "metadata": {},
   "outputs": [],
   "source": [
    "import numpy as np\n",
    "from system_objects import *\n",
    "import json"
   ]
  },
  {
   "cell_type": "code",
   "execution_count": 11,
   "metadata": {
    "scrolled": true
   },
   "outputs": [
    {
     "name": "stdout",
     "output_type": "stream",
     "text": [
      "Bace 1\n",
      "Bace 117\n",
      "Cdk2 117\n",
      "Cdk2 167\n",
      "Jnk1 167\n",
      "Jnk1 229\n",
      "Mcl1 229\n",
      "Mcl1 371\n",
      "p38a 371\n",
      "p38a 483\n",
      "Ptp1b 483\n",
      "Ptp1b 581\n",
      "Thrombin 581\n",
      "Thrombin 613\n",
      "Tyk2 613\n",
      "Tyk2 661\n",
      "Bace 661\n",
      "Bace 777\n",
      "Cdk2 777\n",
      "Cdk2 827\n",
      "Jnk1 827\n",
      "Jnk1 889\n",
      "Mcl1 889\n",
      "Mcl1 1031\n",
      "p38a 1031\n",
      "p38a 1143\n",
      "Ptp1b 1143\n",
      "Ptp1b 1241\n",
      "Thrombin 1241\n",
      "Thrombin 1273\n",
      "Tyk2 1273\n",
      "Tyk2 1321\n",
      "Bace 1321\n",
      "Bace 1437\n",
      "Cdk2 1437\n",
      "Cdk2 1487\n",
      "Jnk1 1487\n",
      "Jnk1 1549\n",
      "Mcl1 1549\n",
      "Mcl1 1691\n",
      "p38a 1691\n",
      "p38a 1803\n",
      "Ptp1b 1803\n",
      "Ptp1b 1901\n",
      "Thrombin 1901\n",
      "Thrombin 1933\n",
      "Tyk2 1933\n",
      "Tyk2 1981\n",
      "Bace 1981\n",
      "Bace 2097\n",
      "Cdk2 2097\n",
      "Cdk2 2147\n",
      "Jnk1 2147\n",
      "Jnk1 2209\n",
      "Mcl1 2209\n",
      "Mcl1 2351\n",
      "p38a 2351\n",
      "p38a 2463\n",
      "Ptp1b 2463\n",
      "Ptp1b 2561\n",
      "Thrombin 2561\n",
      "Thrombin 2593\n",
      "Tyk2 2593\n",
      "Tyk2 2641\n"
     ]
    }
   ],
   "source": [
    "master_dict = {}\n",
    "forcefields = ['openff-1.0.0', 'gaff-1.81', 'gaff-2.11', 'smirnoff99Frosst-1.1.0']\n",
    "\n",
    "protein_dict = {Bace:'Bace_protein.pdb',Cdk2:'CDK2_protein.pdb',Jnk1:'Jnk1_protein.pdb',Mcl1:'Mcl1_protein.pdb',P38a:'p38_protein.pdb'\n",
    "               ,Ptp1b:'PTP1B_protein-deprot.pdb',Thrombin:'Thrombin_protein.pdb',Tyk2:'Tyk2_protein.pdb'}\n",
    "ligand_dict = {Bace:'Bace_ligands_shifted.sdf',Cdk2:'CDK2_ligands_shifted.sdf',Jnk1:'Jnk1_ligands_shifted.sdf',\n",
    "               Mcl1:'Mcl1_ligands_shifted.sdf',P38a:'p38_ligands_shifted.sdf',Ptp1b:'PTP1B_ligands_shifted.sdf'\n",
    "               ,Thrombin:'Thrombin_ligands_shifted.sdf',Tyk2:'Tyk2_ligands_shifted.sdf'}\n",
    "\n",
    "index = 1 # OFF\n",
    "for ff in forcefields:\n",
    "    for target in [Bace,Cdk2,Jnk1,Mcl1,P38a,Ptp1b,Thrombin,Tyk2]:\n",
    "        print(target.name, index)\n",
    "        for pair in sorted(target.index_pairs):\n",
    "            expt = target.experimental[pair[1]]-target.experimental[pair[0]]\n",
    "            master_dict[index] = {'target':target.name,'start':pair[0],'end':pair[1],\n",
    "                                  'protein':protein_dict[target],'ligand':ligand_dict[target],'ff':ff,\n",
    "                                           'directory':f'RUN{index-1}','JOBID':index,'expt':expt}\n",
    "            index+=1\n",
    "            master_dict[index] = {'target':target.name,'start':pair[1],'end':pair[0],\n",
    "                                  'protein':protein_dict[target],'ligand':ligand_dict[target],'ff':ff,\n",
    "                                           'directory':f'RUN{index-1}','JOBID':index,'expt':-expt}\n",
    "            index+=1\n",
    "        print(target.name, index)"
   ]
  },
  {
   "cell_type": "code",
   "execution_count": 13,
   "metadata": {},
   "outputs": [],
   "source": [
    "with open(\"master.json\", \"w\") as f:\n",
    "    json.dump(master_dict, f)"
   ]
  },
  {
   "cell_type": "code",
   "execution_count": 14,
   "metadata": {},
   "outputs": [],
   "source": [
    "with open('master.json', 'r') as f:\n",
    "    data = json.load(f)"
   ]
  },
  {
   "cell_type": "code",
   "execution_count": 15,
   "metadata": {},
   "outputs": [
    {
     "data": {
      "text/plain": [
       "{'target': 'Bace',\n",
       " 'start': 0,\n",
       " 'end': 1,\n",
       " 'protein': 'Bace_protein.pdb',\n",
       " 'ligand': 'Bace_ligands_shifted.sdf',\n",
       " 'ff': 'gaff-1.81',\n",
       " 'directory': 'RUN661',\n",
       " 'JOBID': 662,\n",
       " 'expt': -1.3800000000000008}"
      ]
     },
     "execution_count": 15,
     "metadata": {},
     "output_type": "execute_result"
    }
   ],
   "source": [
    "data['662']"
   ]
  },
  {
   "cell_type": "code",
   "execution_count": null,
   "metadata": {},
   "outputs": [],
   "source": []
  }
 ],
 "metadata": {
  "kernelspec": {
   "display_name": "Python 3",
   "language": "python",
   "name": "python3"
  },
  "language_info": {
   "codemirror_mode": {
    "name": "ipython",
    "version": 3
   },
   "file_extension": ".py",
   "mimetype": "text/x-python",
   "name": "python",
   "nbconvert_exporter": "python",
   "pygments_lexer": "ipython3",
   "version": "3.6.8"
  }
 },
 "nbformat": 4,
 "nbformat_minor": 2
}
