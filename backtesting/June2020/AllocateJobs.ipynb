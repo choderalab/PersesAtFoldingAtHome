{
 "cells": [
  {
   "cell_type": "code",
   "execution_count": 2,
   "metadata": {},
   "outputs": [],
   "source": [
    "import numpy as np\n",
    "import json\n",
    "import math\n",
    "import itertools"
   ]
  },
  {
   "cell_type": "code",
   "execution_count": 3,
   "metadata": {
    "scrolled": true
   },
   "outputs": [],
   "source": [
    "master_dict = {}\n",
    "ff = 'openff-1.2.0'\n",
    "# protein_dict = {'Series5':'protein.pdb'}\n",
    "ligand_dict = {'Series5':'DockingSeries5.sdf'}\n",
    "n_ligands = {'Series5':15}\n",
    "\n",
    "index = 1\n",
    "for protein in ['protein.pdb','protein-charged.pdb']:\n",
    "    for series in ['Series5']:\n",
    "        for pair in itertools.combinations(range(n_ligands[series]), 2):\n",
    "    #         expt = target.experimental[pair[1]]-target.experimental[pair[0]]\n",
    "            master_dict[index] = {'target':'backtesting','start':pair[0],'end':pair[1],\n",
    "                                  'protein':protein,'ligand':ligand_dict[series],'ff':ff,\n",
    "                                           'directory':f'RUN{index-1}','JOBID':index}\n",
    "            index+=1\n",
    "            master_dict[index] = {'target':'backtesting','start':pair[1],'end':pair[0],\n",
    "                                  'protein':protein,'ligand':ligand_dict[series],'ff':ff,\n",
    "                                           'directory':f'RUN{index-1}','JOBID':index}\n",
    "            index+=1\n"
   ]
  },
  {
   "cell_type": "code",
   "execution_count": 4,
   "metadata": {},
   "outputs": [],
   "source": [
    "with open(\"backtesting.json\", \"w\") as f:\n",
    "    json.dump(master_dict, f)"
   ]
  },
  {
   "cell_type": "code",
   "execution_count": 5,
   "metadata": {},
   "outputs": [],
   "source": [
    "with open('backtesting.json', 'r') as f:\n",
    "    data = json.load(f)"
   ]
  },
  {
   "cell_type": "code",
   "execution_count": 7,
   "metadata": {},
   "outputs": [
    {
     "data": {
      "text/plain": [
       "{'target': 'backtesting',\n",
       " 'start': 14,\n",
       " 'end': 13,\n",
       " 'protein': 'protein-charged.pdb',\n",
       " 'ligand': 'DockingSeries5.sdf',\n",
       " 'ff': 'openff-1.2.0',\n",
       " 'directory': 'RUN419',\n",
       " 'JOBID': 420}"
      ]
     },
     "execution_count": 7,
     "metadata": {},
     "output_type": "execute_result"
    }
   ],
   "source": [
    "data['420']"
   ]
  },
  {
   "cell_type": "code",
   "execution_count": 19,
   "metadata": {},
   "outputs": [
    {
     "data": {
      "text/plain": [
       "{'target': 'backtesting',\n",
       " 'start': 13,\n",
       " 'end': 14,\n",
       " 'protein': 'protein.pdb',\n",
       " 'ligand': 'DockingSeries5.sdf',\n",
       " 'ff': 'openff-1.2.0',\n",
       " 'directory': 'RUN208',\n",
       " 'JOBID': 209}"
      ]
     },
     "execution_count": 19,
     "metadata": {},
     "output_type": "execute_result"
    }
   ],
   "source": [
    "data['209']"
   ]
  },
  {
   "cell_type": "code",
   "execution_count": null,
   "metadata": {},
   "outputs": [],
   "source": []
  }
 ],
 "metadata": {
  "kernelspec": {
   "display_name": "Python 3",
   "language": "python",
   "name": "python3"
  },
  "language_info": {
   "codemirror_mode": {
    "name": "ipython",
    "version": 3
   },
   "file_extension": ".py",
   "mimetype": "text/x-python",
   "name": "python",
   "nbconvert_exporter": "python",
   "pygments_lexer": "ipython3",
   "version": "3.6.8"
  }
 },
 "nbformat": 4,
 "nbformat_minor": 2
}
